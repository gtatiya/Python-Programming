{
 "cells": [
  {
   "cell_type": "code",
   "execution_count": 29,
   "metadata": {},
   "outputs": [],
   "source": [
    "import pandas as pd\n",
    "import numpy as np"
   ]
  },
  {
   "cell_type": "code",
   "execution_count": 30,
   "metadata": {},
   "outputs": [
    {
     "name": "stdout",
     "output_type": "stream",
     "text": [
      "s_no     float64\n",
      "item      object\n",
      "price    float64\n",
      "list      object\n",
      "dtype: object\n",
      "   s_no    item  price    list\n",
      "0   1.0  item 1  420.0  [0, 1]\n",
      "1   2.0  item 2    inf  [0, 1]\n",
      "2   3.0  item 3  220.0  [0, 1]\n",
      "3\n"
     ]
    }
   ],
   "source": [
    "df = pd.DataFrame(columns = ['s_no', 'item', 'price'], dtype=float)\n",
    "\n",
    "df = df.append({'s_no': 1, 'item':'item 1', 'price':420, 'list': [0, 1]}, ignore_index=True)\n",
    "df = df.append({'s_no': 2, 'item':'item 2', 'price':np.Inf, 'list': [0, 1]}, ignore_index=True)\n",
    "df = df.append({'s_no': 3, 'item':'item 3', 'price':220, 'list': [0, 1]}, ignore_index=True)\n",
    "\n",
    "print(df.dtypes)\n",
    "print(df)\n",
    "print(len(df))"
   ]
  },
  {
   "cell_type": "code",
   "execution_count": 31,
   "metadata": {},
   "outputs": [
    {
     "name": "stdout",
     "output_type": "stream",
     "text": [
      "   s_no    item  price    list\n",
      "2   3.0  item 3  220.0  [0, 1]\n",
      "2    220.0\n",
      "Name: price, dtype: float64\n",
      "\n",
      "   s_no    item  price    list\n",
      "1   2.0  item 2    inf  [0, 1]\n"
     ]
    }
   ],
   "source": [
    "df_new = df.nsmallest(1, 'price')\n",
    "print(df_new)\n",
    "print(df_new['price'])\n",
    "print(\"\")\n",
    "\n",
    "df_new = df.nlargest(1, 'price')\n",
    "print(df_new)"
   ]
  },
  {
   "cell_type": "code",
   "execution_count": 32,
   "metadata": {},
   "outputs": [
    {
     "name": "stdout",
     "output_type": "stream",
     "text": [
      " s_no    item  price    list\n",
      "  2.0  item 2    inf  [0, 1]\n"
     ]
    }
   ],
   "source": [
    "df_no_indices = df_new.to_string(index=False)\n",
    "print(df_no_indices)"
   ]
  },
  {
   "cell_type": "code",
   "execution_count": 41,
   "metadata": {},
   "outputs": [
    {
     "name": "stdout",
     "output_type": "stream",
     "text": [
      "inf\n",
      "GT\n"
     ]
    }
   ],
   "source": [
    "value = df_new['price'].to_string(index=False).strip()\n",
    "print(value)\n",
    "\n",
    "if value == 'inf':\n",
    "    print(\"GT\")"
   ]
  },
  {
   "cell_type": "code",
   "execution_count": 42,
   "metadata": {},
   "outputs": [
    {
     "data": {
      "text/plain": [
       "'1.0.1'"
      ]
     },
     "execution_count": 42,
     "metadata": {},
     "output_type": "execute_result"
    }
   ],
   "source": [
    "pd.__version__"
   ]
  },
  {
   "cell_type": "code",
   "execution_count": 43,
   "metadata": {},
   "outputs": [],
   "source": [
    "import astar"
   ]
  },
  {
   "cell_type": "code",
   "execution_count": 44,
   "metadata": {},
   "outputs": [
    {
     "data": {
      "text/plain": [
       "'0.9'"
      ]
     },
     "execution_count": 44,
     "metadata": {},
     "output_type": "execute_result"
    }
   ],
   "source": [
    "astar.__version__"
   ]
  },
  {
   "cell_type": "code",
   "execution_count": null,
   "metadata": {},
   "outputs": [],
   "source": []
  }
 ],
 "metadata": {
  "kernelspec": {
   "display_name": "Python 3",
   "language": "python",
   "name": "python3"
  },
  "language_info": {
   "codemirror_mode": {
    "name": "ipython",
    "version": 3
   },
   "file_extension": ".py",
   "mimetype": "text/x-python",
   "name": "python",
   "nbconvert_exporter": "python",
   "pygments_lexer": "ipython3",
   "version": "3.7.6"
  }
 },
 "nbformat": 4,
 "nbformat_minor": 4
}
