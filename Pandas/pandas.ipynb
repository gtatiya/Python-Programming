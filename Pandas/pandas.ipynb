{
 "cells": [
  {
   "cell_type": "code",
   "execution_count": 1,
   "metadata": {},
   "outputs": [],
   "source": [
    "import pandas as pd\n",
    "import numpy as np"
   ]
  },
  {
   "cell_type": "raw",
   "metadata": {},
   "source": [
    "https://data36.com/pandas-tutorial-1-basics-reading-data-files-dataframes-data-selection/\n"
   ]
  },
  {
   "cell_type": "markdown",
   "metadata": {},
   "source": [
    "# Creating a DataFrame"
   ]
  },
  {
   "cell_type": "code",
   "execution_count": 2,
   "metadata": {},
   "outputs": [
    {
     "name": "stdout",
     "output_type": "stream",
     "text": [
      "s_no     float64\n",
      "item      object\n",
      "price    float64\n",
      "list      object\n",
      "dtype: object\n",
      "   s_no    item  price    list\n",
      "0   1.0  item 1  420.0  [0, 1]\n",
      "1   2.0  item 2    inf  [0, 1]\n",
      "2   3.0  item 3  220.0  [0, 1]\n",
      "3\n"
     ]
    }
   ],
   "source": [
    "df = pd.DataFrame(columns = ['s_no', 'item', 'price'], dtype=float)\n",
    "\n",
    "df = df.append({'s_no': 1, 'item':'item 1', 'price':420, 'list': [0, 1]}, ignore_index=True)\n",
    "df = df.append({'s_no': 2, 'item':'item 2', 'price':np.Inf, 'list': [0, 1]}, ignore_index=True)\n",
    "df = df.append({'s_no': 3, 'item':'item 3', 'price':220, 'list': [0, 1]}, ignore_index=True)\n",
    "\n",
    "print(df.dtypes)\n",
    "print(df)\n",
    "print(len(df))"
   ]
  },
  {
   "cell_type": "code",
   "execution_count": 3,
   "metadata": {},
   "outputs": [
    {
     "data": {
      "text/plain": [
       "s_no        2.0\n",
       "item     item 2\n",
       "price       inf\n",
       "list     [0, 1]\n",
       "Name: 1, dtype: object"
      ]
     },
     "execution_count": 3,
     "metadata": {},
     "output_type": "execute_result"
    }
   ],
   "source": [
    "df.loc[1]"
   ]
  },
  {
   "cell_type": "code",
   "execution_count": 4,
   "metadata": {},
   "outputs": [
    {
     "name": "stdout",
     "output_type": "stream",
     "text": [
      "   s_no    item  price    list\n",
      "2   3.0  item 3  220.0  [0, 1]\n",
      "2    220.0\n",
      "Name: price, dtype: float64\n",
      "\n",
      "   s_no    item  price    list\n",
      "1   2.0  item 2    inf  [0, 1]\n"
     ]
    }
   ],
   "source": [
    "df_new = df.nsmallest(1, 'price')\n",
    "print(df_new)\n",
    "print(df_new['price'])\n",
    "print(\"\")\n",
    "\n",
    "df_new = df.nlargest(1, 'price')\n",
    "print(df_new)"
   ]
  },
  {
   "cell_type": "code",
   "execution_count": 5,
   "metadata": {},
   "outputs": [
    {
     "name": "stdout",
     "output_type": "stream",
     "text": [
      " s_no   item  price   list\n",
      "  2.0 item 2    inf [0, 1]\n"
     ]
    }
   ],
   "source": [
    "df_no_indices = df_new.to_string(index=False)\n",
    "print(df_no_indices)"
   ]
  },
  {
   "cell_type": "code",
   "execution_count": 6,
   "metadata": {},
   "outputs": [
    {
     "name": "stdout",
     "output_type": "stream",
     "text": [
      "inf\n",
      "GT\n"
     ]
    }
   ],
   "source": [
    "value = df_new['price'].to_string(index=False).strip()\n",
    "print(value)\n",
    "\n",
    "if value == 'inf':\n",
    "    print(\"GT\")"
   ]
  },
  {
   "cell_type": "code",
   "execution_count": 7,
   "metadata": {},
   "outputs": [
    {
     "name": "stdout",
     "output_type": "stream",
     "text": [
      "   s_no    item  price    list  Time\n",
      "0   1.0  item 1  420.0  [0, 1]     1\n",
      "1   2.0  item 2    inf  [0, 1]     1\n",
      "2   3.0  item 3  220.0  [0, 1]     1\n"
     ]
    }
   ],
   "source": [
    "# Insert a new column\n",
    "\n",
    "df.insert(len(df.columns), \"Time\", [1]*len(df), True)\n",
    "print(df)"
   ]
  },
  {
   "cell_type": "code",
   "execution_count": 8,
   "metadata": {},
   "outputs": [
    {
     "name": "stdout",
     "output_type": "stream",
     "text": [
      "   s_no    item  price    list  Time\n",
      "0   1.0  item 1  420.0  [0, 1]     1\n",
      "1   2.0  item 2    inf  [0, 1]     1\n"
     ]
    }
   ],
   "source": [
    "# Delete rows\n",
    "\n",
    "df = df.drop(range(2, len(df), 1))\n",
    "print(df)"
   ]
  },
  {
   "cell_type": "code",
   "execution_count": 9,
   "metadata": {},
   "outputs": [
    {
     "name": "stdout",
     "output_type": "stream",
     "text": [
      "   s_no    item  price    list  Time\n",
      "0   1.0  item 1  420.0  [0, 1]     1\n",
      "1   2.0  item 2    inf  [0, 1]     2\n"
     ]
    }
   ],
   "source": [
    "# Change value of a row and a column\n",
    "\n",
    "df.loc[len(df)-1, 'Time'] = 2\n",
    "print(df)"
   ]
  },
  {
   "cell_type": "code",
   "execution_count": 10,
   "metadata": {},
   "outputs": [
    {
     "name": "stdout",
     "output_type": "stream",
     "text": [
      "   s_no    item  price    list  Time\n",
      "0   1.0  item 1  420.0  [0, 1]     1\n",
      "1   2.0  item 2    inf  [0, 1]     3\n"
     ]
    }
   ],
   "source": [
    "# Select a row by valua of a column and change the value of its column\n",
    "# https://stackoverflow.com/a/17071908/7448860\n",
    "\n",
    "df.loc[df['s_no'] == 2, 'Time'] = 3\n",
    "print(df)"
   ]
  },
  {
   "cell_type": "markdown",
   "metadata": {},
   "source": [
    "# Creating a CSV"
   ]
  },
  {
   "cell_type": "code",
   "execution_count": 11,
   "metadata": {},
   "outputs": [],
   "source": [
    "df.to_csv('my_csv.csv', index=False)"
   ]
  },
  {
   "cell_type": "code",
   "execution_count": 12,
   "metadata": {},
   "outputs": [],
   "source": [
    "df = pd.read_csv('my_csv.csv', delimiter = ',')"
   ]
  },
  {
   "cell_type": "code",
   "execution_count": 13,
   "metadata": {},
   "outputs": [
    {
     "data": {
      "text/html": [
       "<div>\n",
       "<style scoped>\n",
       "    .dataframe tbody tr th:only-of-type {\n",
       "        vertical-align: middle;\n",
       "    }\n",
       "\n",
       "    .dataframe tbody tr th {\n",
       "        vertical-align: top;\n",
       "    }\n",
       "\n",
       "    .dataframe thead th {\n",
       "        text-align: right;\n",
       "    }\n",
       "</style>\n",
       "<table border=\"1\" class=\"dataframe\">\n",
       "  <thead>\n",
       "    <tr style=\"text-align: right;\">\n",
       "      <th></th>\n",
       "      <th>s_no</th>\n",
       "      <th>item</th>\n",
       "      <th>price</th>\n",
       "      <th>list</th>\n",
       "      <th>Time</th>\n",
       "    </tr>\n",
       "  </thead>\n",
       "  <tbody>\n",
       "    <tr>\n",
       "      <th>1</th>\n",
       "      <td>2.0</td>\n",
       "      <td>item 2</td>\n",
       "      <td>inf</td>\n",
       "      <td>[0, 1]</td>\n",
       "      <td>3</td>\n",
       "    </tr>\n",
       "    <tr>\n",
       "      <th>0</th>\n",
       "      <td>1.0</td>\n",
       "      <td>item 1</td>\n",
       "      <td>420.0</td>\n",
       "      <td>[0, 1]</td>\n",
       "      <td>1</td>\n",
       "    </tr>\n",
       "  </tbody>\n",
       "</table>\n",
       "</div>"
      ],
      "text/plain": [
       "   s_no    item  price    list  Time\n",
       "1   2.0  item 2    inf  [0, 1]     3\n",
       "0   1.0  item 1  420.0  [0, 1]     1"
      ]
     },
     "execution_count": 13,
     "metadata": {},
     "output_type": "execute_result"
    }
   ],
   "source": [
    "df.sample(2)"
   ]
  },
  {
   "cell_type": "code",
   "execution_count": 14,
   "metadata": {},
   "outputs": [
    {
     "name": "stdout",
     "output_type": "stream",
     "text": [
      "0 420.0\n",
      "1 inf\n"
     ]
    }
   ],
   "source": [
    "df_new = df[['s_no', 'price']]\n",
    "\n",
    "for index, row in df.iterrows():\n",
    "    print(index, row['price'])"
   ]
  },
  {
   "cell_type": "code",
   "execution_count": null,
   "metadata": {},
   "outputs": [],
   "source": []
  },
  {
   "cell_type": "code",
   "execution_count": null,
   "metadata": {},
   "outputs": [],
   "source": []
  }
 ],
 "metadata": {
  "kernelspec": {
   "display_name": "Python 3",
   "language": "python",
   "name": "python3"
  },
  "language_info": {
   "codemirror_mode": {
    "name": "ipython",
    "version": 3
   },
   "file_extension": ".py",
   "mimetype": "text/x-python",
   "name": "python",
   "nbconvert_exporter": "python",
   "pygments_lexer": "ipython3",
   "version": "3.7.9"
  }
 },
 "nbformat": 4,
 "nbformat_minor": 4
}
