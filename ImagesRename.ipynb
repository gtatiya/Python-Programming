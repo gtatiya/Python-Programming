{
 "cells": [
  {
   "cell_type": "code",
   "execution_count": null,
   "metadata": {},
   "outputs": [],
   "source": [
    "import os, shutil"
   ]
  },
  {
   "cell_type": "markdown",
   "metadata": {},
   "source": [
    "# File name format:\n",
    "# IMG_20170628_153151.jpg\n",
    "# PANO_20170704_175416.jpg\n",
    "# VID_20170717_182805.mp4\n",
    "# Screenshot_20161003-194629\n",
    "# V_20190113_145308.mp4"
   ]
  },
  {
   "cell_type": "code",
   "execution_count": null,
   "metadata": {
    "scrolled": true
   },
   "outputs": [],
   "source": [
    "\"\"\"\n",
    "This code will rename the images in the provided folder and copy them into a new folder \"Renamed\"\n",
    "\"\"\"\n",
    "\n",
    "path = r\"E:\\F Secondry Hdd\\Picture\\Camera (MyStory)\\2021 USA\"\n",
    "\n",
    "if not os.path.exists(path + os.sep + \"Renamed\"):\n",
    "    os.makedirs(path + os.sep + \"Renamed\")\n",
    "    \n",
    "for file_name in next(os.walk(path))[2]:\n",
    "    print(file_name)\n",
    "    year = file_name.split('_')[1][0:4]\n",
    "    month = file_name.split('_')[1][4:6]\n",
    "    day = file_name.split('_')[1][6:8]\n",
    "    print(year + \".\" + month + \".\" + day + \" \" + file_name)\n",
    "    renamed = year + \".\" + month + \".\" + day + \" \" + file_name\n",
    "    shutil.copy(path + os.sep + file_name, path + os.sep + \"Renamed\" + os.sep + renamed)"
   ]
  },
  {
   "cell_type": "code",
   "execution_count": null,
   "metadata": {
    "collapsed": true
   },
   "outputs": [],
   "source": []
  },
  {
   "cell_type": "markdown",
   "metadata": {},
   "source": [
    "# File name format:\n",
    "# IMG-20170111-WA0000\n",
    "# VID-20180301-WA0000"
   ]
  },
  {
   "cell_type": "code",
   "execution_count": null,
   "metadata": {
    "scrolled": true
   },
   "outputs": [],
   "source": [
    "\"\"\"\n",
    "This code will rename the images in the provided folder and copy them into a new folder \"Renamed\"\n",
    "\"\"\"\n",
    "\n",
    "path = r\"C:\\Users\\GyanT\\Desktop\\Honor View 20 Backup\\PICS\\WhatsApp\\WhatsApp Video\"\n",
    "\n",
    "if not os.path.exists(path + os.sep + \"Renamed\"):\n",
    "    os.makedirs(path + os.sep + \"Renamed\")\n",
    "    \n",
    "for file_name in next(os.walk(path))[2]:\n",
    "    print(file_name)\n",
    "    year = file_name.split('-')[1][0:4]\n",
    "    month = file_name.split('-')[1][4:6]\n",
    "    day = file_name.split('-')[1][6:8]\n",
    "    print(year + \".\" + month + \".\" + day + \" \" + file_name)\n",
    "    renamed = year + \".\" + month + \".\" + day + \" \" + file_name\n",
    "    shutil.copy(path + os.sep + file_name, path + os.sep + \"Renamed\" + os.sep + renamed)"
   ]
  },
  {
   "cell_type": "code",
   "execution_count": null,
   "metadata": {
    "scrolled": true
   },
   "outputs": [],
   "source": [
    "\"\"\"\n",
    "This code will add a specific date provided for all images in the provided folder and copy them into a new folder \"Renamed\"\n",
    "\"\"\"\n",
    "\n",
    "path = r\"C:\\Users\\GyanT\\Downloads\\Pics\\Cam\\2020.06.05\"\n",
    "date = \"2020.06.05\"\n",
    "\n",
    "if not os.path.exists(path + os.sep + \"Renamed\"):\n",
    "    os.makedirs(path + os.sep + \"Renamed\")\n",
    "    \n",
    "for file_name in next(os.walk(path))[2]:\n",
    "    print(file_name)\n",
    "    print(date + \" \" + file_name)\n",
    "    renamed = date + \" \" + file_name\n",
    "    shutil.copy(path + os.sep + file_name, path + os.sep + \"Renamed\" + os.sep + renamed)"
   ]
  },
  {
   "cell_type": "code",
   "execution_count": null,
   "metadata": {},
   "outputs": [],
   "source": [
    "\"\"\"\n",
    "This code will rename the images in the provided folder and copy them into a new folder \"Renamed\"\n",
    "If the target file already exists, it will skip renaming and copying.\n",
    "\"\"\"\n",
    "\n",
    "path = r\"E:\\F Secondry Hdd\\Picture\\Camera (MyStory)\\2021 USA\"\n",
    "\n",
    "if not os.path.exists(path + os.sep + \"Renamed\"):\n",
    "    os.makedirs(path + os.sep + \"Renamed\")\n",
    "    \n",
    "for file_name in next(os.walk(path))[2]:\n",
    "    year = file_name.split('_')[1][0:4]\n",
    "    month = file_name.split('_')[1][4:6]\n",
    "    day = file_name.split('_')[1][6:8]\n",
    "    renamed = year + \".\" + month + \".\" + day + \" \" + file_name\n",
    "    target_path = path + os.sep + \"Renamed\" + os.sep + renamed\n",
    "    if not os.path.exists(target_path):\n",
    "        shutil.copy(path + os.sep + file_name, target_path)\n",
    "        print(f\"Copied: {renamed}\")\n",
    "    else:\n",
    "        print(f\"Skipped (already exists): {renamed}\")"
   ]
  },
  {
   "cell_type": "code",
   "execution_count": null,
   "metadata": {},
   "outputs": [],
   "source": [
    "\n",
    "def rename_images(path, split_char, date_idx):\n",
    "    \n",
    "    if not os.path.exists(path + os.sep + \"Renamed\"):\n",
    "        os.makedirs(path + os.sep + \"Renamed\")\n",
    "\n",
    "    for file_name in next(os.walk(path))[2]:\n",
    "        print(file_name)\n",
    "        year = file_name.split(split_char)[date_idx][0:4]\n",
    "        month = file_name.split(split_char)[date_idx][4:6]\n",
    "        day = file_name.split(split_char)[date_idx][6:8]\n",
    "        print(year + \".\" + month + \".\" + day + \" \" + file_name)\n",
    "        renamed = year + \".\" + month + \".\" + day + \" \" + file_name\n",
    "        target_path = path + os.sep + \"Renamed\" + os.sep + renamed\n",
    "        if not os.path.exists(target_path):\n",
    "            shutil.copy(path + os.sep + file_name, target_path)\n",
    "            print(f\"Copied: {renamed}\")\n",
    "        else:\n",
    "            print(f\"Skipped (already exists): {renamed}\")\n",
    "            \n",
    "        # shutil.copy(path + os.sep + file_name, path + os.sep + \"Renamed\" + os.sep + renamed)\n",
    "\n",
    "path = r\"D:\\My Passport Backup (2025.08.27)\\Backups\\Xiaomi 14T\\Camera 2025.09.08\"\n",
    "\n",
    "# 20220321_154446.jpg\n",
    "# split_char = '_'\n",
    "# date_idx = 0\n",
    "\n",
    "# IMG_20170628_153151.jpg, PANO_20170704_175416.jpg, VID_20170717_182805.mp4, Screenshot_20161003-194629, V_20190113_145308.mp4\n",
    "split_char = '_'\n",
    "date_idx = 1\n",
    "\n",
    "# IMG_MIRROR_20210106_132349.jpg\n",
    "# split_char = '_'\n",
    "# date_idx = 2\n",
    "\n",
    "# SL_MO_VID_20210328_155954.mp4\n",
    "# split_char = '_'\n",
    "# date_idx = 3\n",
    "\n",
    "rename_images(path, split_char, date_idx)"
   ]
  },
  {
   "cell_type": "markdown",
   "metadata": {
    "collapsed": true
   },
   "source": [
    "# Date and Time:\n",
    "# VID_20170902_093034.mp4"
   ]
  },
  {
   "cell_type": "code",
   "execution_count": null,
   "metadata": {
    "scrolled": true
   },
   "outputs": [],
   "source": [
    "\"\"\"\n",
    "This code will add a specific date provided for all images in the provided folder and copy them into a new folder \"Renamed\"\n",
    "\"\"\"\n",
    "\n",
    "path = r\"E:\\ZUK Z1 Backup\\Camera\\2017.09.02\\VID\"\n",
    "\n",
    "if not os.path.exists(path + os.sep + \"Renamed\"):\n",
    "    os.makedirs(path + os.sep + \"Renamed\")\n",
    "    \n",
    "for file_name in next(os.walk(path))[2]:\n",
    "    print(file_name)\n",
    "    year = file_name.split('_')[1][0:4]\n",
    "    month = file_name.split('_')[1][4:6]\n",
    "    day = file_name.split('_')[1][6:8]\n",
    "    \n",
    "    hour = file_name.split('_')[2][0:2]\n",
    "    mini = file_name.split('_')[2][2:4]\n",
    "    sec = file_name.split('_')[2][4:6]\n",
    "    \n",
    "    print(year + \".\" + month + \".\" + day + \" \" + hour + \".\" + mini + \".\" + sec + \".mp4\")\n",
    "    renamed = year + \".\" + month + \".\" + day + \" \" + hour + \".\" + mini + \".\" + sec + \".mp4\"\n",
    "    shutil.copy(path + os.sep + file_name, path + os.sep + \"Renamed\" + os.sep + renamed)"
   ]
  },
  {
   "cell_type": "markdown",
   "metadata": {},
   "source": [
    "# Move pics with a specified formate to a folder"
   ]
  },
  {
   "cell_type": "code",
   "execution_count": null,
   "metadata": {
    "scrolled": true
   },
   "outputs": [],
   "source": [
    "path = r\"E:\\Photoshoot Backups\\2020.08.23\"\n",
    "\n",
    "formate = '.ARW'\n",
    "\n",
    "if not os.path.exists(path + os.sep + formate[1:]):\n",
    "    os.makedirs(path + os.sep + formate[1:])\n",
    "\n",
    "for file_name in next(os.walk(path))[2]:\n",
    "    print(file_name)\n",
    "    file_path, ext = os.path.splitext(file_name)\n",
    "    print(file_path, ext)\n",
    "    \n",
    "    if ext == formate:\n",
    "        shutil.move(path + os.sep + file_name, path + os.sep + formate[1:] + os.sep + file_name)"
   ]
  },
  {
   "cell_type": "code",
   "execution_count": null,
   "metadata": {},
   "outputs": [],
   "source": []
  },
  {
   "cell_type": "markdown",
   "metadata": {
    "collapsed": true
   },
   "source": [
    "# Add text to a picture"
   ]
  },
  {
   "cell_type": "code",
   "execution_count": null,
   "metadata": {},
   "outputs": [],
   "source": [
    "#http://www.xappsoftware.com/wordpress/2013/04/25/how-to-add-a-text-to-a-picture-using-python/\n",
    "# Works on Python 3\n",
    "\n",
    "import PIL\n",
    "from PIL import ImageFont\n",
    "from PIL import Image\n",
    "from PIL import ImageDraw\n",
    "import os\n",
    "\n",
    "# Loading Fonts….\n",
    "# Note the following line works on Ubuntu 12.04\n",
    "# On other operating systems you should set the correct path\n",
    "# To the font you want to use.\n",
    "font = ImageFont.truetype(\"files\"+os.sep+\"Tahoma.ttf\", 20)\n",
    " \n",
    "# Opening the file gg.png\n",
    "imageFile = \"files\"+os.sep+\"image.jpg\"\n",
    "im1=Image.open(imageFile)\n",
    " \n",
    "# Drawing the text on the picture\n",
    "draw = ImageDraw.Draw(im1)\n",
    "draw.text((0, 0),\"Gyan is the best\",fill=(0, 0, 0),font=font)\n",
    "draw = ImageDraw.Draw(im1)\n",
    " \n",
    "# Save the image with a new name\n",
    "im1.save(\"files\"+os.sep+\"marked_image.png\")"
   ]
  },
  {
   "cell_type": "code",
   "execution_count": null,
   "metadata": {},
   "outputs": [],
   "source": []
  }
 ],
 "metadata": {
  "anaconda-cloud": {},
  "kernelspec": {
   "display_name": "py3_13_5",
   "language": "python",
   "name": "python3"
  },
  "language_info": {
   "codemirror_mode": {
    "name": "ipython",
    "version": 3
   },
   "file_extension": ".py",
   "mimetype": "text/x-python",
   "name": "python",
   "nbconvert_exporter": "python",
   "pygments_lexer": "ipython3",
   "version": "3.13.5"
  }
 },
 "nbformat": 4,
 "nbformat_minor": 1
}
