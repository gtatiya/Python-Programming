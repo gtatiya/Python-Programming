{
 "cells": [
  {
   "cell_type": "code",
   "execution_count": 1,
   "metadata": {},
   "outputs": [],
   "source": [
    "import os, shutil"
   ]
  },
  {
   "cell_type": "markdown",
   "metadata": {},
   "source": [
    "# File name format:\n",
    "# IMG_20170628_153151.jpg\n",
    "# PANO_20170704_175416.jpg\n",
    "# VID_20170717_182805.mp4\n",
    "# Screenshot_20161003-194629\n",
    "# V_20190113_145308.mp4"
   ]
  },
  {
   "cell_type": "code",
   "execution_count": 2,
   "metadata": {
    "scrolled": true
   },
   "outputs": [
    {
     "name": "stdout",
     "output_type": "stream",
     "text": [
      "04022012041.jpg\n"
     ]
    },
    {
     "ename": "IndexError",
     "evalue": "list index out of range",
     "output_type": "error",
     "traceback": [
      "\u001b[1;31m---------------------------------------------------------------------------\u001b[0m",
      "\u001b[1;31mIndexError\u001b[0m                                Traceback (most recent call last)",
      "\u001b[1;32m<ipython-input-2-8f990dba2093>\u001b[0m in \u001b[0;36m<module>\u001b[1;34m\u001b[0m\n\u001b[0;32m     10\u001b[0m \u001b[1;32mfor\u001b[0m \u001b[0mfile_name\u001b[0m \u001b[1;32min\u001b[0m \u001b[0mnext\u001b[0m\u001b[1;33m(\u001b[0m\u001b[0mos\u001b[0m\u001b[1;33m.\u001b[0m\u001b[0mwalk\u001b[0m\u001b[1;33m(\u001b[0m\u001b[0mpath\u001b[0m\u001b[1;33m)\u001b[0m\u001b[1;33m)\u001b[0m\u001b[1;33m[\u001b[0m\u001b[1;36m2\u001b[0m\u001b[1;33m]\u001b[0m\u001b[1;33m:\u001b[0m\u001b[1;33m\u001b[0m\u001b[1;33m\u001b[0m\u001b[0m\n\u001b[0;32m     11\u001b[0m     \u001b[0mprint\u001b[0m\u001b[1;33m(\u001b[0m\u001b[0mfile_name\u001b[0m\u001b[1;33m)\u001b[0m\u001b[1;33m\u001b[0m\u001b[1;33m\u001b[0m\u001b[0m\n\u001b[1;32m---> 12\u001b[1;33m     \u001b[0myear\u001b[0m \u001b[1;33m=\u001b[0m \u001b[0mfile_name\u001b[0m\u001b[1;33m.\u001b[0m\u001b[0msplit\u001b[0m\u001b[1;33m(\u001b[0m\u001b[1;34m'_'\u001b[0m\u001b[1;33m)\u001b[0m\u001b[1;33m[\u001b[0m\u001b[1;36m1\u001b[0m\u001b[1;33m]\u001b[0m\u001b[1;33m[\u001b[0m\u001b[1;36m0\u001b[0m\u001b[1;33m:\u001b[0m\u001b[1;36m4\u001b[0m\u001b[1;33m]\u001b[0m\u001b[1;33m\u001b[0m\u001b[1;33m\u001b[0m\u001b[0m\n\u001b[0m\u001b[0;32m     13\u001b[0m     \u001b[0mmonth\u001b[0m \u001b[1;33m=\u001b[0m \u001b[0mfile_name\u001b[0m\u001b[1;33m.\u001b[0m\u001b[0msplit\u001b[0m\u001b[1;33m(\u001b[0m\u001b[1;34m'_'\u001b[0m\u001b[1;33m)\u001b[0m\u001b[1;33m[\u001b[0m\u001b[1;36m1\u001b[0m\u001b[1;33m]\u001b[0m\u001b[1;33m[\u001b[0m\u001b[1;36m4\u001b[0m\u001b[1;33m:\u001b[0m\u001b[1;36m6\u001b[0m\u001b[1;33m]\u001b[0m\u001b[1;33m\u001b[0m\u001b[1;33m\u001b[0m\u001b[0m\n\u001b[0;32m     14\u001b[0m     \u001b[0mday\u001b[0m \u001b[1;33m=\u001b[0m \u001b[0mfile_name\u001b[0m\u001b[1;33m.\u001b[0m\u001b[0msplit\u001b[0m\u001b[1;33m(\u001b[0m\u001b[1;34m'_'\u001b[0m\u001b[1;33m)\u001b[0m\u001b[1;33m[\u001b[0m\u001b[1;36m1\u001b[0m\u001b[1;33m]\u001b[0m\u001b[1;33m[\u001b[0m\u001b[1;36m6\u001b[0m\u001b[1;33m:\u001b[0m\u001b[1;36m8\u001b[0m\u001b[1;33m]\u001b[0m\u001b[1;33m\u001b[0m\u001b[1;33m\u001b[0m\u001b[0m\n",
      "\u001b[1;31mIndexError\u001b[0m: list index out of range"
     ]
    }
   ],
   "source": [
    "\"\"\"\n",
    "This code will rename the images in the provided folder and copy them into a new folder \"Renamed\"\n",
    "\"\"\"\n",
    "\n",
    "path = r\"D:\\F Secondry Hdd\\Picture\\Camera (MyStory)\\Personal\\Bachpan\\X\"\n",
    "\n",
    "if not os.path.exists(path + os.sep + \"Renamed\"):\n",
    "    os.makedirs(path + os.sep + \"Renamed\")\n",
    "    \n",
    "for file_name in next(os.walk(path))[2]:\n",
    "    print(file_name)\n",
    "    year = file_name.split('_')[1][0:4]\n",
    "    month = file_name.split('_')[1][4:6]\n",
    "    day = file_name.split('_')[1][6:8]\n",
    "    print(year + \".\" + month + \".\" + day + \" \" + file_name)\n",
    "    renamed = year + \".\" + month + \".\" + day + \" \" + file_name\n",
    "    shutil.copy(path + os.sep + file_name, path + os.sep + \"Renamed\" + os.sep + renamed)"
   ]
  },
  {
   "cell_type": "code",
   "execution_count": null,
   "metadata": {
    "collapsed": true
   },
   "outputs": [],
   "source": []
  },
  {
   "cell_type": "markdown",
   "metadata": {},
   "source": [
    "# File name format:\n",
    "# IMG-20170111-WA0000\n",
    "# VID-20180301-WA0000"
   ]
  },
  {
   "cell_type": "code",
   "execution_count": 4,
   "metadata": {
    "scrolled": true
   },
   "outputs": [
    {
     "name": "stdout",
     "output_type": "stream",
     "text": [
      "VID-20190716-WA0000.mp4\n",
      "2019.07.16 VID-20190716-WA0000.mp4\n",
      "VID-20190716-WA0001.mp4\n",
      "2019.07.16 VID-20190716-WA0001.mp4\n",
      "VID-20190726-WA0044.mp4\n",
      "2019.07.26 VID-20190726-WA0044.mp4\n",
      "VID-20190904-WA0002.mp4\n",
      "2019.09.04 VID-20190904-WA0002.mp4\n",
      "VID-20190912-WA0005.mp4\n",
      "2019.09.12 VID-20190912-WA0005.mp4\n",
      "VID-20190912-WA0006.mp4\n",
      "2019.09.12 VID-20190912-WA0006.mp4\n"
     ]
    }
   ],
   "source": [
    "\"\"\"\n",
    "This code will rename the images in the provided folder and copy them into a new folder \"Renamed\"\n",
    "\"\"\"\n",
    "\n",
    "path = r\"C:\\Users\\GyanT\\Desktop\\Honor View 20 Backup\\WhatsApp Video\\Cam\"\n",
    "\n",
    "if not os.path.exists(path + os.sep + \"Renamed\"):\n",
    "    os.makedirs(path + os.sep + \"Renamed\")\n",
    "    \n",
    "for file_name in next(os.walk(path))[2]:\n",
    "    print(file_name)\n",
    "    year = file_name.split('-')[1][0:4]\n",
    "    month = file_name.split('-')[1][4:6]\n",
    "    day = file_name.split('-')[1][6:8]\n",
    "    print(year + \".\" + month + \".\" + day + \" \" + file_name)\n",
    "    renamed = year + \".\" + month + \".\" + day + \" \" + file_name\n",
    "    shutil.copy(path + os.sep + file_name, path + os.sep + \"Renamed\" + os.sep + renamed)"
   ]
  },
  {
   "cell_type": "code",
   "execution_count": 3,
   "metadata": {
    "scrolled": true
   },
   "outputs": [
    {
     "name": "stdout",
     "output_type": "stream",
     "text": [
      "Wp 20160812 09 54 38 Pro-1.m4v\n",
      "2016.08.12 Wp 20160812 09 54 38 Pro-1.m4v\n",
      "Wp 20160812 12 53 05 Pro-1.mp4\n",
      "2016.08.12 Wp 20160812 12 53 05 Pro-1.mp4\n",
      "Wp 20160812 13 02 37 Pro-1.mp4\n",
      "2016.08.12 Wp 20160812 13 02 37 Pro-1.mp4\n",
      "Wp 20160812 13 27 25 Pro-1.m4v\n",
      "2016.08.12 Wp 20160812 13 27 25 Pro-1.m4v\n",
      "Wp 20160812 13 52 13 Pro-1.mp4\n",
      "2016.08.12 Wp 20160812 13 52 13 Pro-1.mp4\n",
      "Wp 20160812 14 19 56 Pro-1.m4v\n",
      "2016.08.12 Wp 20160812 14 19 56 Pro-1.m4v\n",
      "Wp 20160812 15 44 23 Pro-1.m4v\n",
      "2016.08.12 Wp 20160812 15 44 23 Pro-1.m4v\n",
      "Wp 20160812 15 49 00 Pro-1.m4v\n",
      "2016.08.12 Wp 20160812 15 49 00 Pro-1.m4v\n",
      "Wp 20160812 15 50 26 Pro-1.mp4\n",
      "2016.08.12 Wp 20160812 15 50 26 Pro-1.mp4\n",
      "Wp 20160812 15 52 35 Pro-1.mp4\n",
      "2016.08.12 Wp 20160812 15 52 35 Pro-1.mp4\n",
      "WP_20160812_13_35_21_Pro.mp4\n",
      "2016.08.12 WP_20160812_13_35_21_Pro.mp4\n",
      "WP_20160812_15_57_06_Pro.mp4\n",
      "2016.08.12 WP_20160812_15_57_06_Pro.mp4\n"
     ]
    }
   ],
   "source": [
    "\"\"\"\n",
    "This code will add a specific date provided for all images in the provided folder and copy them into a new folder \"Renamed\"\n",
    "\"\"\"\n",
    "\n",
    "path = r\"F:\\F Secondry Hdd\\Picture\\Camera (MyStory)\\2016 (Wardha, Jatmai-Ghatarani)\\2016.08.12 (Jatmai, Ghatarani)\\Videos\"\n",
    "date = \"2016.08.12\"\n",
    "\n",
    "if not os.path.exists(path + os.sep + \"Renamed\"):\n",
    "    os.makedirs(path + os.sep + \"Renamed\")\n",
    "    \n",
    "for file_name in next(os.walk(path))[2]:\n",
    "    print(file_name)\n",
    "    print(date + \" \" + file_name)\n",
    "    renamed = date + \" \" + file_name\n",
    "    shutil.copy(path + os.sep + file_name, path + os.sep + \"Renamed\" + os.sep + renamed)"
   ]
  },
  {
   "cell_type": "markdown",
   "metadata": {
    "collapsed": true
   },
   "source": [
    "# Date and Time:\n",
    "# VID_20170902_093034.mp4"
   ]
  },
  {
   "cell_type": "code",
   "execution_count": 3,
   "metadata": {
    "scrolled": true
   },
   "outputs": [
    {
     "name": "stdout",
     "output_type": "stream",
     "text": [
      "VID_20170902_093034.mp4\n",
      "2017.09.02 09.30.34.mp4\n",
      "VID_20170902_093242.mp4\n",
      "2017.09.02 09.32.42.mp4\n",
      "VID_20170902_094603.mp4\n",
      "2017.09.02 09.46.03.mp4\n",
      "VID_20170902_095030.mp4\n",
      "2017.09.02 09.50.30.mp4\n",
      "VID_20170902_095601.mp4\n",
      "2017.09.02 09.56.01.mp4\n",
      "VID_20170902_100513.mp4\n",
      "2017.09.02 10.05.13.mp4\n",
      "VID_20170902_101624.mp4\n",
      "2017.09.02 10.16.24.mp4\n",
      "VID_20170902_103804.mp4\n",
      "2017.09.02 10.38.04.mp4\n",
      "VID_20170902_104011.mp4\n",
      "2017.09.02 10.40.11.mp4\n",
      "VID_20170902_104312.mp4\n",
      "2017.09.02 10.43.12.mp4\n",
      "VID_20170902_104525.mp4\n",
      "2017.09.02 10.45.25.mp4\n",
      "VID_20170902_105130.mp4\n",
      "2017.09.02 10.51.30.mp4\n",
      "VID_20170902_105338.mp4\n",
      "2017.09.02 10.53.38.mp4\n",
      "VID_20170902_105803.mp4\n",
      "2017.09.02 10.58.03.mp4\n",
      "VID_20170902_110026.mp4\n",
      "2017.09.02 11.00.26.mp4\n",
      "VID_20170902_110241.mp4\n",
      "2017.09.02 11.02.41.mp4\n",
      "VID_20170902_110559.mp4\n",
      "2017.09.02 11.05.59.mp4\n",
      "VID_20170902_111037.mp4\n",
      "2017.09.02 11.10.37.mp4\n",
      "VID_20170902_111529.mp4\n",
      "2017.09.02 11.15.29.mp4\n",
      "VID_20170902_111923.mp4\n",
      "2017.09.02 11.19.23.mp4\n",
      "VID_20170902_112319.mp4\n",
      "2017.09.02 11.23.19.mp4\n",
      "VID_20170902_112651.mp4\n",
      "2017.09.02 11.26.51.mp4\n",
      "VID_20170902_113312.mp4\n",
      "2017.09.02 11.33.12.mp4\n",
      "VID_20170902_114025.mp4\n",
      "2017.09.02 11.40.25.mp4\n",
      "VID_20170902_115515.mp4\n",
      "2017.09.02 11.55.15.mp4\n",
      "VID_20170902_120756.mp4\n",
      "2017.09.02 12.07.56.mp4\n",
      "VID_20170902_124512.mp4\n",
      "2017.09.02 12.45.12.mp4\n",
      "VID_20170902_130738.mp4\n",
      "2017.09.02 13.07.38.mp4\n",
      "VID_20170902_132147.mp4\n",
      "2017.09.02 13.21.47.mp4\n",
      "VID_20170902_133202.mp4\n",
      "2017.09.02 13.32.02.mp4\n",
      "VID_20170902_133733.mp4\n",
      "2017.09.02 13.37.33.mp4\n",
      "VID_20170902_144114.mp4\n",
      "2017.09.02 14.41.14.mp4\n",
      "VID_20170902_153631.mp4\n",
      "2017.09.02 15.36.31.mp4\n",
      "VID_20170902_154548.mp4\n",
      "2017.09.02 15.45.48.mp4\n",
      "VID_20170902_155328.mp4\n",
      "2017.09.02 15.53.28.mp4\n",
      "VID_20170902_160843.mp4\n",
      "2017.09.02 16.08.43.mp4\n",
      "VID_20170902_165148.mp4\n",
      "2017.09.02 16.51.48.mp4\n",
      "VID_20170902_170010.mp4\n",
      "2017.09.02 17.00.10.mp4\n",
      "VID_20170902_172544.mp4\n",
      "2017.09.02 17.25.44.mp4\n",
      "VID_20170902_182432.mp4\n",
      "2017.09.02 18.24.32.mp4\n",
      "VID_20170902_190457.mp4\n",
      "2017.09.02 19.04.57.mp4\n",
      "VID_20170902_191328.mp4\n",
      "2017.09.02 19.13.28.mp4\n"
     ]
    }
   ],
   "source": [
    "\"\"\"\n",
    "This code will add a specific date provided for all images in the provided folder and copy them into a new folder \"Renamed\"\n",
    "\"\"\"\n",
    "\n",
    "path = r\"E:\\ZUK Z1 Backup\\Camera\\2017.09.02\\VID\"\n",
    "\n",
    "if not os.path.exists(path + os.sep + \"Renamed\"):\n",
    "    os.makedirs(path + os.sep + \"Renamed\")\n",
    "    \n",
    "for file_name in next(os.walk(path))[2]:\n",
    "    print(file_name)\n",
    "    year = file_name.split('_')[1][0:4]\n",
    "    month = file_name.split('_')[1][4:6]\n",
    "    day = file_name.split('_')[1][6:8]\n",
    "    \n",
    "    hour = file_name.split('_')[2][0:2]\n",
    "    mini = file_name.split('_')[2][2:4]\n",
    "    sec = file_name.split('_')[2][4:6]\n",
    "    \n",
    "    print(year + \".\" + month + \".\" + day + \" \" + hour + \".\" + mini + \".\" + sec + \".mp4\")\n",
    "    renamed = year + \".\" + month + \".\" + day + \" \" + hour + \".\" + mini + \".\" + sec + \".mp4\"\n",
    "    shutil.copy(path + os.sep + file_name, path + os.sep + \"Renamed\" + os.sep + renamed)"
   ]
  },
  {
   "cell_type": "markdown",
   "metadata": {
    "collapsed": true
   },
   "source": [
    "# Add text to a picture"
   ]
  },
  {
   "cell_type": "code",
   "execution_count": 2,
   "metadata": {},
   "outputs": [],
   "source": [
    "#http://www.xappsoftware.com/wordpress/2013/04/25/how-to-add-a-text-to-a-picture-using-python/\n",
    "# Works on Python 3\n",
    "\n",
    "import PIL\n",
    "from PIL import ImageFont\n",
    "from PIL import Image\n",
    "from PIL import ImageDraw\n",
    "import os\n",
    "\n",
    "# Loading Fonts….\n",
    "# Note the following line works on Ubuntu 12.04\n",
    "# On other operating systems you should set the correct path\n",
    "# To the font you want to use.\n",
    "font = ImageFont.truetype(\"files\"+os.sep+\"Tahoma.ttf\", 20)\n",
    " \n",
    "# Opening the file gg.png\n",
    "imageFile = \"files\"+os.sep+\"image.jpg\"\n",
    "im1=Image.open(imageFile)\n",
    " \n",
    "# Drawing the text on the picture\n",
    "draw = ImageDraw.Draw(im1)\n",
    "draw.text((0, 0),\"Gyan is the best\",fill=(0, 0, 0),font=font)\n",
    "draw = ImageDraw.Draw(im1)\n",
    " \n",
    "# Save the image with a new name\n",
    "im1.save(\"files\"+os.sep+\"marked_image.png\")"
   ]
  },
  {
   "cell_type": "code",
   "execution_count": null,
   "metadata": {},
   "outputs": [],
   "source": []
  }
 ],
 "metadata": {
  "anaconda-cloud": {},
  "kernelspec": {
   "display_name": "Python 3",
   "language": "python",
   "name": "python3"
  },
  "language_info": {
   "codemirror_mode": {
    "name": "ipython",
    "version": 3
   },
   "file_extension": ".py",
   "mimetype": "text/x-python",
   "name": "python",
   "nbconvert_exporter": "python",
   "pygments_lexer": "ipython3",
   "version": "3.7.6"
  }
 },
 "nbformat": 4,
 "nbformat_minor": 1
}
