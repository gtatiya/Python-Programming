{
 "cells": [
  {
   "cell_type": "markdown",
   "metadata": {},
   "source": [
    "# Read File"
   ]
  },
  {
   "cell_type": "code",
   "execution_count": 1,
   "metadata": {},
   "outputs": [
    {
     "name": "stdout",
     "output_type": "stream",
     "text": [
      "(2, 8)\n"
     ]
    }
   ],
   "source": [
    "import numpy as np\n",
    "\n",
    "torque_data = []\n",
    "\n",
    "with open('FileReadWrite.txt', 'r') as f:\n",
    "    lines = f.read().split('\\n')\n",
    "    for line in lines[0:-1]:\n",
    "        line = line.split('\\t')\n",
    "        torque_data.append(line)\n",
    "\n",
    "torque_data = np.array(torque_data)\n",
    "torque_data = torque_data.astype(float)\n",
    "print(torque_data.shape)"
   ]
  },
  {
   "cell_type": "code",
   "execution_count": 1,
   "metadata": {},
   "outputs": [
    {
     "name": "stdout",
     "output_type": "stream",
     "text": [
      "['1301264245429832309\\t-24.850304\\t-6.238494\\t-5.021427\\t1.884690\\t-0.588885\\t-1.803423\\t-0.080543', '1301264245431820767\\t-24.850449\\t-6.239356\\t-5.021529\\t1.884707\\t-0.588905\\t-1.803410\\t-0.080544', '']\n"
     ]
    }
   ],
   "source": [
    "f = open('FileReadWrite.txt', 'r')\n",
    "lines = f.read().split('\\n')\n",
    "print(lines)"
   ]
  },
  {
   "cell_type": "code",
   "execution_count": null,
   "metadata": {},
   "outputs": [],
   "source": []
  }
 ],
 "metadata": {
  "anaconda-cloud": {},
  "kernelspec": {
   "display_name": "Python 3",
   "language": "python",
   "name": "python3"
  },
  "language_info": {
   "codemirror_mode": {
    "name": "ipython",
    "version": 3
   },
   "file_extension": ".py",
   "mimetype": "text/x-python",
   "name": "python",
   "nbconvert_exporter": "python",
   "pygments_lexer": "ipython3",
   "version": "3.5.4"
  }
 },
 "nbformat": 4,
 "nbformat_minor": 1
}
