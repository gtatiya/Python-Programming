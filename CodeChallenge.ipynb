{
 "cells": [
  {
   "cell_type": "raw",
   "metadata": {},
   "source": [
    "# Q) Counting Binary Substrings \n",
    "\n",
    "Given a string, s, we define a substring, s', of s to be a string that occurs in s (i.e., a string matching some contiguous block of characters in s).\n",
    " \n",
    "Complete the counting function in the editor below. It has one parameter: a string, s, consisting of only 0's and 1's. The function must return an integer denoting the total number of substrings of s satisfying both of the following two conditions:\n",
    "1. The 0's and 1's are grouped consecutively (e.g., 01, 10, 0011, 1100, 000111, etc.).\n",
    "2. The number of 0's in the substring is equal to the number of 1's in the substring.\n",
    " \n",
    "Input Format\n",
    "Locked stub code in the editor reads string s from stdin and passes it to the function.\n",
    " \n",
    "Constraints\n",
    "• 5 ≤ the length of string s ≤ 5 × 105\n",
    "• String s consists of 0's and 1's only.\n",
    " \n",
    "Output Format\n",
    "The function must return an integer denoting the number of substrings of s having an equal number of 0's and 1's that are consecutively grouped (i.e., all the 0's are on one end of the string and all the 1's are on the other end of the string). This is printed to stdout by locked stub code in the editor.\n",
    " \n",
    "Sample Input 0\n",
    "00110\n",
    " \n",
    "Sample Output 0\n",
    "3\n",
    " \n",
    "Explanation 0\n",
    "There are three substrings having equal numbers of consecutively grouped 0's and 1's:\n",
    "3. 0011, which is a substring of the characters from s0 to s3 (inclusive).\n",
    "4. 01, which is a substring of the characters from s1 to s2 (inclusive).\n",
    "5. 10, which is a substring of the characters from s3 to s4 (inclusive).\n",
    "Thus, we return 3 as our answer.\n",
    " \n",
    "Sample Input 1\n",
    "10101\n",
    " \n",
    "Sample Output 1\n",
    "4\n",
    " \n",
    "Explanation 1\n",
    "There are four substrings having equal numbers of consecutively grouped 0's and 1's:\n",
    "6. 10, which is a substring of the characters from s0 to s1 (inclusive).\n",
    "7. 01, which is a substring of the characters from s1 to s2 (inclusive).\n",
    "8. 10, which is a substring of the characters from s2 to s3 (inclusive).\n",
    "9. 01, which is a substring of the characters from s3 to s4 (inclusive).\n",
    "Thus, we return 4 as our answer.\n",
    " \n",
    "Sample Input 2\n",
    "10001\n",
    " \n",
    "Sample Output 2\n",
    "2\n",
    " \n",
    "Explanation 2\n",
    "There are two substrings having equal numbers of consecutively grouped 0's and 1's:\n",
    "10. 10, which is a substring of the characters from s0 to s1 (inclusive).\n",
    "11. 01, which is a substring of the characters from s3 to s4 (inclusive).\n",
    "Thus, we return 2 as our answer."
   ]
  },
  {
   "cell_type": "code",
   "execution_count": 14,
   "metadata": {
    "collapsed": false
   },
   "outputs": [
    {
     "name": "stdout",
     "output_type": "stream",
     "text": [
      "00110\n",
      "break\n",
      "s[i : j] = s[ 0 : 2 ] = sub =  00\n",
      "s[j: j + len(sub)] = s[ 2 : 4 ] =  11\n",
      "revert(sub):  11\n",
      "break\n",
      "s[i : j] = s[ 1 : 2 ] = sub =  0\n",
      "s[j: j + len(sub)] = s[ 2 : 3 ] =  1\n",
      "revert(sub):  1\n",
      "break\n",
      "s[i : j] = s[ 2 : 4 ] = sub =  11\n",
      "break\n",
      "s[i : j] = s[ 3 : 4 ] = sub =  1\n",
      "s[j: j + len(sub)] = s[ 4 : 5 ] =  0\n",
      "revert(sub):  0\n",
      "3\n"
     ]
    }
   ],
   "source": [
    "def counting(s):\n",
    "    ans = 0\n",
    "    \n",
    "    # Find substring with consecutive 0's, 1's (eg. 0, 00, 000, 1, 11, 111)\n",
    "    for i in range(len(s) - 1):\n",
    "        sub = s[i]\n",
    "        for j in range(i + 1, len(s)):\n",
    "            if s[i] == s[j]:\n",
    "                sub += s[j]\n",
    "            else:\n",
    "                print \"break\"\n",
    "                break # break when you find opposite number\n",
    "        print \"s[i : j] = s[\", i, \":\", j, \"] = sub = \",  sub\n",
    "        \n",
    "        # match sub with the next len(sub) string in s\n",
    "        if j + len(sub) <= len(s): # there should be lenght in s for reverse part\n",
    "            if s[j: j + len(sub)] == revert(sub): # get string in s for reverse part == reverse part\n",
    "                print \"s[j: j + len(sub)] = s[\", j, \":\", j + len(sub), \"] = \", s[j: j + len(sub)]\n",
    "                print \"revert(sub): \", revert(sub)\n",
    "                ans += 1\n",
    "    return ans\n",
    "\n",
    "def revert(s):\n",
    "    if s[0] == '0':\n",
    "        return \"1\" * len(s)\n",
    "    if s[0] == '1':\n",
    "        return \"0\" * len(s)\n",
    "\n",
    "input = \"00110\"  # 0011, 01, 10\n",
    "print input\n",
    "ans = counting(input)\n",
    "print ans"
   ]
  },
  {
   "cell_type": "code",
   "execution_count": null,
   "metadata": {
    "collapsed": true
   },
   "outputs": [],
   "source": []
  }
 ],
 "metadata": {
  "anaconda-cloud": {},
  "kernelspec": {
   "display_name": "Python [default]",
   "language": "python",
   "name": "python2"
  },
  "language_info": {
   "codemirror_mode": {
    "name": "ipython",
    "version": 2
   },
   "file_extension": ".py",
   "mimetype": "text/x-python",
   "name": "python",
   "nbconvert_exporter": "python",
   "pygments_lexer": "ipython2",
   "version": "2.7.12"
  }
 },
 "nbformat": 4,
 "nbformat_minor": 1
}
