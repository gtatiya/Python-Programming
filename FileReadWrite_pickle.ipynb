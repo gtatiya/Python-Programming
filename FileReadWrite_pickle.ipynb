{
 "cells": [
  {
   "cell_type": "markdown",
   "metadata": {},
   "source": [
    "# Read File"
   ]
  },
  {
   "cell_type": "code",
   "execution_count": 1,
   "metadata": {},
   "outputs": [
    {
     "name": "stdout",
     "output_type": "stream",
     "text": [
      "(2, 8)\n"
     ]
    }
   ],
   "source": [
    "import numpy as np\n",
    "\n",
    "torque_data = []\n",
    "\n",
    "with open('FileReadWrite.txt', 'r') as f:\n",
    "    lines = f.read().split('\\n')\n",
    "    for line in lines[0:-1]:\n",
    "        line = line.split('\\t')\n",
    "        torque_data.append(line)\n",
    "\n",
    "torque_data = np.array(torque_data)\n",
    "torque_data = torque_data.astype(float)\n",
    "print(torque_data.shape)"
   ]
  },
  {
   "cell_type": "code",
   "execution_count": 1,
   "metadata": {},
   "outputs": [
    {
     "name": "stdout",
     "output_type": "stream",
     "text": [
      "['1301264245429832309\\t-24.850304\\t-6.238494\\t-5.021427\\t1.884690\\t-0.588885\\t-1.803423\\t-0.080543', '1301264245431820767\\t-24.850449\\t-6.239356\\t-5.021529\\t1.884707\\t-0.588905\\t-1.803410\\t-0.080544', '']\n"
     ]
    }
   ],
   "source": [
    "f = open('FileReadWrite.txt', 'r')\n",
    "lines = f.read().split('\\n')\n",
    "print(lines)"
   ]
  },
  {
   "cell_type": "code",
   "execution_count": 7,
   "metadata": {},
   "outputs": [
    {
     "name": "stdout",
     "output_type": "stream",
     "text": [
      "[['-24.850304', '-6.238494', '-5.021427', '1.884690', '-0.588885', '-1.803423', '-0.080543'], ['-24.850449', '-6.239356', '-5.021529', '1.884707', '-0.588905', '-1.803410', '-0.080544']]\n"
     ]
    }
   ],
   "source": [
    "torque_data = []\n",
    "\n",
    "with open('FileReadWrite.txt', 'r') as f:\n",
    "    lines = f.read().split('\\n')\n",
    "    for line in lines[0:-1]:\n",
    "        line = line.split('\\t')\n",
    "        #torque_data.append(line)\n",
    "        torque_data.append(line[1:]) #Remove time\n",
    "\n",
    "print(torque_data)"
   ]
  },
  {
   "cell_type": "code",
   "execution_count": 4,
   "metadata": {},
   "outputs": [],
   "source": [
    "\n",
    "with open('FileReadWrite2.txt', 'w') as file:\n",
    "    file.write('whatever')\n",
    "\n",
    "file = open('FileReadWrite2.txt', 'a') # append to the file created\n",
    "file.write(\"\\nHi\")\n",
    "file.close()"
   ]
  },
  {
   "cell_type": "markdown",
   "metadata": {},
   "source": [
    "## Remove Comments from a code"
   ]
  },
  {
   "cell_type": "code",
   "execution_count": null,
   "metadata": {},
   "outputs": [],
   "source": [
    "comment_char = '%'\n",
    "\n",
    "new_filename = 'frontiers_NEW.tex'\n",
    "\n",
    "with open(new_filename, 'w') as file:\n",
    "    file.write('')\n",
    "    \n",
    "with open('frontiers.tex', 'r') as f:\n",
    "    lines = f.read().split('\\n')\n",
    "    for line in lines:\n",
    "        #print(line)\n",
    "        f_new = open(new_filename, 'a')\n",
    "        if not line.startswith(comment_char):\n",
    "            f_new.write(line+'\\n')\n",
    "        f_new.close()"
   ]
  },
  {
   "cell_type": "markdown",
   "metadata": {},
   "source": [
    "# pickle"
   ]
  },
  {
   "cell_type": "code",
   "execution_count": 1,
   "metadata": {},
   "outputs": [],
   "source": [
    "import pickle"
   ]
  },
  {
   "cell_type": "code",
   "execution_count": 3,
   "metadata": {},
   "outputs": [],
   "source": [
    "\"\"\"\n",
    "Use Python 3 for smaller binary file size\n",
    "Use `protocol=4` to avoid: OverflowError: cannot serialize a bytes object larger than 4 GiB\n",
    "\n",
    "Error: PicklingError: Can't pickle <class '__main__.Transition'>: attribute lookup Transition on __main__ failed\n",
    "pip install dill\n",
    "Replace pickle with dill\n",
    "\"\"\"\n",
    "\n",
    "my_data = [1, 2, 3]\n",
    "my_data2 = [4, 5, 6]\n",
    "\n",
    "db_file_name = \"files/pickle_data.bin\"\n",
    "\n",
    "output_file = open(db_file_name, \"wb\")\n",
    "\n",
    "pickle.dump(my_data, output_file)\n",
    "pickle.dump(my_data2, output_file)\n",
    "\n",
    "output_file.close()"
   ]
  },
  {
   "cell_type": "code",
   "execution_count": 4,
   "metadata": {},
   "outputs": [],
   "source": [
    "\"\"\"\n",
    "Works on Python 3\n",
    "Now the original objects can be retrieved (\"loaded\") from _.bin in the same order as they were written (\"dumped\") into it\n",
    "\"\"\"\n",
    "\n",
    "bin_file = open(db_file_name, \"rb\")\n",
    "\n",
    "my_data = pickle.load(bin_file)\n",
    "my_data2 = pickle.load(bin_file)\n",
    "\n",
    "bin_file.close()"
   ]
  },
  {
   "cell_type": "code",
   "execution_count": 5,
   "metadata": {},
   "outputs": [
    {
     "name": "stdout",
     "output_type": "stream",
     "text": [
      "[1, 2, 3] [4, 5, 6]\n"
     ]
    }
   ],
   "source": [
    "print(my_data, my_data2)"
   ]
  },
  {
   "cell_type": "code",
   "execution_count": null,
   "metadata": {},
   "outputs": [],
   "source": []
  }
 ],
 "metadata": {
  "anaconda-cloud": {},
  "kernelspec": {
   "display_name": "Python 3",
   "language": "python",
   "name": "python3"
  },
  "language_info": {
   "codemirror_mode": {
    "name": "ipython",
    "version": 3
   },
   "file_extension": ".py",
   "mimetype": "text/x-python",
   "name": "python",
   "nbconvert_exporter": "python",
   "pygments_lexer": "ipython3",
   "version": "3.7.9"
  }
 },
 "nbformat": 4,
 "nbformat_minor": 1
}
