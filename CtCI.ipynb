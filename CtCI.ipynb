{
 "cells": [
  {
   "cell_type": "code",
   "execution_count": 1,
   "metadata": {},
   "outputs": [],
   "source": [
    "import time\n",
    "\n",
    "\"\"\"\n",
    "https://www.w3resource.com/python-exercises/python-basic-exercise-65.php\n",
    "\"\"\"\n",
    "\n",
    "def time_taken(start, end):\n",
    "    \"\"\"Human readable time between `start` and `end`\n",
    "\n",
    "    :param start: time.time()\n",
    "    :param end: time.time()\n",
    "    :returns: day:hour:minute:second.millisecond\n",
    "    \"\"\"\n",
    "    my_time = end-start\n",
    "    day = my_time // (24 * 3600)\n",
    "    my_time = my_time % (24 * 3600)\n",
    "    hour = my_time // 3600\n",
    "    my_time %= 3600\n",
    "    minutes = my_time // 60\n",
    "    my_time %= 60\n",
    "    seconds = my_time\n",
    "    milliseconds = ((end - start)-int(end - start))\n",
    "    day_hour_min_sec = str('%02d' % int(day))+\":\"+str('%02d' % int(hour))+\":\"+str('%02d' % int(minutes))+\":\"+str('%02d' % int(seconds)+\".\"+str('%.3f' % milliseconds)[2:])\n",
    "    \n",
    "    return day_hour_min_sec"
   ]
  },
  {
   "cell_type": "markdown",
   "metadata": {},
   "source": [
    "# VIII Technical Questions\n",
    "## Page 68\n",
    "\n",
    "Print all possible interger solutions to a^3 + b^3 = c^3 + d^3, where a, b, c, d are integer between 1 and 1000"
   ]
  },
  {
   "cell_type": "code",
   "execution_count": 2,
   "metadata": {},
   "outputs": [
    {
     "name": "stdout",
     "output_type": "stream",
     "text": [
      "('No of solutions: ', 5046)\n",
      "('day, hour, minute, second.millisecond->', '00:00:00:01.496')\n"
     ]
    }
   ],
   "source": [
    "start_time = time.time()\n",
    "\n",
    "n = 50\n",
    "count = 0\n",
    "for a in range(n):\n",
    "    for b in range(n):\n",
    "        for c in range(n):\n",
    "            for d in range(n):\n",
    "                if a**3+b**3 == c**3+d**3:\n",
    "                    #print(a, b, c, d)\n",
    "                    count += 1\n",
    "\n",
    "print(\"No of solutions: \", count)\n",
    "print(\"day, hour, minute, second.millisecond->\", time_taken(start_time, time.time()))"
   ]
  },
  {
   "cell_type": "code",
   "execution_count": 3,
   "metadata": {},
   "outputs": [
    {
     "name": "stdout",
     "output_type": "stream",
     "text": [
      "('No of solutions: ', 5046)\n",
      "('day, hour, minute, second.millisecond->', '00:00:00:01.452')\n"
     ]
    }
   ],
   "source": [
    "start_time = time.time()\n",
    "\n",
    "n = 50\n",
    "count = 0\n",
    "for a in range(n):\n",
    "    for b in range(n):\n",
    "        for c in range(n):\n",
    "            for d in range(n):\n",
    "                if a**3+b**3 == c**3+d**3:\n",
    "                    #print(a, b, c, d)\n",
    "                    count += 1\n",
    "                    break\n",
    "\n",
    "print(\"No of solutions: \", count)\n",
    "print(\"day, hour, minute, second.millisecond->\", time_taken(start_time, time.time()))"
   ]
  },
  {
   "cell_type": "code",
   "execution_count": 4,
   "metadata": {},
   "outputs": [
    {
     "name": "stdout",
     "output_type": "stream",
     "text": [
      "('No of solutions: ', 207)\n",
      "('day, hour, minute, second.millisecond->', '00:00:00:00.307')\n"
     ]
    }
   ],
   "source": [
    "start_time = time.time()\n",
    "\n",
    "n = 50\n",
    "count = 0\n",
    "for a in range(n):\n",
    "    for b in range(n):\n",
    "        for c in range(n):\n",
    "            d = ((a**3+b**3)-c**3) ** 1/3\n",
    "            if a**3+b**3 == c**3+d**3:\n",
    "                #print(a, b, c, d)\n",
    "                count += 1\n",
    "\n",
    "print(\"No of solutions: \", count)\n",
    "print(\"day, hour, minute, second.millisecond->\", time_taken(start_time, time.time()))"
   ]
  },
  {
   "cell_type": "code",
   "execution_count": 5,
   "metadata": {},
   "outputs": [
    {
     "name": "stdout",
     "output_type": "stream",
     "text": [
      "('No of solutions: ', 5046)\n",
      "('day, hour, minute, second.millisecond->', '00:00:00:00.006')\n"
     ]
    }
   ],
   "source": [
    "start_time = time.time()\n",
    "\n",
    "n = 50\n",
    "count = 0\n",
    "result_dict = {}\n",
    "\n",
    "for c in range(n):\n",
    "    for d in range(n):\n",
    "        result = c**3+d**3\n",
    "        if result in result_dict:\n",
    "            result_dict[result].append((c, d))\n",
    "        else:\n",
    "            result_dict[result] = []\n",
    "            result_dict[result].append((c, d))\n",
    "\n",
    "for a in range(n):\n",
    "    for b in range(n):\n",
    "        result = a**3+b**3\n",
    "        pair_list = result_dict[result]\n",
    "        for a_pair in pair_list:\n",
    "            #print(a, b, a_pair)\n",
    "            count += 1\n",
    "\n",
    "print(\"No of solutions: \", count)\n",
    "print(\"day, hour, minute, second.millisecond->\", time_taken(start_time, time.time()))"
   ]
  },
  {
   "cell_type": "code",
   "execution_count": 6,
   "metadata": {
    "scrolled": true
   },
   "outputs": [
    {
     "name": "stdout",
     "output_type": "stream",
     "text": [
      "('No of solutions: ', 5046)\n",
      "('day, hour, minute, second.millisecond->', '00:00:00:00.012')\n"
     ]
    }
   ],
   "source": [
    "start_time = time.time()\n",
    "\n",
    "n = 50\n",
    "count = 0\n",
    "result_dict = {}\n",
    "\n",
    "for c in range(n):\n",
    "    for d in range(n):\n",
    "        result = c**3+d**3\n",
    "        if result in result_dict:\n",
    "            result_dict[result].append((c, d))\n",
    "        else:\n",
    "            result_dict[result] = []\n",
    "            result_dict[result].append((c, d))\n",
    "\n",
    "for a_result in result_dict.itervalues():\n",
    "    for pair1 in a_result:\n",
    "        for pair2 in a_result:\n",
    "            #print(pair1, pair2)\n",
    "            count += 1\n",
    "\n",
    "print(\"No of solutions: \", count)\n",
    "print(\"day, hour, minute, second.millisecond->\", time_taken(start_time, time.time()))"
   ]
  },
  {
   "cell_type": "raw",
   "metadata": {},
   "source": [
    "('No of solutions: ', 5046)\n",
    "('day, hour, minute, second.millisecond->', '00:00:00:02.811')\n",
    "\n",
    "with break\n",
    "('No of solutions: ', 5046)\n",
    "('day, hour, minute, second.millisecond->', '00:00:00:02.723')\n",
    "\n",
    "d = ((a**3+b**3)-c**3) ** 1/3\n",
    "('No of solutions: ', 207)\n",
    "('day, hour, minute, second.millisecond->', '00:00:00:00.283')\n",
    "\n",
    "hash table\n",
    "('No of solutions: ', 5046)\n",
    "('day, hour, minute, second.millisecond->', '00:00:00:00.552')\n",
    "\n",
    "hash table2\n",
    "('No of solutions: ', 5046)\n",
    "('day, hour, minute, second.millisecond->', '00:00:00:00.566')\n",
    "\n",
    "=====\n",
    "\n",
    "('No of solutions: ', 5046)\n",
    "('day, hour, minute, second.millisecond->', '00:00:00:01.483')\n",
    "\n",
    "with break\n",
    "('No of solutions: ', 5046)\n",
    "('day, hour, minute, second.millisecond->', '00:00:00:01.863')\n",
    "\n",
    "d = ((a**3+b**3)-c**3) ** 1/3\n",
    "('No of solutions: ', 207)\n",
    "('day, hour, minute, second.millisecond->', '00:00:00:00.274')\n",
    "\n",
    "hash table\n",
    "('No of solutions: ', 5046)\n",
    "('day, hour, minute, second.millisecond->', '00:00:00:00.012')\n",
    "\n",
    "hash table2\n",
    "('No of solutions: ', 5046)\n",
    "('day, hour, minute, second.millisecond->', '00:00:00:00.005')"
   ]
  },
  {
   "cell_type": "markdown",
   "metadata": {},
   "source": [
    "## Page 70\n",
    "\n",
    "Example: Given a smaller string s and a bigger string b, design an algorithm to find all permutations of the shorter string within the longer one. Print the location of each permutation."
   ]
  },
  {
   "cell_type": "code",
   "execution_count": 7,
   "metadata": {},
   "outputs": [],
   "source": [
    "s = \"abca\"\n",
    "b = \"ssabcahbknjabcabcacbaakjnkjabcalkmlkmnabcajkabcan\""
   ]
  },
  {
   "cell_type": "code",
   "execution_count": 8,
   "metadata": {},
   "outputs": [],
   "source": [
    "s = \"abbc\"\n",
    "b = \"cbabadcbbabbcbabaabccbabc\""
   ]
  },
  {
   "cell_type": "code",
   "execution_count": 9,
   "metadata": {},
   "outputs": [
    {
     "name": "stdout",
     "output_type": "stream",
     "text": [
      "['abbc', 'abcb', 'abbc', 'abcb', 'acbb', 'acbb', 'babc', 'bacb', 'bbac', 'bbca', 'bcab', 'bcba', 'babc', 'bacb', 'bbac', 'bbca', 'bcab', 'bcba', 'cabb', 'cabb', 'cbab', 'cbba', 'cbab', 'cbba']\n"
     ]
    }
   ],
   "source": [
    "from itertools import permutations\n",
    "perms = [''.join(p) for p in permutations(s)]\n",
    "print(perms)"
   ]
  },
  {
   "cell_type": "code",
   "execution_count": 10,
   "metadata": {},
   "outputs": [
    {
     "name": "stdout",
     "output_type": "stream",
     "text": [
      "('Location: ', 0, 'cbab')\n",
      "('Location: ', 6, 'cbba')\n",
      "('Location: ', 9, 'abbc')\n",
      "('Location: ', 11, 'bcba')\n",
      "('Location: ', 12, 'cbab')\n",
      "('Location: ', 20, 'cbab')\n",
      "('Location: ', 21, 'babc')\n"
     ]
    }
   ],
   "source": [
    "\n",
    "for i in range(len(b)):\n",
    "    if b[i] in s:\n",
    "        if b[i:i+len(s)] in perms:\n",
    "            print(\"Location: \", i, b[i:i+len(s)])"
   ]
  },
  {
   "cell_type": "code",
   "execution_count": null,
   "metadata": {},
   "outputs": [],
   "source": []
  },
  {
   "cell_type": "code",
   "execution_count": null,
   "metadata": {},
   "outputs": [],
   "source": []
  }
 ],
 "metadata": {
  "anaconda-cloud": {},
  "kernelspec": {
   "display_name": "Python 3",
   "language": "python",
   "name": "python3"
  },
  "language_info": {
   "codemirror_mode": {
    "name": "ipython",
    "version": 3
   },
   "file_extension": ".py",
   "mimetype": "text/x-python",
   "name": "python",
   "nbconvert_exporter": "python",
   "pygments_lexer": "ipython3",
   "version": "3.6.5"
  }
 },
 "nbformat": 4,
 "nbformat_minor": 1
}
