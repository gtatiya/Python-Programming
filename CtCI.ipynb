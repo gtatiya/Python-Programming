{
 "cells": [
  {
   "cell_type": "code",
   "execution_count": 1,
   "metadata": {},
   "outputs": [],
   "source": [
    "import time\n",
    "\n",
    "import numpy as np"
   ]
  },
  {
   "cell_type": "code",
   "execution_count": 2,
   "metadata": {},
   "outputs": [],
   "source": [
    "\n",
    "\"\"\"\n",
    "https://www.w3resource.com/python-exercises/python-basic-exercise-65.php\n",
    "\"\"\"\n",
    "\n",
    "def time_taken(start, end):\n",
    "    \"\"\"Human readable time between `start` and `end`\n",
    "\n",
    "    :param start: time.time()\n",
    "    :param end: time.time()\n",
    "    :returns: day:hour:minute:second.millisecond\n",
    "    \"\"\"\n",
    "    my_time = end-start\n",
    "    day = my_time // (24 * 3600)\n",
    "    my_time = my_time % (24 * 3600)\n",
    "    hour = my_time // 3600\n",
    "    my_time %= 3600\n",
    "    minutes = my_time // 60\n",
    "    my_time %= 60\n",
    "    seconds = my_time\n",
    "    milliseconds = ((end - start)-int(end - start))\n",
    "    day_hour_min_sec = str('%02d' % int(day))+\":\"+str('%02d' % int(hour))+\":\"+str('%02d' % int(minutes))+\":\"+str('%02d' % int(seconds)+\".\"+str('%.3f' % milliseconds)[2:])\n",
    "    \n",
    "    return day_hour_min_sec"
   ]
  },
  {
   "cell_type": "markdown",
   "metadata": {},
   "source": [
    "# VIII Technical Questions\n",
    "## Page 68\n",
    "\n",
    "Print all possible interger solutions to a^3 + b^3 = c^3 + d^3, where a, b, c, d are integer between 1 and 1000"
   ]
  },
  {
   "cell_type": "code",
   "execution_count": 3,
   "metadata": {},
   "outputs": [
    {
     "name": "stdout",
     "output_type": "stream",
     "text": [
      "No of solutions:  5046\n",
      "day, hour, minute, second.millisecond-> 00:00:00:15.909\n"
     ]
    }
   ],
   "source": [
    "start_time = time.time()\n",
    "\n",
    "n = 50\n",
    "count = 0\n",
    "for a in range(n):\n",
    "    for b in range(n):\n",
    "        for c in range(n):\n",
    "            for d in range(n):\n",
    "                if a**3+b**3 == c**3+d**3:\n",
    "                    #print(a, b, c, d)\n",
    "                    count += 1\n",
    "\n",
    "print(\"No of solutions: \", count)\n",
    "print(\"day, hour, minute, second.millisecond->\", time_taken(start_time, time.time()))"
   ]
  },
  {
   "cell_type": "code",
   "execution_count": 4,
   "metadata": {},
   "outputs": [
    {
     "name": "stdout",
     "output_type": "stream",
     "text": [
      "No of solutions:  5046\n",
      "day, hour, minute, second.millisecond-> 00:00:00:13.207\n"
     ]
    }
   ],
   "source": [
    "start_time = time.time()\n",
    "\n",
    "n = 50\n",
    "count = 0\n",
    "for a in range(n):\n",
    "    for b in range(n):\n",
    "        for c in range(n):\n",
    "            for d in range(n):\n",
    "                if a**3+b**3 == c**3+d**3:\n",
    "                    #print(a, b, c, d)\n",
    "                    count += 1\n",
    "                    break\n",
    "\n",
    "print(\"No of solutions: \", count)\n",
    "print(\"day, hour, minute, second.millisecond->\", time_taken(start_time, time.time()))"
   ]
  },
  {
   "cell_type": "code",
   "execution_count": 5,
   "metadata": {},
   "outputs": [
    {
     "name": "stdout",
     "output_type": "stream",
     "text": [
      "No of solutions:  209\n",
      "day, hour, minute, second.millisecond-> 00:00:00:00.578\n"
     ]
    }
   ],
   "source": [
    "start_time = time.time()\n",
    "\n",
    "n = 50\n",
    "count = 0\n",
    "for a in range(n):\n",
    "    for b in range(n):\n",
    "        for c in range(n):\n",
    "            d = ((a**3+b**3)-c**3) ** 1/3\n",
    "            d = int(d)\n",
    "            if a**3+b**3 == c**3+d**3:\n",
    "                #print(a, b, c, d)\n",
    "                count += 1\n",
    "\n",
    "print(\"No of solutions: \", count)\n",
    "print(\"day, hour, minute, second.millisecond->\", time_taken(start_time, time.time()))"
   ]
  },
  {
   "cell_type": "code",
   "execution_count": 6,
   "metadata": {},
   "outputs": [
    {
     "name": "stdout",
     "output_type": "stream",
     "text": [
      "No of solutions:  5046\n",
      "day, hour, minute, second.millisecond-> 00:00:00:00.009\n"
     ]
    }
   ],
   "source": [
    "start_time = time.time()\n",
    "\n",
    "n = 50\n",
    "count = 0\n",
    "result_dict = {}\n",
    "\n",
    "for c in range(n):\n",
    "    for d in range(n):\n",
    "        result = c**3+d**3\n",
    "        if result in result_dict:\n",
    "            result_dict[result].append((c, d))\n",
    "        else:\n",
    "            result_dict[result] = []\n",
    "            result_dict[result].append((c, d))\n",
    "\n",
    "for a in range(n):\n",
    "    for b in range(n):\n",
    "        result = a**3+b**3\n",
    "        pair_list = result_dict[result]\n",
    "        for a_pair in pair_list:\n",
    "#             print(a, b, a_pair)\n",
    "            count += 1\n",
    "\n",
    "print(\"No of solutions: \", count)\n",
    "print(\"day, hour, minute, second.millisecond->\", time_taken(start_time, time.time()))"
   ]
  },
  {
   "cell_type": "code",
   "execution_count": 7,
   "metadata": {
    "scrolled": true
   },
   "outputs": [
    {
     "name": "stdout",
     "output_type": "stream",
     "text": [
      "No of solutions:  5046\n",
      "day, hour, minute, second.millisecond-> 00:00:00:00.006\n"
     ]
    }
   ],
   "source": [
    "start_time = time.time()\n",
    "\n",
    "n = 50\n",
    "count = 0\n",
    "result_dict = {}\n",
    "\n",
    "for c in range(n):\n",
    "    for d in range(n):\n",
    "        result = c**3+d**3\n",
    "        if result in result_dict:\n",
    "            result_dict[result].append((c, d))\n",
    "        else:\n",
    "            result_dict[result] = []\n",
    "            result_dict[result].append((c, d))\n",
    "\n",
    "for a_result in result_dict.values():\n",
    "    for pair1 in a_result:\n",
    "        for pair2 in a_result:\n",
    "#             print(a_result, pair1, pair2)\n",
    "            count += 1\n",
    "\n",
    "print(\"No of solutions: \", count)\n",
    "print(\"day, hour, minute, second.millisecond->\", time_taken(start_time, time.time()))"
   ]
  },
  {
   "cell_type": "raw",
   "metadata": {},
   "source": [
    "('No of solutions: ', 5046)\n",
    "('day, hour, minute, second.millisecond->', '00:00:00:02.811')\n",
    "\n",
    "with break\n",
    "('No of solutions: ', 5046)\n",
    "('day, hour, minute, second.millisecond->', '00:00:00:02.723')\n",
    "\n",
    "d = ((a**3+b**3)-c**3) ** 1/3\n",
    "('No of solutions: ', 207)\n",
    "('day, hour, minute, second.millisecond->', '00:00:00:00.283')\n",
    "\n",
    "hash table\n",
    "('No of solutions: ', 5046)\n",
    "('day, hour, minute, second.millisecond->', '00:00:00:00.552')\n",
    "\n",
    "hash table2\n",
    "('No of solutions: ', 5046)\n",
    "('day, hour, minute, second.millisecond->', '00:00:00:00.566')\n",
    "\n",
    "=====\n",
    "\n",
    "('No of solutions: ', 5046)\n",
    "('day, hour, minute, second.millisecond->', '00:00:00:01.483')\n",
    "\n",
    "with break\n",
    "('No of solutions: ', 5046)\n",
    "('day, hour, minute, second.millisecond->', '00:00:00:01.863')\n",
    "\n",
    "d = ((a**3+b**3)-c**3) ** 1/3\n",
    "('No of solutions: ', 207)\n",
    "('day, hour, minute, second.millisecond->', '00:00:00:00.274')\n",
    "\n",
    "hash table\n",
    "('No of solutions: ', 5046)\n",
    "('day, hour, minute, second.millisecond->', '00:00:00:00.012')\n",
    "\n",
    "hash table2\n",
    "('No of solutions: ', 5046)\n",
    "('day, hour, minute, second.millisecond->', '00:00:00:00.005')"
   ]
  },
  {
   "cell_type": "markdown",
   "metadata": {},
   "source": [
    "## Page 70\n",
    "\n",
    "Example: Given a smaller string s and a bigger string b, design an algorithm to find all permutations of the shorter string within the longer one. Print the location of each permutation."
   ]
  },
  {
   "cell_type": "code",
   "execution_count": 8,
   "metadata": {},
   "outputs": [],
   "source": [
    "s = \"abca\"\n",
    "b = \"ssabcahbknjabcabcacbaakjnkjabcalkmlkmnabcajkabcan\""
   ]
  },
  {
   "cell_type": "code",
   "execution_count": 9,
   "metadata": {},
   "outputs": [],
   "source": [
    "s = \"abbc\"\n",
    "b = \"cbabadcbbabbcbabaabccbabc\""
   ]
  },
  {
   "cell_type": "code",
   "execution_count": 10,
   "metadata": {},
   "outputs": [
    {
     "name": "stdout",
     "output_type": "stream",
     "text": [
      "['abbc', 'abcb', 'abbc', 'abcb', 'acbb', 'acbb', 'babc', 'bacb', 'bbac', 'bbca', 'bcab', 'bcba', 'babc', 'bacb', 'bbac', 'bbca', 'bcab', 'bcba', 'cabb', 'cabb', 'cbab', 'cbba', 'cbab', 'cbba']\n"
     ]
    }
   ],
   "source": [
    "from itertools import permutations\n",
    "perms = [''.join(p) for p in permutations(s)]\n",
    "print(perms)"
   ]
  },
  {
   "cell_type": "code",
   "execution_count": 11,
   "metadata": {},
   "outputs": [
    {
     "name": "stdout",
     "output_type": "stream",
     "text": [
      "Location:  0 cbab\n",
      "Location:  6 cbba\n",
      "Location:  9 abbc\n",
      "Location:  11 bcba\n",
      "Location:  12 cbab\n",
      "Location:  20 cbab\n",
      "Location:  21 babc\n"
     ]
    }
   ],
   "source": [
    "\n",
    "for i in range(len(b)):\n",
    "    if b[i] in s:\n",
    "        if b[i:i+len(s)] in perms:\n",
    "            print(\"Location: \", i, b[i:i+len(s)])"
   ]
  },
  {
   "cell_type": "markdown",
   "metadata": {},
   "source": [
    "# 1 Arrays and Strings\n",
    "## Interview Questions, Page: 90"
   ]
  },
  {
   "cell_type": "code",
   "execution_count": 12,
   "metadata": {},
   "outputs": [
    {
     "name": "stdout",
     "output_type": "stream",
     "text": [
      "True\n",
      "False\n"
     ]
    }
   ],
   "source": [
    "\"\"\"\n",
    "Q1.1\n",
    "Is Unique: Implement an algorithm to determine if a string has all unique characters.\n",
    "What if you cannot use additional data structures?\n",
    "\"\"\"\n",
    "\n",
    "def isUniqueChar(my_str):\n",
    "    \n",
    "    if len(my_str) > 128:\n",
    "        return False\n",
    "    \n",
    "    char_set = [False for i in range(128)]\n",
    "    for i in range(len(my_str)):\n",
    "        a_char_index = ord(my_str[i]) # ** ord: https://docs.python.org/3/library/functions.html#ord\n",
    "        if char_set[a_char_index]:\n",
    "            return False\n",
    "        char_set[a_char_index] = True\n",
    "\n",
    "    return True\n",
    "\n",
    "my_str = \"abcdefg\"\n",
    "print(isUniqueChar(my_str))\n",
    "\n",
    "my_str = \"abcdefgzz\"\n",
    "print(isUniqueChar(my_str))"
   ]
  },
  {
   "cell_type": "code",
   "execution_count": 13,
   "metadata": {},
   "outputs": [
    {
     "name": "stdout",
     "output_type": "stream",
     "text": [
      "True\n",
      "False\n",
      "day, hour, minute, second.millisecond-> 00:00:00:00.003\n",
      "True\n",
      "False\n",
      "day, hour, minute, second.millisecond-> 00:00:00:00.001\n"
     ]
    }
   ],
   "source": [
    "\"\"\"\n",
    "Q1.2\n",
    "Check Permutation: Given two strings, write a method to decide if one is a permutation of the other.\n",
    "\"\"\"\n",
    "\n",
    "def permutation(str1, str2):\n",
    "    \n",
    "    if (len(str1) == len(str2)) and (sorted(str1) == sorted(str2)):\n",
    "        return True\n",
    "    else:\n",
    "        return False\n",
    "\n",
    "def permutation_v2(str1, str2):\n",
    "    \n",
    "    if (len(str1) != len(str2)):\n",
    "        return False\n",
    "    \n",
    "    letters = [0 for i in range(128)]\n",
    "    for i in range(len(str1)):\n",
    "        index = ord(str1[i]) # ** ord: https://docs.python.org/3/library/functions.html#ord\n",
    "        letters[index] += 1\n",
    "\n",
    "    for i in range(len(str2)):\n",
    "        index = ord(str2[i]) # ** ord: https://docs.python.org/3/library/functions.html#ord\n",
    "        letters[index] -= 1\n",
    "        if letters[index] < 0:\n",
    "            return False\n",
    "    return True\n",
    "\n",
    "start_time = time.time()\n",
    "str1 = \"abcd\"\n",
    "str2 = \"acdb\"\n",
    "print(permutation(str1, str2))\n",
    "str1 = \"abcd\"\n",
    "str2 = \"accb\"\n",
    "print(permutation(str1, str2))\n",
    "print(\"day, hour, minute, second.millisecond->\", time_taken(start_time, time.time()))\n",
    "\n",
    "start_time = time.time()\n",
    "str1 = \"abcd\"\n",
    "str2 = \"acdb\"\n",
    "print(permutation_v2(str1, str2))\n",
    "str1 = \"abcd\"\n",
    "str2 = \"accb\"\n",
    "print(permutation_v2(str1, str2))\n",
    "print(\"day, hour, minute, second.millisecond->\", time_taken(start_time, time.time()))"
   ]
  },
  {
   "cell_type": "code",
   "execution_count": 14,
   "metadata": {},
   "outputs": [
    {
     "name": "stdout",
     "output_type": "stream",
     "text": [
      "{'0': 2, '2': 2, '9': 3, '1': 1}\n",
      "Not Palin.\n"
     ]
    }
   ],
   "source": [
    "\"\"\"\n",
    "Q 1.4\n",
    "Palindrome Permutation: Given a string, write a function to check if it is a permutation of a palindrome.\n",
    "A palindrome is a word or phrase that is the same forwards and backwards.\n",
    "A permutation is a rearrangement of letters. The palindrome does not need to be limited to just dictionary words.\n",
    "EXAMPLE\n",
    "Input: Tact Coa\n",
    "Output: True (permutations:\"taco cat'; \"atco cta'; etc.)\n",
    "\"\"\"\n",
    "\n",
    "\"\"\"\n",
    "We need to have an even number of almost all characters, so that half can be on one side and half can be on the other side.\n",
    "At most one character (the middle character) can have an odd count.\n",
    "\n",
    "To be a permutation of a palindrome, a string can have no more than one character that is odd.\n",
    "\"\"\"\n",
    "\n",
    "my_str = \"tact coa\"\n",
    "# my_str = \"tactcoapapa\"\n",
    "my_str = \"02091992\"\n",
    "\n",
    "char_count_dict = {}\n",
    "for a_char in my_str.lower():\n",
    "    char_count_dict.setdefault(a_char, 0)\n",
    "    char_count_dict[a_char] += 1\n",
    "\n",
    "print(char_count_dict)\n",
    "\n",
    "odd_counter = 0\n",
    "for a_char in char_count_dict:\n",
    "    if a_char == ' ':\n",
    "        continue\n",
    "    if (char_count_dict[a_char] % 2) == 1:\n",
    "        odd_counter += 1\n",
    "    if odd_counter == 2:\n",
    "        print(\"Not Palin.\")\n",
    "        break\n",
    "\n",
    "if odd_counter < 2:\n",
    "    print(\"Palin\")"
   ]
  },
  {
   "cell_type": "code",
   "execution_count": 15,
   "metadata": {},
   "outputs": [
    {
     "name": "stdout",
     "output_type": "stream",
     "text": [
      "{'p': 1, 'a': 1, 'l': 1, 'e': 1} {'p': 1, 'l': 1, 'e': 1}\n",
      "True\n",
      "{'p': 1, 'a': 1, 'l': 1, 'e': 1, 's': 1} {'p': 1, 'a': 1, 'l': 1, 'e': 1}\n",
      "True\n",
      "{'p': 1, 'a': 1, 'l': 1, 'e': 1} {'b': 1, 'a': 1, 'l': 1, 'e': 1}\n",
      "True\n",
      "{'p': 1, 'a': 1, 'l': 1, 'e': 1} {'b': 1, 'a': 1, 'k': 1, 'e': 1}\n",
      "False\n",
      "{'p': 1, 'a': 1, 'l': 1, 'e': 1} {'b': 1, 'a': 1, 'e': 1}\n",
      "False\n",
      "{'a': 1, 'p': 2, 'l': 1, 'e': 1} {'a': 1, 'p': 1, 'l': 1, 'e': 1}\n",
      "True\n"
     ]
    }
   ],
   "source": [
    "\"\"\"\n",
    "Q 1.5\n",
    "One Away: There are three types of edits that can be performed on strings:\n",
    "insert a character, remove a character, or replace a character.\n",
    "Given two strings, write a function to check if they are one edit (or zero edits) away.\n",
    "EXAMPLE\n",
    "pale, pIe -> true\n",
    "pales. pale -> true\n",
    "pale. bale -> true\n",
    "pale. bake -> false\n",
    "\"\"\"\n",
    "\n",
    "def count_char_in_str(my_str):\n",
    "    char_count_dict = {}\n",
    "    for a_char in my_str.lower():\n",
    "        char_count_dict.setdefault(a_char, 0)\n",
    "        char_count_dict[a_char] += 1\n",
    "    return char_count_dict\n",
    "\n",
    "\n",
    "def check_edit(char_count_dict1, char_count_dict2):\n",
    "    \n",
    "    diff = abs(len(char_count_dict1) - len(char_count_dict2))\n",
    "    if diff > 1:\n",
    "        return False\n",
    "    \n",
    "    a_toggle = False\n",
    "    for a_char in char_count_dict1:\n",
    "        if a_char in char_count_dict2:\n",
    "            diff = abs(char_count_dict1[a_char] - char_count_dict2[a_char])\n",
    "            if diff > 1:\n",
    "                return False\n",
    "        else:\n",
    "            if char_count_dict1[a_char] > 0:   \n",
    "                if a_toggle:\n",
    "                    return False\n",
    "                a_toggle = True\n",
    "    return True\n",
    "\n",
    "\n",
    "str1_list = [\"pale\", \"pales\", \"pale\", \"pale\", \"pale\", \"apple\"]\n",
    "str2_list = [\"ple\", \"pale\", \"bale\", \"bake\", \"bae\", \"aple\"]\n",
    "\n",
    "for i in range(len(str1_list)):\n",
    "    char_count_dict1 = count_char_in_str(str1_list[i])\n",
    "    char_count_dict2 = count_char_in_str(str2_list[i])\n",
    "\n",
    "    print(char_count_dict1, char_count_dict2)\n",
    "\n",
    "    print(check_edit(char_count_dict1, char_count_dict2))"
   ]
  },
  {
   "cell_type": "code",
   "execution_count": 16,
   "metadata": {},
   "outputs": [
    {
     "name": "stdout",
     "output_type": "stream",
     "text": [
      "com_str: a2b1c5a3\n",
      "a2b1c5a3\n"
     ]
    }
   ],
   "source": [
    "\"\"\"\n",
    "Q 1.6\n",
    "String Compression: Implement a method to perform basic string compression using the counts of repeated characters.\n",
    "For example, the string aabcccccaaa would become a2blc5a3.\n",
    "If the \"compressed\"string would not become smaller than the original string, your method should return the original string.\n",
    "You can assume the string has only uppercase and lowercase letters (a - z).\n",
    "\"\"\"\n",
    "\n",
    "my_str = \"aabcccccaaa\"\n",
    "com_str = \"\"\n",
    "\n",
    "for i in range(len(my_str)):\n",
    "#     print(i, my_str[i])\n",
    "    if i == 0:\n",
    "        com_str += my_str[i]\n",
    "        count = 1\n",
    "    else:\n",
    "        if com_str[-1] == my_str[i]:\n",
    "            count += 1\n",
    "            if i == len(my_str)-1:\n",
    "                com_str += str(count)\n",
    "        else:\n",
    "            com_str += str(count)\n",
    "            com_str += my_str[i]\n",
    "            count = 1\n",
    "\n",
    "print(\"com_str:\", com_str) # a2b1c5a3\n",
    "\n",
    "if len(com_str) < len(my_str):\n",
    "    print(com_str) # a2b1c5a3\n",
    "else:\n",
    "    print(my_str)"
   ]
  },
  {
   "cell_type": "code",
   "execution_count": 17,
   "metadata": {},
   "outputs": [
    {
     "name": "stdout",
     "output_type": "stream",
     "text": [
      "[[4 7 0 6 2 0]\n",
      " [7 6 8 8 9 9]\n",
      " [1 0 8 2 6 6]\n",
      " [6 6 5 8 4 2]\n",
      " [7 5 2 0 4 6]]\n",
      "[0, 0, 2, 4] [2, 5, 1, 3]\n",
      "[[0 0 0 0 0 0]\n",
      " [7 0 0 0 9 0]\n",
      " [0 0 0 0 0 0]\n",
      " [6 0 0 0 4 0]\n",
      " [0 0 0 0 0 0]]\n"
     ]
    }
   ],
   "source": [
    "\"\"\"\n",
    "Q 1.8\n",
    "Zero Matrix: Write an algorithm such that if an element in an MxN matrix is 0, its entire row and column are set to 0\n",
    "\"\"\"\n",
    "\n",
    "N, M = 5, 6\n",
    "matrix = np.random.randint(low=0, high=10, size=(N, M))\n",
    "print(matrix)\n",
    "\n",
    "zero_row = []\n",
    "zero_column = []\n",
    "for i in range(N):\n",
    "    if i in zero_row:\n",
    "        continue\n",
    "    for j in range(M):\n",
    "        if j in zero_column:\n",
    "            continue\n",
    "        if matrix[i][j] == 0:\n",
    "            zero_row.append(i)\n",
    "            zero_column.append(j)\n",
    "\n",
    "print(zero_row, zero_column)\n",
    "\n",
    "for i in zero_row:\n",
    "    for j in range(M):\n",
    "        matrix[i][j] = 0\n",
    "for j in zero_column:\n",
    "    for i in range(N):\n",
    "        matrix[i][j] = 0\n",
    "print(matrix)"
   ]
  },
  {
   "cell_type": "markdown",
   "metadata": {},
   "source": [
    "# XI Advanced Topics\n",
    "## Sum of lntegers 1 through N"
   ]
  },
  {
   "cell_type": "code",
   "execution_count": 18,
   "metadata": {},
   "outputs": [
    {
     "name": "stdout",
     "output_type": "stream",
     "text": [
      "1\n",
      "2\n",
      "3\n",
      "4\n",
      "\n",
      "3\n",
      "4\n",
      "5\n",
      "\n",
      "5\n",
      "6\n",
      "\n",
      "7\n",
      "\n",
      "\n"
     ]
    }
   ],
   "source": [
    "n = 5\n",
    "\n",
    "for i in range(n):\n",
    "    #print(\"i=\", i)\n",
    "    for j in range(i+1, n):\n",
    "        #print(\"j=\", j)\n",
    "        print(i+j)\n",
    "    print(\"\")"
   ]
  },
  {
   "cell_type": "code",
   "execution_count": null,
   "metadata": {},
   "outputs": [],
   "source": []
  }
 ],
 "metadata": {
  "anaconda-cloud": {},
  "kernelspec": {
   "display_name": "Python 3",
   "language": "python",
   "name": "python3"
  },
  "language_info": {
   "codemirror_mode": {
    "name": "ipython",
    "version": 3
   },
   "file_extension": ".py",
   "mimetype": "text/x-python",
   "name": "python",
   "nbconvert_exporter": "python",
   "pygments_lexer": "ipython3",
   "version": "3.7.6"
  }
 },
 "nbformat": 4,
 "nbformat_minor": 1
}
