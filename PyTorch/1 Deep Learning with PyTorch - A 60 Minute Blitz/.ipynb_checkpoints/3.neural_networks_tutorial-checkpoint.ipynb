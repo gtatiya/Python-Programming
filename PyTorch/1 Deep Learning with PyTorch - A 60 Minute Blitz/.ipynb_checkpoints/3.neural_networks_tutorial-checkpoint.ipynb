{
 "cells": [
  {
   "cell_type": "code",
   "execution_count": 1,
   "metadata": {
    "collapsed": true
   },
   "outputs": [],
   "source": [
    "%matplotlib inline"
   ]
  },
  {
   "cell_type": "markdown",
   "metadata": {},
   "source": [
    "http://pytorch.org/tutorials/beginner/blitz/neural_networks_tutorial.html\n",
    "\n",
    "Neural Networks\n",
    "===============\n",
    "\n",
    "Neural networks can be constructed using the ``torch.nn`` package.\n",
    "\n",
    "Now that you had a glimpse of ``autograd``, ``nn`` depends on\n",
    "``autograd`` to define models and differentiate them.\n",
    "An ``nn.Module`` contains layers, and a method ``forward(input)``\\ that\n",
    "returns the ``output``.\n",
    "\n",
    "For example, look at this network that classfies digit images:\n",
    "\n",
    "\n",
    "![convnet](mnist.png)\n",
    "\n",
    "   convnet\n",
    "\n",
    "It is a simple feed-forward network. It takes the input, feeds it\n",
    "through several layers one after the other, and then finally gives the\n",
    "output.\n",
    "\n",
    "A typical training procedure for a neural network is as follows:\n",
    "\n",
    "- Define the neural network that has some learnable parameters (or weights)\n",
    "- Iterate over a dataset of inputs\n",
    "- Process input through the network\n",
    "- Compute the loss (how far is the output from being correct)\n",
    "- Propagate gradients back into the network’s parameters\n",
    "- Update the weights of the network, typically using a simple update rule:\n",
    "  ``weight = weight - learning_rate * gradient``\n",
    "\n",
    "Define the network\n",
    "--------------------\n",
    "\n",
    "Let’s define this network:"
   ]
  },
  {
   "cell_type": "code",
   "execution_count": 2,
   "metadata": {},
   "outputs": [
    {
     "name": "stdout",
     "output_type": "stream",
     "text": [
      "16\n",
      "33\n",
      "(3, 5)\n",
      "(2, 1)\n",
      "(4, 2)\n",
      "(3, 1)\n",
      "1\n"
     ]
    }
   ],
   "source": [
    "import torch\n",
    "import torch.nn as nn\n",
    "from torch import autograd\n",
    "\n",
    "'''\n",
    "http://pytorch.org/docs/master/nn.html#torch.nn.Conv2d\n",
    "https://github.com/vdumoulin/conv_arithmetic/blob/master/README.md\n",
    "\n",
    "torch.nn.Conv2d(in_channels, out_channels, kernel_size, stride=1, padding=0, dilation=1, groups=1, bias=True)\n",
    "Applies a 2D convolution over an input signal composed of several input planes\n",
    "'''\n",
    "\n",
    "# With square kernels and equal stride\n",
    "m = nn.Conv2d(16, 33, 3, stride=2)\n",
    "# non-square kernels and unequal stride and with padding\n",
    "m = nn.Conv2d(16, 33, (3, 5), stride=(2, 1), padding=(4, 2))\n",
    "# non-square kernels and unequal stride and with padding and dilation\n",
    "m = nn.Conv2d(16, 33, (3, 5), stride=(2, 1), padding=(4, 2), dilation=(3, 1))\n",
    "input = autograd.Variable(torch.randn(20, 16, 50, 100))\n",
    "output = m(input)\n",
    "print(m.in_channels)\n",
    "print(m.out_channels)\n",
    "print(m.kernel_size)\n",
    "print(m.stride)\n",
    "print(m.padding)\n",
    "print(m.dilation)\n",
    "print(m.groups)\n",
    "# print(m.bias) # bias (bool, optional) – If True, adds a learnable bias to the output\n",
    "# print(output.size())\n",
    "# print(output)"
   ]
  },
  {
   "cell_type": "code",
   "execution_count": 3,
   "metadata": {},
   "outputs": [
    {
     "name": "stdout",
     "output_type": "stream",
     "text": [
      "torch.Size([128, 30])\n"
     ]
    }
   ],
   "source": [
    "'''\n",
    "http://pytorch.org/docs/master/_modules/torch/nn/modules/linear.html#Linear\n",
    "\n",
    "torch.nn.Linear(in_features, out_features, bias=True)\n",
    "Applies a linear transformation to the incoming data: y=Ax+b\n",
    "\n",
    "GT: notic that in_features (20) of m is same as columns (20) of input\n",
    "'''\n",
    "\n",
    "m = nn.Linear(20, 30)\n",
    "input = autograd.Variable(torch.randn(128, 20))\n",
    "output = m(input)\n",
    "print(output.size())"
   ]
  },
  {
   "cell_type": "code",
   "execution_count": 4,
   "metadata": {
    "collapsed": true
   },
   "outputs": [],
   "source": [
    "'''\n",
    "http://pytorch.org/docs/master/nn.html#torch.nn.MaxPool2d\n",
    "\n",
    "torch.nn.MaxPool2d(kernel_size, stride=None, padding=0, dilation=1, return_indices=False, ceil_mode=False)\n",
    "Applies a 2D max pooling over an input signal composed of several input planes.\n",
    "\n",
    "GT: in_channels, out_channels are not required\n",
    "'''\n",
    "\n",
    "# pool of square window of size=3, stride=2\n",
    "m = nn.MaxPool2d(3, stride=2)\n",
    "# pool of non-square window\n",
    "m = nn.MaxPool2d((3, 2), stride=(2, 1))\n",
    "input = autograd.Variable(torch.randn(20, 16, 50, 32))\n",
    "output = m(input)\n",
    "# print(output)"
   ]
  },
  {
   "cell_type": "code",
   "execution_count": 5,
   "metadata": {},
   "outputs": [
    {
     "name": "stdout",
     "output_type": "stream",
     "text": [
      "Variable containing:\n",
      " 1.9503\n",
      "-0.2527\n",
      "[torch.FloatTensor of size 2]\n",
      "\n",
      "Variable containing:\n",
      " 1.9503\n",
      " 0.0000\n",
      "[torch.FloatTensor of size 2]\n",
      "\n"
     ]
    }
   ],
   "source": [
    "'''\n",
    "http://pytorch.org/docs/master/nn.html#relu\n",
    "\n",
    "torch.nn.ReLU(inplace=False)\n",
    "Applies the rectified linear unit function element-wise ReLU(x)=max(0,x)\n",
    "\n",
    "GT: it returns 0 for a negative number\n",
    "'''\n",
    "\n",
    "m = nn.ReLU()\n",
    "input = autograd.Variable(torch.randn(2))\n",
    "print(input)\n",
    "print(m(input))"
   ]
  },
  {
   "cell_type": "code",
   "execution_count": 6,
   "metadata": {},
   "outputs": [
    {
     "name": "stdout",
     "output_type": "stream",
     "text": [
      "torch.Size([4, 4])\n",
      "torch.Size([16])\n",
      "torch.Size([2, 8])\n"
     ]
    }
   ],
   "source": [
    "'''\n",
    "http://pytorch.org/docs/master/tensors.html?highlight=view#torch.Tensor.view\n",
    "\n",
    "view(*args) → Tensor\n",
    "Returns a new tensor with the same data but different size.\n",
    "'''\n",
    "\n",
    "x = torch.randn(4, 4)\n",
    "print(x.size())\n",
    "y = x.view(16)\n",
    "print(y.size())\n",
    "z = x.view(-1, 8)  # the size -1 is inferred from other dimensions\n",
    "print(z.size())"
   ]
  },
  {
   "cell_type": "code",
   "execution_count": 7,
   "metadata": {},
   "outputs": [
    {
     "name": "stdout",
     "output_type": "stream",
     "text": [
      "Net (\n",
      "  (conv1): Conv2d(1, 6, kernel_size=(5, 5), stride=(1, 1))\n",
      "  (conv2): Conv2d(6, 16, kernel_size=(5, 5), stride=(1, 1))\n",
      "  (fc1): Linear (400 -> 120)\n",
      "  (fc2): Linear (120 -> 84)\n",
      "  (fc3): Linear (84 -> 10)\n",
      ")\n"
     ]
    }
   ],
   "source": [
    "import torch\n",
    "from torch.autograd import Variable\n",
    "import torch.nn as nn\n",
    "import torch.nn.functional as F\n",
    "\n",
    "\n",
    "class Net(nn.Module):\n",
    "    def __init__(self):\n",
    "        super(Net, self).__init__()\n",
    "        # 1 input image channel, 6 output channels, 5x5 square convolution kernel\n",
    "        self.conv1 = nn.Conv2d(1, 6, 5)\n",
    "        self.conv2 = nn.Conv2d(6, 16, 5)\n",
    "        # an affine operation: y = Wx + b\n",
    "        self.fc1 = nn.Linear(16 * 5 * 5, 120)\n",
    "        self.fc2 = nn.Linear(120, 84)\n",
    "        self.fc3 = nn.Linear(84, 10)\n",
    "\n",
    "    def forward(self, x):\n",
    "        print(\"GT: forward\")\n",
    "        \n",
    "        print(\"self.conv1(x).size(): \", self.conv1(x).size())\n",
    "        print(\"F.max_pool2d(F.relu(self.conv1(x)), (2, 2)): \", F.max_pool2d(F.relu(self.conv1(x)), (2, 2)).size())\n",
    "        \n",
    "        # Max pooling over a (2, 2) window\n",
    "        x = F.max_pool2d(F.relu(self.conv1(x)), (2, 2))\n",
    "        # If the size is a square you can only specify a single number\n",
    "        \n",
    "        print(\"self.conv2(x).size(): \", self.conv2(x).size())\n",
    "        print(\"F.max_pool2d(F.relu(self.conv2(x)), (2, 2)): \", F.max_pool2d(F.relu(self.conv2(x)), (2, 2)).size())\n",
    "        \n",
    "        x = F.max_pool2d(F.relu(self.conv2(x)), 2)\n",
    "        \n",
    "        \n",
    "        x = x.view(-1, self.num_flat_features(x))\n",
    "        \n",
    "        print(\"x.view(-1, self.num_flat_features(x)): \", x.size())\n",
    "        \n",
    "        \n",
    "        x = F.relu(self.fc1(x))\n",
    "        \n",
    "        print(\"xF.relu(self.fc1(x)): \", x.size())\n",
    "        \n",
    "        x = F.relu(self.fc2(x))\n",
    "        \n",
    "        print(\"F.relu(self.fc2(x)): \", x.size())\n",
    "        \n",
    "        x = self.fc3(x)\n",
    "        \n",
    "        print(\"self.fc3(x): \", x.size())\n",
    "        \n",
    "        print(\"\")\n",
    "        \n",
    "        return x\n",
    "\n",
    "    def num_flat_features(self, x):\n",
    "        size = x.size()[1:]  # all dimensions except the batch dimension - [16, 5, 5]\n",
    "        num_features = 1\n",
    "        for s in size:\n",
    "            num_features *= s\n",
    "        print(\"num_features: \", num_features)\n",
    "        return num_features\n",
    "\n",
    "\n",
    "net = Net()\n",
    "print(net)"
   ]
  },
  {
   "cell_type": "markdown",
   "metadata": {},
   "source": [
    "You just have to define the ``forward`` function, and the <u>``backward``\n",
    "function (where gradients are computed) is automatically defined for you\n",
    "using ``autograd``.</u>\n",
    "You can use any of the Tensor operations in the ``forward`` function.\n",
    "\n",
    "The learnable parameters of a model are returned by ``net.parameters()``\n",
    "\n"
   ]
  },
  {
   "cell_type": "code",
   "execution_count": 8,
   "metadata": {},
   "outputs": [
    {
     "name": "stdout",
     "output_type": "stream",
     "text": [
      "10\n",
      "torch.Size([6, 1, 5, 5])\n"
     ]
    }
   ],
   "source": [
    "'''\n",
    "http://pytorch.org/docs/master/_modules/torch/nn/parameter.html#Parameter\n",
    "\n",
    "torch.nn.Parameter\n",
    "A kind of Variable that is to be considered a module parameter\n",
    "'''\n",
    "\n",
    "params = list(net.parameters())\n",
    "# print(params)\n",
    "print(len(params))\n",
    "print(params[0].size())  # conv1's .weight"
   ]
  },
  {
   "cell_type": "markdown",
   "metadata": {},
   "source": [
    "The input to the forward is an ``autograd.Variable``, and so is the output.\n",
    "Note: Expected input size to this net(LeNet) is 32x32. To use this net on\n",
    "MNIST dataset, please resize the images from the dataset to 32x32.\n",
    "\n"
   ]
  },
  {
   "cell_type": "code",
   "execution_count": 9,
   "metadata": {},
   "outputs": [
    {
     "name": "stdout",
     "output_type": "stream",
     "text": [
      "GT: forward\n",
      "('self.conv1(x).size(): ', torch.Size([1, 6, 28, 28]))\n",
      "('F.max_pool2d(F.relu(self.conv1(x)), (2, 2)): ', torch.Size([1, 6, 14, 14]))\n",
      "('self.conv2(x).size(): ', torch.Size([1, 16, 10, 10]))\n",
      "('F.max_pool2d(F.relu(self.conv2(x)), (2, 2)): ', torch.Size([1, 16, 5, 5]))\n",
      "('num_features: ', 400L)\n",
      "('x.view(-1, self.num_flat_features(x)): ', torch.Size([1, 400]))\n",
      "('xF.relu(self.fc1(x)): ', torch.Size([1, 120]))\n",
      "('F.relu(self.fc2(x)): ', torch.Size([1, 84]))\n",
      "('self.fc3(x): ', torch.Size([1, 10]))\n",
      "\n",
      "Variable containing:\n",
      " 0.0799  0.0157 -0.0908 -0.0465  0.1174  0.1049 -0.0974 -0.0361  0.0177  0.0376\n",
      "[torch.FloatTensor of size 1x10]\n",
      "\n"
     ]
    }
   ],
   "source": [
    "input = Variable(torch.randn(1, 1, 32, 32))\n",
    "#print(input)\n",
    "out = net(input)\n",
    "print(out)"
   ]
  },
  {
   "cell_type": "markdown",
   "metadata": {},
   "source": [
    "Zero the gradient buffers of all parameters and backprops with random\n",
    "gradients:\n",
    "\n"
   ]
  },
  {
   "cell_type": "code",
   "execution_count": 10,
   "metadata": {},
   "outputs": [],
   "source": [
    "net.zero_grad() # Sets gradients of all model parameters to zero\n",
    "out.backward(torch.randn(1, 10)) # GT: ???"
   ]
  },
  {
   "cell_type": "markdown",
   "metadata": {},
   "source": [
    "<div class=\"alert alert-info\"><h4>Note</h4><p>``torch.nn`` only supports mini-batches The entire ``torch.nn``\n",
    "    package only supports inputs that are a mini-batch of samples, and not\n",
    "    a single sample.\n",
    "\n",
    "    For example, ``nn.Conv2d`` will take in a 4D Tensor of\n",
    "    ``nSamples x nChannels x Height x Width``.\n",
    "\n",
    "    <u>If you have a single sample, just use ``input.unsqueeze(0)`` to add\n",
    "    a fake batch dimension.</u></p></div>\n",
    "\n",
    "Before proceeding further, let's recap all the classes you’ve seen so far.\n",
    "\n",
    "**Recap:**\n",
    "  -  ``torch.Tensor`` - A *multi-dimensional array*.\n",
    "  -  ``autograd.Variable`` - *Wraps a Tensor and records the history of\n",
    "     operations* applied to it. Has the same API as a ``Tensor``, with\n",
    "     some additions like ``backward()``. Also *holds the gradient*\n",
    "     w.r.t. the tensor.\n",
    "  -  ``nn.Module`` - Neural network module. *Convenient way of\n",
    "     encapsulating parameters*, with helpers for moving them to GPU,\n",
    "     exporting, loading, etc.\n",
    "  -  ``nn.Parameter`` - A kind of Variable, that is *automatically\n",
    "     registered as a parameter when assigned as an attribute to a*\n",
    "     ``Module``.\n",
    "  -  ``autograd.Function`` - Implements *forward and backward definitions\n",
    "     of an autograd operation*. Every ``Variable`` operation, creates at\n",
    "     least a single ``Function`` node, that connects to functions that\n",
    "     created a ``Variable`` and *encodes its history*.\n",
    "\n",
    "**At this point, we covered:**\n",
    "  -  Defining a neural network\n",
    "  -  Processing inputs and calling backward.\n",
    "\n",
    "**Still Left:**\n",
    "  -  Computing the loss\n",
    "  -  Updating the weights of the network\n",
    "\n",
    "Loss Function\n",
    "-------------\n",
    "A loss function takes the (output, target) pair of inputs, and computes a\n",
    "value that estimates how far away the output is from the target.\n",
    "\n",
    "There are several different\n",
    "`loss functions <http://pytorch.org/docs/nn.html#loss-functions>`_ under the\n",
    "nn package .\n",
    "A simple loss is: ``nn.MSELoss`` which computes the mean-squared error\n",
    "between the input and the target.\n",
    "\n",
    "For example:\n",
    "\n"
   ]
  },
  {
   "cell_type": "code",
   "execution_count": 11,
   "metadata": {},
   "outputs": [
    {
     "name": "stdout",
     "output_type": "stream",
     "text": [
      "Variable containing:\n",
      " 0.9571 -0.9593 -0.4087 -0.7917 -1.0220\n",
      " 0.1720 -1.3193 -1.6350  0.6557 -0.1258\n",
      " 1.7518  0.0601 -0.9493  0.8946  0.7768\n",
      "[torch.FloatTensor of size 3x5]\n",
      "\n",
      "Variable containing:\n",
      " 0.2330 -0.2284 -0.6690  0.0194  0.5653\n",
      "-0.3505  0.0428 -1.3111  0.3799 -1.9511\n",
      "-0.5866  0.4311 -1.1758  0.2200 -0.1897\n",
      "[torch.FloatTensor of size 3x5]\n",
      "\n",
      "Variable containing:\n",
      " 1.1327\n",
      "[torch.FloatTensor of size 1]\n",
      "\n",
      "Variable containing:\n",
      " 0.0965 -0.0974  0.0347 -0.1081 -0.2117\n",
      " 0.0697 -0.1816 -0.0432  0.0368  0.2434\n",
      " 0.3118 -0.0495  0.0302  0.0899  0.1289\n",
      "[torch.FloatTensor of size 3x5]\n",
      "\n"
     ]
    }
   ],
   "source": [
    "'''\n",
    "http://pytorch.org/docs/master/nn.html#mseloss\n",
    "\n",
    "torch.nn.MSELoss(size_average=True, reduce=True)\n",
    "Creates a criterion that measures the mean squared error between n elements in the input x and target y:\n",
    "\n",
    "loss(x,y)=1/n∑|xi−yi|2\n",
    "\n",
    "x and y arbitrary shapes with a total of n elements each.\n",
    "'''\n",
    "\n",
    "loss = nn.MSELoss()\n",
    "input2 = autograd.Variable(torch.randn(3, 5), requires_grad=True)\n",
    "print(input2)\n",
    "target = autograd.Variable(torch.randn(3, 5))\n",
    "print(target)\n",
    "output = loss(input2, target)\n",
    "print(output)\n",
    "output.backward()\n",
    "print(input2.grad)"
   ]
  },
  {
   "cell_type": "code",
   "execution_count": 12,
   "metadata": {},
   "outputs": [
    {
     "name": "stdout",
     "output_type": "stream",
     "text": [
      "GT: forward\n",
      "('self.conv1(x).size(): ', torch.Size([1, 6, 28, 28]))\n",
      "('F.max_pool2d(F.relu(self.conv1(x)), (2, 2)): ', torch.Size([1, 6, 14, 14]))\n",
      "('self.conv2(x).size(): ', torch.Size([1, 16, 10, 10]))\n",
      "('F.max_pool2d(F.relu(self.conv2(x)), (2, 2)): ', torch.Size([1, 16, 5, 5]))\n",
      "('num_features: ', 400L)\n",
      "('x.view(-1, self.num_flat_features(x)): ', torch.Size([1, 400]))\n",
      "('xF.relu(self.fc1(x)): ', torch.Size([1, 120]))\n",
      "('F.relu(self.fc2(x)): ', torch.Size([1, 84]))\n",
      "('self.fc3(x): ', torch.Size([1, 10]))\n",
      "\n",
      "Variable containing:\n",
      " 38.4188\n",
      "[torch.FloatTensor of size 1]\n",
      "\n"
     ]
    }
   ],
   "source": [
    "output = net(input)\n",
    "target = Variable(torch.arange(1, 11))  # a dummy target, for example\n",
    "criterion = nn.MSELoss()\n",
    "\n",
    "loss = criterion(output, target)\n",
    "print(loss)"
   ]
  },
  {
   "cell_type": "markdown",
   "metadata": {},
   "source": [
    "Now, if you follow ``loss`` in the backward direction, using it’s\n",
    "``.grad_fn`` attribute, you will see a graph of computations that looks\n",
    "like this:\n",
    "\n",
    "::\n",
    "\n",
    "    input -> conv2d -> relu -> maxpool2d -> conv2d -> relu -> maxpool2d\n",
    "          -> view -> linear -> relu -> linear -> relu -> linear\n",
    "          -> MSELoss\n",
    "          -> loss\n",
    "\n",
    "So, when we call <u>``loss.backward()``, the whole graph is differentiated\n",
    "w.r.t. the loss</u>, and all Variables in the graph will have their\n",
    "``.grad`` Variable accumulated with the gradient.\n",
    "\n",
    "For illustration, let us follow a few steps backward:\n",
    "\n"
   ]
  },
  {
   "cell_type": "code",
   "execution_count": 13,
   "metadata": {},
   "outputs": [
    {
     "name": "stdout",
     "output_type": "stream",
     "text": [
      "<torch.autograd.function.MSELossBackward object at 0x7fe4d6f6ade0>\n",
      "<torch.autograd.function.AddmmBackward object at 0x7fe4d6f61a00>\n",
      "<AccumulateGrad object at 0x7fe4d6c54b10>\n"
     ]
    }
   ],
   "source": [
    "print(loss.grad_fn)  # MSELoss\n",
    "print(loss.grad_fn.next_functions[0][0])  # Linear\n",
    "print(loss.grad_fn.next_functions[0][0].next_functions[0][0])  # ReLU"
   ]
  },
  {
   "cell_type": "markdown",
   "metadata": {},
   "source": [
    "Backprop\n",
    "--------\n",
    "To backpropagate the error all we have to do is to ``loss.backward()``.\n",
    "You need to clear the existing gradients though, else gradients will be\n",
    "accumulated to existing gradients\n",
    "\n",
    "\n",
    "Now we shall call ``loss.backward()``, and have a look at conv1's bias\n",
    "gradients before and after the backward.\n",
    "\n"
   ]
  },
  {
   "cell_type": "code",
   "execution_count": 14,
   "metadata": {},
   "outputs": [
    {
     "name": "stdout",
     "output_type": "stream",
     "text": [
      "Variable containing:\n",
      " 0.1116\n",
      " 0.0502\n",
      "-0.1581\n",
      "-0.0244\n",
      " 0.0921\n",
      "-0.1067\n",
      "[torch.FloatTensor of size 6]\n",
      "\n",
      "conv1.bias.grad before backward\n",
      "Variable containing:\n",
      " 0\n",
      " 0\n",
      " 0\n",
      " 0\n",
      " 0\n",
      " 0\n",
      "[torch.FloatTensor of size 6]\n",
      "\n",
      "conv1.bias.grad after backward\n",
      "Variable containing:\n",
      "-0.1168\n",
      " 0.0277\n",
      " 0.1568\n",
      " 0.0349\n",
      "-0.1321\n",
      " 0.0738\n",
      "[torch.FloatTensor of size 6]\n",
      "\n"
     ]
    }
   ],
   "source": [
    "print(net.conv1.bias.grad)\n",
    "\n",
    "net.zero_grad()     # zeroes the gradient buffers of all parameters\n",
    "\n",
    "print('conv1.bias.grad before backward')\n",
    "print(net.conv1.bias.grad)\n",
    "\n",
    "loss.backward()\n",
    "\n",
    "print('conv1.bias.grad after backward')\n",
    "print(net.conv1.bias.grad)"
   ]
  },
  {
   "cell_type": "markdown",
   "metadata": {},
   "source": [
    "Now, we have seen how to use loss functions.\n",
    "\n",
    "**Read Later:**\n",
    "\n",
    "  The neural network package contains various modules and loss functions\n",
    "  that form the building blocks of deep neural networks. A full list with\n",
    "  documentation is `here <http://pytorch.org/docs/nn>`_\n",
    "\n",
    "**The only thing left to learn is:**\n",
    "\n",
    "  - updating the weights of the network\n",
    "\n",
    "Update the weights\n",
    "------------------\n",
    "The simplest update rule used in practice is the Stochastic Gradient\n",
    "Descent (SGD):\n",
    "\n",
    "     ``weight = weight - learning_rate * gradient``\n",
    "\n",
    "We can implement this using simple python code:\n",
    "\n",
    ".. code:: python\n",
    "\n",
    "    learning_rate = 0.01\n",
    "    for f in net.parameters():\n",
    "        f.data.sub_(f.grad.data * learning_rate)\n",
    "\n",
    "However, as you use neural networks, you want to use various different\n",
    "update rules such as SGD, Nesterov-SGD, Adam, RMSProp, etc.\n",
    "To enable this, we built a small package: ``torch.optim`` that\n",
    "implements all these methods. Using it is very simple:\n",
    "\n"
   ]
  },
  {
   "cell_type": "code",
   "execution_count": 15,
   "metadata": {},
   "outputs": [
    {
     "data": {
      "text/plain": [
       "'\\nhttp://pytorch.org/docs/master/optim.html#torch.optim.SGD\\n\\ntorch.optim.SGD(params, lr=<object object>, momentum=0, dampening=0, weight_decay=0, nesterov=False)\\nImplements stochastic gradient descent (optionally with momentum).\\n'"
      ]
     },
     "execution_count": 15,
     "metadata": {},
     "output_type": "execute_result"
    }
   ],
   "source": [
    "'''\n",
    "http://pytorch.org/docs/master/optim.html#torch.optim.SGD\n",
    "\n",
    "torch.optim.SGD(params, lr=<object object>, momentum=0, dampening=0, weight_decay=0, nesterov=False)\n",
    "Implements stochastic gradient descent (optionally with momentum).\n",
    "'''\n",
    "# optimizer = torch.optim.SGD(net.parameters(), lr=0.1, momentum=0.9)\n",
    "# optimizer.zero_grad()\n",
    "# loss_fn(model(input), target).backward()\n",
    "# optimizer.step()"
   ]
  },
  {
   "cell_type": "code",
   "execution_count": 16,
   "metadata": {},
   "outputs": [
    {
     "name": "stdout",
     "output_type": "stream",
     "text": [
      "GT: forward\n",
      "('self.conv1(x).size(): ', torch.Size([1, 6, 28, 28]))\n",
      "('F.max_pool2d(F.relu(self.conv1(x)), (2, 2)): ', torch.Size([1, 6, 14, 14]))\n",
      "('self.conv2(x).size(): ', torch.Size([1, 16, 10, 10]))\n",
      "('F.max_pool2d(F.relu(self.conv2(x)), (2, 2)): ', torch.Size([1, 16, 5, 5]))\n",
      "('num_features: ', 400L)\n",
      "('x.view(-1, self.num_flat_features(x)): ', torch.Size([1, 400]))\n",
      "('xF.relu(self.fc1(x)): ', torch.Size([1, 120]))\n",
      "('F.relu(self.fc2(x)): ', torch.Size([1, 84]))\n",
      "('self.fc3(x): ', torch.Size([1, 10]))\n",
      "\n"
     ]
    }
   ],
   "source": [
    "import torch.optim as optim\n",
    "\n",
    "# create your optimizer\n",
    "optimizer = optim.SGD(net.parameters(), lr=0.01)\n",
    "\n",
    "# in your training loop:\n",
    "optimizer.zero_grad()   # zero the gradient buffers\n",
    "output = net(input)\n",
    "loss = criterion(output, target)\n",
    "loss.backward()\n",
    "optimizer.step()    # Does the update # Performs a single optimization step."
   ]
  },
  {
   "cell_type": "code",
   "execution_count": null,
   "metadata": {
    "collapsed": true
   },
   "outputs": [],
   "source": []
  }
 ],
 "metadata": {
  "kernelspec": {
   "display_name": "Python 2",
   "language": "python",
   "name": "python2"
  },
  "language_info": {
   "codemirror_mode": {
    "name": "ipython",
    "version": 2
   },
   "file_extension": ".py",
   "mimetype": "text/x-python",
   "name": "python",
   "nbconvert_exporter": "python",
   "pygments_lexer": "ipython2",
   "version": "2.7.13"
  }
 },
 "nbformat": 4,
 "nbformat_minor": 1
}
