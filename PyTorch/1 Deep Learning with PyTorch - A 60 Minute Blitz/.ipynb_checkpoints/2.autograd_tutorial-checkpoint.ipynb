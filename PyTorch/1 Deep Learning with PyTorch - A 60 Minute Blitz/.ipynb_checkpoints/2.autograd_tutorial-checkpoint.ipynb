{
 "cells": [
  {
   "cell_type": "code",
   "execution_count": 1,
   "metadata": {
    "collapsed": true
   },
   "outputs": [],
   "source": [
    "%matplotlib inline"
   ]
  },
  {
   "cell_type": "markdown",
   "metadata": {},
   "source": [
    "http://pytorch.org/tutorials/beginner/blitz/autograd_tutorial.html#sphx-glr-beginner-blitz-autograd-tutorial-py\n",
    "Autograd: automatic differentiation\n",
    "===================================\n",
    "\n",
    "<u>Central to all neural networks in PyTorch is the ``autograd`` package.</u>\n",
    "Let’s first briefly visit this, and we will then go to training our\n",
    "first neural network.\n",
    "\n",
    "\n",
    "<u>The ``autograd`` package provides automatic differentiation for all operations on Tensors.</u>\n",
    "It is a define-by-run framework, which means that your backprop is defined by how your code is run, and that every single iteration can be different.\n",
    "\n",
    "Let us see this in more simple terms with some examples.\n",
    "\n",
    "Variable\n",
    "---------\n",
    "\n",
    "``autograd.Variable`` is the central class of the package.\n",
    "It wraps a Tensor, and supports nearly all of operations defined on it.\n",
    "Once you finish your computation you can call ``.backward()`` and have all the gradients computed automatically.\n",
    "\n",
    "You can access the raw tensor through the ``.data`` attribute, while the gradient w.r.t. this variable is accumulated into ``.grad``.\n",
    "\n",
    "\n",
    "![Variable](Variable.png)\n",
    "\n",
    "   Variable\n",
    "\n",
    "There’s one more class which is very important for autograd implementation - a ``Function``.\n",
    "\n",
    "<u>``Variable`` and ``Function`` are interconnected and build up an acyclic graph, that encodes a complete history of computation.</u>\n",
    "<u>Each variable has a ``.grad_fn`` attribute that references a ``Function`` that has created the ``Variable`` (except for Variables created by the user - their ``grad_fn is None``).</u>\n",
    "\n",
    "If you want to compute the derivatives, you can call ``.backward()`` on a ``Variable``.\n",
    "If ``Variable`` is a scalar (i.e. it holds a one element data), you don’t need to specify any arguments to ``backward()``, however if it has more elements, you need to specify a ``grad_output`` argument that is a tensor of matching shape."
   ]
  },
  {
   "cell_type": "code",
   "execution_count": 2,
   "metadata": {
    "collapsed": true
   },
   "outputs": [],
   "source": [
    "import torch\n",
    "\n",
    "'''\n",
    "http://pytorch.org/docs/master/autograd.html\n",
    "\n",
    "Automatic differentiation package - torch.autograd\n",
    "torch.autograd provides classes and functions implementing automatic differentiation of arbitrary scalar\n",
    "valued functions.\n",
    "It requires minimal changes to the existing code - you only need to wrap all tensors in Variable objects.\n",
    "\n",
    "http://pytorch.org/docs/master/autograd.html#variable\n",
    "\n",
    "Variable API is nearly the same as regular Tensor API\n",
    "(with the exception of a couple in-place methods, that would overwrite inputs required for gradient computation).\n",
    "Wraps a tensor and records the operations applied to it.\n",
    "'''\n",
    "from torch.autograd import Variable"
   ]
  },
  {
   "cell_type": "markdown",
   "metadata": {},
   "source": [
    "Create a variable:\n",
    "\n"
   ]
  },
  {
   "cell_type": "code",
   "execution_count": 3,
   "metadata": {
    "collapsed": false
   },
   "outputs": [
    {
     "name": "stdout",
     "output_type": "stream",
     "text": [
      "Variable containing:\n",
      " 1  1\n",
      " 1  1\n",
      "[torch.FloatTensor of size 2x2]\n",
      "\n"
     ]
    }
   ],
   "source": [
    "x = Variable(torch.ones(2, 2), requires_grad=True) # http://pytorch.org/docs/master/_modules/torch/autograd/variable.html#Variable\n",
    "print(x)"
   ]
  },
  {
   "cell_type": "code",
   "execution_count": 4,
   "metadata": {
    "collapsed": false
   },
   "outputs": [
    {
     "name": "stdout",
     "output_type": "stream",
     "text": [
      "('data: ', \n",
      " 1  1\n",
      " 1  1\n",
      "[torch.FloatTensor of size 2x2]\n",
      ")\n",
      "('grad: ', None)\n",
      "('requires_grad', True)\n",
      "('volatile', False)\n",
      "('is_leaf', True)\n",
      "('grad_fn', None)\n"
     ]
    }
   ],
   "source": [
    "print(\"data: \", x.data) #Wrapped tensor of any type\n",
    "print(\"grad: \", x.grad) #Variable holding the gradient of type and location matching the .data\n",
    "print(\"requires_grad\", x.requires_grad) #Boolean indicating whether the Variable has been created by a subgraph containing any Variable, that requires it\n",
    "print(\"volatile\", x.volatile) #Boolean indicating that the Variable should be used in inference mode, i.e. don’t save the history.\n",
    "print(\"is_leaf\", x.is_leaf) #Boolean indicating if the Variable is a graph leaf (i.e if it was created by the user)\n",
    "print(\"grad_fn\", x.grad_fn) #Gradient function graph trace"
   ]
  },
  {
   "cell_type": "markdown",
   "metadata": {},
   "source": [
    "Do an operation of variable:\n",
    "\n"
   ]
  },
  {
   "cell_type": "code",
   "execution_count": 5,
   "metadata": {
    "collapsed": false
   },
   "outputs": [
    {
     "name": "stdout",
     "output_type": "stream",
     "text": [
      "Variable containing:\n",
      " 3  3\n",
      " 3  3\n",
      "[torch.FloatTensor of size 2x2]\n",
      "\n"
     ]
    }
   ],
   "source": [
    "y = x + 2\n",
    "print(y)"
   ]
  },
  {
   "cell_type": "markdown",
   "metadata": {},
   "source": [
    "``y`` was created as a result of an operation, so it has a ``grad_fn``.\n",
    "\n"
   ]
  },
  {
   "cell_type": "code",
   "execution_count": 6,
   "metadata": {
    "collapsed": false
   },
   "outputs": [
    {
     "name": "stdout",
     "output_type": "stream",
     "text": [
      "<torch.autograd.function.AddConstantBackward object at 0x7f744f6a7ce8>\n"
     ]
    }
   ],
   "source": [
    "print(y.grad_fn) #grad_fn – Gradient function graph trac"
   ]
  },
  {
   "cell_type": "markdown",
   "metadata": {},
   "source": [
    "Do more operations on y\n",
    "\n"
   ]
  },
  {
   "cell_type": "code",
   "execution_count": 7,
   "metadata": {
    "collapsed": false
   },
   "outputs": [
    {
     "name": "stdout",
     "output_type": "stream",
     "text": [
      "(Variable containing:\n",
      " 27  27\n",
      " 27  27\n",
      "[torch.FloatTensor of size 2x2]\n",
      ", Variable containing:\n",
      " 27\n",
      "[torch.FloatTensor of size 1]\n",
      ")\n"
     ]
    }
   ],
   "source": [
    "z = y * y * 3\n",
    "out = z.mean() # http://pytorch.org/docs/master/torch.html#torch.mean\n",
    "\n",
    "print(z, out)"
   ]
  },
  {
   "cell_type": "markdown",
   "metadata": {},
   "source": [
    "Gradients\n",
    "---------\n",
    "let's backprop now\n",
    "``out.backward()`` is equivalent to doing ``out.backward(torch.Tensor([1.0]))``\n",
    "\n",
    "http://pytorch.org/docs/master/autograd.html#torch.autograd.Variable.backward <br>\n",
    "backward(gradient=None, retain_graph=None, create_graph=None, retain_variables=None)<br>\n",
    "Computes the gradient of current variable w.r.t. graph leaves<br>\n",
    "The graph is differentiated using the <b>chain rule</b>.\n",
    "<u>If the variable is non-scalar (i.e. its data has more than one element) and requires gradient, the function additionally requires specifying gradient</u>"
   ]
  },
  {
   "cell_type": "code",
   "execution_count": 8,
   "metadata": {
    "collapsed": true
   },
   "outputs": [],
   "source": [
    "out.backward() # can be executed only once"
   ]
  },
  {
   "cell_type": "markdown",
   "metadata": {},
   "source": [
    "print gradients d(out)/dx\n",
    "\n",
    "\n"
   ]
  },
  {
   "cell_type": "code",
   "execution_count": 9,
   "metadata": {
    "collapsed": false
   },
   "outputs": [
    {
     "name": "stdout",
     "output_type": "stream",
     "text": [
      "Variable containing:\n",
      " 4.5000  4.5000\n",
      " 4.5000  4.5000\n",
      "[torch.FloatTensor of size 2x2]\n",
      "\n"
     ]
    }
   ],
   "source": [
    "print(x.grad) # grad – Variable holding the gradient of type and location matching the .data"
   ]
  },
  {
   "cell_type": "markdown",
   "metadata": {},
   "source": [
    "You should have got a matrix of ``4.5``. Let’s call the ``out``\n",
    "*Variable* “$o$”.\n",
    "We have that <br>\n",
    "$o = \\frac{1}{4}\\sum_i z_i$, <br>\n",
    "$z_i = 3(x_i+2)^2$ and <br>\n",
    "$z_i\\bigr\\rvert_{x_i=1} = 27$.<br>\n",
    "Therefore,<br>\n",
    "$\\frac{\\partial o}{\\partial x_i} = \\frac{3}{2}(x_i+2)$, hence<br>\n",
    "$\\frac{\\partial o}{\\partial x_i}\\bigr\\rvert_{x_i=1} = \\frac{9}{2} = 4.5$.\n",
    "\n"
   ]
  },
  {
   "cell_type": "markdown",
   "metadata": {},
   "source": [
    "You can do many crazy things with autograd!\n",
    "\n"
   ]
  },
  {
   "cell_type": "code",
   "execution_count": 16,
   "metadata": {
    "collapsed": false
   },
   "outputs": [
    {
     "name": "stdout",
     "output_type": "stream",
     "text": [
      "\n",
      " 0.0546\n",
      " 2.3461\n",
      "-0.1120\n",
      "[torch.FloatTensor of size 3]\n",
      "\n",
      "Variable containing:\n",
      "   27.9359\n",
      " 1201.1937\n",
      "  -57.3287\n",
      "[torch.FloatTensor of size 3]\n",
      "\n",
      "8\n"
     ]
    }
   ],
   "source": [
    "x = torch.randn(3)\n",
    "print(x)\n",
    "x = Variable(x, requires_grad=True)\n",
    "\n",
    "y = x * 2\n",
    "\n",
    "# the difference (norm) between two numbers < 1000\n",
    "# http://mathonline.wikidot.com/the-norm-of-a-vector#toc4\n",
    "c = 0\n",
    "while y.data.norm() < 1000:\n",
    "    y = y * 2\n",
    "    c += 1\n",
    "\n",
    "print(y)\n",
    "print(c)"
   ]
  },
  {
   "cell_type": "code",
   "execution_count": 17,
   "metadata": {
    "collapsed": false
   },
   "outputs": [
    {
     "name": "stdout",
     "output_type": "stream",
     "text": [
      "\n",
      " 1.0000e-01\n",
      " 1.0000e+00\n",
      " 1.0000e-04\n",
      "[torch.FloatTensor of size 3]\n",
      "\n",
      "Variable containing:\n",
      "  51.2000\n",
      " 512.0000\n",
      "   0.0512\n",
      "[torch.FloatTensor of size 3]\n",
      "\n"
     ]
    }
   ],
   "source": [
    "gradients = torch.FloatTensor([0.1, 1.0, 0.0001])\n",
    "print(gradients)\n",
    "y.backward(gradients)\n",
    "\n",
    "print(x.grad)"
   ]
  },
  {
   "cell_type": "markdown",
   "metadata": {},
   "source": [
    "**Read Later:**\n",
    "\n",
    "Documentation of ``Variable`` and ``Function`` is at\n",
    "http://pytorch.org/docs/autograd\n",
    "\n"
   ]
  }
 ],
 "metadata": {
  "kernelspec": {
   "display_name": "Python 2",
   "language": "python",
   "name": "python2"
  },
  "language_info": {
   "codemirror_mode": {
    "name": "ipython",
    "version": 2
   },
   "file_extension": ".py",
   "mimetype": "text/x-python",
   "name": "python",
   "nbconvert_exporter": "python",
   "pygments_lexer": "ipython2",
   "version": "2.7.13"
  }
 },
 "nbformat": 4,
 "nbformat_minor": 1
}
