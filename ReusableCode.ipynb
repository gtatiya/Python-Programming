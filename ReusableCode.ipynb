{
 "cells": [
  {
   "cell_type": "markdown",
   "metadata": {},
   "source": [
    "# Reusable Codes in Python\n",
    "\n",
    "<b style=\"font-size:20px\"> <a href=\"#Create py file and store variable\">Create py file and store variable</a><br>\n",
    "<b style=\"font-size:20px\"> <a href=\"#Import IPython Notebooks as Module\">Import IPython Notebooks as Module</a><br>\n",
    "<b style=\"font-size:20px\"> <a href=\"#Calculate execution time\">Calculate execution time</a><br>\n",
    "<b style=\"font-size:20px\"> <a href=\"#Running Shell Commands\">Running Shell Commands</a><br>\n",
    "<b style=\"font-size:20px\"> <a href=\"#Crawl over a folder\">Crawl over a folder</a>"
   ]
  },
  {
   "cell_type": "markdown",
   "metadata": {},
   "source": [
    "<b style=\"font-size:15px\"><a id=\"Create py file and store variable\">Create py file and store variable</a>"
   ]
  },
  {
   "cell_type": "code",
   "execution_count": 2,
   "metadata": {},
   "outputs": [],
   "source": [
    "\"\"\"\n",
    "Create py file to store variable\n",
    "To include save_var.py in other code use \"from save_var import *\"\n",
    "If you want to save a class variable (e.g. bigram_pos_tagger.transitions) (bigram_pos_tagger is a class object)\n",
    "    Assign it to a local variable (e.g. transitions = bigram_pos_tagger.transitions)\n",
    "    Then, call save_var(transitions)\n",
    "http://stackoverflow.com/questions/18425225/getting-the-name-of-a-variable-as-a-string\n",
    "\"\"\"\n",
    "#f = open( 'save_var.py', 'w' ) # Put this in the beginning of your program. It will create a new file\n",
    "#f.close()\n",
    "\n",
    "def save_var(var):\n",
    "    import inspect\n",
    "    from collections import defaultdict\n",
    "\n",
    "    callers_local_vars = inspect.currentframe().f_back.f_locals.items()\n",
    "    var_name = [var_name for var_name, var_val in callers_local_vars if var_val is var][0] # fetch variable name\n",
    "\n",
    "    save_var_file = open('save_var.py', 'a')  # append to the file created\n",
    "    save_var_file.write('#' + repr(type(var)) + '\\n')\n",
    "    save_var_file.write('#Len: ' + repr(len(var)) + '\\n')\n",
    "\n",
    "    # to print defaultdict variable without its type\n",
    "    if isinstance(var, defaultdict):\n",
    "        save_var_file.write(var_name + ' = ' + repr(dict(var)) + '\\n\\n')\n",
    "    else:\n",
    "        save_var_file.write(var_name + ' = ' + repr(var) + '\\n\\n')\n",
    "\n",
    "    save_var_file.close()\n",
    "    \n",
    "\"\"\"\n",
    "Create py file to store variable: Works for GLOBAL variables only\n",
    "To include save_var.py in other code use \"from save_var import *\"\n",
    "If you want to save a class variable (e.g. bigram_pos_tagger.transitions) (bigram_pos_tagger is a class object)\n",
    "    Assign it to a local variable (e.g. transitions = bigram_pos_tagger.transitions)\n",
    "    Then, call save_var(transitions)\n",
    "http://stackoverflow.com/questions/1534504/convert-variable-name-to-string\n",
    "\"\"\"\n",
    "\n",
    "#f = open( 'save_var.py', 'w' ) # Put this in the beginning of your program. It will create a new file\n",
    "#f.close()\n",
    "\n",
    "# call save_var and pass the variable you want to save\n",
    "def save_var(var):\n",
    "    var_name = [name for name in globals() if globals()[name] is var][0] # fetch variable name\n",
    "        \n",
    "    f = open( 'save_var.py', 'a' ) # append to the file created\n",
    "    f.write('#' + repr(type(var)) + '\\n' )\n",
    "    f.write('#Len: ' + repr(len(var)) + '\\n' )\n",
    "    \n",
    "    # to print defaultdict variable without its type\n",
    "    if isinstance(var, defaultdict):\n",
    "        f.write(var_name + ' = ' + repr(dict(var)) + '\\n\\n')\n",
    "    else:\n",
    "        f.write(var_name + ' = ' + repr(var) + '\\n\\n')\n",
    "    \n",
    "    f.close()"
   ]
  },
  {
   "cell_type": "markdown",
   "metadata": {},
   "source": [
    "<b style=\"font-size:15px\"><a id=\"Import IPython Notebooks as Module\">Import IPython Notebooks as Module</a>"
   ]
  },
  {
   "cell_type": "code",
   "execution_count": 1,
   "metadata": {
    "collapsed": true
   },
   "outputs": [],
   "source": [
    "\"\"\"\n",
    "Import IPython Notebooks as Module.\n",
    "http://jupyter-notebook.readthedocs.io/en/latest/examples/Notebook/Importing%20Notebooks.html\n",
    "http://nbviewer.jupyter.org/gist/minrk/6011986\n",
    "\"\"\"\n",
    "\n",
    "import io, os, sys, types\n",
    "from IPython import get_ipython\n",
    "from nbformat import read\n",
    "from IPython.core.interactiveshell import InteractiveShell\n",
    "\n",
    "def find_notebook(fullname, path=None):\n",
    "    \"\"\"find a notebook, given its fully qualified name and an optional path\n",
    "\n",
    "    This turns \"foo.bar\" into \"foo/bar.ipynb\"\n",
    "    and tries turning \"Foo_Bar\" into \"Foo Bar\" if Foo_Bar\n",
    "    does not exist.\n",
    "    \"\"\"\n",
    "    name = fullname.rsplit('.', 1)[-1]\n",
    "    if not path:\n",
    "        path = ['']\n",
    "    for d in path:\n",
    "        nb_path = os.path.join(d, name + \".ipynb\")\n",
    "        if os.path.isfile(nb_path):\n",
    "            return nb_path\n",
    "        # let import Notebook_Name find \"Notebook Name.ipynb\"\n",
    "        nb_path = nb_path.replace(\"_\", \" \")\n",
    "        if os.path.isfile(nb_path):\n",
    "            return nb_path\n",
    "        \n",
    "class NotebookLoader(object):\n",
    "    \"\"\"Module Loader for Jupyter Notebooks\"\"\"\n",
    "    def __init__(self, path=None):\n",
    "        self.shell = InteractiveShell.instance()\n",
    "        self.path = path\n",
    "\n",
    "    def load_module(self, fullname):\n",
    "        \"\"\"import a notebook as a module\"\"\"\n",
    "        path = find_notebook(fullname, self.path)\n",
    "\n",
    "        print (\"importing Jupyter notebook from %s\" % path)\n",
    "\n",
    "        # load the notebook object\n",
    "        with io.open(path, 'r', encoding='utf-8') as f:\n",
    "            nb = read(f, 4)\n",
    "\n",
    "\n",
    "        # create the module and add it to sys.modules\n",
    "        # if name in sys.modules:\n",
    "        #    return sys.modules[name]\n",
    "        mod = types.ModuleType(fullname)\n",
    "        mod.__file__ = path\n",
    "        mod.__loader__ = self\n",
    "        mod.__dict__['get_ipython'] = get_ipython\n",
    "        sys.modules[fullname] = mod\n",
    "\n",
    "        # extra work to ensure that magics that would affect the user_ns\n",
    "        # actually affect the notebook module's ns\n",
    "        save_user_ns = self.shell.user_ns\n",
    "        self.shell.user_ns = mod.__dict__\n",
    "\n",
    "        try:\n",
    "          for cell in nb.cells:\n",
    "            if cell.cell_type == 'code':\n",
    "                # transform the input to executable Python\n",
    "                code = self.shell.input_transformer_manager.transform_cell(cell.source)\n",
    "                # run the code in themodule\n",
    "                exec(code, mod.__dict__)\n",
    "        finally:\n",
    "            self.shell.user_ns = save_user_ns\n",
    "        return mod\n",
    "\n",
    "class NotebookFinder(object):\n",
    "    \"\"\"Module finder that locates Jupyter Notebooks\"\"\"\n",
    "    def __init__(self):\n",
    "        self.loaders = {}\n",
    "\n",
    "    def find_module(self, fullname, path=None):\n",
    "        nb_path = find_notebook(fullname, path)\n",
    "        if not nb_path:\n",
    "            return\n",
    "\n",
    "        key = path\n",
    "        if path:\n",
    "            # lists aren't hashable\n",
    "            key = os.path.sep.join(path)\n",
    "\n",
    "        if key not in self.loaders:\n",
    "            self.loaders[key] = NotebookLoader(path)\n",
    "        return self.loaders[key]\n",
    "\n",
    "sys.meta_path.append(NotebookFinder())\n",
    "\n",
    "# Module to import\n",
    "#from bigram_hmm import BigramHMM"
   ]
  },
  {
   "cell_type": "markdown",
   "metadata": {
    "collapsed": true
   },
   "source": [
    "<b style=\"font-size:15px\"><a id=\"Calculate execution time\">Calculate execution time</a>"
   ]
  },
  {
   "cell_type": "code",
   "execution_count": 1,
   "metadata": {},
   "outputs": [],
   "source": [
    "import time\n",
    "\n",
    "\"\"\"\n",
    "https://www.w3resource.com/python-exercises/python-basic-exercise-65.php\n",
    "\"\"\"\n",
    "\n",
    "def time_taken(start, end):\n",
    "    \"\"\"Human readable time between `start` and `end`\n",
    "\n",
    "    :param start: time.time()\n",
    "    :param end: time.time()\n",
    "    :returns: day:hour:minute:second.millisecond\n",
    "    \"\"\"\n",
    "    my_time = end-start\n",
    "    day = my_time // (24 * 3600)\n",
    "    my_time = my_time % (24 * 3600)\n",
    "    hour = my_time // 3600\n",
    "    my_time %= 3600\n",
    "    minutes = my_time // 60\n",
    "    my_time %= 60\n",
    "    seconds = my_time\n",
    "    milliseconds = ((end - start)-int(end - start))\n",
    "    day_hour_min_sec = str('%02d' % int(day))+\":\"+str('%02d' % int(hour))+\":\"+str('%02d' % int(minutes))+\":\"+str('%02d' % int(seconds)+\".\"+str('%.3f' % milliseconds)[2:])\n",
    "    return day_hour_min_sec\n"
   ]
  },
  {
   "cell_type": "code",
   "execution_count": 2,
   "metadata": {},
   "outputs": [],
   "source": [
    "start_time = time.time()"
   ]
  },
  {
   "cell_type": "code",
   "execution_count": 3,
   "metadata": {},
   "outputs": [],
   "source": [
    "end_time = time.time()"
   ]
  },
  {
   "cell_type": "code",
   "execution_count": 5,
   "metadata": {},
   "outputs": [
    {
     "name": "stdout",
     "output_type": "stream",
     "text": [
      "day, hour, minute, second.millisecond-> 00:00:00:03.007\n"
     ]
    }
   ],
   "source": [
    "print(\"day, hour, minute, second.millisecond->\", time_taken(start_time, end_time))"
   ]
  },
  {
   "cell_type": "markdown",
   "metadata": {},
   "source": [
    "<b style=\"font-size:15px\"><a id=\"Running Shell Commands\">Running Shell Commands</a>"
   ]
  },
  {
   "cell_type": "code",
   "execution_count": 1,
   "metadata": {
    "scrolled": true
   },
   "outputs": [
    {
     "name": "stdout",
     "output_type": "stream",
     "text": [
      "dir\n",
      " Volume in drive C is Windows8_OS\n",
      " Volume Serial Number is AADC-2C7F\n",
      "\n",
      " Directory of C:\\Users\\GyanT\\Documents\\GitHub\\Python-Programming\n",
      "\n",
      "18/Jun/18  10:45 AM    <DIR>          .\n",
      "18/Jun/18  10:45 AM    <DIR>          ..\n",
      "11/Jun/18  09:52 AM    <DIR>          .ipynb_checkpoints\n",
      "11/Jun/18  09:52 AM             5,872 CodeChallenge.ipynb\n",
      "11/Jun/18  09:52 AM             1,946 FileReadWrite.ipynb\n",
      "11/Jun/18  09:52 AM               182 FileReadWrite.txt\n",
      "11/Jun/18  09:52 AM    <DIR>          files\n",
      "11/Jun/18  09:52 AM             1,789 Hair.ipynb\n",
      "11/Jun/18  09:52 AM            12,106 ImagesRename.ipynb\n",
      "11/Jun/18  09:52 AM            16,338 Introduction.ipynb\n",
      "11/Jun/18  09:52 AM    <DIR>          Matplotlib API\n",
      "11/Jun/18  09:52 AM    <DIR>          NLTK\n",
      "11/Jun/18  09:52 AM    <DIR>          NumPy\n",
      "11/Jun/18  09:52 AM            11,378 Problems.ipynb\n",
      "11/Jun/18  09:52 AM    <DIR>          Python Standard Library\n",
      "11/Jun/18  09:52 AM    <DIR>          PyTorch\n",
      "18/Jun/18  10:45 AM            11,218 ReusableCode.ipynb\n",
      "               8 File(s)         60,829 bytes\n",
      "               9 Dir(s)  163,692,724,224 bytes free\n"
     ]
    },
    {
     "data": {
      "text/plain": [
       "''"
      ]
     },
     "execution_count": 1,
     "metadata": {},
     "output_type": "execute_result"
    }
   ],
   "source": [
    "import subprocess, sys\n",
    "\n",
    "def execute(command):\n",
    "    process = subprocess.Popen(command, shell=True, stdout=subprocess.PIPE, stderr=subprocess.STDOUT)\n",
    "\n",
    "    # Poll process for new output until finished\n",
    "    while True:\n",
    "        nextline = process.stdout.readline()\n",
    "        if nextline == '' and process.poll() is not None:\n",
    "            break\n",
    "        sys.stdout.write(nextline)\n",
    "        sys.stdout.flush()\n",
    "\n",
    "    output = process.communicate()[0]\n",
    "    exitCode = process.returncode\n",
    "\n",
    "    if (exitCode == 0):\n",
    "        return output\n",
    "    else:\n",
    "        raise ProcessException(command, exitCode, output)\n",
    "\n",
    "\n",
    "command = \"dir\"\n",
    "\n",
    "print(command)\n",
    "execute(command)"
   ]
  },
  {
   "cell_type": "markdown",
   "metadata": {},
   "source": [
    "<b style=\"font-size:15px\"><a id=\"Crawl over a folder\">Crawl over a folder</a>"
   ]
  },
  {
   "cell_type": "code",
   "execution_count": 2,
   "metadata": {
    "scrolled": true
   },
   "outputs": [
    {
     "name": "stdout",
     "output_type": "stream",
     "text": [
      "CodeChallenge.ipynb\n",
      "FileReadWrite.ipynb\n",
      "Hair.ipynb\n",
      "ImagesRename.ipynb\n",
      "Introduction.ipynb\n",
      "Problems.ipynb\n",
      "ReusableCode.ipynb\n",
      "CodeChallenge-checkpoint.ipynb\n",
      "FileReadWrite-checkpoint.ipynb\n",
      "Hair-checkpoint.ipynb\n",
      "ImagesRename-checkpoint.ipynb\n",
      "Introduction-checkpoint.ipynb\n",
      "Problems-checkpoint.ipynb\n",
      "ReusableCode-checkpoint.ipynb\n",
      "GUI_toolkit.ipynb\n",
      "image.ipynb\n",
      "patches.ipynb\n",
      "pyplot.ipynb\n",
      "GUI_toolkit-checkpoint.ipynb\n",
      "image-checkpoint.ipynb\n",
      "patches-checkpoint.ipynb\n",
      "pyplot-checkpoint.ipynb\n",
      "nltk.ipynb\n",
      "nltk-checkpoint.ipynb\n",
      "numpy.ipynb\n",
      "numpy-checkpoint.ipynb\n",
      "csv.ipynb\n",
      "math.ipynb\n",
      "csv-checkpoint.ipynb\n",
      "math-checkpoint.ipynb\n",
      "ProcessAnkiWordData-checkpoint.ipynb\n",
      "1.tensor_tutorial.ipynb\n",
      "2.autograd_tutorial.ipynb\n",
      "3.neural_networks_tutorial.ipynb\n",
      "4.cifar10_tutorial_nc1_1.ipynb\n",
      "4.cifar10_tutorial_nc1_1_short.ipynb\n",
      "1.tensor_tutorial-checkpoint.ipynb\n",
      "2.autograd_tutorial-checkpoint.ipynb\n",
      "3.neural_networks_tutorial-checkpoint.ipynb\n",
      "4.cifar10_tutorial - Copy-checkpoint.ipynb\n",
      "4.cifar10_tutorial-checkpoint.ipynb\n",
      "4.cifar10_tutorial_exercise-checkpoint.ipynb\n",
      "4.cifar10_tutorial_nc1_1-checkpoint.ipynb\n",
      "4.cifar10_tutorial_nc1_1_short-checkpoint.ipynb\n",
      "4.cifar10_tutorial_nc2_2-checkpoint.ipynb\n",
      "4.cifar10_tutorial_nc3_1-checkpoint.ipynb\n",
      "4.cifar10_tutorial_nc4_1-checkpoint.ipynb\n",
      "4.cifar10_tutorial_nc5_1-checkpoint.ipynb\n"
     ]
    }
   ],
   "source": [
    "import os\n",
    "\n",
    "for root, dirs, filenames in os.walk(os.getcwd()):\n",
    "    for a_file in filenames:\n",
    "        if a_file.endswith(\".ipynb\"):\n",
    "            print(a_file)"
   ]
  },
  {
   "cell_type": "code",
   "execution_count": 2,
   "metadata": {},
   "outputs": [
    {
     "name": "stdout",
     "output_type": "stream",
     "text": [
      "Matplotlib API\\GUI_toolkit.ipynb\n",
      "Matplotlib API\\image.ipynb\n",
      "Matplotlib API\\patches.ipynb\n",
      "Matplotlib API\\pyplot.ipynb\n",
      "NLTK\\nltk.ipynb\n",
      "NumPy\\numpy.ipynb\n",
      "Python Standard Library\\csv.ipynb\n",
      "Python Standard Library\\math.ipynb\n",
      "PyTorch\\1 Deep Learning with PyTorch - A 60 Minute Blitz\\1.tensor_tutorial.ipynb\n",
      "PyTorch\\1 Deep Learning with PyTorch - A 60 Minute Blitz\\2.autograd_tutorial.ipynb\n",
      "PyTorch\\1 Deep Learning with PyTorch - A 60 Minute Blitz\\3.neural_networks_tutorial.ipynb\n",
      "PyTorch\\1 Deep Learning with PyTorch - A 60 Minute Blitz\\4.cifar10_tutorial_nc1_1.ipynb\n",
      "PyTorch\\1 Deep Learning with PyTorch - A 60 Minute Blitz\\4.cifar10_tutorial_nc1_1_short.ipynb\n"
     ]
    }
   ],
   "source": [
    "\"\"\"\n",
    "https://www.tutorialspoint.com/How-to-use-Glob-function-to-find-files-recursively-in-Python\n",
    "Python 3\n",
    "The glob module supports the \"**\" directive (which is parsed only if you pass recursive flag)\n",
    "which tells python to look recursively in the directories\n",
    "\"\"\"\n",
    "\n",
    "import glob\n",
    "\n",
    "for filename in glob.iglob('*/**/*.ipynb', recursive=True):\n",
    "    print(filename)"
   ]
  },
  {
   "cell_type": "code",
   "execution_count": null,
   "metadata": {},
   "outputs": [],
   "source": []
  }
 ],
 "metadata": {
  "anaconda-cloud": {},
  "kernelspec": {
   "display_name": "Python 3",
   "language": "python",
   "name": "python3"
  },
  "language_info": {
   "codemirror_mode": {
    "name": "ipython",
    "version": 3
   },
   "file_extension": ".py",
   "mimetype": "text/x-python",
   "name": "python",
   "nbconvert_exporter": "python",
   "pygments_lexer": "ipython3",
   "version": "3.6.5"
  }
 },
 "nbformat": 4,
 "nbformat_minor": 1
}
