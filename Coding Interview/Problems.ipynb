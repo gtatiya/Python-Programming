{
 "cells": [
  {
   "cell_type": "code",
   "execution_count": 2,
   "metadata": {},
   "outputs": [],
   "source": [
    "import math"
   ]
  },
  {
   "cell_type": "markdown",
   "metadata": {},
   "source": [
    "# Q) [Sherlock and Squares](https://www.hackerrank.com/challenges/sherlock-and-squares)\n",
    "Sample Input: 2 <br>\n",
    "3 9 <br>\n",
    "17 24 <br>\n",
    "Sample Output: 2 <br>\n",
    "0"
   ]
  },
  {
   "cell_type": "code",
   "execution_count": 3,
   "metadata": {},
   "outputs": [
    {
     "name": "stdout",
     "output_type": "stream",
     "text": [
      "2\n",
      "3 9\n",
      "2\n",
      "17 24\n",
      "0\n"
     ]
    }
   ],
   "source": [
    "t = int(input().strip())\n",
    "\n",
    "for i in range(t):\n",
    "    a, b = map(int, input().strip().split(' '))\n",
    "    \n",
    "    c = 0\n",
    "    for x in range(a, b+1):\n",
    "        if (math.sqrt(x) % 1 == 0):\n",
    "            c += 1\n",
    "    print(c)"
   ]
  },
  {
   "cell_type": "markdown",
   "metadata": {},
   "source": [
    "# Q) [Append and Delete](https://www.hackerrank.com/challenges/append-and-delete)\n",
    "Sample Input: hackerhappy <br>\n",
    "hackerrank <br>\n",
    "9 <br>\n",
    "Sample Output: Yes"
   ]
  },
  {
   "cell_type": "code",
   "execution_count": 7,
   "metadata": {},
   "outputs": [
    {
     "name": "stdout",
     "output_type": "stream",
     "text": [
      "hackerhappy\n",
      "hackerrank\n",
      "9\n",
      "Yes\n"
     ]
    }
   ],
   "source": [
    "s = input().strip()\n",
    "t = input().strip()\n",
    "k = int(input().strip())\n",
    "\n",
    "length1 = len(s)\n",
    "length2 = len(t)\n",
    "\n",
    "length = length1 if length1 <= length2 else length2 # taking smaller lenght\n",
    "\n",
    "count = 0\n",
    "for i in range(length):\n",
    "    if s[i] == t[i]:\n",
    "        count = count + 1 # index of first different letter in s\n",
    "    else:\n",
    "        break\n",
    "\n",
    "deletions = length1 - count # no. of letters to delete\n",
    "additions = length2 - count # no. of letters to add\n",
    "\n",
    "operations = deletions + additions # total operations needed\n",
    "\n",
    "doubled = 0\n",
    "if s == t:\n",
    "    doubled = (length1 * 2) + 1\n",
    "# though the string will be empty after \"length1\" deletions, we can still perform a delete operation on an empty string\n",
    "# to get the empty string\n",
    "\n",
    "if (((length1 == length2) or (length1 > length2)) and operations <= k) \\\n",
    "        or doubled == k or (s.count(s[0]) == length1 and t.count(t[0]) == length2):\n",
    "    print('Yes')\n",
    "else:\n",
    "    print('No')"
   ]
  },
  {
   "cell_type": "markdown",
   "metadata": {},
   "source": [
    "# Q) [Save the Prisoner!](https://www.hackerrank.com/challenges/save-the-prisoner)\n",
    "Sample Input: 1 <br>\n",
    "5 2 1 <br>\n",
    "Sample Output: 2"
   ]
  },
  {
   "cell_type": "code",
   "execution_count": 9,
   "metadata": {},
   "outputs": [
    {
     "name": "stdout",
     "output_type": "stream",
     "text": [
      "1\n",
      "5 2 1\n",
      "2\n"
     ]
    }
   ],
   "source": [
    "t = int(input().strip())\n",
    "\n",
    "for i in range(t):\n",
    "    n, m, s = map(int, input().strip().split(' '))\n",
    "    \n",
    "    # when id no. + sweets < no. of prisoners - n, m, s = 5, 2, 1\n",
    "    if s + m < n:\n",
    "        print(s + m - 1)\n",
    "    else:\n",
    "        # (s + m - 1) % n is divisible by no. of prisoners - n, m, s = 10, 5, 6\n",
    "        # This is IMPORTANT CASE\n",
    "        if (s + m - 1) % n == 0:\n",
    "            print(n)\n",
    "        #  n, m, s = 10, 5, 5\n",
    "        else:\n",
    "            print((s + m - 1) % n)"
   ]
  },
  {
   "cell_type": "markdown",
   "metadata": {},
   "source": [
    "# Q) [Beautiful Days at the Movies](https://www.hackerrank.com/challenges/beautiful-days-at-the-movies)\n",
    "Sample Input: 20 23 6 <br>\n",
    "Sample Output: 2"
   ]
  },
  {
   "cell_type": "code",
   "execution_count": 10,
   "metadata": {},
   "outputs": [
    {
     "name": "stdout",
     "output_type": "stream",
     "text": [
      "20 23 6\n",
      "2\n",
      "ello123\n",
      "llo123\n",
      "hello123\n",
      "hlo2\n",
      "3\n",
      "23\n",
      "321olleh\n",
      "31le\n"
     ]
    }
   ],
   "source": [
    "i, j, k = [int(x) for x in input().strip().split(' ')]\n",
    "\n",
    "count = 0\n",
    "for x in range(i, j+1):\n",
    "    if (x - int(str(x)[::-1])) % k == 0:\n",
    "        count += 1\n",
    "print(count)\n",
    "\n",
    "\"\"\"Reversing a string\"\"\"\n",
    "a = 'hello123'\n",
    "print(a[1::])\n",
    "print(a[2::])\n",
    "print(a[::1]) #Same\n",
    "print(a[::2]) #Alternate\n",
    "print(a[-1::])\n",
    "print(a[-2::])\n",
    "print(a[::-1]) # Reversing\n",
    "print(a[::-2])"
   ]
  },
  {
   "cell_type": "markdown",
   "metadata": {},
   "source": [
    "# Q) [Cut the sticks](https://www.hackerrank.com/challenges/cut-the-sticks)\n",
    "Sample Input: <br>6 <br>\n",
    "5 4 4 2 2 8<br>\n",
    "Sample Output:<br> 6<br>\n",
    "4<br>\n",
    "2<br>\n",
    "1<br>"
   ]
  },
  {
   "cell_type": "code",
   "execution_count": 4,
   "metadata": {},
   "outputs": [
    {
     "name": "stdout",
     "output_type": "stream",
     "text": [
      "8\n",
      "1 2 3 4 3 3 2 1\n",
      "8\n",
      "6\n",
      "4\n",
      "1\n"
     ]
    }
   ],
   "source": [
    "n = int(input().strip())\n",
    "arr = [int(x) for x in input().strip().split(' ')]\n",
    "\n",
    "currSize = n\n",
    "\n",
    "while currSize > 0:\n",
    "    if len(arr) > 0:\n",
    "        currMin = min(arr) #https://docs.python.org/2/library/functions.html#min\n",
    "        # min(arg1, arg2, *args[, key]) - Return the smallest item in an iterable or the smallest of two or more arguments.\n",
    "        print(len(arr))\n",
    "    \n",
    "    for i in range(len(arr)):\n",
    "        arr[i] = arr[i] - currMin\n",
    "        if arr[i] <= 0:\n",
    "            arr[i] = 0\n",
    "        \n",
    "    for i in range(arr.count(0)):\n",
    "        arr.remove(0) #https://docs.python.org/2/tutorial/datastructures.html#more-on-lists\n",
    "        # list.remove(x) - Remove the first item from the list whose value is x. It is an error if there is no such item.\n",
    "    \n",
    "    currSize = len(arr)"
   ]
  },
  {
   "cell_type": "markdown",
   "metadata": {},
   "source": [
    "# Q) [Kangaroo](https://www.hackerrank.com/challenges/kangaroo)\n",
    "Sample Input: <br>0 3 4 2 <br>\n",
    "Sample Output:<br> YES<br>\n",
    "Sample Input: <br>0 2 5 3 <br>\n",
    "Sample Output:<br> NO<br>"
   ]
  },
  {
   "cell_type": "code",
   "execution_count": 6,
   "metadata": {},
   "outputs": [
    {
     "name": "stdout",
     "output_type": "stream",
     "text": [
      "0 3 4 2\n",
      "YES\n"
     ]
    }
   ],
   "source": [
    "x1, v1, x2, v2 = input().strip().split(' ')\n",
    "x1, v1, x2, v2 = [int(x1), int(v1), int(x2), int(v2)]\n",
    "\n",
    "dist = x1 - x2 # x2 is always greater than x1 # \"dist = x2 - x1\" also works\n",
    "movement = v1 - v2 # for \"YES\" v1 always have to be greater than v2\n",
    "if movement > 0 and dist % movement == 0:\n",
    "    print(\"YES\")\n",
    "else:\n",
    "    print(\"NO\")"
   ]
  },
  {
   "cell_type": "markdown",
   "metadata": {},
   "source": [
    "# Q) [Circular Array Rotation](https://www.hackerrank.com/challenges/circular-array-rotation)\n",
    "Sample Input: <br>3 2 3 <br>\n",
    "1 2 3<br>\n",
    "0<br>\n",
    "1<br>\n",
    "2 <br>\n",
    "Sample Output:<br> 2<br>\n",
    "3<br>\n",
    "1"
   ]
  },
  {
   "cell_type": "code",
   "execution_count": 8,
   "metadata": {},
   "outputs": [
    {
     "name": "stdout",
     "output_type": "stream",
     "text": [
      "3 2 3\n",
      "1 2 3\n",
      "0\n",
      "2\n",
      "1\n",
      "3\n",
      "2\n",
      "1\n"
     ]
    }
   ],
   "source": [
    "n, k, q = input().strip().split(' ')\n",
    "n, k, q = [int(n), int(k), int(q)]\n",
    "a = [int(x) for x in input().strip().split(' ')]\n",
    "\n",
    "for i in range(q):\n",
    "    m = int(input())    \n",
    "    print(a[(m-k)%n]) # Instead of creating a new array after rotation, I used 'a' to retrive value stored in new array.\n",
    "    #The new array stores each element 'k' times right to 'a'.\n",
    "    #So, in order to retrive element stored in 'mth' location in new array, I used a[m-k], because 'a' will store it 'k' times back.\n",
    "    #I took %n of it to make sure the value of index is always smaller than 'n', the length of array."
   ]
  },
  {
   "cell_type": "markdown",
   "metadata": {},
   "source": [
    "# Q) [Time Conversion](https://www.hackerrank.com/challenges/time-conversion)\n",
    "Sample Input: 07:05:45PM <br>\n",
    "Sample Output: 19:05:45"
   ]
  },
  {
   "cell_type": "code",
   "execution_count": 10,
   "metadata": {},
   "outputs": [
    {
     "name": "stdout",
     "output_type": "stream",
     "text": [
      "07:05:45PM\n",
      "19:05:45\n"
     ]
    }
   ],
   "source": [
    "time = input().strip().split(':')\n",
    "\n",
    "time[0] = int(time[0])\n",
    "\n",
    "if (time[0] < 12) and (time[2][2] == 'P'):\n",
    "    time[0] += 12\n",
    "\n",
    "if (time[0] == 12) and (time[2][2] == 'A'):\n",
    "    time[0] = 0\n",
    "\n",
    "if time[0] < 10:\n",
    "    time[0] = str(time[0])\n",
    "    print(\"0\" + time[0] + \":\" + time[1] + \":\" + time[2][0]+time[2][1])\n",
    "else:\n",
    "    time[0] = str(time[0])\n",
    "    print(time[0] + \":\" + time[1] + \":\" + time[2][0]+time[2][1])"
   ]
  },
  {
   "cell_type": "markdown",
   "metadata": {
    "collapsed": true
   },
   "source": [
    "# Q) [Super Reduced String](https://www.hackerrank.com/challenges/reduced-string/)\n",
    "Sample Input: aaabccddd <br>\n",
    "Sample Output: abd"
   ]
  },
  {
   "cell_type": "code",
   "execution_count": 11,
   "metadata": {},
   "outputs": [
    {
     "name": "stdout",
     "output_type": "stream",
     "text": [
      "abd\n"
     ]
    }
   ],
   "source": [
    "def super_reduced_string(s):\n",
    "    \n",
    "    res = []\n",
    "    for c in s:\n",
    "        #print(\"c: \", c)\n",
    "        # ** If (res is not empty) and (last item is == c)\n",
    "        if res and res[-1] == c:\n",
    "            #print(\"POP\")\n",
    "            res.pop()\n",
    "        else:\n",
    "            res.append(c)\n",
    "        #print(\"res: \", res)\n",
    "    res = ''.join(res)\n",
    "    return res or \"Empty String\"\n",
    "\n",
    "s = \"aaabccddd\"\n",
    "result = super_reduced_string(s)\n",
    "print(result)"
   ]
  },
  {
   "cell_type": "markdown",
   "metadata": {},
   "source": [
    "# Q) [Between Two Sets](https://www.hackerrank.com/challenges/between-two-sets/problem)"
   ]
  },
  {
   "cell_type": "raw",
   "metadata": {},
   "source": [
    "Sample Input:\n",
    "2 3\n",
    "2 4\n",
    "16 32 96\n",
    "\n",
    "Sample Output:\n",
    "3"
   ]
  },
  {
   "cell_type": "code",
   "execution_count": 4,
   "metadata": {},
   "outputs": [
    {
     "name": "stdout",
     "output_type": "stream",
     "text": [
      "count:  3\n"
     ]
    }
   ],
   "source": [
    "a = [2, 4]\n",
    "b = [16, 32, 96]\n",
    "\n",
    "'''\n",
    "I was able to solve it, but I learned about all():\n",
    "\n",
    "The all() function returns True if all items in an iterable are true, otherwise it returns False.\n",
    "If the iterable object is empty, the all([]) function also returns True.\n",
    "'''\n",
    "\n",
    "maxA = max(a)\n",
    "minB = min(b)\n",
    "count = 0\n",
    "for i in range(maxA, minB+1):\n",
    "    if all([i%j==0 for j in a]):\n",
    "        if all([j%i==0 for j in b]):\n",
    "            count += 1\n",
    "\n",
    "print(\"count: \", count)"
   ]
  },
  {
   "cell_type": "markdown",
   "metadata": {},
   "source": [
    "# Q) [Picking Numbers](https://www.hackerrank.com/challenges/picking-numbers/)"
   ]
  },
  {
   "cell_type": "raw",
   "metadata": {},
   "source": [
    "Sample Input 0:\n",
    "6\n",
    "4 6 5 3 3 1\n",
    "\n",
    "Sample Output 0:\n",
    "3\n",
    "\n",
    "Sample Input 1:\n",
    "6\n",
    "1 2 2 3 1 2\n",
    "\n",
    "Sample Output 1:\n",
    "5"
   ]
  },
  {
   "cell_type": "code",
   "execution_count": 1,
   "metadata": {},
   "outputs": [
    {
     "name": "stdout",
     "output_type": "stream",
     "text": [
      "3\n"
     ]
    }
   ],
   "source": [
    "\"\"\"\n",
    "GT:\n",
    "Instead of looking at each element in a list, if possible, just computed its value and search for it\n",
    "\"\"\"\n",
    "\n",
    "def pickingNumbers(a):\n",
    "    \n",
    "    max_sub_arr = 0\n",
    "    for i in a:\n",
    "        c = a.count(i)\n",
    "        d = a.count(i-1) # GT: compute and search\n",
    "        c = c + d\n",
    "        if c > max_sub_arr:\n",
    "            max_sub_arr = c\n",
    "\n",
    "    return max_sub_arr\n",
    "\n",
    "a = [4, 6, 5, 3, 3, 1]\n",
    "print(pickingNumbers(a))"
   ]
  },
  {
   "cell_type": "code",
   "execution_count": null,
   "metadata": {},
   "outputs": [],
   "source": []
  },
  {
   "cell_type": "code",
   "execution_count": null,
   "metadata": {},
   "outputs": [],
   "source": []
  }
 ],
 "metadata": {
  "anaconda-cloud": {},
  "kernelspec": {
   "display_name": "Python 3",
   "language": "python",
   "name": "python3"
  },
  "language_info": {
   "codemirror_mode": {
    "name": "ipython",
    "version": 3
   },
   "file_extension": ".py",
   "mimetype": "text/x-python",
   "name": "python",
   "nbconvert_exporter": "python",
   "pygments_lexer": "ipython3",
   "version": "3.7.9"
  }
 },
 "nbformat": 4,
 "nbformat_minor": 1
}
