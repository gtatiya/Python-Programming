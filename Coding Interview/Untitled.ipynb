{
 "cells": [
  {
   "cell_type": "code",
   "execution_count": null,
   "metadata": {},
   "outputs": [],
   "source": []
  },
  {
   "cell_type": "code",
   "execution_count": null,
   "metadata": {},
   "outputs": [],
   "source": [
    "def shortestWordEditPath(source, target, words):\n",
    "  global rez\n",
    "  rez = float('inf')\n",
    "  \n",
    "  def is_valid(word1, word2):\n",
    "    if len(word1)==len(word2):\n",
    "      count=0\n",
    "      for a,b in zip(word1,word2):\n",
    "        if a!=b:\n",
    "          count+=1\n",
    "      if count==1:\n",
    "        return True\n",
    "      return False\n",
    "    return False\n",
    "  \n",
    "  def calc(current_word, visited, edits):\n",
    "    global rez\n",
    "    if current_word == target:\n",
    "      rez = min(rez, edits)\n",
    "      \n",
    "    else:   \n",
    "      for word in words:\n",
    "        if word not in visited and is_valid(current_word, word):\n",
    "          new_visited = set(visited)\n",
    "          new_visited.add(word)\n",
    "          calc(word, new_visited, edits+1)\n",
    "  \n",
    "  \n",
    "  calc(source, {source}, 0)\n",
    "  if rez==float('inf'):\n",
    "    return -1\n",
    "  return rez #your code goes here\n",
    "\n",
    "\n",
    "print(shortestWordEditPath(\"no\", \"dog\", [\"but\", \"put\", \"big\", \"pot\", \"pog\", \"dog\", \"lot\"]))"
   ]
  },
  {
   "cell_type": "code",
   "execution_count": null,
   "metadata": {},
   "outputs": [],
   "source": [
    "def shortestWordEditPath(source, target, words):\n",
    "  global rez\n",
    "  rez = float('inf')\n",
    "  \n",
    "  def is_valid(word1, word2):\n",
    "    if len(word1)==len(word2):\n",
    "      count=0\n",
    "      for a,b in zip(word1,word2):\n",
    "        if a!=b:\n",
    "          count+=1\n",
    "      if count==1:\n",
    "        return True\n",
    "      return False\n",
    "    return False\n",
    "  \n",
    "  def calc(current_word, visited, edits):\n",
    "    global rez\n",
    "    if current_word == target:\n",
    "      rez = min(rez, edits)\n",
    "      \n",
    "    else:   \n",
    "      for word in words:\n",
    "        if word not in visited and is_valid(current_word, word):\n",
    "          new_visited = set(visited)\n",
    "          new_visited.add(word)\n",
    "          calc(word, new_visited, edits+1)\n",
    "  \n",
    "  \n",
    "  calc(source, {source}, 0)\n",
    "  if rez==float('inf'):\n",
    "    return -1\n",
    "  return rez \n",
    "\n",
    "# Time complexity: O(N^2); Space: O(N)\n"
   ]
  },
  {
   "cell_type": "code",
   "execution_count": null,
   "metadata": {},
   "outputs": [],
   "source": []
  }
 ],
 "metadata": {
  "kernelspec": {
   "display_name": "Python 3",
   "language": "python",
   "name": "python3"
  },
  "language_info": {
   "codemirror_mode": {
    "name": "ipython",
    "version": 3
   },
   "file_extension": ".py",
   "mimetype": "text/x-python",
   "name": "python",
   "nbconvert_exporter": "python",
   "pygments_lexer": "ipython3",
   "version": "3.7.6"
  }
 },
 "nbformat": 4,
 "nbformat_minor": 4
}
