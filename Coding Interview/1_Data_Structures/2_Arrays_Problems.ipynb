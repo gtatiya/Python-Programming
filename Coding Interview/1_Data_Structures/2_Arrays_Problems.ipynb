{
 "cells": [
  {
   "cell_type": "code",
   "execution_count": null,
   "metadata": {},
   "outputs": [],
   "source": []
  },
  {
   "cell_type": "markdown",
   "metadata": {},
   "source": [
    "# Sentence Reverse"
   ]
  },
  {
   "cell_type": "raw",
   "metadata": {},
   "source": [
    "Sentence Reverse\n",
    "\n",
    "You are given an array of characters arr that consists of sequences of characters separated by space characters. Each space-delimited sequence of characters defines a word.\n",
    "\n",
    "Implement a function reverseWords that reverses the order of the words in the array in the most efficient manner.\n",
    "\n",
    "Explain your solution and analyze its time and space complexities.\n",
    "\n",
    "Example:\n",
    "\n",
    "input:  arr = [ 'p', 'e', 'r', 'f', 'e', 'c', 't', '  ',\n",
    "                'm', 'a', 'k', 'e', 's', '  ',\n",
    "                'p', 'r', 'a', 'c', 't', 'i', 'c', 'e' ]\n",
    "\n",
    "output: [ 'p', 'r', 'a', 'c', 't', 'i', 'c', 'e', '  ',\n",
    "          'm', 'a', 'k', 'e', 's', '  ',\n",
    "          'p', 'e', 'r', 'f', 'e', 'c', 't' ]"
   ]
  },
  {
   "cell_type": "code",
   "execution_count": 1,
   "metadata": {},
   "outputs": [
    {
     "name": "stdout",
     "output_type": "stream",
     "text": [
      "[' ', ' ']\n"
     ]
    }
   ],
   "source": [
    "def reverse_words(arr):\n",
    "  \n",
    "    sentence = ''.join(arr)\n",
    "    if not sentence.strip():\n",
    "        return arr\n",
    "\n",
    "    words_list = sentence.split(' ')\n",
    "  \n",
    "    arr_reverse = []\n",
    "    for i in range(len(words_list)-1, -1, -1):\n",
    "        for char in list(words_list[i]):\n",
    "            arr_reverse.append(char)\n",
    "        arr_reverse.append(' ')\n",
    "    \n",
    "    arr_reverse = arr_reverse[:-1]\n",
    "\n",
    "    return arr_reverse\n",
    "\n",
    "arr = [\" \",\" \"]\n",
    "# arr = [\"a\",\" \",\" \",\"b\"]\n",
    "print(reverse_words(arr))"
   ]
  },
  {
   "cell_type": "code",
   "execution_count": 1,
   "metadata": {},
   "outputs": [
    {
     "name": "stdout",
     "output_type": "stream",
     "text": [
      "['b', ' ', ' ', 'a']\n"
     ]
    }
   ],
   "source": [
    "\"\"\"\n",
    "One possible solution is doing a linear iteration on arr while pushing a copy of every word to a stack and\n",
    "then pulling them in reverse order while copying the words back into arr.\n",
    "Another approach is initializing a new array at the same length, iterating over arr from right to left and\n",
    "copying any sequence of characters to the new array from left to right. Both approaches take O(N) time and at least O(N) space.\n",
    "\n",
    "A more elegant and efficient approach is to reverse all the characters in arr and then reverse the characters\n",
    "in each word separately. While the first reverse gives us the words in the reverse order as we wanted,\n",
    "it also reverses the characters of each word. To fix that, we do the second reverse, which reverses each word separately.\n",
    "\n",
    "Reversing items in an array is done by a ‘mirror’ function, that swaps the items of every 2 indices with the same distance\n",
    "from the middle.\n",
    "\"\"\"\n",
    "\n",
    "def mirrorReverse(arr, start, end):\n",
    "    \n",
    "    while (start < end):        \n",
    "        arr[start], arr[end] = arr[end], arr[start]    \n",
    "        start += 1\n",
    "        end -= 1\n",
    "    \n",
    "    return arr\n",
    "\n",
    "def reverse_words(arr):\n",
    "  \n",
    "    n = len(arr)\n",
    "    arr = mirrorReverse(arr, 0, n-1)\n",
    "\n",
    "    # reverse each word\n",
    "    wordStart = None\n",
    "    for i in range(n):\n",
    "        if (arr[i] == ' '):\n",
    "            # wordEnd is found when arr[i] == ' '\n",
    "            if (wordStart != None):\n",
    "                arr = mirrorReverse(arr, wordStart, i-1)\n",
    "                wordStart = None\n",
    "        elif (i == n-1):\n",
    "            # Last word's wordEnd is found when i == n-i\n",
    "            if (wordStart != None):\n",
    "                arr = mirrorReverse(arr, wordStart, i)\n",
    "        else:\n",
    "            if (wordStart == None):\n",
    "                wordStart = i\n",
    "\n",
    "    return arr\n",
    "\n",
    "\n",
    "# arr = [\" \",\" \"]\n",
    "arr = [\"a\",\" \",\" \",\"b\"]\n",
    "print(reverse_words(arr))"
   ]
  },
  {
   "cell_type": "code",
   "execution_count": null,
   "metadata": {},
   "outputs": [],
   "source": []
  },
  {
   "cell_type": "code",
   "execution_count": null,
   "metadata": {},
   "outputs": [],
   "source": []
  },
  {
   "cell_type": "code",
   "execution_count": null,
   "metadata": {},
   "outputs": [],
   "source": []
  }
 ],
 "metadata": {
  "kernelspec": {
   "display_name": "Python 3",
   "language": "python",
   "name": "python3"
  },
  "language_info": {
   "codemirror_mode": {
    "name": "ipython",
    "version": 3
   },
   "file_extension": ".py",
   "mimetype": "text/x-python",
   "name": "python",
   "nbconvert_exporter": "python",
   "pygments_lexer": "ipython3",
   "version": "3.7.6"
  }
 },
 "nbformat": 4,
 "nbformat_minor": 4
}
