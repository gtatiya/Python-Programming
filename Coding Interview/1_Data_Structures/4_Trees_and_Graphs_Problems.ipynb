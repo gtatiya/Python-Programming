{
 "cells": [
  {
   "cell_type": "code",
   "execution_count": null,
   "metadata": {},
   "outputs": [],
   "source": []
  },
  {
   "cell_type": "markdown",
   "metadata": {},
   "source": [
    "# BFS"
   ]
  },
  {
   "cell_type": "markdown",
   "metadata": {},
   "source": [
    "# Q) [Snakes and Ladders: The Quickest Way Up](https://www.hackerrank.com/challenges/the-quickest-way-up)"
   ]
  },
  {
   "cell_type": "raw",
   "metadata": {},
   "source": [
    "Sample Input:\n",
    "2\n",
    "3\n",
    "32 62\n",
    "42 68\n",
    "12 98\n",
    "7\n",
    "95 13\n",
    "97 25\n",
    "93 37\n",
    "79 27\n",
    "75 19\n",
    "49 47\n",
    "67 17\n",
    "4\n",
    "8 52\n",
    "6 80\n",
    "26 42\n",
    "2 72\n",
    "9\n",
    "51 19\n",
    "39 11\n",
    "37 29\n",
    "81 3\n",
    "59 5\n",
    "79 23\n",
    "53 7\n",
    "43 33\n",
    "77 21\n",
    "\n",
    "Sample Output\n",
    "3\n",
    "5"
   ]
  },
  {
   "cell_type": "code",
   "execution_count": 1,
   "metadata": {
    "scrolled": true
   },
   "outputs": [
    {
     "name": "stdout",
     "output_type": "stream",
     "text": [
      "result:  5\n"
     ]
    }
   ],
   "source": [
    "\n",
    "def quickestWayUp(ladders, snakes):\n",
    "    \n",
    "    # Build directed graph\n",
    "    paths = {}\n",
    "    for s, d in ladders + snakes:\n",
    "        paths[s] = d\n",
    "    \n",
    "    visited = set()\n",
    "    queue = [(1, 0)]\n",
    "    while queue:\n",
    "        # print(\"queue: \", queue)\n",
    "        sq, rolls = queue.pop(0)\n",
    "        if 100 == sq:\n",
    "            return rolls\n",
    "\n",
    "        visited.add(sq)\n",
    "        for i in reversed(range(1, 7)):\n",
    "            next_sq = sq + i\n",
    "            if next_sq in visited or next_sq > 100:\n",
    "                continue\n",
    "\n",
    "            queue.append(((next_sq in paths and paths[next_sq]) or next_sq, rolls + 1))\n",
    "\n",
    "    return -1\n",
    "\n",
    "# ladders = [[32, 62], [42, 68], [12, 98]]\n",
    "# snakes = [[95, 13], [97, 25], [93, 37], [79, 27], [75, 19], [49, 47], [67, 17]]\n",
    "ladders = [[8, 52], [6, 80], [26, 42], [2, 72]]\n",
    "snakes = [[51, 19], [39, 11], [37, 29], [81, 3], [59, 5], [79, 23], [53, 7], [43, 33], [77, 21]]\n",
    "result = quickestWayUp(ladders, snakes)\n",
    "print(\"result: \", result)"
   ]
  },
  {
   "cell_type": "markdown",
   "metadata": {},
   "source": [
    "# Q) [Breadth First Search: Shortest Reach](https://www.hackerrank.com/challenges/bfsshortreach/problem)"
   ]
  },
  {
   "cell_type": "raw",
   "metadata": {},
   "source": [
    "Sample Input\n",
    "2\n",
    "4 2\n",
    "1 2\n",
    "1 3\n",
    "1\n",
    "3 1\n",
    "2 3\n",
    "2\n",
    "\n",
    "Sample Output\n",
    "6 6 -1\n",
    "-1 6"
   ]
  },
  {
   "cell_type": "code",
   "execution_count": 2,
   "metadata": {},
   "outputs": [
    {
     "name": "stdout",
     "output_type": "stream",
     "text": [
      "[6, 6, -1]\n",
      "[-1, 6]\n"
     ]
    }
   ],
   "source": [
    "def bfs(n, m, edges, s):\n",
    "\n",
    "    # Build undirected graph\n",
    "    graph = {}\n",
    "    for num in range(1, n+1):\n",
    "        graph[num] = set()\n",
    "    for l, r in edges:\n",
    "        graph[l].add(r)\n",
    "        graph[r].add(l)\n",
    "    \n",
    "    visited = {s}\n",
    "    queue = [(s, 0)]\n",
    "    cost_from_s = {}\n",
    "    while queue:\n",
    "        curr_node, curr_cost = queue.pop(0)\n",
    "        for nbour in graph[curr_node]:\n",
    "            if nbour not in visited:\n",
    "                visited.add(nbour)\n",
    "                queue.append((nbour, curr_cost + 6))\n",
    "                cost_from_s[nbour] = curr_cost + 6\n",
    "\n",
    "    result = []\n",
    "    for node in range(1, n+1):\n",
    "        if s != node:\n",
    "            result.append(cost_from_s.get(node, -1))\n",
    "    \n",
    "    return result\n",
    "\n",
    "n = 4\n",
    "m = 2\n",
    "edges = [[1, 2], [1, 3]]\n",
    "s = 1\n",
    "print(bfs(n, m, edges, s))\n",
    "\n",
    "n = 3\n",
    "m = 1\n",
    "edges = [[2, 3]]\n",
    "s = 2\n",
    "print(bfs(n, m, edges, s))"
   ]
  },
  {
   "cell_type": "markdown",
   "metadata": {},
   "source": [
    "## Q) Shortest Word Edit Path"
   ]
  },
  {
   "cell_type": "raw",
   "metadata": {},
   "source": [
    "Given two words source and target, and a list of words words, find the length of the shortest series of edits that transforms source to target.\n",
    "\n",
    "Each edit must change exactly one letter at a time, and each intermediate word (and the final target word) must exist in words.\n",
    "\n",
    "If the task is impossible, return -1.\n",
    "\n",
    "Examples:\n",
    "\n",
    "source = \"bit\", target = \"dog\"\n",
    "words = [\"but\", \"put\", \"big\", \"pot\", \"pog\", \"dog\", \"lot\"]\n",
    "\n",
    "output: 5\n",
    "explanation: bit -> but -> put -> pot -> pog -> dog has 5 transitions.\n",
    "\n",
    "source = \"no\", target = \"go\"\n",
    "words = [\"to\"]\n",
    "\n",
    "output: -1"
   ]
  },
  {
   "cell_type": "code",
   "execution_count": 3,
   "metadata": {},
   "outputs": [
    {
     "name": "stdout",
     "output_type": "stream",
     "text": [
      "5\n"
     ]
    }
   ],
   "source": [
    "\"\"\"\n",
    "Time Complexity:\n",
    "O(N*K^2), where N is the length of words and K is the maximum length of any given word.\n",
    "For each word in words, in order to find neighbors we may construct O(K) new words, each in O(K) time.\n",
    "\n",
    "Space Complexity:\n",
    "O(NK), the space to store the word list.\n",
    "\"\"\"\n",
    "\n",
    "def shortestWordEditPath(source, target, wordset):\n",
    "\n",
    "    alphabet = 'abcdefghijklmnopqrstuvwxyz'\n",
    "    visited = set()\n",
    "    visited.add(source)\n",
    "    queue = []\n",
    "    queue.append((source, 0))\n",
    "\n",
    "    while queue:\n",
    "        word, depth = queue.pop(0)\n",
    "        if word == target:\n",
    "            return depth\n",
    "        for i in range(len(word)):\n",
    "            # First Strategy\n",
    "#             for word2 in wordset:\n",
    "#                 if len(word2) == len(word):\n",
    "#                     diff = 0\n",
    "#                     for j in range(len(word)):\n",
    "#                         if word[j] != word2[j]:\n",
    "#                             diff += 1\n",
    "#                             if diff == 2:\n",
    "#                                 break\n",
    "#                     if diff == 1 and word2 not in visited:\n",
    "#                         queue.append((word2, depth+1))\n",
    "#                         visited.add(word2)\n",
    "\n",
    "            # Second Strategy\n",
    "            for c in alphabet:\n",
    "                word2 = list(word)\n",
    "                word2[i] = c\n",
    "                word2 = ''.join(word2)\n",
    "                if word2 in wordset and word2 not in visited:\n",
    "                    queue.append((word2, depth+1))\n",
    "                    visited.add(word2)\n",
    "    return -1\n",
    "\n",
    "words = [\"but\", \"put\", \"big\", \"pot\", \"pog\", \"dog\", \"lot\"]\n",
    "\n",
    "source = 'bit'\n",
    "target = \"dog\"\n",
    "\n",
    "print(shortestWordEditPath(source, target, words))"
   ]
  },
  {
   "cell_type": "code",
   "execution_count": 4,
   "metadata": {},
   "outputs": [
    {
     "name": "stdout",
     "output_type": "stream",
     "text": [
      "3\n"
     ]
    }
   ],
   "source": [
    "# Recurssion\n",
    "# Time complexity: O(N^2); Space: O(N)\n",
    "\n",
    "def is_valid(word1, word2):\n",
    "    if len(word1) == len(word2):\n",
    "        toggle = False\n",
    "        for a, b in zip(word1, word2):\n",
    "            if a != b:\n",
    "                if toggle:\n",
    "                    return False\n",
    "                toggle = True\n",
    "        return True\n",
    "    return False\n",
    "    \n",
    "def shortestWordEditPath(source, target, words):\n",
    "    global rez\n",
    "    rez = float('inf')\n",
    "\n",
    "    def calc(current_word, visited, edits):\n",
    "        global rez\n",
    "        if current_word == target:\n",
    "            rez = min(rez, edits)\n",
    "        else:   \n",
    "            for word in words:\n",
    "                if word not in visited and is_valid(current_word, word):\n",
    "                    new_visited = set(visited)\n",
    "                    new_visited.add(word)\n",
    "                    calc(word, new_visited, edits + 1)\n",
    "  \n",
    "    calc(source, {source}, 0)\n",
    "    \n",
    "    if rez == float('inf'):\n",
    "        return -1\n",
    "    \n",
    "    return rez\n",
    "\n",
    "words = [\"but\", \"put\", \"big\", \"pot\", \"pog\", \"dog\", \"lot\"]\n",
    "source = 'bit'\n",
    "target = \"pot\"#\"dog\"\n",
    "\n",
    "print(shortestWordEditPath(source, target, words))"
   ]
  },
  {
   "cell_type": "markdown",
   "metadata": {},
   "source": [
    "## Q) Sales Path"
   ]
  },
  {
   "cell_type": "raw",
   "metadata": {},
   "source": [
    "The car manufacturer Honda holds their distribution system in the form of a tree (not necessarily binary). The root is the company itself, and every node in the tree represents a car distributor that receives cars from the parent node and ships them to its children nodes. The leaf nodes are car dealerships that sell cars direct to consumers. In addition, every node holds an integer that is the cost of shipping a car to it.\n",
    "\n",
    "Take for example the tree below:"
   ]
  },
  {
   "attachments": {
    "image.png": {
     "image/png": "[encoded data removed]"
    }
   },
   "cell_type": "markdown",
   "metadata": {},
   "source": [
    "![image.png](attachment:image.png)"
   ]
  },
  {
   "cell_type": "raw",
   "metadata": {},
   "source": [
    "A path from Honda’s factory to a car dealership, which is a path from the root to a leaf in the tree, is called a Sales Path. The cost of a Sales Path is the sum of the costs for every node in the path. For example, in the tree above one Sales Path is 0→3→0→10, and its cost is 13 (0+3+0+10).\n",
    "\n",
    "Honda wishes to find the minimal Sales Path cost in its distribution tree. Given a node rootNode, write a function getCheapestCost that calculates the minimal Sales Path cost in the tree.\n",
    "\n",
    "Implement your function in the most efficient manner and analyze its time and space complexities.\n",
    "\n",
    "For example:\n",
    "\n",
    "Given the rootNode of the tree in diagram above\n",
    "\n",
    "Your function would return:\n",
    "\n",
    "7 since it’s the minimal Sales Path cost (there are actually two Sales Paths in the tree whose cost is 7: 0→6→1 and 0→3→2→1→1)"
   ]
  },
  {
   "cell_type": "code",
   "execution_count": 5,
   "metadata": {},
   "outputs": [
    {
     "name": "stdout",
     "output_type": "stream",
     "text": [
      "Cheapest Cost:  7\n"
     ]
    }
   ],
   "source": [
    "class Tree(object):\n",
    "    \"Generic tree node.\"\n",
    "    def __init__(self, cost, children=None):\n",
    "        self.cost = cost\n",
    "        self.children = []\n",
    "        self.parent = None\n",
    "        \n",
    "        if children is not None:\n",
    "            for child in children:\n",
    "                self.add_child(child)\n",
    "    \n",
    "    def add_child(self, node):\n",
    "        assert isinstance(node, Tree)\n",
    "        self.children.append(node)\n",
    "\n",
    "t = Tree(0, [Tree(5,\n",
    "                  [Tree(4)]),\n",
    "             Tree(3,\n",
    "                  [Tree(2,\n",
    "                       [Tree(1,\n",
    "                             [Tree(1)])]),\n",
    "                   Tree(0,\n",
    "                        [Tree(10)])]),\n",
    "             Tree(6,\n",
    "                  [Tree(1),\n",
    "                   Tree(5)])])\n",
    "\n",
    "\"\"\"\n",
    "GT:\n",
    "- No need to use visited as it is a Tree and there is no way to visit a node again\n",
    "- Use `while queue` instead of `while True`\n",
    "\"\"\"\n",
    "def get_cheapest_cost(rootNode):\n",
    "  \n",
    "    queue = [(rootNode, rootNode.cost)]\n",
    "    path_cost = []\n",
    "  \n",
    "    while queue:    \n",
    "        node, cost = queue.pop(0)\n",
    "        #print(\"node: \", node.cost)\n",
    "    \n",
    "        if len(node.children) == 0:\n",
    "            path_cost.append(cost)\n",
    "      \n",
    "        for child in node.children:\n",
    "            queue.append((child, cost+child.cost))\n",
    "    \n",
    "    return min(path_cost)\n",
    "\n",
    "print(\"Cheapest Cost: \", get_cheapest_cost(t))"
   ]
  },
  {
   "cell_type": "code",
   "execution_count": 6,
   "metadata": {},
   "outputs": [
    {
     "name": "stdout",
     "output_type": "stream",
     "text": [
      "rootNode.cost:  0\n",
      "rootNode.cost:  5\n",
      "rootNode.cost:  4\n",
      "tempCost  4\n",
      "tempCost  9\n",
      "rootNode.cost:  3\n",
      "rootNode.cost:  2\n",
      "rootNode.cost:  1\n",
      "rootNode.cost:  1\n",
      "tempCost  1\n",
      "tempCost  2\n",
      "tempCost  4\n",
      "rootNode.cost:  0\n",
      "rootNode.cost:  10\n",
      "tempCost  10\n",
      "tempCost  10\n",
      "tempCost  7\n",
      "rootNode.cost:  6\n",
      "rootNode.cost:  1\n",
      "tempCost  1\n",
      "rootNode.cost:  5\n",
      "tempCost  5\n",
      "tempCost  7\n",
      "Cheapest Cost:  7\n"
     ]
    }
   ],
   "source": [
    "# Recurssion\n",
    "\"\"\"\n",
    "Time Complexity:\n",
    "let N be the number of nodes in the tree. Notice that getCheapestCost is applied to every node exactly once.\n",
    "Therefore, there are overall O(N) calls to getCheapestCost.\n",
    "\n",
    "Space Complexity:\n",
    "every time the function recurses, it consumes only a constant amount of space.\n",
    "However, due to the nature of the recursion we used, the stack call holds N instances of\n",
    "getCheapestCost which makes the total space complexity to be O(N).\n",
    "\"\"\"\n",
    "def getCheapestCost(rootNode):\n",
    "    print(\"rootNode.cost: \", rootNode.cost)\n",
    "    \n",
    "    n = len(rootNode.children)\n",
    "    \n",
    "    # Base case\n",
    "    if (n == 0):\n",
    "        return rootNode.cost\n",
    "    else:\n",
    "        # Recurssion\n",
    "        # initialize minCost to the largest integer in the system\n",
    "        minCost = float('inf')\n",
    "        for i in range(n):\n",
    "            tempCost = getCheapestCost(rootNode.children[i])\n",
    "            print(\"tempCost \", tempCost)\n",
    "            if (tempCost < minCost):\n",
    "                minCost = tempCost\n",
    "\n",
    "    return minCost + rootNode.cost\n",
    "\n",
    "print(\"Cheapest Cost: \", getCheapestCost(t))"
   ]
  },
  {
   "cell_type": "markdown",
   "metadata": {},
   "source": [
    "# Q) Autonomous Vehicle Navigation"
   ]
  },
  {
   "cell_type": "raw",
   "metadata": {},
   "source": [
    "You are given a grid representing a city, with each cell in the grid containing either an obstacle (represented as \"1\") or open road (represented as \"0\").\n",
    "The grid is rectangular and can be viewed as an M x N matrix.\n",
    "\n",
    "Your task is to find the shortest path from the top-left corner (0,0) to the bottom-right corner (M-1, N-1) of the grid.\n",
    "You can only move right or down, and you cannot move through cells with obstacles.\n",
    "\n",
    "Write a Python function that takes the grid as input and returns the length of the shortest path.\n",
    "If there's no path, return -1.\n",
    "\n",
    "For example, given the grid:\n",
    "[\n",
    "  [0, 0, 0],\n",
    "  [0, 1, 0],\n",
    "  [0, 0, 0]\n",
    "]\n",
    "\n",
    "The function should return 4, as there is a path: (0,0) -> (0,1) -> (0,2) -> (1,2) -> (2,2)."
   ]
  },
  {
   "cell_type": "code",
   "execution_count": 7,
   "metadata": {},
   "outputs": [
    {
     "name": "stdout",
     "output_type": "stream",
     "text": [
      "grid: \n",
      " [[0 0 0 1 1]\n",
      " [0 1 0 0 1]\n",
      " [0 1 1 0 0]\n",
      " [1 0 1 0 0]\n",
      " [1 1 1 0 0]]\n",
      "length:  8\n"
     ]
    }
   ],
   "source": [
    "import numpy as np\n",
    "\n",
    "def get_shortest_path_length(grid):\n",
    "    original_loc = (0, 0)\n",
    "    final_loc = (grid.shape[0] - 1, grid.shape[1] - 1)\n",
    "\n",
    "    queue = [(original_loc, 0)]\n",
    "    visited = {original_loc}  # use a set data structure\n",
    "\n",
    "    while queue:\n",
    "        loc, length = queue.pop(0)\n",
    "\n",
    "        if loc == final_loc:\n",
    "            return length\n",
    "        \n",
    "        # Making sure not to go outside the grid\n",
    "        loc_right = (loc[0], loc[1] + 1) if loc[1] + 1 <= final_loc[1] else loc\n",
    "        loc_down = (loc[0] + 1, loc[1]) if loc[0] + 1 <= final_loc[0] else loc\n",
    "\n",
    "        for loc in [loc_right, loc_down]:\n",
    "            if grid[loc[0]][loc[1]] == 1:\n",
    "                # Avoiding obstacles\n",
    "                continue\n",
    "            if loc not in visited:\n",
    "                visited.add(loc)\n",
    "                queue.append((loc, length + 1))\n",
    "\n",
    "    return -1\n",
    "\n",
    "'''\n",
    "Time: O(V+E)\n",
    "'''\n",
    "\n",
    "m, n = 5, 5\n",
    "grid = np.random.randint(2, size=(m, n))\n",
    "grid[0][0] = 0\n",
    "grid[m-1][n-1] = 0\n",
    "\n",
    "grid = [[0, 0, 0, 1, 1],\n",
    " [0, 1, 0, 0, 1],\n",
    " [0, 1, 1, 0, 0],\n",
    " [1, 0, 1, 0, 0],\n",
    " [1, 1, 1, 0, 0]]\n",
    "grid = np.array(grid)\n",
    "\n",
    "print('grid: \\n', grid)\n",
    "\n",
    "length = get_shortest_path_length(grid)\n",
    "print('length: ', length)"
   ]
  },
  {
   "cell_type": "markdown",
   "metadata": {},
   "source": [
    "# Q) Find the Optimal Path for an Autonomous Vehicle"
   ]
  },
  {
   "cell_type": "raw",
   "metadata": {},
   "source": [
    "Question: Find the Optimal Path for an Autonomous Vehicle\n",
    "\n",
    "You are given a 2D grid that represents a road network for an autonomous vehicle.\n",
    "The grid consists of the following types of cells:\n",
    "\n",
    "'0': An open cell, representing a road the vehicle can travel.\n",
    "'1': A blocked cell, representing an obstacle.\n",
    "'S': The start cell for the vehicle.\n",
    "'D': The destination cell the vehicle needs to reach.\n",
    "\n",
    "Write a Python function that determines the optimal path from the start cell 'S' to the destination cell 'D'.\n",
    "The vehicle can only move in up, down, left, or right directions (no diagonal movement is allowed).\n",
    "\n",
    "The function should return a list of cell coordinates that represent the optimal path from 'S' to 'D' if a path exists.\n",
    "If no path is possible, return an empty list.\n",
    "\n",
    "Here's an example grid:\n",
    "grid = [\n",
    "    ['S', '0', '0', '0', '1'],\n",
    "    ['0', '1', '1', '0', '1'],\n",
    "    ['0', '1', '0', '0', '0'],\n",
    "    ['1', '0', '0', '1', '0'],\n",
    "    ['0', '1', '1', 'D', '0'],\n",
    "]\n",
    "\n",
    "For this grid, the function should return the following path:\n",
    "[[0, 0], [0, 1], [0, 2], [0, 3], [1, 3], [2, 3], [2, 4], [3, 4], [4, 4], [4, 3]]\n",
    "\n",
    "Your solution should find the shortest path and take obstacles into account, similar to Nuro's challenge of safe navigation in real-world environments."
   ]
  },
  {
   "cell_type": "code",
   "execution_count": 8,
   "metadata": {},
   "outputs": [
    {
     "name": "stdout",
     "output_type": "stream",
     "text": [
      "grid: \n",
      " [['S' '0' '0' '0' '1']\n",
      " ['0' '1' '1' '0' '1']\n",
      " ['0' '1' '0' '0' '0']\n",
      " ['1' '0' '0' '1' '0']\n",
      " ['0' '1' '1' 'D' '0']]\n",
      "start_loc, target_loc:  [0, 0] [4, 3]\n",
      "optimal_path:  [[0, 0], [0, 1], [0, 2], [0, 3], [1, 3], [2, 3], [2, 4], [3, 4], [4, 4], [4, 3]]\n"
     ]
    }
   ],
   "source": [
    "import numpy as np\n",
    "\n",
    "def get_coordinates_of_optimal_path(grid, start_loc, target_loc, m, n):\n",
    "    # Define possible directions: up, down, left, right\n",
    "    directions = [(-1, 0), (1, 0), (0, -1), (0, 1)]\n",
    "\n",
    "    queue = [[start_loc, [start_loc]]]  # node, path\n",
    "    visited = [start_loc]\n",
    "\n",
    "    while queue:\n",
    "        loc, path_list = queue.pop(0)\n",
    "\n",
    "        if path_list[-1] == target_loc:\n",
    "            return path_list\n",
    "\n",
    "        for dx, dy in directions:\n",
    "            new_loc = [loc[0] + dx, loc[1] + dy]\n",
    "\n",
    "            # Check if new_loc is within bounds\n",
    "            if 0 <= new_loc[0] < m and 0 <= new_loc[1] < n:\n",
    "                if grid[new_loc[0]][new_loc[1]] != '1' and new_loc not in visited:\n",
    "                    visited.append(new_loc)\n",
    "                    path_list_copy = path_list.copy() # IMPORTANT to copy\n",
    "                    path_list_copy.append(new_loc)\n",
    "                    queue.append([new_loc, path_list_copy])\n",
    "\n",
    "    return []\n",
    "\n",
    "m, n = 5, 5\n",
    "grid = np.random.randint(2, size=(m, n))\n",
    "grid = grid.astype(str)  # Convert to string\n",
    "\n",
    "r = np.random.randint(m, size=1)[0]\n",
    "c = np.random.randint(n, size=1)[0]\n",
    "grid[r][c] = 'S'\n",
    "\n",
    "while True:\n",
    "    r = np.random.randint(m, size=1)[0]\n",
    "    c = np.random.randint(n, size=1)[0]\n",
    "    if grid[r][c] != 'S':\n",
    "        grid[r][c] = 'D'\n",
    "        break\n",
    "\n",
    "grid = [\n",
    "    ['S', '0', '0', '0', '1'],\n",
    "    ['0', '1', '1', '0', '1'],\n",
    "    ['0', '1', '0', '0', '0'],\n",
    "    ['1', '0', '0', '1', '0'],\n",
    "    ['0', '1', '1', 'D', '0'],\n",
    "]\n",
    "grid = np.array(grid)\n",
    "print('grid: \\n', grid)\n",
    "\n",
    "m, n = grid.shape\n",
    "\n",
    "start_loc = list(np.argwhere(grid == 'S')[0])\n",
    "target_loc = list(np.argwhere(grid == 'D')[0])\n",
    "print('start_loc, target_loc: ', start_loc, target_loc)\n",
    "\n",
    "optimal_path = get_coordinates_of_optimal_path(grid, start_loc, target_loc, m, n)\n",
    "print('optimal_path: ', optimal_path)\n"
   ]
  },
  {
   "cell_type": "code",
   "execution_count": null,
   "metadata": {},
   "outputs": [],
   "source": []
  }
 ],
 "metadata": {
  "kernelspec": {
   "display_name": "Python 3 (ipykernel)",
   "language": "python",
   "name": "python3"
  },
  "language_info": {
   "codemirror_mode": {
    "name": "ipython",
    "version": 3
   },
   "file_extension": ".py",
   "mimetype": "text/x-python",
   "name": "python",
   "nbconvert_exporter": "python",
   "pygments_lexer": "ipython3",
   "version": "3.10.8"
  }
 },
 "nbformat": 4,
 "nbformat_minor": 4
}
