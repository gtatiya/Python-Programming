{
 "cells": [
  {
   "cell_type": "code",
   "execution_count": null,
   "metadata": {},
   "outputs": [],
   "source": []
  },
  {
   "cell_type": "markdown",
   "metadata": {},
   "source": [
    "# BFS"
   ]
  },
  {
   "cell_type": "markdown",
   "metadata": {},
   "source": [
    "# Q) [Snakes and Ladders: The Quickest Way Up](https://www.hackerrank.com/challenges/the-quickest-way-up)"
   ]
  },
  {
   "cell_type": "raw",
   "metadata": {},
   "source": [
    "Sample Input:\n",
    "2\n",
    "3\n",
    "32 62\n",
    "42 68\n",
    "12 98\n",
    "7\n",
    "95 13\n",
    "97 25\n",
    "93 37\n",
    "79 27\n",
    "75 19\n",
    "49 47\n",
    "67 17\n",
    "4\n",
    "8 52\n",
    "6 80\n",
    "26 42\n",
    "2 72\n",
    "9\n",
    "51 19\n",
    "39 11\n",
    "37 29\n",
    "81 3\n",
    "59 5\n",
    "79 23\n",
    "53 7\n",
    "43 33\n",
    "77 21\n",
    "\n",
    "Sample Output\n",
    "3\n",
    "5"
   ]
  },
  {
   "cell_type": "code",
   "execution_count": 2,
   "metadata": {
    "scrolled": true
   },
   "outputs": [
    {
     "name": "stdout",
     "output_type": "stream",
     "text": [
      "result:  5\n"
     ]
    }
   ],
   "source": [
    "\n",
    "def quickestWayUp(ladders, snakes):\n",
    "    \n",
    "    # Build directed graph\n",
    "    paths = {}\n",
    "    for s, d in ladders + snakes:\n",
    "        paths[s] = d\n",
    "    \n",
    "    visited = set()\n",
    "    queue = [(1, 0)]\n",
    "    while queue:\n",
    "        # print(\"queue: \", queue)\n",
    "        sq, rolls = queue.pop(0)\n",
    "        if 100 == sq:\n",
    "            return rolls\n",
    "\n",
    "        visited.add(sq)\n",
    "        for i in reversed(range(1, 7)):\n",
    "            next_sq = sq + i\n",
    "            if next_sq in visited or next_sq > 100:\n",
    "                continue\n",
    "\n",
    "            queue.append(((next_sq in paths and paths[next_sq]) or next_sq, rolls + 1))\n",
    "\n",
    "    return -1\n",
    "\n",
    "# ladders = [[32, 62], [42, 68], [12, 98]]\n",
    "# snakes = [[95, 13], [97, 25], [93, 37], [79, 27], [75, 19], [49, 47], [67, 17]]\n",
    "ladders = [[8, 52], [6, 80], [26, 42], [2, 72]]\n",
    "snakes = [[51, 19], [39, 11], [37, 29], [81, 3], [59, 5], [79, 23], [53, 7], [43, 33], [77, 21]]\n",
    "result = quickestWayUp(ladders, snakes)\n",
    "print(\"result: \", result)"
   ]
  },
  {
   "cell_type": "markdown",
   "metadata": {},
   "source": [
    "# Q) [Breadth First Search: Shortest Reach](https://www.hackerrank.com/challenges/bfsshortreach/problem)"
   ]
  },
  {
   "cell_type": "raw",
   "metadata": {},
   "source": [
    "Sample Input\n",
    "2\n",
    "4 2\n",
    "1 2\n",
    "1 3\n",
    "1\n",
    "3 1\n",
    "2 3\n",
    "2\n",
    "\n",
    "Sample Output\n",
    "6 6 -1\n",
    "-1 6"
   ]
  },
  {
   "cell_type": "code",
   "execution_count": 2,
   "metadata": {},
   "outputs": [
    {
     "name": "stdout",
     "output_type": "stream",
     "text": [
      "[6, 6, -1]\n",
      "[-1, 6]\n"
     ]
    }
   ],
   "source": [
    "def bfs(n, m, edges, s):\n",
    "\n",
    "    # Build undirected graph\n",
    "    graph = {}\n",
    "    for num in range(1, n+1):\n",
    "        graph[num] = set()\n",
    "    for l, r in edges:\n",
    "        graph[l].add(r)\n",
    "        graph[r].add(l)\n",
    "    \n",
    "    visited = {s}\n",
    "    queue = [(s, 0)]\n",
    "    cost_from_s = {}\n",
    "    while queue:\n",
    "        curr_node, curr_cost = queue.pop(0)\n",
    "        for nbour in graph[curr_node]:\n",
    "            if nbour not in visited:\n",
    "                visited.add(nbour)\n",
    "                queue.append((nbour, curr_cost + 6))\n",
    "                cost_from_s[nbour] = curr_cost + 6\n",
    "\n",
    "    result = []\n",
    "    for node in range(1, n+1):\n",
    "        if s != node:\n",
    "            result.append(cost_from_s.get(node, -1))\n",
    "    \n",
    "    return result\n",
    "\n",
    "n = 4\n",
    "m = 2\n",
    "edges = [[1, 2], [1, 3]]\n",
    "s = 1\n",
    "print(bfs(n, m, edges, s))\n",
    "\n",
    "n = 3\n",
    "m = 1\n",
    "edges = [[2, 3]]\n",
    "s = 2\n",
    "print(bfs(n, m, edges, s))"
   ]
  },
  {
   "cell_type": "markdown",
   "metadata": {},
   "source": [
    "## Q) Shortest Word Edit Path"
   ]
  },
  {
   "cell_type": "raw",
   "metadata": {},
   "source": [
    "Given two words source and target, and a list of words words, find the length of the shortest series of edits that transforms source to target.\n",
    "\n",
    "Each edit must change exactly one letter at a time, and each intermediate word (and the final target word) must exist in words.\n",
    "\n",
    "If the task is impossible, return -1.\n",
    "\n",
    "Examples:\n",
    "\n",
    "source = \"bit\", target = \"dog\"\n",
    "words = [\"but\", \"put\", \"big\", \"pot\", \"pog\", \"dog\", \"lot\"]\n",
    "\n",
    "output: 5\n",
    "explanation: bit -> but -> put -> pot -> pog -> dog has 5 transitions.\n",
    "\n",
    "source = \"no\", target = \"go\"\n",
    "words = [\"to\"]\n",
    "\n",
    "output: -1"
   ]
  },
  {
   "cell_type": "code",
   "execution_count": 3,
   "metadata": {},
   "outputs": [
    {
     "name": "stdout",
     "output_type": "stream",
     "text": [
      "5\n"
     ]
    }
   ],
   "source": [
    "\"\"\"\n",
    "Time Complexity:\n",
    "O(N*K^2), where N is the length of words and K is the maximum length of any given word.\n",
    "For each word in words, in order to find neighbors we may construct O(K) new words, each in O(K) time.\n",
    "\n",
    "Space Complexity:\n",
    "O(NK), the space to store the word list.\n",
    "\"\"\"\n",
    "\n",
    "def shortestWordEditPath(source, target, wordset):\n",
    "\n",
    "    alphabet = 'abcdefghijklmnopqrstuvwxyz'\n",
    "    visited = set()\n",
    "    visited.add(source)\n",
    "    queue = []\n",
    "    queue.append((source, 0))\n",
    "\n",
    "    while queue:\n",
    "        word, depth = queue.pop(0)\n",
    "        if word == target:\n",
    "            return depth\n",
    "        for i in range(len(word)):\n",
    "            # First Strategy\n",
    "#             for word2 in wordset:\n",
    "#                 if len(word2) == len(word):\n",
    "#                     diff = 0\n",
    "#                     for j in range(len(word)):\n",
    "#                         if word[j] != word2[j]:\n",
    "#                             diff += 1\n",
    "#                             if diff == 2:\n",
    "#                                 break\n",
    "#                     if diff == 1 and word2 not in visited:\n",
    "#                         queue.append((word2, depth+1))\n",
    "#                         visited.add(word2)\n",
    "\n",
    "            # Second Strategy\n",
    "            for c in alphabet:\n",
    "                word2 = list(word)\n",
    "                word2[i] = c\n",
    "                word2 = ''.join(word2)\n",
    "                if word2 in wordset and word2 not in visited:\n",
    "                    queue.append((word2, depth+1))\n",
    "                    visited.add(word2)\n",
    "    return -1\n",
    "\n",
    "words = [\"but\", \"put\", \"big\", \"pot\", \"pog\", \"dog\", \"lot\"]\n",
    "\n",
    "source = 'bit'\n",
    "target = \"dog\"\n",
    "\n",
    "print(shortestWordEditPath(source, target, words))"
   ]
  },
  {
   "cell_type": "code",
   "execution_count": null,
   "metadata": {},
   "outputs": [],
   "source": []
  },
  {
   "cell_type": "code",
   "execution_count": null,
   "metadata": {},
   "outputs": [],
   "source": []
  }
 ],
 "metadata": {
  "kernelspec": {
   "display_name": "Python 3",
   "language": "python",
   "name": "python3"
  },
  "language_info": {
   "codemirror_mode": {
    "name": "ipython",
    "version": 3
   },
   "file_extension": ".py",
   "mimetype": "text/x-python",
   "name": "python",
   "nbconvert_exporter": "python",
   "pygments_lexer": "ipython3",
   "version": "3.7.6"
  }
 },
 "nbformat": 4,
 "nbformat_minor": 4
}
