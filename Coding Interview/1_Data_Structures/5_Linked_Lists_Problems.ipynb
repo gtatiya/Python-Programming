{
 "cells": [
  {
   "cell_type": "code",
   "execution_count": null,
   "id": "2888c37c",
   "metadata": {},
   "outputs": [],
   "source": []
  },
  {
   "cell_type": "raw",
   "id": "a1930eea",
   "metadata": {},
   "source": [
    "Reverse a Linked List\n",
    "Write a function to reverse a singly linked list.\n",
    "For example, if the linked list is 1 -> 2 -> 3 -> 4 -> 5, the reversed list should be 5 -> 4 -> 3 -> 2 -> 1.\n",
    "\n",
    "You can use the following definition for the linked list:\n",
    "class ListNode:\n",
    "    def __init__(self, val=0, next=None):\n",
    "        self.val = val\n",
    "        self.next = next\n",
    "\n",
    "Write a Python function that takes the head of the linked list as input and returns the new head of the reversed list."
   ]
  },
  {
   "cell_type": "code",
   "execution_count": 1,
   "id": "5fc6e340",
   "metadata": {},
   "outputs": [
    {
     "name": "stdout",
     "output_type": "stream",
     "text": [
      "12345\n",
      "54321\n"
     ]
    }
   ],
   "source": [
    "class ListNode:\n",
    "    def __init__(self, val=0, next=None):\n",
    "        self.val = val\n",
    "        self.next = next\n",
    "\n",
    "class SinglyLinkedList:\n",
    "    def __init__(self):\n",
    "        self.head = None\n",
    "    \n",
    "    def insert(self, val):\n",
    "        new_node = ListNode(val)\n",
    "        if not self.head:\n",
    "            self.head = new_node\n",
    "        else:\n",
    "            current = self.head\n",
    "            while current.next:\n",
    "                current = current.next\n",
    "            current.next = new_node\n",
    "\n",
    "def print_linked_list(head):\n",
    "    \n",
    "    current = head\n",
    "    while current:\n",
    "        print(current.val, end='')\n",
    "        current = current.next\n",
    "    print('')\n",
    "        \n",
    "def reverse_linked_list(head):\n",
    "    prev = None           # Initialize a variable to hold the previous node (starts as None)\n",
    "    current = head        # Start at the head of the linked list\n",
    "    while current:\n",
    "        next_node = current.next  # Store the next node (to avoid losing the reference)\n",
    "        current.next = prev      # Reverse the \"next\" pointer to the previous node\n",
    "        prev = current           # Move the \"prev\" pointer to the current node\n",
    "        current = next_node      # Move the current node to the next node\n",
    "    return prev              # The final \"prev\" is the new head of the reversed linked list\n",
    "\n",
    "my_list = [1, 2, 3, 4, 5]\n",
    "sll = SinglyLinkedList()\n",
    "for item in my_list:\n",
    "    sll.insert(item)\n",
    "print_linked_list(sll.head)\n",
    "\n",
    "'''\n",
    "node1 = ListNode(1)\n",
    "node2 = ListNode(2)\n",
    "node3 = ListNode(3)\n",
    "node4 = ListNode(4)\n",
    "node5 = ListNode(5)\n",
    "\n",
    "node1.next = node2\n",
    "node2.next = node3\n",
    "node3.next = node4\n",
    "node4.next = node5\n",
    "\n",
    "head = node1\n",
    "'''\n",
    "\n",
    "# Reverse the linked list\n",
    "new_head = reverse_linked_list(sll.head)\n",
    "print_linked_list(new_head)\n"
   ]
  },
  {
   "cell_type": "code",
   "execution_count": null,
   "id": "7fcf63ea",
   "metadata": {},
   "outputs": [],
   "source": []
  }
 ],
 "metadata": {
  "kernelspec": {
   "display_name": "Python 3 (ipykernel)",
   "language": "python",
   "name": "python3"
  },
  "language_info": {
   "codemirror_mode": {
    "name": "ipython",
    "version": 3
   },
   "file_extension": ".py",
   "mimetype": "text/x-python",
   "name": "python",
   "nbconvert_exporter": "python",
   "pygments_lexer": "ipython3",
   "version": "3.10.8"
  }
 },
 "nbformat": 4,
 "nbformat_minor": 5
}
