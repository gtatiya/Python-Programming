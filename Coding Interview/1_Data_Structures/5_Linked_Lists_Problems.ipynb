{
 "cells": [
  {
   "cell_type": "code",
   "execution_count": null,
   "id": "2888c37c",
   "metadata": {},
   "outputs": [],
   "source": []
  },
  {
   "cell_type": "raw",
   "id": "a1930eea",
   "metadata": {},
   "source": [
    "Reverse a Linked List\n",
    "Write a function to reverse a singly linked list.\n",
    "For example, if the linked list is 1 -> 2 -> 3 -> 4 -> 5, the reversed list should be 5 -> 4 -> 3 -> 2 -> 1.\n",
    "\n",
    "You can use the following definition for the linked list:\n",
    "class ListNode:\n",
    "    def __init__(self, val=0, next=None):\n",
    "        self.val = val\n",
    "        self.next = next\n",
    "\n",
    "Write a Python function that takes the head of the linked list as input and returns the new head of the reversed list."
   ]
  },
  {
   "cell_type": "code",
   "execution_count": 1,
   "id": "5fc6e340",
   "metadata": {},
   "outputs": [
    {
     "name": "stdout",
     "output_type": "stream",
     "text": [
      "12345\n",
      "54321\n",
      "12345\n"
     ]
    }
   ],
   "source": [
    "class ListNode:\n",
    "    def __init__(self, val=0, next=None):\n",
    "        self.val = val\n",
    "        self.next = next\n",
    "\n",
    "class SinglyLinkedList:\n",
    "    def __init__(self):\n",
    "        self.head = None\n",
    "    \n",
    "    def insert(self, val):\n",
    "        new_node = ListNode(val)\n",
    "        if not self.head:\n",
    "            self.head = new_node\n",
    "        else:\n",
    "            current = self.head\n",
    "            while current.next:\n",
    "                current = current.next\n",
    "            current.next = new_node\n",
    "\n",
    "def print_linked_list(head):\n",
    "    \n",
    "    current = head\n",
    "    while current:\n",
    "        print(current.val, end='')\n",
    "        current = current.next\n",
    "    print('')\n",
    "        \n",
    "def reverse_linked_list(head):\n",
    "    prev = None           # Initialize a variable to hold the previous node (starts as None)\n",
    "    current = head        # Start at the head of the linked list\n",
    "    while current:\n",
    "        next_node = current.next  # Store the next node (to avoid losing the reference)\n",
    "        current.next = prev      # Reverse the \"next\" pointer to the previous node\n",
    "        prev = current           # Move the \"prev\" pointer to the current node\n",
    "        current = next_node      # Move the current node to the next node\n",
    "    return prev              # The final \"prev\" is the new head of the reversed linked list\n",
    "\n",
    "my_list = [1, 2, 3, 4, 5]\n",
    "sll = SinglyLinkedList()\n",
    "for item in my_list:\n",
    "    sll.insert(item)\n",
    "print_linked_list(sll.head)\n",
    "\n",
    "'''\n",
    "node1 = ListNode(1)\n",
    "node2 = ListNode(2)\n",
    "node3 = ListNode(3)\n",
    "node4 = ListNode(4)\n",
    "node5 = ListNode(5)\n",
    "\n",
    "node1.next = node2\n",
    "node2.next = node3\n",
    "node3.next = node4\n",
    "node4.next = node5\n",
    "\n",
    "head = node1\n",
    "'''\n",
    "\n",
    "# Reverse the linked list\n",
    "new_head = reverse_linked_list(sll.head)\n",
    "print_linked_list(new_head)\n",
    "\n",
    "new_head = reverse_linked_list(new_head)\n",
    "print_linked_list(new_head)\n"
   ]
  },
  {
   "cell_type": "raw",
   "id": "2c82a63d",
   "metadata": {},
   "source": [
    "LC: 19. Remove Nth Node From End of List (Medium)\n",
    "https://leetcode.com/problems/remove-nth-node-from-end-of-list/description/\n",
    "\n",
    "Given the head of a linked list, remove the nth node from the end of the list and return its head.\n",
    "\n",
    "Example 1:\n",
    "Input: head = [1,2,3,4,5], n = 2\n",
    "Output: [1,2,3,5]\n",
    "\n",
    "Example 2:\n",
    "Input: head = [1], n = 1\n",
    "Output: []\n",
    "\n",
    "Example 3:\n",
    "Input: head = [1,2], n = 1\n",
    "Output: [1]"
   ]
  },
  {
   "cell_type": "code",
   "execution_count": 2,
   "id": "3b7be2d2",
   "metadata": {},
   "outputs": [
    {
     "name": "stdout",
     "output_type": "stream",
     "text": [
      "1345\n"
     ]
    }
   ],
   "source": [
    "from typing import Optional\n",
    "\n",
    "# Definition for singly-linked list.\n",
    "class ListNode:\n",
    "    def __init__(self, val=0, next=None):\n",
    "        self.val = val\n",
    "        self.next = next\n",
    "\n",
    "def removeNthFromEnd(head: Optional[ListNode], n: int) -> Optional[ListNode]:\n",
    "\n",
    "    length = 1\n",
    "    node = head\n",
    "    while node.next:\n",
    "        length += 1\n",
    "        node = node.next\n",
    "    idx_remove = length - n\n",
    "    if idx_remove == 0:\n",
    "        return head.next\n",
    "\n",
    "    i = 1\n",
    "    node = head\n",
    "    while node:  # IMPORTANT: node has index i - 1\n",
    "        if i == idx_remove:\n",
    "            node.next = node.next.next  # IMPORTANT!\n",
    "            break\n",
    "        i += 1\n",
    "        node = node.next\n",
    "\n",
    "    return head\n",
    "\n",
    "# Time complexity:\n",
    "# We traverse the linked list twice, so the time complexity is O(n), where n is the number of nodes in the list.\n",
    "# Space complexity:\n",
    "# We only use a few variables, so the space complexity is O(1).\n",
    "\n",
    "new_head = removeNthFromEnd(new_head, 4)\n",
    "print_linked_list(new_head)\n"
   ]
  },
  {
   "cell_type": "code",
   "execution_count": null,
   "id": "d2d6dba4",
   "metadata": {},
   "outputs": [],
   "source": []
  }
 ],
 "metadata": {
  "kernelspec": {
   "display_name": "Python 3 (ipykernel)",
   "language": "python",
   "name": "python3"
  },
  "language_info": {
   "codemirror_mode": {
    "name": "ipython",
    "version": 3
   },
   "file_extension": ".py",
   "mimetype": "text/x-python",
   "name": "python",
   "nbconvert_exporter": "python",
   "pygments_lexer": "ipython3",
   "version": "3.10.8"
  }
 },
 "nbformat": 4,
 "nbformat_minor": 5
}
