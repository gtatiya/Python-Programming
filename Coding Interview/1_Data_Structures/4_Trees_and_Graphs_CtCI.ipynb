{
 "cells": [
  {
   "cell_type": "code",
   "execution_count": null,
   "metadata": {},
   "outputs": [],
   "source": []
  },
  {
   "cell_type": "markdown",
   "metadata": {},
   "source": [
    "# 4 Trees and Graphs\n",
    "## Interview Questions, Page: 110"
   ]
  },
  {
   "cell_type": "raw",
   "metadata": {},
   "source": [
    "CCI: Page 110 (4.7 Build Order)\n",
    "\n",
    "You are given a list of projects and a list of dependencies (which is a list of pairs of projects, where the second project is dependent on the first project).\n",
    "All of a project's dependencies must be built before the project is.\n",
    "Find a build order that will allow the projects to be built.\n",
    "If therecis no valid build order, return an error.\n",
    "\n",
    "EXAMPLE\n",
    "Input:\n",
    "projects: a, b, c, d, e, f\n",
    "dependencies: (a, d), (f, b), (b, d), (f, a), (d, c)\n",
    "Output: f, e, a, b, d, c"
   ]
  },
  {
   "cell_type": "code",
   "execution_count": 4,
   "metadata": {},
   "outputs": [
    {
     "name": "stdout",
     "output_type": "stream",
     "text": [
      "['e', 'f', 'b', 'a', 'd', 'c']\n"
     ]
    }
   ],
   "source": [
    "'''\n",
    "The solution uses a topological sorting algorithm to find a valid build order for the projects. The key steps are:\n",
    "- Create a graph representation of the dependencies, where each project is a node, and the dependencies are the edges.\n",
    "- Calculate the in-degree (number of dependencies) for each project.\n",
    "- Find the projects with no dependencies (in-degree 0) and add them to a queue.\n",
    "- Perform a topological sort by repeatedly removing a project from the queue, adding it to the build order, and then \n",
    "decrementing the in-degree of its neighbors. If a neighbor's in-degree becomes 0, add it to the queue.\n",
    "- If all projects were included in the build order, return the order. Otherwise, return an error message indicating that there \n",
    "is no valid build order.\n",
    "'''\n",
    "\n",
    "from collections import defaultdict, deque\n",
    "\n",
    "def build_order(projects, dependencies):\n",
    "    # This solution only works when valid build order exists\n",
    "\n",
    "    while True:\n",
    "        swap = False\n",
    "        for a_dep in dependencies:        \n",
    "            dep = projects.index(a_dep[0])\n",
    "            pro = projects.index(a_dep[1])\n",
    "\n",
    "            if dep > pro:\n",
    "                projects[dep], projects[pro] = projects[pro], projects[dep]\n",
    "                swap = True\n",
    "        if swap == False:\n",
    "            break\n",
    "    \n",
    "    return projects\n",
    "    \n",
    "def build_order(projects, dependencies):\n",
    "\n",
    "    # Create a graph representation of the dependencies\n",
    "    graph = defaultdict(list)\n",
    "    in_degree = {project: 0 for project in projects}\n",
    "    for dependency in dependencies:\n",
    "        graph[dependency[0]].append(dependency[1])\n",
    "        in_degree[dependency[1]] += 1\n",
    "    \n",
    "    # Find the projects with no dependencies (in-degree 0)\n",
    "    queue = deque([project for project in projects if in_degree[project] == 0])\n",
    "    \n",
    "    build_order = []\n",
    "    # Perform topological sort\n",
    "    while queue:\n",
    "        project = queue.popleft()\n",
    "        build_order.append(project)\n",
    "        \n",
    "        for neighbor in graph[project]:\n",
    "            in_degree[neighbor] -= 1\n",
    "            if in_degree[neighbor] == 0:\n",
    "                queue.append(neighbor)\n",
    "    \n",
    "    # Check if all projects were included in the build order\n",
    "    if len(build_order) == len(projects):\n",
    "        return build_order\n",
    "    else:\n",
    "        return \"Error: There is no valid build order.\"\n",
    "\n",
    "'''\n",
    "Time Complexity: O(V + E), where V is the number of projects and E is the number of dependencies.\n",
    "Creating the graph and calculating the in-degree for each project takes O(E) time.\n",
    "Finding the projects with no dependencies and performing the topological sort takes O(V + E) time, as we need to visit each \n",
    "project and each dependency.\n",
    "Therefore, the overall time complexity is O(V + E).\n",
    "\n",
    "Space Complexity: O(V + E), as we need to store the graph representation and the in-degree for each project.\n",
    "The graph representation is stored using a defaultdict, which takes O(V + E) space.\n",
    "The in-degree dictionary takes O(V) space.\n",
    "Therefore, the overall space complexity is O(V + E).\n",
    "'''\n",
    "\n",
    "projects = ['a', 'b', 'c', 'd', 'e', 'f']\n",
    "dependencies = [('a', 'd'), ('f', 'b'), ('b', 'd'), ('f', 'a'), ('d', 'c')]\n",
    "print(build_order(projects, dependencies)) "
   ]
  },
  {
   "cell_type": "code",
   "execution_count": null,
   "metadata": {},
   "outputs": [],
   "source": []
  }
 ],
 "metadata": {
  "kernelspec": {
   "display_name": "Python 3 (ipykernel)",
   "language": "python",
   "name": "python3"
  },
  "language_info": {
   "codemirror_mode": {
    "name": "ipython",
    "version": 3
   },
   "file_extension": ".py",
   "mimetype": "text/x-python",
   "name": "python",
   "nbconvert_exporter": "python",
   "pygments_lexer": "ipython3",
   "version": "3.10.8"
  }
 },
 "nbformat": 4,
 "nbformat_minor": 4
}
