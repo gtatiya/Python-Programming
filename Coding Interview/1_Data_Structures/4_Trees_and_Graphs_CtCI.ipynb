{
 "cells": [
  {
   "cell_type": "code",
   "execution_count": null,
   "metadata": {},
   "outputs": [],
   "source": []
  },
  {
   "cell_type": "markdown",
   "metadata": {},
   "source": [
    "# 4 Trees and Graphs\n",
    "## Interview Questions, Page: 110"
   ]
  },
  {
   "cell_type": "code",
   "execution_count": 1,
   "metadata": {},
   "outputs": [
    {
     "name": "stdout",
     "output_type": "stream",
     "text": [
      "['f', 'a', 'b', 'd', 'e', 'c']\n"
     ]
    }
   ],
   "source": [
    "\"\"\"\n",
    "Q 4.7\n",
    "Build Order: You are given a list of projects and a list of dependencies (which is a list of pairs of\n",
    "projects, where the second project is dependent on the first project). All of a project's dependencies\n",
    "must be built before the project is. Find a build order that will allow the projects to be built. If there\n",
    "is no valid build order, return an error.\n",
    "EXAMPLE\n",
    "Input:\n",
    "projects: a, b, c, d, e, f\n",
    "dependencies: (a, d), (f, b), (b, d), (f, a), (d, c)\n",
    "Output: f, e, a, b, d, c\n",
    "\"\"\"\n",
    "\n",
    "projects = ['a', 'b', 'c', 'd', 'e', 'f']\n",
    "dependencies = [('a', 'd'), ('f', 'b'), ('b', 'd'), ('f', 'a'), ('d', 'c')]\n",
    "\n",
    "while True:\n",
    "    swap = False\n",
    "    for a_dep in dependencies:\n",
    "#         print(a_dep)\n",
    "        \n",
    "        dep = projects.index(a_dep[0])\n",
    "        pro = projects.index(a_dep[1])\n",
    "        \n",
    "        if dep > pro:\n",
    "            projects.insert(pro, a_dep[0])\n",
    "            projects.pop(pro+1)\n",
    "            projects.insert(dep, a_dep[1])\n",
    "            projects.pop(dep+1)\n",
    "#             print(\"projects:\", projects)\n",
    "            swap = True\n",
    "    if swap == False:\n",
    "        break\n",
    "\n",
    "print(projects)"
   ]
  },
  {
   "cell_type": "code",
   "execution_count": null,
   "metadata": {},
   "outputs": [],
   "source": []
  }
 ],
 "metadata": {
  "kernelspec": {
   "display_name": "Python 3",
   "language": "python",
   "name": "python3"
  },
  "language_info": {
   "codemirror_mode": {
    "name": "ipython",
    "version": 3
   },
   "file_extension": ".py",
   "mimetype": "text/x-python",
   "name": "python",
   "nbconvert_exporter": "python",
   "pygments_lexer": "ipython3",
   "version": "3.7.6"
  }
 },
 "nbformat": 4,
 "nbformat_minor": 4
}
