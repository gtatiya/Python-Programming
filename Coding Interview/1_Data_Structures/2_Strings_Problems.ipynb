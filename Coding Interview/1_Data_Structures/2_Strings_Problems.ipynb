{
 "cells": [
  {
   "cell_type": "code",
   "execution_count": null,
   "metadata": {},
   "outputs": [],
   "source": []
  },
  {
   "cell_type": "markdown",
   "metadata": {},
   "source": [
    "# Yelp: String Compression"
   ]
  },
  {
   "cell_type": "raw",
   "metadata": {},
   "source": [
    "Given a string of characters, compress the string to reduce subsequent duplicate occurrences of characters.\n",
    "The number of occurrences should come first, followed by the character that the number represents\n",
    "\n",
    "Example: \n",
    "input: aaaaaa \n",
    "output: 6a \n",
    "input: aaaabccaad \n",
    "output: 4a1b2c2a1d"
   ]
  },
  {
   "cell_type": "code",
   "execution_count": 1,
   "metadata": {},
   "outputs": [
    {
     "name": "stdout",
     "output_type": "stream",
     "text": [
      "4a1b2c2a1d\n"
     ]
    }
   ],
   "source": [
    "def compress_string(input_string):\n",
    "    \n",
    "    com_str = ''\n",
    "    \n",
    "    curr_c = None\n",
    "    count = 0\n",
    "    for i in range(len(input_string)):\n",
    "        \n",
    "        if not curr_c:\n",
    "            curr_c = input_string[i]\n",
    "            count = 1\n",
    "        elif curr_c == input_string[i]:\n",
    "            count += 1\n",
    "        else:\n",
    "            com_str += str(count) + curr_c\n",
    "            curr_c = input_string[i]\n",
    "            count = 1\n",
    "    \n",
    "    com_str += str(count) + curr_c\n",
    "    \n",
    "    return com_str\n",
    "\n",
    "def compress_string(string: str) -> str:\n",
    "    \n",
    "    if not string:\n",
    "        return ''\n",
    "    \n",
    "    char = string[0]\n",
    "    count = 1\n",
    "    res = ''\n",
    "    for c in string[1:]:\n",
    "        if c == char:\n",
    "            count += 1\n",
    "        else:\n",
    "            res += str(count) + char\n",
    "            char = c\n",
    "            count = 1\n",
    "    \n",
    "    res += str(count) + char\n",
    "    \n",
    "    return res\n",
    "\n",
    "string = 'aaaabccaad' #'aaaabbbccc'\n",
    "print(compress_string(string))"
   ]
  },
  {
   "cell_type": "markdown",
   "metadata": {},
   "source": [
    "# PathAI: Valid Accesstoken"
   ]
  },
  {
   "cell_type": "raw",
   "metadata": {},
   "source": [
    "As part of the Machine Learning team at PathAl, you are tasked with building a sampler which samples annotations made by pathologists.\n",
    "Annotations are retrieved by querying the internal platform team's APIs.\n",
    "To make any API request, you need to supply a valid access token.\n",
    "An access token is valid if it contains the subsequence 'pathai'. \n",
    "\n",
    "The platform team has shared a file with you and you need to retrieve valid access tokens from it.\n",
    "The process for the same is below.\n",
    "For each request to the platform, you are given a set of indices i1, i2 and you need to supply the length of the smallest valid access token (string which contains the subsequence 'pathai') within indices i1 and i2 of the file stream, for the request to succeed.\n",
    "\n",
    "An example filestream and the set of queries and the expected output are provided below. \n",
    "Example: \n",
    "filestream = \"xlopatmhaoierpt\" \n",
    "Query-1: i1=0, i2=7 \n",
    "Output = 0, as no substring between indices 0, 7 which has the subsequence 'pathai'\n",
    "\n",
    "Query-2: i1 = 1, i2=12 \n",
    "Output = 8, as the substring starting at index 3 and ending at 10 ('pathai') is the shortest substring containing the 'pathai subsequence.\n",
    " \n",
    "Can you help the ML team retrieve the lengths Of smallest access token for each request by completing the function below?"
   ]
  },
  {
   "cell_type": "code",
   "execution_count": 2,
   "metadata": {},
   "outputs": [
    {
     "name": "stdout",
     "output_type": "stream",
     "text": [
      "[0, 0, 12, 0, 9, 12, 9, 0, 12, 0]\n"
     ]
    }
   ],
   "source": [
    "def shortest_subsequence_length(filestream, queries):\n",
    "    # Return an array containing the length of ths shortest substring containing the subsequence `pathai` for each query\n",
    "    # Parameters:\n",
    "    #       filestream - the input filestream to search for valid access tokens\n",
    "    #       queries - A 2D integer array of shape Nx2, where N is the number of queries and 2 indices \n",
    "    #               one for start(i1) and one for end(i2) (indicate the range to search in)\n",
    "    # Return:\n",
    "    #       list of inetegers. value at index 'i' indicates result of 'i'th query\n",
    "    \n",
    "    # print(filestream, queries)\n",
    "    \n",
    "    code = 'pathai'\n",
    "    smallest_sizes = []\n",
    "    for query in queries:\n",
    "        # print(\"query: \", query)\n",
    "        start, end = query\n",
    "        \n",
    "        if start < 0:\n",
    "            start = start % len(filestream)\n",
    "        if end < 0:\n",
    "            end = end % len(filestream)\n",
    "        \n",
    "        if end > len(filestream):\n",
    "            end = len(filestream)\n",
    "        \n",
    "        start = min(start, end)\n",
    "        end = max(start, end)\n",
    "\n",
    "#         print(start, end)\n",
    "        \n",
    "        code_pointer = 0\n",
    "        code_start_pointer = start\n",
    "        found = False\n",
    "        \n",
    "        for i in range(start, end+1):\n",
    "            # print(filestream[i], code[code_pointer])\n",
    "            if filestream[i] == code[code_pointer]:\n",
    "                code_pointer += 1\n",
    "                \n",
    "                if filestream[i] == code[0]:\n",
    "                    code_start_pointer = i\n",
    "                    # print(\"code_start_pointer: \", i, filestream[i], code[0])\n",
    "                if filestream[i] == code[-1] and code_pointer == len(code):\n",
    "                    found = True\n",
    "                    smallest_sizes.append(i - code_start_pointer + 1)\n",
    "                    # print(i, code_start_pointer, filestream[i])\n",
    "                    break\n",
    "        \n",
    "        if not found:\n",
    "            smallest_sizes.append(0)\n",
    "    \n",
    "    return smallest_sizes\n",
    "\n",
    "\n",
    "# filestream = \"xlopatmhaoierpt\"\n",
    "# queries = [[0, 7], [1, 12], [3, 10]]\n",
    "# output: [0, 8, 8]\n",
    "filestream = \"mplpaihlatphjaithaij\"\n",
    "queries = [[-11, 1], [0, 7], [3, 14], [3, 11], [9, 18], [2, 18], [7, 23], [-13, -4], [2, 100], [2, 8]]\n",
    "# output: [0, 0, 12, 0, 9, 9, 9, 0, 9, 0]\n",
    "print(shortest_subsequence_length(filestream, queries))"
   ]
  },
  {
   "cell_type": "markdown",
   "metadata": {},
   "source": [
    "# Q) Valid Anagram"
   ]
  },
  {
   "cell_type": "raw",
   "metadata": {},
   "source": [
    "Write a function to determine if two strings are anagrams of each other.\n",
    "An anagram is a word or phrase formed by rearranging the letters of another.\n",
    "For example, \"listen\" is an anagram of \"silent.\"\n",
    "Your function should take two strings as input and return True if they are anagrams, and False if they are not."
   ]
  },
  {
   "cell_type": "code",
   "execution_count": 3,
   "metadata": {},
   "outputs": [
    {
     "name": "stdout",
     "output_type": "stream",
     "text": [
      "True\n",
      "True\n",
      "False\n"
     ]
    }
   ],
   "source": [
    "def get_char_count(string: str):\n",
    "    char_count = {}\n",
    "    for s in string:\n",
    "        char_count[s] = char_count.get(s, 0) + 1  # COOL!!\n",
    "    return char_count\n",
    "\n",
    "def is_anagram(str1: str, str2: str):\n",
    "    if len(str1) != len(str2):\n",
    "        return False\n",
    "\n",
    "    char_count1 = get_char_count(str1)\n",
    "    char_count2 = get_char_count(str2)\n",
    "\n",
    "    return char_count1 == char_count2\n",
    "\n",
    "# Time complexity: O(n) for each string (where n is the length of the string)\n",
    "# Space complexity: O(k) where k is the number of distinct characters in the alphabet\n",
    "\n",
    "print(is_anagram(\"listen\", \"silent\"))  # Should return True\n",
    "print(is_anagram(\"triangle\", \"integral\"))  # Should return True\n",
    "print(is_anagram(\"hello\", \"world\"))  # Should return False"
   ]
  },
  {
   "cell_type": "raw",
   "metadata": {},
   "source": [
    "Given an array of words and a max-width parameter, format the text such that each line has exactly X characters."
   ]
  },
  {
   "cell_type": "code",
   "execution_count": 1,
   "metadata": {},
   "outputs": [
    {
     "name": "stdout",
     "output_type": "stream",
     "text": [
      "17 Given an array of\n",
      "11 words and a\n",
      "20 max-width parameter,\n",
      "20 format the text such\n",
      "18 that each line has\n",
      "9 exactly X\n",
      "11 characters.\n"
     ]
    }
   ],
   "source": [
    "def format_text(words, max_width):\n",
    "    \n",
    "    result = []\n",
    "    current_line = []\n",
    "    current_length = 0\n",
    "    for word in words:\n",
    "        if current_length + len(word) <= max_width:\n",
    "            current_line.append(word)\n",
    "            current_length += len(word) + 1  # Add 1 for the space between words\n",
    "        else:\n",
    "            result.append(' '.join(current_line))\n",
    "            current_line = [word]\n",
    "            current_length = len(word) + 1\n",
    "\n",
    "    if current_line:\n",
    "        result.append(' '.join(current_line))\n",
    "\n",
    "    return result\n",
    "\n",
    "words = [\"Given\", \"an\", \"array\", \"of\", \"words\", \"and\", \"a\", \"max-width\", \"parameter,\",\n",
    "         \"format\", \"the\", \"text\", \"such\", \"that\", \"each\", \"line\", \"has\", \"exactly\", \"X\", \"characters.\"]\n",
    "max_width = 20\n",
    "formatted_text = format_text(words, max_width)\n",
    "for line in formatted_text:\n",
    "    print(len(line), line)"
   ]
  },
  {
   "cell_type": "code",
   "execution_count": null,
   "metadata": {},
   "outputs": [],
   "source": []
  }
 ],
 "metadata": {
  "kernelspec": {
   "display_name": "Python 3 (ipykernel)",
   "language": "python",
   "name": "python3"
  },
  "language_info": {
   "codemirror_mode": {
    "name": "ipython",
    "version": 3
   },
   "file_extension": ".py",
   "mimetype": "text/x-python",
   "name": "python",
   "nbconvert_exporter": "python",
   "pygments_lexer": "ipython3",
   "version": "3.10.8"
  }
 },
 "nbformat": 4,
 "nbformat_minor": 4
}
