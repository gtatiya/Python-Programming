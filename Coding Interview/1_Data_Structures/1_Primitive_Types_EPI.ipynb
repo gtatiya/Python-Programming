{
 "cells": [
  {
   "cell_type": "code",
   "execution_count": 1,
   "metadata": {},
   "outputs": [],
   "source": [
    "import math"
   ]
  },
  {
   "cell_type": "raw",
   "metadata": {},
   "source": [
    "https://wiki.python.org/moin/BitwiseOperators\n"
   ]
  },
  {
   "cell_type": "code",
   "execution_count": 2,
   "metadata": {},
   "outputs": [
    {
     "name": "stdout",
     "output_type": "stream",
     "text": [
      "x, bin(x), num_bits:  10 0b1010 0\n",
      "x, bin(x), num_bits:  5 0b101 0\n",
      "x, bin(x), num_bits:  2 0b10 1\n",
      "x, bin(x), num_bits:  1 0b1 1\n",
      "x, bin(x), num_bits:  0 0b0 2\n",
      "2\n"
     ]
    }
   ],
   "source": [
    "\"\"\"\n",
    "Write a program to count the number of bits that are set to 1 in a positive integer\n",
    "\"\"\"\n",
    "\n",
    "def count_bits(x: int) -> int:\n",
    "    \n",
    "    num_bits = 0\n",
    "    print(\"x, bin(x), num_bits: \", x, bin(x), num_bits)\n",
    "    while x:\n",
    "        # x & y: Does a \"bitwise and\". Each bit of the output is 1 if the corresponding bit of x AND of y is 1, otherwise it's 0.\n",
    "        num_bits += x & 1\n",
    "        # x >> y: Returns x with the bits shifted to the right by y places\n",
    "        x >>= 1\n",
    "        print(\"x, bin(x), num_bits: \", x, bin(x), num_bits)\n",
    "\n",
    "    return num_bits\n",
    "\n",
    "print(count_bits(10))\n"
   ]
  },
  {
   "cell_type": "code",
   "execution_count": 3,
   "metadata": {},
   "outputs": [
    {
     "name": "stdout",
     "output_type": "stream",
     "text": [
      "x, bin(x), result:  4 0b100 0\n",
      "x, bin(x), result:  2 0b10 0\n",
      "x, bin(x), result:  1 0b1 0\n",
      "x, bin(x), result:  0 0b0 1\n",
      "1\n",
      "1\n"
     ]
    }
   ],
   "source": [
    "\"\"\"\n",
    "The parity of a binary word is 1 if the number of 1s in the word is odd; otherwise, it is 0\n",
    "\n",
    "How would you compute the parity of a very large number of 64-bit words?\n",
    "Hint: Use a lookup table, but don't use 2^64 entries!\n",
    "\"\"\"\n",
    "\n",
    "def parity(x: int) -> int:\n",
    "\n",
    "    result = 0\n",
    "    print(\"x, bin(x), result: \", x, bin(x), result)\n",
    "    while x:\n",
    "        # x^y: Does a \"bitwise exclusive or\".\n",
    "        # Each bit of the output is the same as the corresponding bit in x if that bit in y is 0,\n",
    "        # and it's the complement of the bit in x if that bit in y is 1.\n",
    "        result ^= x & 1\n",
    "        x >>= 1\n",
    "        print(\"x, bin(x), result: \", x, bin(x), result)\n",
    "    return result\n",
    "\n",
    "def parity_gt(x: int) -> int:\n",
    "    # TODO - you fill in here.\n",
    "    result = 0\n",
    "    while x:\n",
    "        result += x & 1\n",
    "        x >>= 1\n",
    "\n",
    "    return 0 if result % 2 == 0 else 1\n",
    "\n",
    "my_input = 4\n",
    "print(parity(my_input))\n",
    "print(parity_gt(my_input))"
   ]
  },
  {
   "cell_type": "code",
   "execution_count": null,
   "metadata": {},
   "outputs": [],
   "source": []
  },
  {
   "cell_type": "code",
   "execution_count": 4,
   "metadata": {
    "scrolled": true
   },
   "outputs": [
    {
     "name": "stdout",
     "output_type": "stream",
     "text": [
      "0 0b0\n",
      "1 0b1\n",
      "2 0b10\n",
      "3 0b11\n",
      "4 0b100\n",
      "5 0b101\n",
      "6 0b110\n",
      "7 0b111\n",
      "8 0b1000\n",
      "9 0b1001\n",
      "10 0b1010\n",
      "11 0b1011\n",
      "12 0b1100\n",
      "13 0b1101\n",
      "14 0b1110\n",
      "15 0b1111\n"
     ]
    }
   ],
   "source": [
    "\n",
    "for n in range(16):\n",
    "    binary = bin(n)\n",
    "    \n",
    "    print(n, binary)"
   ]
  },
  {
   "cell_type": "code",
   "execution_count": 5,
   "metadata": {
    "scrolled": true
   },
   "outputs": [
    {
     "name": "stdout",
     "output_type": "stream",
     "text": [
      "0 1 1 0b1\n",
      "1 2 2 0b10\n",
      "2 4 4 0b100\n",
      "3 8 8 0b1000\n",
      "4 16 16 0b10000\n",
      "5 32 32 0b100000\n",
      "6 64 64 0b1000000\n",
      "7 128 128 0b10000000\n",
      "8 256 256 0b100000000\n",
      "9 512 512 0b1000000000\n",
      "10 1024 1024 0b10000000000\n"
     ]
    }
   ],
   "source": [
    "\n",
    "for n in range(11):\n",
    "    power_of_two = 2 ** n\n",
    "    power_of_two_ = 1 << n\n",
    "    binary = bin(power_of_two)   \n",
    "    \n",
    "    print(n, power_of_two, power_of_two_, binary)"
   ]
  },
  {
   "cell_type": "code",
   "execution_count": 6,
   "metadata": {},
   "outputs": [
    {
     "name": "stdout",
     "output_type": "stream",
     "text": [
      "0b1011111\n"
     ]
    }
   ],
   "source": [
    "\"\"\"\n",
    "Right propagate the rightmost set bit in x, e.g., turns (01010000)2 to (01011111)2.\n",
    "\"\"\"\n",
    "\n",
    "x = 0b1010000\n",
    "\n",
    "rightmost_set_bit = x | (x-1)\n",
    "print(bin(rightmost_set_bit))"
   ]
  },
  {
   "cell_type": "code",
   "execution_count": 7,
   "metadata": {},
   "outputs": [
    {
     "name": "stdout",
     "output_type": "stream",
     "text": [
      "13\n"
     ]
    }
   ],
   "source": [
    "\"\"\"\n",
    "Compute r mod a power of two, e.g., returns 13 for 77 mod 64.\n",
    "\n",
    "77: 0b1001101\n",
    "64: 0b1000000\n",
    "63: 0b0111111\n",
    "13: 0b0001101\n",
    "\n",
    "13 = 77 AND (64 - 1)\n",
    "\"\"\"\n",
    "\n",
    "def mod_power_2(x, power):\n",
    "    return x & (1 << power) - 1\n",
    "\n",
    "print(mod_power_2(77, 6))"
   ]
  },
  {
   "cell_type": "code",
   "execution_count": 8,
   "metadata": {},
   "outputs": [
    {
     "name": "stdout",
     "output_type": "stream",
     "text": [
      "1 True\n",
      "2 True\n",
      "3 False\n",
      "4 True\n",
      "5 False\n",
      "6 False\n",
      "7 False\n",
      "8 True\n",
      "9 False\n",
      "10 False\n"
     ]
    }
   ],
   "source": [
    "\"\"\"\n",
    "Test if x is a power of 2, i.e., evaluates to true for x=1,2,4,8,..., false for all other values.\n",
    "\n",
    "7: 0b0111\n",
    "8: 0b1000\n",
    "\n",
    "8 & 7 = 0 (False)\n",
    "\"\"\"\n",
    "\n",
    "for x in range(1, 11):\n",
    "    print(x, not(x & (x - 1)))"
   ]
  },
  {
   "cell_type": "code",
   "execution_count": 9,
   "metadata": {},
   "outputs": [
    {
     "name": "stdout",
     "output_type": "stream",
     "text": [
      "0b1011\n"
     ]
    }
   ],
   "source": [
    "\"\"\"\n",
    "Implement code that takes as input a 64-bit integer and swaps the bits at indices i and j.\n",
    "Figure 4.1 illustrates bit swapping for an 8-bit integer.\n",
    "Hint: When is the swap necessary?\n",
    "\n",
    "Specifically, we first test if the bits to be swapped differ.\n",
    "If they do not, the swap does not change the integer.\n",
    "If the bits are different, swapping them is the same as flipping their individual values.\n",
    "\"\"\"\n",
    "\n",
    "def swap_bits(x, i, j):\n",
    "    # Extract the i-th and j-th bits, and see if they differ.\n",
    "    if (x >> i) & 1 != (x >> j) & 1:\n",
    "        # i-th and j-th bits differ. We will swap them by flipping their values.\n",
    "        # Select the bits to flip with bit_mask. Since x^1 = 0 when x = 1 and 1\n",
    "        # when x = 0, we can perform the flip XOR.\n",
    "        bit_mask = (1 << i) | (1 << j)\n",
    "        x ^= bit_mask\n",
    "    return x\n",
    "\n",
    "x = 0b01001001\n",
    "print(bin(swap_bits(x, 1, 6)))"
   ]
  },
  {
   "cell_type": "code",
   "execution_count": 10,
   "metadata": {},
   "outputs": [],
   "source": [
    "\n",
    "def has_duplicates(numbers: list) -> bool:\n",
    "    return True"
   ]
  },
  {
   "cell_type": "code",
   "execution_count": null,
   "metadata": {},
   "outputs": [],
   "source": []
  },
  {
   "cell_type": "code",
   "execution_count": null,
   "metadata": {},
   "outputs": [],
   "source": []
  },
  {
   "cell_type": "code",
   "execution_count": null,
   "metadata": {},
   "outputs": [],
   "source": []
  },
  {
   "cell_type": "code",
   "execution_count": null,
   "metadata": {},
   "outputs": [],
   "source": []
  }
 ],
 "metadata": {
  "kernelspec": {
   "display_name": "Python 3",
   "language": "python",
   "name": "python3"
  },
  "language_info": {
   "codemirror_mode": {
    "name": "ipython",
    "version": 3
   },
   "file_extension": ".py",
   "mimetype": "text/x-python",
   "name": "python",
   "nbconvert_exporter": "python",
   "pygments_lexer": "ipython3",
   "version": "3.7.6"
  }
 },
 "nbformat": 4,
 "nbformat_minor": 4
}
