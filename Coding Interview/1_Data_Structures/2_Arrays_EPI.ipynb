{
 "cells": [
  {
   "cell_type": "code",
   "execution_count": 1,
   "metadata": {},
   "outputs": [],
   "source": [
    "from typing import List\n",
    "\n",
    "import bisect"
   ]
  },
  {
   "cell_type": "raw",
   "metadata": {},
   "source": [
    "Array problems often have simple brute force solutions that use O(n) space, but there are subtler solutions that use the array itself to reduce space complexity to O(1).\n",
    "\n",
    "Filling an array from the front is slow, so see if it's possible to write values from the back.\n",
    "When dealing with integers encoded by an array consider processing the digits from the back of the array.\n",
    "Alternately, reverse the array so the least-significant digit is the first entry.\n",
    "\n",
    "Instead of deleting an entry (which requires moving all entries to its left), consider overwriting it.\n",
    "\n",
    "It's incredibly easy to make off-by-1 errors when operating on arrays-reading past the last element of an array is a common error which has catastrophic consequences."
   ]
  },
  {
   "cell_type": "code",
   "execution_count": 2,
   "metadata": {},
   "outputs": [
    {
     "name": "stdout",
     "output_type": "stream",
     "text": [
      "A:  [11, 3, 5, 11, 44]\n",
      "Index:  0\n",
      "Index:  2\n",
      "Count:  1\n",
      "min(A), max(A):  3 44\n",
      "reversed(A):  [44, 11, 5, 3, 11]\n",
      "A:  [44, 11, 5, 3, 11]\n",
      "sorted(A):  [3, 5, 11, 11, 44]\n",
      "A:  [3, 5, 11, 11, 44]\n",
      "The rightmost index to insert, so list remains sorted is: 4\n",
      "The leftmost index to insert, so list remains sorted is: 2\n",
      "The rightmost index to insert, so list remains sorted is: 4\n",
      "A:  [3, 5, 11, 11]\n",
      "A:  [11, 11]\n"
     ]
    }
   ],
   "source": [
    "# Basic Operations:\n",
    "\n",
    "A = [3, 5, 7, 11, 8]\n",
    "\n",
    "A.pop() # removes the item at the specified index, the default index -1 \n",
    "A.append(44)\n",
    "A.remove(7)\n",
    "A.insert(0, 11)\n",
    "\n",
    "print(\"A: \", A) # [11, 3, 5, 11, 44]\n",
    "\n",
    "print(\"Index: \", A.index(11)) # 0\n",
    "print(\"Index: \", A.index(5)) # 2\n",
    "\n",
    "print(\"Count: \", A.count(5)) # 1\n",
    "\n",
    "print(\"min(A), max(A): \", min(A), max(A)) # 3 44\n",
    "\n",
    "print(\"reversed(A): \", list(reversed(A))) # [44, 11, 5, 3, 11]\n",
    "A.reverse() # in-place\n",
    "print(\"A: \", A) # [44, 11, 5, 3, 11]\n",
    "\n",
    "print(\"sorted(A): \", sorted(A)) # [3, 5, 11, 11, 44]\n",
    "A.sort() # in-place\n",
    "print(\"A: \", A) # [3, 5, 11, 11, 44]\n",
    "\n",
    "print(\"The rightmost index to insert, so list remains sorted is: \", end=\"\")\n",
    "print(bisect.bisect(A, 11)) # 4\n",
    "\n",
    "print(\"The leftmost index to insert, so list remains sorted is: \", end=\"\") \n",
    "print(bisect.bisect_left(A, 11)) # 2\n",
    "\n",
    "print(\"The rightmost index to insert, so list remains sorted is: \", end=\"\") \n",
    "print(bisect.bisect_right(A, 11)) # 4\n",
    "\n",
    "del A[4]\n",
    "print(\"A: \", A) # [3, 5, 11, 11]\n",
    "\n",
    "del A[0:2]\n",
    "print(\"A: \", A) # [11, 11]"
   ]
  },
  {
   "cell_type": "code",
   "execution_count": 3,
   "metadata": {},
   "outputs": [
    {
     "name": "stdout",
     "output_type": "stream",
     "text": [
      "[3, 4]\n",
      "[3, 4, 5, 2, 77]\n",
      "[1, 6, 3, 4]\n",
      "[1, 6, 3, 4, 5, 2]\n",
      "[5, 2, 77]\n",
      "[5, 2]\n",
      "[6, 4]\n",
      "[2, 4]\n",
      "[77, 2, 5, 4, 3, 6, 1]\n",
      "A:  [3, 4, 5, 2, 77, 1, 6]\n"
     ]
    }
   ],
   "source": [
    "A = [1, 6, 3, 4, 5, 2, 77]\n",
    "\n",
    "print(A[2:4])  # [3, 4]\n",
    "print(A[2:])  # [3, 4, 5, 2, 77]\n",
    "print(A[:4])  # [1, 6, 3, 4]\n",
    "print(A[:-1])  # [1, 6, 3, 4, 5, 2]\n",
    "print(A[-3:])  # [5, 2, 77]\n",
    "print(A[-3:-1])  # [5, 2]\n",
    "print(A[1:5:2])  # [6, 4]\n",
    "print(A[5:1:-2])  # [2, 4]\n",
    "print(A[::-1])  # [77, 2, 5, 4, 3, 6, 1] # reversed list\n",
    "\n",
    "# Slicing can also be used to rotate a list\n",
    "k = 2\n",
    "A = A[k:] + A[:k] # rotates A by k to the left\n",
    "print(\"A: \", A) # [3, 4, 5, 2, 77, 1, 6]"
   ]
  },
  {
   "cell_type": "code",
   "execution_count": 4,
   "metadata": {},
   "outputs": [
    {
     "name": "stdout",
     "output_type": "stream",
     "text": [
      "[10, 2, 8, 4, 6, 7, 5, 9, 3, 1]\n"
     ]
    }
   ],
   "source": [
    "\"\"\"\n",
    "Your input is an array of integers, and you have to reorder its entries so that the even entries appear first.\n",
    "\"\"\"\n",
    "\n",
    "def even_odd(A: List[int]) -> List[int]:\n",
    "\n",
    "    next_even, next_odd = 0, len(A) - 1\n",
    "    while next_even < next_odd:\n",
    "        if A[next_even] % 2 == 0:\n",
    "            next_even += 1\n",
    "        else:\n",
    "            A[next_even], A[next_odd] = A[next_odd], A[next_even]\n",
    "            next_odd -= 1\n",
    "    return A\n",
    "\n",
    "a_list = [1, 2, 3, 4, 5, 6, 7, 8, 9, 10]\n",
    "print(even_odd(a_list))"
   ]
  },
  {
   "cell_type": "code",
   "execution_count": 5,
   "metadata": {},
   "outputs": [
    {
     "name": "stdout",
     "output_type": "stream",
     "text": [
      "V1:\n",
      "[1, 3, 4, 5, 2, 6, 6, 77]\n",
      "V2:\n",
      "[1, 3, 4, 5, 2, 6, 6, 77]\n"
     ]
    },
    {
     "data": {
      "text/plain": [
       "'\\nEach iteration decreases the size of unclassified by 1, and the time spent within each iteration is O(1),\\nimplying the time complexity is O(n). The space complexity is clearly O(1)\\n'"
      ]
     },
     "execution_count": 5,
     "metadata": {},
     "output_type": "execute_result"
    }
   ],
   "source": [
    "\"\"\"\n",
    "Write a program that takes an array A and an index i into A, and rearranges the elements such that all elements less than A[i]\n",
    "(the \"pivot\") appear first, followed by elements equal to the pivot, followed by elements greater than the pivot.\n",
    "Hint: Think about the partition step in quicksort.\n",
    "\"\"\"\n",
    "\n",
    "def quicksort_partition_gt(A: List[int], i: int) -> List[int]:\n",
    "    \n",
    "    pivot = A[i]\n",
    "    \n",
    "    B = []\n",
    "    C = []\n",
    "    D = []\n",
    "    for idx in range(len(A)):\n",
    "        if A[idx] < pivot:\n",
    "            B.append(A[idx])\n",
    "        elif A[idx] == pivot:\n",
    "            C.append(A[idx])\n",
    "        elif A[idx] > pivot:\n",
    "            D.append(A[idx])\n",
    "    \n",
    "    return B + C + D\n",
    "\n",
    "print(\"V1:\")\n",
    "A = [1, 6, 6, 3, 4, 5, 2, 77]\n",
    "print(quicksort_partition_gt(A, 1))\n",
    "\n",
    "\"\"\"\n",
    "The problem is trivial to solve with O(n) additional space where n is the length of A.\n",
    "We form three lists, namely, elements less than the pivot, elements equal to the pivot, and elements greater than the pivot.\n",
    "Consequently, we write these values into A. The time complexity is O(n).\n",
    "\"\"\"\n",
    "\n",
    "def dutch_flag_partition(pivot_index: int, A: List[int]) -> List[int]:\n",
    "\n",
    "    pivot = A[pivot_index]\n",
    "    # Keep the following invariants during partitioning:\n",
    "    # bottom group: A[:smaller].\n",
    "    # middle group: A[smaller:equal].\n",
    "    # unclassified group: A[equal:larger].\n",
    "    # top group: A[larger:].\n",
    "    smaller, equal, larger = 0, 0, len(A)\n",
    "    # Keep iterating as long as there is an unclassified element.\n",
    "    while equal < larger:\n",
    "        # A[equal] is the incoming unclassified element.\n",
    "        if A[equal] < pivot:\n",
    "            A[smaller], A[equal] = A[equal], A[smaller]\n",
    "            smaller, equal = smaller + 1, equal + 1\n",
    "        elif A[equal] == pivot:\n",
    "            equal += 1\n",
    "        else:  # A[equal] > pivot.\n",
    "            larger -= 1\n",
    "            A[equal], A[larger] = A[larger], A[equal]\n",
    "    \n",
    "    return A\n",
    "\n",
    "print(\"V2:\")\n",
    "A = [1, 6, 6, 3, 4, 5, 2, 77]\n",
    "print(dutch_flag_partition(1, A))\n",
    "\n",
    "\"\"\"\n",
    "Each iteration decreases the size of unclassified by 1, and the time spent within each iteration is O(1),\n",
    "implying the time complexity is O(n). The space complexity is clearly O(1)\n",
    "\"\"\""
   ]
  },
  {
   "cell_type": "raw",
   "metadata": {},
   "source": [
    "Variant:\n",
    "Assuming that keys take one of three values, reorder the array so that all objects with the same key appear together.\n",
    "The order of the subarrays is not important.\n",
    "For example, both Figures 5.1(b) and 5.1(c) on Page 40 are valid answers for Figure 5.1(a) on Page 40.\n",
    "Use O(1) additional space and O(n) time.\n",
    "\n",
    "Variant:\n",
    "Given an array A of n objects with keys that takes one of four values, reorder the array so that all objects that have\n",
    "the same key appear together.\n",
    "Use O(1) additional space and O(n) time.\n",
    "\n",
    "Variant:\n",
    "Given an array A of n objects with Boolean-valued keys, reorder the array so that objects that have the key false appear first.\n",
    "Use O(1) additional space and O(n) time.\n",
    "\n",
    "Variant:\n",
    "Given an array A of n objects with Boolean-valued keys, reorder the array so that objects that have the key false appear first.\n",
    "The relative ordering of objects with key true should not change.\n",
    "Use O(1) additional space and O(n) time."
   ]
  },
  {
   "cell_type": "code",
   "execution_count": 6,
   "metadata": {},
   "outputs": [
    {
     "name": "stdout",
     "output_type": "stream",
     "text": [
      "V1:\n",
      "129\n",
      "[1, 3, 0]\n",
      "V2:\n",
      "[1, 3, 0]\n"
     ]
    },
    {
     "data": {
      "text/plain": [
       "'\\nThe time complexity is O(n), where n is the length of A.\\n'"
      ]
     },
     "execution_count": 6,
     "metadata": {},
     "output_type": "execute_result"
    }
   ],
   "source": [
    "\"\"\"\n",
    "Write a program which takes as input an array of digits encoding a non-negative decimal integer D and\n",
    "updates the array to represent the integer D + 1.\n",
    "For example, if the input is <1,2,9> then you should update the array to <1,3,0>.\n",
    "Your algorithm should work even if it is implemented in a language that has finite-precision arithmetic.\n",
    "Hint: Experiment with concrete examples.\n",
    "\"\"\"\n",
    "\n",
    "def encode_d_plus_1_gt(A: List[int]) -> List[int]:\n",
    "    \n",
    "#     D = 0\n",
    "#     for i, n in enumerate(A):\n",
    "#         D += (10 ** (len(A)-(i+1))) * n\n",
    "#     print(D)\n",
    "    \n",
    "    A = [str(a) for a in A]\n",
    "    D = int(''.join(A))\n",
    "    print(D)\n",
    "    \n",
    "    D += 1\n",
    "    \n",
    "    B = []\n",
    "    while D:\n",
    "        B.append(D % 10)\n",
    "        D //= 10\n",
    "    B.reverse()\n",
    "    \n",
    "    return B\n",
    "\n",
    "print(\"V1:\")\n",
    "A = [1, 2, 9] #[9, 9, 9] #[1, 2, 9]\n",
    "print(encode_d_plus_1_gt(A))\n",
    "\n",
    "\"\"\"\n",
    "We can avoid overflow issues by operating directly on the array of digits.\n",
    "Specifically, we mimic the grade-school algorithm for adding integers, which entails adding digits starting from the least\n",
    "significant digit, and propagate carries.\n",
    "If the result has an additional digit, e.g., 99 + 1. = 100, there is not enough storage in the array for the result we\n",
    "need three digits to represent 100, but the input has only two digits.\n",
    "\"\"\"\n",
    "\n",
    "def plus_one(A):\n",
    "    \n",
    "    A[-1] += 1\n",
    "    for i in reversed(range(1, len(A))):\n",
    "        if A[i] != 10:\n",
    "            break\n",
    "        A[i] = 0\n",
    "        A[i - 1] += 1\n",
    "        \n",
    "    if A[0] == 10:\n",
    "        # There is a carry-out, so we need one more digit to store the result\n",
    "        # A slick way to do this is to append a 0 at the end of the array,\n",
    "        # and update the first entry to 1.\n",
    "        A[0] = 1\n",
    "        A.append(0)\n",
    "        \n",
    "    return A\n",
    "\n",
    "print(\"V2:\")\n",
    "A = [1, 2, 9] #[9, 9, 9] #[1, 2, 9]\n",
    "print(plus_one(A))\n",
    "\n",
    "\"\"\"\n",
    "The time complexity is O(n), where n is the length of A.\n",
    "\"\"\""
   ]
  },
  {
   "cell_type": "code",
   "execution_count": 7,
   "metadata": {},
   "outputs": [
    {
     "name": "stdout",
     "output_type": "stream",
     "text": [
      "10101\n"
     ]
    }
   ],
   "source": [
    "\"\"\"\n",
    "Variant:\n",
    "Write a program which takes as input two strings s and t of bits encoding binary numbers Bs and Bt, respectively, and\n",
    "returns a new string of bits representing the number Bs + Bt.\n",
    "\"\"\"\n",
    "\n",
    "def addBinary(a: str, b: str) -> str:\n",
    "    \n",
    "    sum_int = int(a, 2) + int(b, 2)\n",
    "    \n",
    "    return bin(sum_int)[2:]\n",
    "\n",
    "A, B = \"11\", \"1\"\n",
    "A, B = \"1010\", \"1011\"\n",
    "print(addBinary(A, B))"
   ]
  },
  {
   "cell_type": "code",
   "execution_count": null,
   "metadata": {},
   "outputs": [],
   "source": []
  },
  {
   "cell_type": "code",
   "execution_count": null,
   "metadata": {},
   "outputs": [],
   "source": []
  },
  {
   "cell_type": "code",
   "execution_count": null,
   "metadata": {},
   "outputs": [],
   "source": []
  }
 ],
 "metadata": {
  "kernelspec": {
   "display_name": "Python 3 (ipykernel)",
   "language": "python",
   "name": "python3"
  },
  "language_info": {
   "codemirror_mode": {
    "name": "ipython",
    "version": 3
   },
   "file_extension": ".py",
   "mimetype": "text/x-python",
   "name": "python",
   "nbconvert_exporter": "python",
   "pygments_lexer": "ipython3",
   "version": "3.10.8"
  }
 },
 "nbformat": 4,
 "nbformat_minor": 4
}
