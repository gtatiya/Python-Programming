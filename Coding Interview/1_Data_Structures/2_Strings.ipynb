{
 "cells": [
  {
   "cell_type": "code",
   "execution_count": 1,
   "metadata": {},
   "outputs": [
    {
     "name": "stdout",
     "output_type": "stream",
     "text": [
      "Assessing a char:  GyanKatiya\n",
      "Assessing a char:  GyanTatiya\n",
      "Count:  3\n",
      "Find index:  2\n",
      "Find highest index:  9\n",
      "Revere of a string: ayitaTnayG\n"
     ]
    }
   ],
   "source": [
    "my_str = 'GyanTatiya'\n",
    "\n",
    "# Assessing a char, M1:\n",
    "my_str_list = list(my_str)\n",
    "my_str_list[4] = 'K'\n",
    "my_str = ''.join(my_str_list)\n",
    "print(\"Assessing a char: \", my_str) # GyanKatiya\n",
    "\n",
    "# Assessing a char, M2:\n",
    "position = 4\n",
    "character = 'T'\n",
    "my_str = my_str[:position] + character + my_str[position+1:]\n",
    "print(\"Assessing a char: \", my_str) # GyanTatiya\n",
    "\n",
    "print(\"Count: \", my_str.count('a')) # 3\n",
    "\n",
    "print(\"Find index: \", my_str.find('a')) # 2\n",
    "\n",
    "print(\"Find highest index: \", my_str.rfind('a')) # 9\n",
    "\n",
    "print(\"Revere of a string:\", my_str[::-1]) # ayitaTnayG"
   ]
  },
  {
   "cell_type": "code",
   "execution_count": 2,
   "metadata": {},
   "outputs": [
    {
     "name": "stdout",
     "output_type": "stream",
     "text": [
      "isalpha(): True False\n",
      "islower():  False False True\n",
      "lower(): gyantatiya\n",
      "isupper():  False False True\n",
      "upper(): GYANTATIYA\n",
      "swapcase(): gYANtATIYA NUM4\n"
     ]
    }
   ],
   "source": [
    "print('isalpha():', my_str.isalpha(), 'num4'.isalpha())\n",
    "\n",
    "print('islower(): ', my_str.islower(), 'Hh'.islower(), 'h'.islower())\n",
    "print('lower():', my_str.lower())\n",
    "print('isupper(): ', my_str.isupper(), 'Hh'.isupper(), 'H'.isupper())\n",
    "print('upper():', my_str.upper())\n",
    "print('swapcase():', my_str.swapcase(), 'num4'.swapcase())"
   ]
  },
  {
   "cell_type": "code",
   "execution_count": null,
   "metadata": {},
   "outputs": [],
   "source": []
  }
 ],
 "metadata": {
  "kernelspec": {
   "display_name": "Python 3 (ipykernel)",
   "language": "python",
   "name": "python3"
  },
  "language_info": {
   "codemirror_mode": {
    "name": "ipython",
    "version": 3
   },
   "file_extension": ".py",
   "mimetype": "text/x-python",
   "name": "python",
   "nbconvert_exporter": "python",
   "pygments_lexer": "ipython3",
   "version": "3.10.8"
  }
 },
 "nbformat": 4,
 "nbformat_minor": 4
}
