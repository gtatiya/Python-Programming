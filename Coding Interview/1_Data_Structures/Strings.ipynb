{
 "cells": [
  {
   "cell_type": "code",
   "execution_count": null,
   "metadata": {},
   "outputs": [],
   "source": []
  },
  {
   "cell_type": "code",
   "execution_count": 8,
   "metadata": {},
   "outputs": [
    {
     "name": "stdout",
     "output_type": "stream",
     "text": [
      "Assessing a char:  GyanTatiya\n",
      "count:  3\n",
      "find index:  2\n",
      "find highest index:  9\n"
     ]
    }
   ],
   "source": [
    "my_str = 'GyanKatiya'\n",
    "\n",
    "# Assessing a char \n",
    "my_str_list = list(my_str)\n",
    "my_str_list[4] = 'T'\n",
    "my_str = ''.join(my_str_list)\n",
    "\n",
    "print(\"Assessing a char: \", my_str) # GyanTatiya\n",
    "\n",
    "# Count\n",
    "print(\"count: \", my_str.count('a')) # 3\n",
    "\n",
    "# Find index\n",
    "print(\"find index: \", my_str.find('a')) # 2\n",
    "\n",
    "# Find highest index\n",
    "print(\"find highest index: \", my_str.rfind('a')) # 9"
   ]
  },
  {
   "cell_type": "code",
   "execution_count": null,
   "metadata": {},
   "outputs": [],
   "source": []
  },
  {
   "cell_type": "code",
   "execution_count": null,
   "metadata": {},
   "outputs": [],
   "source": []
  }
 ],
 "metadata": {
  "kernelspec": {
   "display_name": "Python 3",
   "language": "python",
   "name": "python3"
  },
  "language_info": {
   "codemirror_mode": {
    "name": "ipython",
    "version": 3
   },
   "file_extension": ".py",
   "mimetype": "text/x-python",
   "name": "python",
   "nbconvert_exporter": "python",
   "pygments_lexer": "ipython3",
   "version": "3.7.6"
  }
 },
 "nbformat": 4,
 "nbformat_minor": 4
}
