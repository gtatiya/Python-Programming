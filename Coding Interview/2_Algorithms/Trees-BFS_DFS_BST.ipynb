{
 "cells": [
  {
   "cell_type": "markdown",
   "metadata": {},
   "source": [
    "# Graph Traversal"
   ]
  },
  {
   "cell_type": "markdown",
   "metadata": {},
   "source": [
    "## Depth First Search"
   ]
  },
  {
   "attachments": {
    "image.png": {
     "image/png": "[encoded data removed]"
    }
   },
   "cell_type": "markdown",
   "metadata": {},
   "source": [
    "![image.png](attachment:image.png)"
   ]
  },
  {
   "cell_type": "code",
   "execution_count": 1,
   "metadata": {},
   "outputs": [
    {
     "name": "stdout",
     "output_type": "stream",
     "text": [
      "A\n",
      "B\n",
      "D\n",
      "E\n",
      "F\n",
      "C\n"
     ]
    }
   ],
   "source": [
    "def dfs(visited, graph, node):\n",
    "    if node not in visited:\n",
    "        print(node)\n",
    "        visited.add(node)\n",
    "        for neighbour in graph[node]:\n",
    "            dfs(visited, graph, neighbour)\n",
    "\n",
    "# Using a Python dictionary to act as an adjacency list\n",
    "graph = {\n",
    "    'A' : ['B','C'],\n",
    "    'B' : ['D', 'E'],\n",
    "    'C' : ['F'],\n",
    "    'D' : [],\n",
    "    'E' : ['F'],\n",
    "    'F' : []\n",
    "}\n",
    "\n",
    "visited = set() # Set to keep track of visited nodes.\n",
    "\n",
    "# Driver Code\n",
    "dfs(visited, graph, 'A')"
   ]
  },
  {
   "cell_type": "markdown",
   "metadata": {},
   "source": [
    "## Breadth First search"
   ]
  },
  {
   "cell_type": "code",
   "execution_count": 2,
   "metadata": {},
   "outputs": [
    {
     "name": "stdout",
     "output_type": "stream",
     "text": [
      "A B C D E F "
     ]
    }
   ],
   "source": [
    "def bfs(visited, graph, node):\n",
    "    visited.append(node)\n",
    "    queue.append(node)\n",
    "    # print(\"queue: \", queue)\n",
    "\n",
    "    while queue:\n",
    "        #print(\"queue: \", queue)\n",
    "        s = queue.pop(0) # First come, first serve\n",
    "        print(s, end = \" \")\n",
    "\n",
    "        for neighbour in graph[s]:\n",
    "            if neighbour not in visited:\n",
    "                visited.append(neighbour)\n",
    "                queue.append(neighbour)\n",
    "                # print(\"queue: \", queue)\n",
    "\n",
    "graph = {\n",
    "  'A' : ['B','C'],\n",
    "  'B' : ['D', 'E'],\n",
    "  'C' : ['F'],\n",
    "  'D' : [],\n",
    "  'E' : ['F'],\n",
    "  'F' : []\n",
    "}\n",
    "\n",
    "visited = [] # List to keep track of visited nodes.\n",
    "queue = []     #Initialize a queue\n",
    "\n",
    "# Driver Code\n",
    "bfs(visited, graph, 'A')"
   ]
  },
  {
   "cell_type": "code",
   "execution_count": 3,
   "metadata": {},
   "outputs": [],
   "source": [
    "class Node(object):\n",
    "    def __init__(self, val):\n",
    "        self.val = val\n",
    "        self.left = None\n",
    "        self.right = None\n",
    "\n",
    "visited = set() # Set to keep track of visited nodes\n",
    "def dfs(visited, node):\n",
    "    if not node:\n",
    "        return None\n",
    "    \n",
    "    if node not in visited:\n",
    "        visited.add(node)\n",
    "        # for neighbour in graph[node]\n",
    "        dfs(visited, node.left)\n",
    "        dfs(visited, node.right)\n",
    "\n",
    "visited = set() # Set to keep track of visited nodes\n",
    "queue = []  # Initialize a queue\n",
    "def bfs(visited, node):\n",
    "    if not node:\n",
    "        return None\n",
    "    \n",
    "    visited.add(node)\n",
    "    queue.append(node)\n",
    "    while queue:\n",
    "        node = queue.pop(0)\n",
    "        \n",
    "        # for neighbour in graph[node]\n",
    "        if node.left not in visited:\n",
    "            visited.add(node.left)\n",
    "            queue.append(node.left)\n",
    "        if node.right not in visited:\n",
    "            visited.add(node.right)\n",
    "            queue.append(node.right)"
   ]
  },
  {
   "cell_type": "markdown",
   "metadata": {},
   "source": [
    "# Binary Search Tree"
   ]
  },
  {
   "cell_type": "code",
   "execution_count": 4,
   "metadata": {},
   "outputs": [
    {
     "name": "stdout",
     "output_type": "stream",
     "text": [
      "4 2 1 3 7 6 \n",
      "Height:  2\n"
     ]
    }
   ],
   "source": [
    "class Node:\n",
    "    def __init__(self, val):\n",
    "        self.val = val\n",
    "        self.left = None\n",
    "        self.right = None\n",
    "\n",
    "class BinarySearchTree:\n",
    "    def __init__(self):\n",
    "        self.root = None\n",
    "\n",
    "    def insert(self, val):\n",
    "        if not self.root:\n",
    "            # 1st element will be root\n",
    "            self.root = Node(val)\n",
    "        else:\n",
    "            # make root the current node\n",
    "            node = self.root\n",
    "            while(True):\n",
    "                # Traverse left\n",
    "                if (node.val>val):\n",
    "                    if node.left:\n",
    "                        # make left node the current node\n",
    "                        node = node.left\n",
    "                    else:\n",
    "                        # insert to left of current node\n",
    "                        node.left = Node(val)\n",
    "                        return\n",
    "                # Traverse right\n",
    "                else:\n",
    "                    if node.right:\n",
    "                        # make right node the current node\n",
    "                        node = node.right\n",
    "                    else:\n",
    "                        # insert to right of current node\n",
    "                        node.right = Node(val)\n",
    "                        return\n",
    "    \n",
    "    def height(self, node):\n",
    "        # The height of a binary tree is the number of edges\n",
    "        # between the tree's root and its furthest leaf\n",
    "        # print(node.val, end=\" \")\n",
    "        add = 0\n",
    "        if node.left:\n",
    "            add = 1 + self.height(node.left)\n",
    "        if node.right:\n",
    "            add = 1 + self.height(node.right)\n",
    "        \n",
    "        # print(\"add: \", add)\n",
    "        return add\n",
    "    \n",
    "tree = BinarySearchTree()\n",
    "arr = [4, 2, 3, 1, 7, 6]\n",
    "for val in arr:\n",
    "    tree.insert(val)\n",
    "\n",
    "'''\n",
    "     4\n",
    "   /   \\\n",
    "  2     7\n",
    " / \\   /\n",
    "1   3 6\n",
    "'''\n",
    "def preOrder(root):\n",
    "    if root == None:\n",
    "        return\n",
    "    print(root.val, end=\" \")\n",
    "    preOrder(root.left)\n",
    "    preOrder(root.right)\n",
    "    \n",
    "preOrder(tree.root)\n",
    "print(\"\")\n",
    "print(\"Height: \", tree.height(tree.root))"
   ]
  },
  {
   "cell_type": "code",
   "execution_count": 5,
   "metadata": {},
   "outputs": [
    {
     "name": "stdout",
     "output_type": "stream",
     "text": [
      "level_vals:  [[4], [2, 7], [1, 3, 6]]\n"
     ]
    }
   ],
   "source": [
    "'''\n",
    "The function should take the root of the binary tree as input and return a list of lists,\n",
    "where each inner list represents a level in the tree.\n",
    "Write a Python function to solve this problem using BFS.\n",
    "\n",
    "Example:\n",
    "Input:\n",
    "    3\n",
    "   / \\\n",
    "  9  20\n",
    "    /  \\\n",
    "   15   7\n",
    "\n",
    "Output:\n",
    "[\n",
    "  [3],\n",
    "  [9, 20],\n",
    "  [15, 7]\n",
    "]\n",
    "'''\n",
    "\n",
    "def level_order_traversal(root):\n",
    "    if not root:\n",
    "        return []  # If the tree is empty, return an empty list.\n",
    "\n",
    "    result = []       # Create a list to store the level order traversal.\n",
    "    queue = [root]    # Initialize a queue with the root node.\n",
    "\n",
    "    while queue:\n",
    "        level_size = len(queue)  # Get the number of nodes at the current level.\n",
    "        level_values = []       # Create a list to store values at the current level.\n",
    "\n",
    "        for _ in range(level_size):\n",
    "            node = queue.pop(0)  # Dequeue the first node in the queue.\n",
    "            level_values.append(node.val)  # Add the value of the node to the current level list.\n",
    "\n",
    "            if node.left:\n",
    "                queue.append(node.left)  # Enqueue the left child if it exists.\n",
    "            if node.right:\n",
    "                queue.append(node.right)  # Enqueue the right child if it exists.\n",
    "\n",
    "        result.append(level_values)  # Add the list of values at the current level to the result list.\n",
    "\n",
    "    return result  # Return the level order traversal of the tree as a list of lists.\n",
    "\n",
    "level_vals = level_order_traversal(tree.root)\n",
    "print('level_vals: ', level_vals)"
   ]
  },
  {
   "cell_type": "code",
   "execution_count": null,
   "metadata": {},
   "outputs": [],
   "source": []
  },
  {
   "cell_type": "code",
   "execution_count": null,
   "metadata": {},
   "outputs": [],
   "source": []
  }
 ],
 "metadata": {
  "kernelspec": {
   "display_name": "Python 3 (ipykernel)",
   "language": "python",
   "name": "python3"
  },
  "language_info": {
   "codemirror_mode": {
    "name": "ipython",
    "version": 3
   },
   "file_extension": ".py",
   "mimetype": "text/x-python",
   "name": "python",
   "nbconvert_exporter": "python",
   "pygments_lexer": "ipython3",
   "version": "3.10.8"
  }
 },
 "nbformat": 4,
 "nbformat_minor": 4
}
