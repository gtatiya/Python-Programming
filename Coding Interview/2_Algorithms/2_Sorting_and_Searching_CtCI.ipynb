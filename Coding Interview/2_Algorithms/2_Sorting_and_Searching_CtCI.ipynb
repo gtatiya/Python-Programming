{
 "cells": [
  {
   "cell_type": "code",
   "execution_count": 1,
   "metadata": {},
   "outputs": [],
   "source": [
    "import numpy as np"
   ]
  },
  {
   "cell_type": "markdown",
   "metadata": {},
   "source": [
    "# 10 Sorting and Searching\n",
    "## Interview Questions, Page: 149"
   ]
  },
  {
   "cell_type": "code",
   "execution_count": 33,
   "metadata": {},
   "outputs": [
    {
     "name": "stdout",
     "output_type": "stream",
     "text": [
      "A:  [-50, -47, -46, -42, -34, -31, -9, -3, 12, 14, 15, 15, 16, 28, 40, 0.0, 0.0, 0.0, 0.0, 0.0]\n",
      "B:  [-35, 11, 13, 35, 49]\n",
      "20\n",
      "[-50, -47, -46, -42, -35, -34, -31, -9, -3, 11, 12, 13, 14, 15, 15, 16, 28, 35, 40, 49]\n"
     ]
    }
   ],
   "source": [
    "\"\"\"\n",
    "Q 10.1\n",
    "Sorted Merge: You are given two sorted arrays, A and B, where A has a large enough buffer at the end to hold B.\n",
    "Write a method to merge B into A in sorted order.\n",
    "\"\"\"\n",
    "\n",
    "# Merge part of merge sort\n",
    "def merge(A, B):\n",
    "    merged_list = []\n",
    "    \n",
    "    A_idx = 0\n",
    "    B_idx = 0\n",
    "    while True:\n",
    "        if B_idx >= len(B):\n",
    "            return merged_list + A[A_idx:-len(B)]\n",
    "        elif A_idx >= len(A)-len(B):\n",
    "            return merged_list + B[B_idx:]\n",
    "        \n",
    "        if A[A_idx] <= B[B_idx]:\n",
    "            merged_list.append(A[A_idx])\n",
    "            A_idx += 1\n",
    "        else:\n",
    "            merged_list.append(B[B_idx])\n",
    "            B_idx += 1\n",
    "\n",
    "extra_items = 5\n",
    "A = sorted(np.random.randint(low=-50, high=50, size=15)) + list(np.zeros((extra_items)))\n",
    "print(\"A: \", A)\n",
    "B = sorted(np.random.randint(low=-50, high=50, size=extra_items))\n",
    "print(\"B: \", B)\n",
    "\n",
    "merged_list = merge(A, B)\n",
    "print(len(merged_list))\n",
    "print(merged_list)"
   ]
  },
  {
   "cell_type": "code",
   "execution_count": 3,
   "metadata": {},
   "outputs": [
    {
     "name": "stdout",
     "output_type": "stream",
     "text": [
      "[9, 0, 8, 1, 7, 4]\n"
     ]
    }
   ],
   "source": [
    "\"\"\"\n",
    "Q 10.11\n",
    "Peaks and Valleys: In an array of integers, a \"peak\" is an element which is greater than or equal to the adjacent integers\n",
    "and a \"valley\" is an element which is less than or equal to the adjacent integers.\n",
    "For example, in the array {5, 8, 6, 2, 3, 4, 6 }, {8, 6} are peaks and {5, 2} are valleys.\n",
    "Given an array of integers, sort the array into an alternating sequence of peaks and valleys.\n",
    "EXAMPLE\n",
    "Input: {5, 3, 1, 2, 3}\n",
    "Output: {5, 1, 3, 2, 3}\n",
    "\"\"\"\n",
    "\n",
    "def find_peak_and_valley(input_list):\n",
    "    output_list = []\n",
    "\n",
    "    while True:\n",
    "        # Find Peak\n",
    "        if len(input_list) <= 0:\n",
    "            break\n",
    "        max_num = max(input_list)\n",
    "        output_list.append(input_list.pop(input_list.index(max_num)))\n",
    "\n",
    "        # Find Valley\n",
    "        if len(input_list) <= 0:\n",
    "            break\n",
    "        min_num = min(input_list)\n",
    "        output_list.append(input_list.pop(input_list.index(min_num)))\n",
    "    \n",
    "    return output_list\n",
    "\n",
    "input_list = [9, 1, 0, 4, 8, 7] #[5, 8, 6, 2, 3, 4, 6] #[5, 3, 1, 2, 3]\n",
    "output_list = find_peak_and_valley(input_list)\n",
    "\n",
    "print(output_list)"
   ]
  },
  {
   "cell_type": "code",
   "execution_count": null,
   "metadata": {},
   "outputs": [],
   "source": []
  },
  {
   "cell_type": "code",
   "execution_count": null,
   "metadata": {},
   "outputs": [],
   "source": []
  }
 ],
 "metadata": {
  "kernelspec": {
   "display_name": "Python 3",
   "language": "python",
   "name": "python3"
  },
  "language_info": {
   "codemirror_mode": {
    "name": "ipython",
    "version": 3
   },
   "file_extension": ".py",
   "mimetype": "text/x-python",
   "name": "python",
   "nbconvert_exporter": "python",
   "pygments_lexer": "ipython3",
   "version": "3.7.9"
  }
 },
 "nbformat": 4,
 "nbformat_minor": 4
}
