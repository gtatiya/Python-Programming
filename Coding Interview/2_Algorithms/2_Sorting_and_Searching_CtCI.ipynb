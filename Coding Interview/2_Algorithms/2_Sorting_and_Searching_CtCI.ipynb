{
 "cells": [
  {
   "cell_type": "code",
   "execution_count": 1,
   "metadata": {},
   "outputs": [],
   "source": [
    "import numpy as np"
   ]
  },
  {
   "cell_type": "markdown",
   "metadata": {},
   "source": [
    "# 10 Sorting and Searching\n",
    "## Interview Questions, Page: 149"
   ]
  },
  {
   "cell_type": "raw",
   "metadata": {},
   "source": [
    "CCI: Page 149 (10.1 Sorted Merge)\n",
    "\n",
    "You are given two sorted arrays, A and B, where A has a large enough buffer at the end to hold B.\n",
    "Write a method to merge B into A in sorted order."
   ]
  },
  {
   "cell_type": "code",
   "execution_count": 56,
   "metadata": {},
   "outputs": [
    {
     "name": "stdout",
     "output_type": "stream",
     "text": [
      "A:  [-49, -36, -36, -35, -29, -27, -23, -4, -3, 9, 23, 33, 42, 46, 46, 0.0, 0.0, 0.0, 0.0, 0.0]\n",
      "B:  [-29, -23, 16, 22, 48]\n",
      "20 [-49, -36, -36, -35, -29, -29, -27, -23, -23, -4, -3, 9, 16, 22, 23, 33, 42, 46, 46, 48]\n",
      "20 [-49, -36, -36, -35, -29, -29, -27, -23, -23, -4, -3, 9, 16, 22, 23, 33, 42, 46, 46, 48]\n",
      "20 [-49, -36, -36, -35, -29, -29, -27, -23, -23, -4, -3, 9, 16, 22, 23, 33, 42, 46, 46, 48]\n"
     ]
    }
   ],
   "source": [
    "import numpy as np\n",
    "\n",
    "# Merge part of merge sort\n",
    "def merge1(A, B):\n",
    "    merged_list = []\n",
    "    \n",
    "    A_idx = 0\n",
    "    B_idx = 0\n",
    "    while True:\n",
    "        if B_idx >= len(B):\n",
    "            return merged_list + A[A_idx:-len(B)]\n",
    "        elif A_idx >= len(A)-len(B):\n",
    "            return merged_list + B[B_idx:]\n",
    "        \n",
    "        if A[A_idx] <= B[B_idx]:\n",
    "            merged_list.append(A[A_idx])\n",
    "            A_idx += 1\n",
    "        else:\n",
    "            merged_list.append(B[B_idx])\n",
    "            B_idx += 1\n",
    "\n",
    "def merge2(A, B):\n",
    "    \n",
    "    while B:\n",
    "        b_val = B.pop(0)\n",
    "        \n",
    "        i = 0\n",
    "        while True:\n",
    "            if b_val < A[i]:\n",
    "                A.insert(i, b_val)\n",
    "                A.pop()\n",
    "                break\n",
    "            elif i == len(A)-1:  # IMPORTANT!\n",
    "                if A[i] < b_val:\n",
    "                    A.insert(i, b_val)\n",
    "                    A.pop()\n",
    "                break\n",
    "            elif A[i] < b_val < A[i+1]:  # IMPORTANT!\n",
    "                A.insert(i+1, b_val)\n",
    "                A.pop()\n",
    "                break\n",
    "            i += 1\n",
    "    \n",
    "    return A\n",
    "\n",
    "from typing import List\n",
    "\n",
    "def merge3(nums1: List[int], nums2: List[int]) -> List[int]:\n",
    "    \n",
    "    while nums2:\n",
    "        item = nums2.pop(0)\n",
    "        i = 0\n",
    "        while i < len(nums1):\n",
    "            if item < nums1[i]:\n",
    "                nums1.insert(i, item)\n",
    "                break\n",
    "            i += 1\n",
    "        else:  # GT: use else with while\n",
    "            nums1.append(item)  # Add item to the end if it's greater than all elements in nums1\n",
    "    \n",
    "    return nums1\n",
    "\n",
    "'''\n",
    "The time complexity of this function is O(n * m), where n is the length of nums1 and m is the length of nums2, \n",
    "as in the worst case scenario, each element of nums2 needs to be inserted into nums1.\n",
    "\n",
    "The space complexity is O(1) because the function operates in-place, modifying nums1 without using any additional space.\n",
    "'''\n",
    "\n",
    "extra_items = 5\n",
    "A = sorted(np.random.randint(low=-50, high=50, size=15)) + list(np.zeros((extra_items)))\n",
    "A = [-49, -36, -36, -35, -29, -27, -23, -4, -3, 9, 23, 33, 42, 46, 46, 0.0, 0.0, 0.0, 0.0, 0.0]\n",
    "print(\"A: \", A)\n",
    "B = sorted(np.random.randint(low=-50, high=50, size=extra_items))\n",
    "B = [-29, -23, 16, 22, 48]\n",
    "print(\"B: \", B)\n",
    "\n",
    "merged_list = merge1(A, B)\n",
    "print(len(merged_list), merged_list)\n",
    "\n",
    "merged_list = merge2(A.copy(), B.copy())\n",
    "print(len(merged_list), merged_list)\n",
    "\n",
    "merged_list = merge3(A.copy()[:-extra_items], B.copy())\n",
    "print(len(merged_list), merged_list)"
   ]
  },
  {
   "cell_type": "code",
   "execution_count": 4,
   "metadata": {},
   "outputs": [
    {
     "name": "stdout",
     "output_type": "stream",
     "text": [
      "[9, 0, 8, 1, 7, 4]\n"
     ]
    }
   ],
   "source": [
    "\"\"\"\n",
    "Q 10.11\n",
    "Peaks and Valleys: In an array of integers, a \"peak\" is an element which is greater than or equal to the adjacent integers\n",
    "and a \"valley\" is an element which is less than or equal to the adjacent integers.\n",
    "For example, in the array {5, 8, 6, 2, 3, 4, 6 }, {8, 6} are peaks and {5, 2} are valleys.\n",
    "Given an array of integers, sort the array into an alternating sequence of peaks and valleys.\n",
    "EXAMPLE\n",
    "Input: {5, 3, 1, 2, 3}\n",
    "Output: {5, 1, 3, 2, 3}\n",
    "\"\"\"\n",
    "\n",
    "def find_peak_and_valley(input_list):\n",
    "    output_list = []\n",
    "\n",
    "    while True:\n",
    "        # Find Peak\n",
    "        if len(input_list) <= 0:\n",
    "            break\n",
    "        max_num = max(input_list)\n",
    "        output_list.append(input_list.pop(input_list.index(max_num)))\n",
    "\n",
    "        # Find Valley\n",
    "        if len(input_list) <= 0:\n",
    "            break\n",
    "        min_num = min(input_list)\n",
    "        output_list.append(input_list.pop(input_list.index(min_num)))\n",
    "    \n",
    "    return output_list\n",
    "\n",
    "input_list = [9, 1, 0, 4, 8, 7] #[5, 8, 6, 2, 3, 4, 6] #[5, 3, 1, 2, 3]\n",
    "output_list = find_peak_and_valley(input_list)\n",
    "\n",
    "print(output_list)"
   ]
  },
  {
   "cell_type": "code",
   "execution_count": null,
   "metadata": {},
   "outputs": [],
   "source": []
  },
  {
   "cell_type": "code",
   "execution_count": null,
   "metadata": {},
   "outputs": [],
   "source": []
  }
 ],
 "metadata": {
  "kernelspec": {
   "display_name": "Python 3 (ipykernel)",
   "language": "python",
   "name": "python3"
  },
  "language_info": {
   "codemirror_mode": {
    "name": "ipython",
    "version": 3
   },
   "file_extension": ".py",
   "mimetype": "text/x-python",
   "name": "python",
   "nbconvert_exporter": "python",
   "pygments_lexer": "ipython3",
   "version": "3.10.8"
  }
 },
 "nbformat": 4,
 "nbformat_minor": 4
}
