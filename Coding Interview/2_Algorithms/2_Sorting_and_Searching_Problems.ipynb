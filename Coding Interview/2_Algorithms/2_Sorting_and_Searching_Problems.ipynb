{
 "cells": [
  {
   "cell_type": "code",
   "execution_count": null,
   "metadata": {},
   "outputs": [],
   "source": []
  },
  {
   "cell_type": "markdown",
   "metadata": {},
   "source": [
    "# Sorting"
   ]
  },
  {
   "cell_type": "markdown",
   "metadata": {},
   "source": [
    "## Q) [Insertion Sort - Part 2](https://www.hackerrank.com/challenges/insertionsort2)"
   ]
  },
  {
   "cell_type": "raw",
   "metadata": {},
   "source": [
    "Sample Input\n",
    "6\n",
    "1 4 3 5 6 2\n",
    "\n",
    "Sample Output\n",
    "1 4 3 5 6 2 \n",
    "1 3 4 5 6 2 \n",
    "1 3 4 5 6 2 \n",
    "1 3 4 5 6 2 \n",
    "1 2 3 4 5 6 "
   ]
  },
  {
   "cell_type": "code",
   "execution_count": 1,
   "metadata": {},
   "outputs": [
    {
     "name": "stdout",
     "output_type": "stream",
     "text": [
      "1 4 3 5 6 2\n",
      "1 3 4 5 6 2\n",
      "1 3 4 5 6 2\n",
      "1 3 4 5 6 2\n",
      "1 2 3 4 5 6\n",
      "[1, 2, 3, 4, 5, 6]\n"
     ]
    }
   ],
   "source": [
    "def insertionSort2(n, arr):\n",
    "\n",
    "    for i in range(1, n):\n",
    "#         print(\"i: \", i)\n",
    "        key = arr[i]\n",
    "        j = i - 1\n",
    "        while j>=0 and arr[j]>key:\n",
    "#             print(\"arr: \", j, key, arr)\n",
    "            arr[j + 1] = arr[j]\n",
    "            j = j - 1\n",
    "        arr[j + 1] = key\n",
    "        print(*arr)\n",
    "    \n",
    "    return arr\n",
    "\n",
    "arr = [1, 4, 3, 5, 6, 2]\n",
    "n = len(arr)\n",
    "\n",
    "print(insertionSort2(n, arr))"
   ]
  },
  {
   "cell_type": "markdown",
   "metadata": {},
   "source": [
    "## Q) [Quicksort 2 - Sorting](https://www.hackerrank.com/challenges/quicksort2)"
   ]
  },
  {
   "cell_type": "raw",
   "metadata": {},
   "source": [
    "Sample Input\n",
    "7\n",
    "5 8 1 3 7 9 2\n",
    "\n",
    "Sample Output\n",
    "2 3\n",
    "1 2 3\n",
    "7 8 9\n",
    "1 2 3 5 7 8 9"
   ]
  },
  {
   "cell_type": "code",
   "execution_count": 2,
   "metadata": {},
   "outputs": [
    {
     "name": "stdout",
     "output_type": "stream",
     "text": [
      "2 3\n",
      "1 2 3\n",
      "7 8 9\n",
      "1 2 3 5 7 8 9\n",
      "[1, 2, 3, 5, 7, 8, 9]\n"
     ]
    }
   ],
   "source": [
    "\n",
    "def quick_sort(ar):    \n",
    "    if len(ar) <= 1:\n",
    "        return ar\n",
    "    left, equal, right = partition(ar)\n",
    "    newarr = quick_sort(left) + equal + quick_sort(right)\n",
    "    print(' '.join(str(e) for e in newarr))\n",
    "    return newarr\n",
    "\n",
    "def partition(ar):\n",
    "    left=[]\n",
    "    equal=[ar[0]]\n",
    "    right=[]\n",
    "    for elem in ar[1:]:\n",
    "        if elem == ar[0]:\n",
    "            equal.append(elem)\n",
    "        elif elem < ar[0]:\n",
    "            left.append(elem)\n",
    "        else:\n",
    "            right.append(elem)\n",
    "    return left, equal, right\n",
    "\n",
    "ar = [5, 8, 1, 3, 7, 9, 2]\n",
    "m = len(ar)\n",
    "print(quick_sort(ar))"
   ]
  },
  {
   "cell_type": "markdown",
   "metadata": {},
   "source": [
    "## FB:Q) Check if words are sorted according to new order of alphabets"
   ]
  },
  {
   "cell_type": "raw",
   "metadata": {},
   "source": [
    "# Given a list of words and an alphabet, determine whether the list of words is sorted given the alphabet.\n",
    "\n",
    "# words = ['cad', 'bad', 'dab']\n",
    "# alphabet = ['a', 'b', 'c', 'd'] ==> False\n",
    "# alphabet = ['c', 'b', 'a', 'd'] ==> True\n",
    "\n",
    "# Clarifications:\n",
    "# * We want to determine if the list of words is sorted, not the individual words.\n",
    "# * The words in the list may not all be the same length.\n",
    "# * All characters in the list of words are in the alphabet.\n",
    "# * There are no duplicates in the alphabet."
   ]
  },
  {
   "cell_type": "code",
   "execution_count": 4,
   "metadata": {},
   "outputs": [
    {
     "name": "stdout",
     "output_type": "stream",
     "text": [
      "True\n"
     ]
    }
   ],
   "source": [
    "def check_2_words(word1, word2, alpha_idx):\n",
    "    \n",
    "    len_word1 = len(word1)\n",
    "    len_word2 = len(word2)\n",
    "    \n",
    "    short_len = min(len_word1, len_word2)\n",
    "        \n",
    "    for i in range(short_len):\n",
    "        c1 = word1[i]\n",
    "        c2 = word2[i]\n",
    "        \n",
    "        # idx1 = alphabet.index(c1)\n",
    "        # idx2 = alphabet.index(c2)\n",
    "        \n",
    "        # Optimize using a dictionary\n",
    "        idx1 = alpha_idx[c1]\n",
    "        idx2 = alpha_idx[c2]\n",
    "        \n",
    "        if idx2 < idx1:\n",
    "            return False\n",
    "        elif idx2 == idx1:\n",
    "            continue\n",
    "        else:\n",
    "            return True\n",
    "            \n",
    "    if len_word2 < len_word1:\n",
    "        return False\n",
    "        \n",
    "    return True\n",
    "        \n",
    "def get_alphabet_idx(alphabet):\n",
    "    \n",
    "    alpha_idx = {}\n",
    "    for i, c in enumerate(alphabet):\n",
    "        alpha_idx[c] = i\n",
    "    \n",
    "    return alpha_idx\n",
    "\n",
    "def sorted_or_not(words, alphabet):\n",
    "    \n",
    "    alpha_idx = get_alphabet_idx(alphabet)\n",
    "    \n",
    "    for i in range(len(words)-1):\n",
    "        word1 = words[i]\n",
    "        word2 = words[i+1]\n",
    "        \n",
    "        if not check_2_words(word1, word2, alpha_idx):\n",
    "            return False\n",
    "    \n",
    "    return True\n",
    "\n",
    "\n",
    "words = ['cad', 'bad', 'dab']\n",
    "# alphabet = ['a', 'b', 'c', 'd'] # ==> False\n",
    "alphabet = ['c', 'b', 'a', 'd'] # ==> True\n",
    "\n",
    "print(sorted_or_not(words, alphabet))"
   ]
  },
  {
   "cell_type": "code",
   "execution_count": 4,
   "metadata": {},
   "outputs": [
    {
     "name": "stdout",
     "output_type": "stream",
     "text": [
      "True\n"
     ]
    }
   ],
   "source": [
    "\"\"\"\n",
    "https://www.geeksforgeeks.org/check-if-words-are-sorted-according-to-new-order-of-alphabets/\n",
    "\n",
    "Check if words are sorted according to new order of alphabets\n",
    "\n",
    "Time Complexity: O(N), where N is the total number of characters in all words\n",
    "Auxiliary Space: O(1)\n",
    "\"\"\"\n",
    "\n",
    "# Function to check whether Words are sorted in given Order \n",
    "def isAlienSorted(Words, Order): \n",
    "    Order_index = {c: i for i, c in enumerate(Order)} \n",
    "    \n",
    "    for i in range(len(Words) - 1): \n",
    "        word1 = Words[i] \n",
    "        word2 = Words[i + 1] \n",
    "                \n",
    "        # Find the first difference word1[j] != word2[j]\n",
    "        for j in range(min(len(word1), len(word2))): \n",
    "                \n",
    "            # If they compare false then it's not sorted\n",
    "            if word1[j] != word2[j]: \n",
    "                if Order_index[word1[j]] > Order_index[word2[j]]: \n",
    "                    return False\n",
    "                break\n",
    "                \n",
    "        # If we didn't find a first difference, the \n",
    "        # Words are like (\"add\", \"addition\")\n",
    "        if len(word1) > len(word2): \n",
    "            return False\n",
    "\n",
    "    return True\n",
    "\n",
    "\n",
    "# words = [\"hello\", \"leetcode\"] \n",
    "# order = list(\"habcldefgijkmnopqrstuvwxyz\") # True\n",
    "\n",
    "words = ['cad', 'bad', 'dab']\n",
    "# order = ['a', 'b', 'c', 'd'] # False\n",
    "order = ['c', 'b', 'a', 'd'] # True\n",
    "\n",
    "# Function call to print required answer \n",
    "print(isAlienSorted(words, order)) "
   ]
  },
  {
   "cell_type": "code",
   "execution_count": null,
   "metadata": {},
   "outputs": [],
   "source": []
  },
  {
   "cell_type": "code",
   "execution_count": null,
   "metadata": {},
   "outputs": [],
   "source": []
  },
  {
   "cell_type": "markdown",
   "metadata": {},
   "source": [
    "# Searching"
   ]
  },
  {
   "cell_type": "markdown",
   "metadata": {},
   "source": [
    "## Q) [Tree: Top View](https://www.hackerrank.com/challenges/tree-top-view)"
   ]
  },
  {
   "cell_type": "code",
   "execution_count": 1,
   "metadata": {},
   "outputs": [
    {
     "name": "stdout",
     "output_type": "stream",
     "text": [
      "-5 -4 -3 -2 -1 0 1 2 3 4 5 6 7 \n",
      "1 2 4 14 23 37 108 111 115 116 83 84 85 "
     ]
    }
   ],
   "source": [
    "class Node:\n",
    "    def __init__(self, info): \n",
    "        self.info = info  \n",
    "        self.left = None  \n",
    "        self.right = None \n",
    "        self.level = None \n",
    "\n",
    "    def __str__(self):\n",
    "        return str(self.info) \n",
    "\n",
    "class BinarySearchTree:\n",
    "    def __init__(self): \n",
    "        self.root = None\n",
    "\n",
    "    def create(self, val):  \n",
    "        if self.root == None:\n",
    "            self.root = Node(val)\n",
    "        else:\n",
    "            current = self.root\n",
    "         \n",
    "            while True:\n",
    "                if val < current.info:\n",
    "                    if current.left:\n",
    "                        current = current.left\n",
    "                    else:\n",
    "                        current.left = Node(val)\n",
    "                        break\n",
    "                elif val > current.info:\n",
    "                    if current.right:\n",
    "                        current = current.right\n",
    "                    else:\n",
    "                        current.right = Node(val)\n",
    "                        break\n",
    "                else:\n",
    "                    break\n",
    "\n",
    "\n",
    "def topView(root):\n",
    "    uniq_lvls = []\n",
    "    queue = [(root, 0)]\n",
    "    \n",
    "    while queue:\n",
    "        temp = queue.pop(0)\n",
    "        if temp[1] not in [i[1] for i in uniq_lvls]:\n",
    "            # Save one node from each level\n",
    "            #print(\"temp[1]: \", temp[1])\n",
    "            uniq_lvls.append(temp)\n",
    "        if temp[0].left:\n",
    "            # Assign negative score to left nodes\n",
    "            queue.append((temp[0].left, temp[1]-1))\n",
    "        if temp[0].right:\n",
    "            # Assign positive score to right nodes\n",
    "            queue.append((temp[0].right, temp[1]+1))\n",
    "    \n",
    "    # Sort based on the score\n",
    "    for x in sorted(uniq_lvls, key=lambda e: e[1]):\n",
    "        print(x[1], end=' ')\n",
    "    print(\"\")\n",
    "    for x in sorted(uniq_lvls, key=lambda e: e[1]):\n",
    "        print(x[0].info, end=' ')\n",
    "\n",
    "\n",
    "t = 116\n",
    "arr = list(map(int, \"37 23 108 59 86 64 94 14 105 17 111 65 55 31 79 97 78 25 50 22 66 46 104 98 81 90 68 40 103 77 74 18 69 82 41 4 48 83 67 6 2 95 54 100 99 84 34 88 27 72 32 62 9 56 109 115 33 15 91 29 85 114 112 20 26 30 93 96 87 42 38 60 7 73 35 12 10 57 80 13 52 44 16 70 8 39 107 106 63 24 92 45 75 116 5 61 49 101 71 11 53 43 102 110 1 58 36 28 76 47 113 21 89 51 19 3\".split()))\n",
    "\n",
    "tree = BinarySearchTree()\n",
    "for i in range(t):\n",
    "    tree.create(arr[i])\n",
    "\n",
    "topView(tree.root)"
   ]
  },
  {
   "cell_type": "code",
   "execution_count": 3,
   "metadata": {},
   "outputs": [
    {
     "name": "stdout",
     "output_type": "stream",
     "text": [
      "{1: [23, 108], 2: [14, 31, 59, 111], 3: [4, 17, 25, 34, 55, 86, 109, 115], 4: [2, 6, 15, 22, 24, 27, 32, 35, 50, 56, 64, 94, 110, 114, 116], 5: [1, 3, 5, 9, 16, 18, 26, 29, 33, 36, 46, 54, 57, 62, 65, 90, 105, 112], 6: [7, 12, 20, 28, 30, 40, 48, 52, 58, 60, 63, 79, 88, 91, 97, 107, 113], 7: [8, 10, 13, 19, 21, 38, 41, 47, 49, 51, 53, 61, 78, 81, 87, 89, 93, 95, 104, 106], 8: [11, 39, 42, 66, 80, 82, 92, 96, 98], 9: [44, 68, 83, 103], 10: [43, 45, 67, 77, 84, 100], 11: [74, 85, 99, 101], 12: [69, 75, 102], 13: [72, 76], 14: [70, 73], 15: [71], 16: []}\n",
      "Level  1 , sum =  131\n",
      "Level  2 , sum =  215\n",
      "Level  3 , sum =  445\n",
      "Level  4 , sum =  767\n",
      "Level  5 , sum =  767\n",
      "Level  6 , sum =  993\n",
      "Level  7 , sum =  1144\n",
      "Level  8 , sum =  606\n",
      "Level  9 , sum =  298\n",
      "Level  10 , sum =  416\n",
      "Level  11 , sum =  359\n",
      "Level  12 , sum =  246\n",
      "Level  13 , sum =  148\n",
      "Level  14 , sum =  143\n",
      "Level  15 , sum =  71\n",
      "Level  16 , sum =  0\n"
     ]
    }
   ],
   "source": [
    "# Computed sum of nodes of each depth level\n",
    "\n",
    "def levelSum(root):\n",
    "    \n",
    "#     visited = set()\n",
    "    queue = [(root, 0)]\n",
    "    level_nodes = {}\n",
    "    \n",
    "    while queue:\n",
    "        #print(\"queue: \", queue)\n",
    "        node, level = queue.pop(0)\n",
    "        \n",
    "        level_nodes.setdefault(level+1, [])\n",
    "        if node.left:\n",
    "#             visited.add(node.left)\n",
    "            queue.append((node.left, level+1))\n",
    "            level_nodes[level+1].append(node.left.info)\n",
    "        if node.right:\n",
    "#             visited.add(node.right)\n",
    "            queue.append((node.right, level+1))\n",
    "            level_nodes[level+1].append(node.right.info)\n",
    "    \n",
    "    return level_nodes\n",
    "\n",
    "level_nodes = levelSum(tree.root)\n",
    "print(level_nodes)\n",
    "\n",
    "for l in level_nodes:\n",
    "    print('Level ', l, ', sum = ', sum(level_nodes[l]))"
   ]
  },
  {
   "cell_type": "code",
   "execution_count": null,
   "metadata": {},
   "outputs": [],
   "source": []
  }
 ],
 "metadata": {
  "kernelspec": {
   "display_name": "Python 3 (ipykernel)",
   "language": "python",
   "name": "python3"
  },
  "language_info": {
   "codemirror_mode": {
    "name": "ipython",
    "version": 3
   },
   "file_extension": ".py",
   "mimetype": "text/x-python",
   "name": "python",
   "nbconvert_exporter": "python",
   "pygments_lexer": "ipython3",
   "version": "3.10.8"
  }
 },
 "nbformat": 4,
 "nbformat_minor": 4
}
