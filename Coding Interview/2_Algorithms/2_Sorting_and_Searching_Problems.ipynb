{
 "cells": [
  {
   "cell_type": "code",
   "execution_count": null,
   "metadata": {},
   "outputs": [],
   "source": []
  },
  {
   "cell_type": "markdown",
   "metadata": {},
   "source": [
    "# Sorting"
   ]
  },
  {
   "cell_type": "markdown",
   "metadata": {},
   "source": [
    "## Q) [Insertion Sort - Part 2](https://www.hackerrank.com/challenges/insertionsort2)"
   ]
  },
  {
   "cell_type": "raw",
   "metadata": {},
   "source": [
    "Sample Input\n",
    "6\n",
    "1 4 3 5 6 2\n",
    "\n",
    "Sample Output\n",
    "1 4 3 5 6 2 \n",
    "1 3 4 5 6 2 \n",
    "1 3 4 5 6 2 \n",
    "1 3 4 5 6 2 \n",
    "1 2 3 4 5 6 "
   ]
  },
  {
   "cell_type": "code",
   "execution_count": 1,
   "metadata": {},
   "outputs": [
    {
     "name": "stdout",
     "output_type": "stream",
     "text": [
      "1 4 3 5 6 2\n",
      "1 3 4 5 6 2\n",
      "1 3 4 5 6 2\n",
      "1 3 4 5 6 2\n",
      "1 2 3 4 5 6\n",
      "[1, 2, 3, 4, 5, 6]\n"
     ]
    }
   ],
   "source": [
    "def insertionSort2(n, arr):\n",
    "\n",
    "    for i in range(1, n):\n",
    "#         print(\"i: \", i)\n",
    "        key = arr[i]\n",
    "        j = i - 1\n",
    "        while j>=0 and arr[j]>key:\n",
    "#             print(\"arr: \", j, key, arr)\n",
    "            arr[j + 1] = arr[j]\n",
    "            j = j - 1\n",
    "        arr[j + 1] = key\n",
    "        print(*arr)\n",
    "    \n",
    "    return arr\n",
    "\n",
    "arr = [1, 4, 3, 5, 6, 2]\n",
    "n = len(arr)\n",
    "\n",
    "print(insertionSort2(n, arr))"
   ]
  },
  {
   "cell_type": "markdown",
   "metadata": {},
   "source": [
    "## Q) [Quicksort 2 - Sorting](https://www.hackerrank.com/challenges/quicksort2)"
   ]
  },
  {
   "cell_type": "raw",
   "metadata": {},
   "source": [
    "Sample Input\n",
    "7\n",
    "5 8 1 3 7 9 2\n",
    "\n",
    "Sample Output\n",
    "2 3\n",
    "1 2 3\n",
    "7 8 9\n",
    "1 2 3 5 7 8 9"
   ]
  },
  {
   "cell_type": "code",
   "execution_count": 2,
   "metadata": {},
   "outputs": [
    {
     "name": "stdout",
     "output_type": "stream",
     "text": [
      "2 3\n",
      "1 2 3\n",
      "7 8 9\n",
      "1 2 3 5 7 8 9\n",
      "[1, 2, 3, 5, 7, 8, 9]\n"
     ]
    }
   ],
   "source": [
    "\n",
    "def quick_sort(ar):    \n",
    "    if len(ar) <= 1:\n",
    "        return ar\n",
    "    left, equal, right = partition(ar)\n",
    "    newarr = quick_sort(left) + equal + quick_sort(right)\n",
    "    print(' '.join(str(e) for e in newarr))\n",
    "    return newarr\n",
    "\n",
    "def partition(ar):\n",
    "    left=[]\n",
    "    equal=[ar[0]]\n",
    "    right=[]\n",
    "    for elem in ar[1:]:\n",
    "        if elem == ar[0]:\n",
    "            equal.append(elem)\n",
    "        elif elem < ar[0]:\n",
    "            left.append(elem)\n",
    "        else:\n",
    "            right.append(elem)\n",
    "    return left, equal, right\n",
    "\n",
    "ar = [5, 8, 1, 3, 7, 9, 2]\n",
    "m = len(ar)\n",
    "print(quick_sort(ar))"
   ]
  },
  {
   "cell_type": "markdown",
   "metadata": {},
   "source": [
    "## FB:Q) Check if words are sorted according to new order of alphabets"
   ]
  },
  {
   "cell_type": "raw",
   "metadata": {},
   "source": [
    "# Given a list of words and an alphabet, determine whether the list of words is sorted given the alphabet.\n",
    "\n",
    "# words = ['cad', 'bad', 'dab']\n",
    "# alphabet = ['a', 'b', 'c', 'd'] ==> False\n",
    "# alphabet = ['c', 'b', 'a', 'd'] ==> True\n",
    "\n",
    "# Clarifications:\n",
    "# * We want to determine if the list of words is sorted, not the individual words.\n",
    "# * The words in the list may not all be the same length.\n",
    "# * All characters in the list of words are in the alphabet.\n",
    "# * There are no duplicates in the alphabet."
   ]
  },
  {
   "cell_type": "code",
   "execution_count": 4,
   "metadata": {},
   "outputs": [
    {
     "name": "stdout",
     "output_type": "stream",
     "text": [
      "True\n"
     ]
    }
   ],
   "source": [
    "def check_2_words(word1, word2, alpha_idx):\n",
    "    \n",
    "    len_word1 = len(word1)\n",
    "    len_word2 = len(word2)\n",
    "    \n",
    "    short_len = min(len_word1, len_word2)\n",
    "        \n",
    "    for i in range(short_len):\n",
    "        c1 = word1[i]\n",
    "        c2 = word2[i]\n",
    "        \n",
    "        # idx1 = alphabet.index(c1)\n",
    "        # idx2 = alphabet.index(c2)\n",
    "        \n",
    "        # Optimize using a dictionary\n",
    "        idx1 = alpha_idx[c1]\n",
    "        idx2 = alpha_idx[c2]\n",
    "        \n",
    "        if idx2 < idx1:\n",
    "            return False\n",
    "        elif idx2 == idx1:\n",
    "            continue\n",
    "        else:\n",
    "            return True\n",
    "            \n",
    "    if len_word2 < len_word1:\n",
    "        return False\n",
    "        \n",
    "    return True\n",
    "        \n",
    "def get_alphabet_idx(alphabet):\n",
    "    \n",
    "    alpha_idx = {}\n",
    "    for i, c in enumerate(alphabet):\n",
    "        alpha_idx[c] = i\n",
    "    \n",
    "    return alpha_idx\n",
    "\n",
    "def sorted_or_not(words, alphabet):\n",
    "    \n",
    "    alpha_idx = get_alphabet_idx(alphabet)\n",
    "    \n",
    "    for i in range(len(words)-1):\n",
    "        word1 = words[i]\n",
    "        word2 = words[i+1]\n",
    "        \n",
    "        if not check_2_words(word1, word2, alpha_idx):\n",
    "            return False\n",
    "    \n",
    "    return True\n",
    "\n",
    "\n",
    "words = ['cad', 'bad', 'dab']\n",
    "# alphabet = ['a', 'b', 'c', 'd'] # ==> False\n",
    "alphabet = ['c', 'b', 'a', 'd'] # ==> True\n",
    "\n",
    "print(sorted_or_not(words, alphabet))"
   ]
  },
  {
   "cell_type": "code",
   "execution_count": 4,
   "metadata": {},
   "outputs": [
    {
     "name": "stdout",
     "output_type": "stream",
     "text": [
      "True\n"
     ]
    }
   ],
   "source": [
    "\"\"\"\n",
    "https://www.geeksforgeeks.org/check-if-words-are-sorted-according-to-new-order-of-alphabets/\n",
    "\n",
    "Check if words are sorted according to new order of alphabets\n",
    "\n",
    "Time Complexity: O(N), where N is the total number of characters in all words\n",
    "Auxiliary Space: O(1)\n",
    "\"\"\"\n",
    "\n",
    "# Function to check whether Words are sorted in given Order \n",
    "def isAlienSorted(Words, Order): \n",
    "    Order_index = {c: i for i, c in enumerate(Order)} \n",
    "    \n",
    "    for i in range(len(Words) - 1): \n",
    "        word1 = Words[i] \n",
    "        word2 = Words[i + 1] \n",
    "                \n",
    "        # Find the first difference word1[j] != word2[j]\n",
    "        for j in range(min(len(word1), len(word2))): \n",
    "                \n",
    "            # If they compare false then it's not sorted\n",
    "            if word1[j] != word2[j]: \n",
    "                if Order_index[word1[j]] > Order_index[word2[j]]: \n",
    "                    return False\n",
    "                break\n",
    "                \n",
    "        # If we didn't find a first difference, the \n",
    "        # Words are like (\"add\", \"addition\")\n",
    "        if len(word1) > len(word2): \n",
    "            return False\n",
    "\n",
    "    return True\n",
    "\n",
    "\n",
    "# words = [\"hello\", \"leetcode\"] \n",
    "# order = list(\"habcldefgijkmnopqrstuvwxyz\") # True\n",
    "\n",
    "words = ['cad', 'bad', 'dab']\n",
    "# order = ['a', 'b', 'c', 'd'] # False\n",
    "order = ['c', 'b', 'a', 'd'] # True\n",
    "\n",
    "# Function call to print required answer \n",
    "print(isAlienSorted(words, order)) "
   ]
  },
  {
   "cell_type": "raw",
   "metadata": {},
   "source": [
    "GFG: Median of an unsorted array using Quick Select Algorithm\n",
    "\n",
    "Calculate the median value of a given unsorted array.\n",
    "https://www.geeksforgeeks.org/median-of-an-unsorted-array-in-liner-time-on/\n",
    "\n",
    "Example 1:\n",
    "Input: [12, 3, 5, 7, 4, 19, 26] \n",
    "Output: 7 \n",
    "Sorted sequence of given array [3, 4, 5, 7, 12, 19, 26]\n",
    "Since the number of elements is odd, the median is 4th element in the sorted sequence of given array, which is 7\n",
    "\n",
    "Example 2:\n",
    "Input: [12, 3, 5, 7, 4, 26]\n",
    "Output: 6\n",
    "Since number of elements are even, median is average of 3rd and 4th element in sorted sequence of given array, which means\n",
    "(5 + 7)/2 = 6"
   ]
  },
  {
   "cell_type": "code",
   "execution_count": 1,
   "metadata": {},
   "outputs": [
    {
     "name": "stdout",
     "output_type": "stream",
     "text": [
      "5.5\n",
      "arr:  [1, 2, 4, 3, 5, 6, 7, 12, 19, 26]\n"
     ]
    }
   ],
   "source": [
    "'''\n",
    "To calculate the median value of a given unsorted array, you can use the Quick Select algorithm, which has a time complexity of \n",
    "O(N) on average.\n",
    "\n",
    "The partition function partitions the array based on a pivot element.\n",
    "The quick_select function recursively selects the k-th smallest element in the array.\n",
    "The find_median function calculates the median by finding the middle element or average of two middle elements.\n",
    "\n",
    "This method optimizes the process compared to sorting the array first, which would take O(nlogn) time.\n",
    "The Randomized QuickSelect algorithm efficiently finds the median of an unsorted array with a time complexity of O(n) and a \n",
    "space complexity of O(logn).\n",
    "'''\n",
    "\n",
    "def partition(arr, lo, hi):\n",
    "    pivot = arr[hi]\n",
    "    # print('pivot: ', pivot)\n",
    "    j = lo\n",
    "    for i in range(lo, hi):\n",
    "        if arr[i] < pivot:\n",
    "            arr[j], arr[i] = arr[i], arr[j]\n",
    "            j += 1\n",
    "    arr[j], arr[hi] = arr[hi], arr[j] # pivot must be in index j\n",
    "    return j\n",
    "\n",
    "def quick_select(arr, lo, hi, k):\n",
    "    # print('arr 1: ', arr)\n",
    "    # print('lo, hi, k: ', lo, hi, k)\n",
    "    if lo == hi:\n",
    "        return arr[lo]\n",
    "    partition_index = partition(arr, lo, hi)\n",
    "    # print('arr 2: ', arr)\n",
    "    # print('partition_index: ', partition_index)\n",
    "    if k == partition_index:\n",
    "        # print('SOLVED')\n",
    "        return arr[k]\n",
    "    # GT: Expand towards k\n",
    "    elif k < partition_index:\n",
    "        return quick_select(arr, lo, partition_index - 1, k)\n",
    "    else:\n",
    "        return quick_select(arr, partition_index + 1, hi, k)\n",
    "\n",
    "def find_median(arr):\n",
    "    n = len(arr)\n",
    "    if n % 2 == 0:\n",
    "        return (quick_select(arr, 0, n - 1, n // 2 - 1) + quick_select(arr, 0, n - 1, n // 2)) / 2\n",
    "    else:\n",
    "        return quick_select(arr, 0, n - 1, n // 2)\n",
    "\n",
    "# Test case\n",
    "arr = [12, 3, 5, 7, 4, 19, 26, 1, 2, 6]\n",
    "print(find_median(arr))\n",
    "print('arr: ', arr)"
   ]
  },
  {
   "cell_type": "raw",
   "metadata": {},
   "source": [
    "Memory optimized quicksort & Dutch National flag problem"
   ]
  },
  {
   "cell_type": "code",
   "execution_count": 2,
   "metadata": {},
   "outputs": [
    {
     "name": "stdout",
     "output_type": "stream",
     "text": [
      "nums 1:  [1, 6, 6, 3, 4, 5, 2, 77]\n",
      "nums 2:  [1, 2, 3, 4, 5, 6, 6, 77]\n",
      "nums 1:  [4, 2, 5, 7]\n",
      "nums 2:  [2, 4, 5, 7]\n",
      "nums 1:  [4, 3, 2, 1]\n",
      "nums 2:  [1, 2, 3, 4]\n",
      "nums 1:  [1, 2, 3, 10, 4, 2, 3, 5]\n",
      "nums 2:  [1, 2, 2, 3, 3, 4, 5, 10]\n"
     ]
    }
   ],
   "source": [
    "def partition(nums):    \n",
    "    pivot = nums[0]\n",
    "    low, high = 0, len(nums) - 1\n",
    "    i = 0\n",
    "    while i <= high:\n",
    "        if nums[i] < pivot:\n",
    "            nums[low], nums[i] = nums[i], nums[low]\n",
    "            low += 1\n",
    "            i += 1\n",
    "        elif nums[i] > pivot:\n",
    "            nums[high], nums[i] = nums[i], nums[high]\n",
    "            high -= 1\n",
    "        else:\n",
    "            i += 1\n",
    "    \n",
    "    return nums[:low], nums[low:i], nums[high+1:]  # GT: Pay attention to indices\n",
    "\n",
    "def quicksort(nums):\n",
    "    if len(nums) <= 1:\n",
    "        return nums\n",
    "    left, equal, right = partition(nums)\n",
    "    nums = quicksort(left) + equal + quicksort(right) # GT: equal is at the right place\n",
    "    return nums\n",
    "\n",
    "nums_list = [[1, 6, 6, 3, 4, 5, 2, 77], [4,2,5,7], [4, 3, 2, 1], [1,2,3,10,4,2,3,5]]\n",
    "for nums in nums_list:\n",
    "    print('nums 1: ', nums)\n",
    "    print('nums 2: ', quicksort(nums))"
   ]
  },
  {
   "cell_type": "raw",
   "metadata": {},
   "source": [
    "Merge a given k sorted arrays of size n each."
   ]
  },
  {
   "cell_type": "code",
   "execution_count": 2,
   "metadata": {},
   "outputs": [
    {
     "name": "stdout",
     "output_type": "stream",
     "text": [
      "[0, 1, 1, 3, 4, 5, 6, 7, 8, 9]\n"
     ]
    }
   ],
   "source": [
    "'''\n",
    "There are several efficient ways to merge k sorted arrays of size n each. Here are a few approaches:\n",
    "Priority Queue (Min-Heap):\n",
    "• Initialize an empty min-heap.\n",
    "• Insert the first element from each array into the min-heap along with their array index.\n",
    "• Pop the minimum element from the min-heap, and add it to the merged array.\n",
    "• Insert the next element from the same array (where the popped element came from) into the min-heap.\n",
    "• Repeat the process until all elements are merged.\n",
    "• Time Complexity: O(nk log k), where n is the size of each array and k is the number of arrays.\n",
    "Divide and Conquer (Pairwise Merge):\n",
    "• Pairwise merge the arrays until there is only one array left.\n",
    "• To merge two arrays, use a two-pointer approach similar to the merge step of merge sort.\n",
    "• Merge the next array with the merged array from the previous step.\n",
    "• Repeat until all arrays are merged.\n",
    "• Time Complexity: O(nk log k), where n is the size of each array and k is the number of arrays.\n",
    "Using a Data Structure like AVL Tree or Red-Black Tree:\n",
    "• Insert the first element of each array into the tree along with their array index.\n",
    "• Pick the minimum element from the tree, and add it to the merged array.\n",
    "• Replace the minimum element with the next element from the same array (where the minimum element came from) in the tree.\n",
    "• Repeat the process until all elements are merged.\n",
    "• Time Complexity: O(nk log k), where n is the size of each array and k is the number of arrays.\n",
    "Using Merge Sort with Priority Queue:\n",
    "• Merge the k arrays using a modified merge sort algorithm.\n",
    "• Divide the k arrays into two halves and recursively merge them.\n",
    "• While merging, use a priority queue (min-heap) to find the minimum element among the current elements from each array.\n",
    "Time Complexity: O(nk log k), where n is the size of each array and k is the number of arrays.\n",
    "'''\n",
    "\n",
    "def merge_arrays(arrays):\n",
    "    \"\"\"\n",
    "    Merge k sorted arrays of size n each using the Divide and Conquer (Pairwise Merge) strategy.\n",
    "    Args:\n",
    "        arrays (list): A list of k sorted arrays of size n each.\n",
    "    Returns:\n",
    "        list: A single sorted array containing all elements from the input arrays.\n",
    "    \"\"\"\n",
    "    if not arrays:\n",
    "        return []\n",
    "\n",
    "    # Base case: If there is only one array, return it\n",
    "    if len(arrays) == 1:\n",
    "        return arrays[0]\n",
    "\n",
    "    # Divide step: Split the arrays into pairs\n",
    "    mid = len(arrays) // 2\n",
    "    left_arrays = arrays[:mid]\n",
    "    right_arrays = arrays[mid:]\n",
    "\n",
    "    # Conquer step: Merge the left and right halves recursively\n",
    "    left_merged = merge_arrays(left_arrays)\n",
    "    right_merged = merge_arrays(right_arrays)\n",
    "\n",
    "    # Combine step: Merge the left and right halves\n",
    "    return merge_two_arrays(left_merged, right_merged)\n",
    "\n",
    "def merge_two_arrays(arr1, arr2):\n",
    "    \"\"\"\n",
    "    Merge two sorted arrays using a two-pointer approach.\n",
    "    Args:\n",
    "        arr1 (list): The first sorted array.\n",
    "        arr2 (list): The second sorted array.\n",
    "    Returns:\n",
    "        list: A single sorted array containing all elements from arr1 and arr2.\n",
    "    \"\"\"\n",
    "    \n",
    "    merged = []\n",
    "    i, j = 0, 0\n",
    "    while i < len(arr1) and j < len(arr2):\n",
    "        if arr1[i] <= arr2[j]:\n",
    "            merged.append(arr1[i])\n",
    "            i += 1\n",
    "        else:\n",
    "            merged.append(arr2[j])\n",
    "            j += 1\n",
    "\n",
    "    # Append the remaining elements from arr1 or arr2\n",
    "    merged.extend(arr1[i:])\n",
    "    merged.extend(arr2[j:])\n",
    "\n",
    "    return merged\n",
    "\n",
    "'''\n",
    "Time Complexity: O(nk log k), where n is the size of each array and k is the number of arrays.\n",
    "This is because the merge step takes O(n) time for each pair of arrays, and there are log k levels of merging due to the \n",
    "divide and conquer approach.\n",
    "'''\n",
    "\n",
    "arrays = [[1, 3, 5], [1, 4, 6, 9], [0, 7, 8]]\n",
    "merged_array = merge_arrays(arrays)\n",
    "print(merged_array)"
   ]
  },
  {
   "cell_type": "code",
   "execution_count": null,
   "metadata": {},
   "outputs": [],
   "source": []
  },
  {
   "cell_type": "code",
   "execution_count": null,
   "metadata": {},
   "outputs": [],
   "source": []
  },
  {
   "cell_type": "markdown",
   "metadata": {},
   "source": [
    "# Searching"
   ]
  },
  {
   "cell_type": "markdown",
   "metadata": {},
   "source": [
    "## Q) [Tree: Top View](https://www.hackerrank.com/challenges/tree-top-view)"
   ]
  },
  {
   "cell_type": "code",
   "execution_count": 1,
   "metadata": {},
   "outputs": [
    {
     "name": "stdout",
     "output_type": "stream",
     "text": [
      "-5 -4 -3 -2 -1 0 1 2 3 4 5 6 7 \n",
      "1 2 4 14 23 37 108 111 115 116 83 84 85 "
     ]
    }
   ],
   "source": [
    "class Node:\n",
    "    def __init__(self, info): \n",
    "        self.info = info  \n",
    "        self.left = None  \n",
    "        self.right = None \n",
    "        self.level = None \n",
    "\n",
    "    def __str__(self):\n",
    "        return str(self.info) \n",
    "\n",
    "class BinarySearchTree:\n",
    "    def __init__(self): \n",
    "        self.root = None\n",
    "\n",
    "    def create(self, val):  \n",
    "        if self.root == None:\n",
    "            self.root = Node(val)\n",
    "        else:\n",
    "            current = self.root\n",
    "         \n",
    "            while True:\n",
    "                if val < current.info:\n",
    "                    if current.left:\n",
    "                        current = current.left\n",
    "                    else:\n",
    "                        current.left = Node(val)\n",
    "                        break\n",
    "                elif val > current.info:\n",
    "                    if current.right:\n",
    "                        current = current.right\n",
    "                    else:\n",
    "                        current.right = Node(val)\n",
    "                        break\n",
    "                else:\n",
    "                    break\n",
    "\n",
    "\n",
    "def topView(root):\n",
    "    uniq_lvls = []\n",
    "    queue = [(root, 0)]\n",
    "    \n",
    "    while queue:\n",
    "        temp = queue.pop(0)\n",
    "        if temp[1] not in [i[1] for i in uniq_lvls]:\n",
    "            # Save one node from each level\n",
    "            #print(\"temp[1]: \", temp[1])\n",
    "            uniq_lvls.append(temp)\n",
    "        if temp[0].left:\n",
    "            # Assign negative score to left nodes\n",
    "            queue.append((temp[0].left, temp[1]-1))\n",
    "        if temp[0].right:\n",
    "            # Assign positive score to right nodes\n",
    "            queue.append((temp[0].right, temp[1]+1))\n",
    "    \n",
    "    # Sort based on the score\n",
    "    for x in sorted(uniq_lvls, key=lambda e: e[1]):\n",
    "        print(x[1], end=' ')\n",
    "    print(\"\")\n",
    "    for x in sorted(uniq_lvls, key=lambda e: e[1]):\n",
    "        print(x[0].info, end=' ')\n",
    "\n",
    "\n",
    "t = 116\n",
    "arr = list(map(int, \"37 23 108 59 86 64 94 14 105 17 111 65 55 31 79 97 78 25 50 22 66 46 104 98 81 90 68 40 103 77 74 18 69 82 41 4 48 83 67 6 2 95 54 100 99 84 34 88 27 72 32 62 9 56 109 115 33 15 91 29 85 114 112 20 26 30 93 96 87 42 38 60 7 73 35 12 10 57 80 13 52 44 16 70 8 39 107 106 63 24 92 45 75 116 5 61 49 101 71 11 53 43 102 110 1 58 36 28 76 47 113 21 89 51 19 3\".split()))\n",
    "\n",
    "tree = BinarySearchTree()\n",
    "for i in range(t):\n",
    "    tree.create(arr[i])\n",
    "\n",
    "topView(tree.root)"
   ]
  },
  {
   "cell_type": "code",
   "execution_count": 3,
   "metadata": {},
   "outputs": [
    {
     "name": "stdout",
     "output_type": "stream",
     "text": [
      "{1: [23, 108], 2: [14, 31, 59, 111], 3: [4, 17, 25, 34, 55, 86, 109, 115], 4: [2, 6, 15, 22, 24, 27, 32, 35, 50, 56, 64, 94, 110, 114, 116], 5: [1, 3, 5, 9, 16, 18, 26, 29, 33, 36, 46, 54, 57, 62, 65, 90, 105, 112], 6: [7, 12, 20, 28, 30, 40, 48, 52, 58, 60, 63, 79, 88, 91, 97, 107, 113], 7: [8, 10, 13, 19, 21, 38, 41, 47, 49, 51, 53, 61, 78, 81, 87, 89, 93, 95, 104, 106], 8: [11, 39, 42, 66, 80, 82, 92, 96, 98], 9: [44, 68, 83, 103], 10: [43, 45, 67, 77, 84, 100], 11: [74, 85, 99, 101], 12: [69, 75, 102], 13: [72, 76], 14: [70, 73], 15: [71], 16: []}\n",
      "Level  1 , sum =  131\n",
      "Level  2 , sum =  215\n",
      "Level  3 , sum =  445\n",
      "Level  4 , sum =  767\n",
      "Level  5 , sum =  767\n",
      "Level  6 , sum =  993\n",
      "Level  7 , sum =  1144\n",
      "Level  8 , sum =  606\n",
      "Level  9 , sum =  298\n",
      "Level  10 , sum =  416\n",
      "Level  11 , sum =  359\n",
      "Level  12 , sum =  246\n",
      "Level  13 , sum =  148\n",
      "Level  14 , sum =  143\n",
      "Level  15 , sum =  71\n",
      "Level  16 , sum =  0\n"
     ]
    }
   ],
   "source": [
    "# Computed sum of nodes of each depth level\n",
    "\n",
    "def levelSum(root):\n",
    "    \n",
    "#     visited = set()\n",
    "    queue = [(root, 0)]\n",
    "    level_nodes = {}\n",
    "    \n",
    "    while queue:\n",
    "        #print(\"queue: \", queue)\n",
    "        node, level = queue.pop(0)\n",
    "        \n",
    "        level_nodes.setdefault(level+1, [])\n",
    "        if node.left:\n",
    "#             visited.add(node.left)\n",
    "            queue.append((node.left, level+1))\n",
    "            level_nodes[level+1].append(node.left.info)\n",
    "        if node.right:\n",
    "#             visited.add(node.right)\n",
    "            queue.append((node.right, level+1))\n",
    "            level_nodes[level+1].append(node.right.info)\n",
    "    \n",
    "    return level_nodes\n",
    "\n",
    "level_nodes = levelSum(tree.root)\n",
    "print(level_nodes)\n",
    "\n",
    "for l in level_nodes:\n",
    "    print('Level ', l, ', sum = ', sum(level_nodes[l]))"
   ]
  },
  {
   "cell_type": "raw",
   "metadata": {},
   "source": [
    "You have an array of string sorted but with empty strings (e.g. [\"abc\",\"\",\"\",\"\",\"cef\",\"\",\"\",\"dej,\"\"] and you want to know if an other string is in this array. How to do it with a complexity of O(log n) in general case?\n",
    "Then how to find how many times it appears in this array?"
   ]
  },
  {
   "cell_type": "code",
   "execution_count": 1,
   "metadata": {},
   "outputs": [
    {
     "name": "stdout",
     "output_type": "stream",
     "text": [
      "dej: 3\n",
      "cef: 1\n",
      "g: 0\n",
      "z: 2\n"
     ]
    }
   ],
   "source": [
    "from typing import List\n",
    "\n",
    "def search_sorted_array(arr: List[str], target: str, find_count=False):\n",
    "    \n",
    "    left, right = 0, len(arr) - 1\n",
    "    while left <= right:\n",
    "        mid = (left + right) // 2\n",
    "       \n",
    "        # Adjust mid index to find the nearest non-empty string\n",
    "        while arr[mid] == \"\" and left < mid:\n",
    "            mid -= 1\n",
    "        \n",
    "        if arr[mid] == target:\n",
    "            if find_count:\n",
    "                count = 1\n",
    "                temp_mid = mid + 1\n",
    "                while temp_mid < len(arr) and arr[temp_mid] == target:\n",
    "                    count += 1\n",
    "                    temp_mid += 1\n",
    "\n",
    "                temp_mid = mid - 1\n",
    "                while temp_mid >= 0 and arr[temp_mid] == target:\n",
    "                    count += 1\n",
    "                    temp_mid -= 1\n",
    "                return count\n",
    "            else:\n",
    "                return True\n",
    "        # GT: we can compare strings: abc < cef: True, cef < abc: False\n",
    "        elif arr[mid] < target:\n",
    "            left = mid + 1\n",
    "        else:\n",
    "            right = mid - 1\n",
    "\n",
    "    if find_count:\n",
    "        return 0\n",
    "    else:\n",
    "        return False\n",
    "\n",
    "'''\n",
    "To search for a string in a sorted array of strings containing empty strings with a time complexity of O(log n) in the \n",
    "general case, you can use a modified binary search algorithm. The key idea is to handle empty strings during the search process.\n",
    "\n",
    "Time complexity: O(log n) in the general case, where n is the length of the array.\n",
    "This assumes that string comparison takes O(1) time, and the adjustment for empty strings doesn't significantly impact the \n",
    "overall time complexity.\n",
    "Space complexity: O(1).\n",
    "'''\n",
    "\n",
    "sorted_array = [\"abc\", \"\", \"\", \"\", \"cef\", \"\", \"\", \"dej\", \"dej\", \"dej\", \"z\", \"z\"]\n",
    "target_strings = [\"dej\", \"cef\", \"g\", \"z\"]\n",
    "for target_string in target_strings:\n",
    "    result = search_sorted_array(sorted_array, target_string, find_count=True)\n",
    "    print(f'{target_string}: {result}')"
   ]
  },
  {
   "cell_type": "code",
   "execution_count": null,
   "metadata": {},
   "outputs": [],
   "source": []
  }
 ],
 "metadata": {
  "kernelspec": {
   "display_name": "Python 3 (ipykernel)",
   "language": "python",
   "name": "python3"
  },
  "language_info": {
   "codemirror_mode": {
    "name": "ipython",
    "version": 3
   },
   "file_extension": ".py",
   "mimetype": "text/x-python",
   "name": "python",
   "nbconvert_exporter": "python",
   "pygments_lexer": "ipython3",
   "version": "3.10.8"
  }
 },
 "nbformat": 4,
 "nbformat_minor": 4
}
