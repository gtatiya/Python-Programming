{
 "cells": [
  {
   "cell_type": "code",
   "execution_count": 1,
   "metadata": {},
   "outputs": [],
   "source": [
    "import copy\n",
    "import time\n",
    "\n",
    "import matplotlib.pyplot as plt\n",
    "import matplotlib.image as mpimg"
   ]
  },
  {
   "cell_type": "code",
   "execution_count": 2,
   "metadata": {},
   "outputs": [],
   "source": [
    "\n",
    "\"\"\"\n",
    "https://www.w3resource.com/python-exercises/python-basic-exercise-65.php\n",
    "\"\"\"\n",
    "\n",
    "def time_taken(start, end):\n",
    "    \"\"\"Human readable time between `start` and `end`\n",
    "\n",
    "    :param start: time.time()\n",
    "    :param end: time.time()\n",
    "    :returns: day:hour:minute:second.millisecond\n",
    "    \"\"\"\n",
    "    my_time = end-start\n",
    "    day = my_time // (24 * 3600)\n",
    "    my_time = my_time % (24 * 3600)\n",
    "    hour = my_time // 3600\n",
    "    my_time %= 3600\n",
    "    minutes = my_time // 60\n",
    "    my_time %= 60\n",
    "    seconds = my_time\n",
    "    milliseconds = ((end - start)-int(end - start))\n",
    "    day_hour_min_sec = str('%02d' % int(day))+\":\"+str('%02d' % int(hour))+\":\"+str('%02d' % int(minutes))+\":\"+str('%02d' % int(seconds)+\".\"+str('%.3f' % milliseconds)[2:])\n",
    "    \n",
    "    return day_hour_min_sec"
   ]
  },
  {
   "cell_type": "markdown",
   "metadata": {},
   "source": [
    "# 8 Recursion and Dynamic Programming\n",
    "## Interview Questions, Page: 134"
   ]
  },
  {
   "cell_type": "code",
   "execution_count": 3,
   "metadata": {},
   "outputs": [
    {
     "name": "stdout",
     "output_type": "stream",
     "text": [
      "fibonacci:  8\n"
     ]
    }
   ],
   "source": [
    "def fibonacci(n, men):\n",
    "    # Base case\n",
    "    if n <= 0:\n",
    "        return 0\n",
    "    elif n == 1:\n",
    "        return 1\n",
    "    elif n in men:\n",
    "        return men[n]\n",
    "    else:\n",
    "        # Recurrsion\n",
    "        men[n] = fibonacci(n-1, men) + fibonacci(n-2, men)\n",
    "        return men[n]\n",
    "\n",
    "'''\n",
    "Fibonacci sequence: 0, 1, 1, 2, 3, 5, 8, 13, 21 ...\n",
    "'''\n",
    "\n",
    "n = 6\n",
    "print(\"fibonacci: \", fibonacci(n, {}))"
   ]
  },
  {
   "cell_type": "code",
   "execution_count": 4,
   "metadata": {},
   "outputs": [
    {
     "name": "stdout",
     "output_type": "stream",
     "text": [
      "4700770\n",
      "day, hour, minute, second.millisecond-> 00:00:00:04.264\n"
     ]
    }
   ],
   "source": [
    "\"\"\"\n",
    "Q 8.1\n",
    "Triple Step: A child is running up a staircase with n steps and can hop either 1 step, 2 steps, or 3 steps at a time.\n",
    "Implement a method to count how many possible ways the child can run up the stairs.\n",
    "\"\"\"\n",
    "\n",
    "# Brute Force Solution\n",
    "def count_steps(n):\n",
    "    # Base case\n",
    "    if n < 0:\n",
    "        # Handeling invalid moves\n",
    "        return 0\n",
    "    elif n == 0:\n",
    "        # 0 stair left\n",
    "        return 1 # 1 possible way\n",
    "    else:\n",
    "        # Recurrsion\n",
    "        return count_steps(n-1) + count_steps(n-2) + count_steps(n-3)\n",
    "\n",
    "start_time = time.time()\n",
    "print(count_steps(26))\n",
    "print(\"day, hour, minute, second.millisecond->\", time_taken(start_time, time.time()))"
   ]
  },
  {
   "cell_type": "code",
   "execution_count": 5,
   "metadata": {},
   "outputs": [
    {
     "name": "stdout",
     "output_type": "stream",
     "text": [
      "4700770\n",
      "day, hour, minute, second.millisecond-> 00:00:00:00.000\n"
     ]
    }
   ],
   "source": [
    "# Memoization Solution\n",
    "def count_steps(n, memo):\n",
    "    # Base case\n",
    "    if n < 0:\n",
    "        # Handeling invalid moves\n",
    "        return 0\n",
    "    elif n == 0:\n",
    "        # 0 stair left\n",
    "        return 1 # 1 possible way\n",
    "    elif n in memo:\n",
    "        return memo[n] # Memoization\n",
    "    else:\n",
    "        # Recurrsion\n",
    "        memo[n] = count_steps(n-1, memo) + count_steps(n-2, memo) + count_steps(n-3, memo)\n",
    "        return memo[n]\n",
    "\n",
    "start_time = time.time()\n",
    "print(count_steps(26, {}))\n",
    "print(\"day, hour, minute, second.millisecond->\", time_taken(start_time, time.time()))"
   ]
  },
  {
   "cell_type": "raw",
   "metadata": {},
   "source": [
    "CCI: Page 135\n",
    "\n",
    "8.3\n",
    "Magic Index: A magic index in an array A[0...n-1] is defined to be an index such that A[i] = i.\n",
    "Given a sorted array of distinct integers, write a method to find a magic index, if one exists, in array A.\n",
    "\n",
    "FOLLOW UP:\n",
    "What if the values are not distinct?"
   ]
  },
  {
   "cell_type": "code",
   "execution_count": 1,
   "metadata": {},
   "outputs": [
    {
     "name": "stdout",
     "output_type": "stream",
     "text": [
      "ans:  3\n",
      "ans:  2\n",
      "ans:  7\n",
      "ans:  1\n"
     ]
    }
   ],
   "source": [
    "from typing import List\n",
    "\n",
    "def find_magic_index(nums: List[int]) -> int:\n",
    "    \n",
    "    for i, n in enumerate(nums):\n",
    "        if i == n:\n",
    "            return i\n",
    "\n",
    "'''\n",
    "Time: O(N)\n",
    "Space: O(1)\n",
    "'''\n",
    "\n",
    "# Binary Search Approach for sorted and distinct numbers\n",
    "def find_magic_index(nums: List[int], start=0, end=None) -> int:\n",
    "    \n",
    "    if end is None:\n",
    "        end = len(nums)\n",
    "    \n",
    "    if end < start:\n",
    "        return -1\n",
    "    \n",
    "    mid = (start+end) // 2\n",
    "    \n",
    "    if nums[mid] == mid:\n",
    "        return mid\n",
    "    elif mid < nums[mid]:\n",
    "        return find_magic_index(nums, start, mid-1) # Search left\n",
    "    else:\n",
    "        return find_magic_index(nums, mid+1, end) # Search right\n",
    "\n",
    "'''\n",
    "Time: O(logN)\n",
    "Space: O(1)\n",
    "'''\n",
    "\n",
    "# Binary Search Approach for sorted and not distinct numbers\n",
    "def find_magic_index(nums: List[int], start=0, end=None) -> int:\n",
    "    \n",
    "    if end is None:\n",
    "        end = len(nums)\n",
    "    \n",
    "    if end < start:\n",
    "        return -1\n",
    "    \n",
    "    mid = (start+end) // 2\n",
    "    \n",
    "    if nums[mid] == mid:\n",
    "        return mid\n",
    "        \n",
    "    # Search left completely\n",
    "    left = min(mid - 1, nums[mid])\n",
    "    left = find_magic_index(nums, start, left)\n",
    "    if left >= 0:\n",
    "        return left\n",
    "\n",
    "    # Search right completely\n",
    "    right = max(mid + 1, nums[mid])\n",
    "    right = find_magic_index(nums, right, end)\n",
    "    \n",
    "    return right\n",
    "    \n",
    "'''\n",
    "Time: O(logN)\n",
    "Space: O(1)\n",
    "'''\n",
    "\n",
    "# Distinct numbers\n",
    "nums_list = [[0,1,2,3,50], [-40,-20,-1,1,2,3,5,7,9,12,13]]\n",
    "# Not distinct numbers\n",
    "nums_list = [[1,2,1,3,50], [-10,-5,2,2,2,3,4,7,9,12,13], [-10,-5,0,2,2,3,4,7,9,12,13], [-10,1,1,1,3,20]]\n",
    "for nums in nums_list:\n",
    "    ans = find_magic_index(nums)\n",
    "    print('ans: ', ans)"
   ]
  },
  {
   "cell_type": "code",
   "execution_count": 10,
   "metadata": {},
   "outputs": [
    {
     "name": "stdout",
     "output_type": "stream",
     "text": [
      "b: 5\n",
      "b: 4\n",
      "b: 3\n",
      "b: 2\n",
      "b: 1\n",
      "b: 0\n",
      "Result: 50\n"
     ]
    }
   ],
   "source": [
    "\"\"\"\n",
    "Q 8.5\n",
    "Recursive Multiply: Write a recursive function to multiply two positive integers without using the * operator (or / operator).\n",
    "You can use addition, subtraction, and bit shifting, but you should minimize the number of those operations.\n",
    "\"\"\"\n",
    "\n",
    "def multiplay(a, b, s):\n",
    "    print(\"b:\", b)\n",
    "    if b == 0:\n",
    "        return s\n",
    "    \n",
    "    return multiplay(a, b-1, s+a)  # GT: Always return the recursive result\n",
    "\n",
    "a, b = 5, 10\n",
    "\n",
    "print(\"Result:\", multiplay(max(a, b), min(a, b), 0)) # O(s), where s is the smaller of the two numbers"
   ]
  },
  {
   "cell_type": "code",
   "execution_count": 11,
   "metadata": {},
   "outputs": [
    {
     "name": "stdout",
     "output_type": "stream",
     "text": [
      "abc\n",
      "acb\n",
      "bac\n",
      "bca\n",
      "cba\n",
      "cab\n"
     ]
    }
   ],
   "source": [
    "\"\"\"\n",
    "Q 8.7\n",
    "Permutations without Dups: Write a method to compute all permutations of a string of unique characters.\n",
    "\"\"\"\n",
    "\n",
    "# https://stackoverflow.com/questions/8306654/finding-all-possible-permutations-of-a-given-string-in-python\n",
    "\n",
    "def permutations(string, step = 0):\n",
    "    #print(\"string: \", string, \", step: \", step)\n",
    "\n",
    "    # if we've gotten to the end, print the permutation\n",
    "    if step == len(string):\n",
    "        print(\"\".join(string))\n",
    "\n",
    "    # everything to the right of step has not been swapped yet\n",
    "    for i in range(step, len(string)):\n",
    "\n",
    "        # copy the string (store as array)\n",
    "        string_copy = [character for character in string]\n",
    "\n",
    "        # swap the current index with the step\n",
    "        #print(\"1 string_copy: \", string_copy)\n",
    "        #print(\"Swap: \", i, step, string_copy[i], string_copy[step])\n",
    "        string_copy[step], string_copy[i] = string_copy[i], string_copy[step]\n",
    "        #print(\"2 string_copy: \", string_copy)\n",
    "\n",
    "        # recurse on the portion of the string that has not been swapped yet (now it's index will begin with step + 1)\n",
    "        permutations(string_copy, step + 1)\n",
    "    \n",
    "permutations(\"abc\")"
   ]
  },
  {
   "cell_type": "code",
   "execution_count": 12,
   "metadata": {},
   "outputs": [
    {
     "data": {
      "image/png": "[encoded data removed]",
      "text/plain": [
       "<Figure size 640x480 with 1 Axes>"
      ]
     },
     "metadata": {},
     "output_type": "display_data"
    },
    {
     "name": "stdout",
     "output_type": "stream",
     "text": [
      "(100, 100, 3)\n"
     ]
    },
    {
     "data": {
      "image/png": "[encoded data removed]",
      "text/plain": [
       "<Figure size 640x480 with 1 Axes>"
      ]
     },
     "metadata": {},
     "output_type": "display_data"
    }
   ],
   "source": [
    "\"\"\"\n",
    "8.10\n",
    "Paint Fill: Implement the \"paint fill\" function that one might see on many image editing programs.\n",
    "That is, given a screen (represented by a two-dimensional array of colors), a point, and a new color,\n",
    "fill in the surrounding area until the color changes from the original color.\n",
    "\"\"\"\n",
    "\n",
    "image = mpimg.imread(\"CtCI_8-10.png\")\n",
    "#image[5][5] = [0.5, 1, 1]\n",
    "plt.imshow(image, cmap=plt.cm.gray)\n",
    "plt.show()\n",
    "print(image.shape)\n",
    "\n",
    "# print(image[40][23])\n",
    "# print(image[5][5])\n",
    "\n",
    "def paint_fill(img, r, c, color, mem={}):\n",
    "    if (r, c) not in mem:\n",
    "        ori_color = img[r][c][0]\n",
    "        img[r][c][0] = color\n",
    "        mem[(r, c)] = color\n",
    "\n",
    "        max_r, max_c, _ = img.shape\n",
    "\n",
    "        if max_r > r+1 and img[r+1][c][0] == ori_color:\n",
    "            img = paint_fill(img, r+1, c, color, mem)\n",
    "        if 0 < r-1 and img[r-1][c][0] == ori_color:\n",
    "            img = paint_fill(img, r-1, c, color, mem)\n",
    "        if max_c > c+1 and img[r][c+1][0] == ori_color:\n",
    "            img = paint_fill(img, r, c+1, color, mem)\n",
    "        if 0 < c-1 and img[r][c-1][0] == ori_color:\n",
    "            img = paint_fill(img, r, c-1, color, mem)\n",
    "    \n",
    "    return img\n",
    "\n",
    "image = paint_fill(image, 40, 40, 0.5) # Inside rectangle\n",
    "#image = paint_fill(image, 40, 20, 0.5) # On rectangle\n",
    "#image = paint_fill(image, 5, 5, 0.5) # Outside rectangle - not optimal\n",
    "plt.imshow(image, cmap=plt.cm.gray)\n",
    "plt.show()"
   ]
  },
  {
   "cell_type": "code",
   "execution_count": 13,
   "metadata": {},
   "outputs": [
    {
     "name": "stdout",
     "output_type": "stream",
     "text": [
      "49\n"
     ]
    }
   ],
   "source": [
    "\"\"\"\n",
    "Q 8.11\n",
    "Coins: Given an infinite number of quarters (25 cents), dimes (10 cents), nickels (5 cents), and pennies (1 cent),\n",
    "write code to calculate the number of ways of representing n cents.\n",
    "\"\"\"\n",
    "\n",
    "def makeChange(amount, denoms, index=0, mem={}):\n",
    "    if (amount, index) in mem and mem[(amount, index)] > 0:\n",
    "        return mem[(amount, index)]\n",
    "    if index >= len(denoms)-1:\n",
    "        return 1 # one denom remaining\n",
    "    \n",
    "    demo_amount = denoms[index]\n",
    "    #print(\"demo_amount: \", demo_amount)\n",
    "    \n",
    "    ways = 0\n",
    "    i = 0\n",
    "    \n",
    "    while i * demo_amount <= amount:\n",
    "        # go to next denom, assuming i coins of denomAmount\n",
    "        amount_remaining = amount - i * demo_amount\n",
    "        ways += makeChange(amount_remaining, denoms, index + 1, mem) # Basically, try a new demo_amount and i\n",
    "        \n",
    "        i += 1\n",
    "    \n",
    "    mem[(amount, index)] = ways\n",
    "    \n",
    "    # print(mem)\n",
    "    \n",
    "    return ways\n",
    "\n",
    "amount = 50\n",
    "denoms = [25, 10, 5, 1]\n",
    "print(makeChange(amount, denoms))"
   ]
  },
  {
   "cell_type": "code",
   "execution_count": null,
   "metadata": {},
   "outputs": [],
   "source": []
  }
 ],
 "metadata": {
  "kernelspec": {
   "display_name": "Python 3 (ipykernel)",
   "language": "python",
   "name": "python3"
  },
  "language_info": {
   "codemirror_mode": {
    "name": "ipython",
    "version": 3
   },
   "file_extension": ".py",
   "mimetype": "text/x-python",
   "name": "python",
   "nbconvert_exporter": "python",
   "pygments_lexer": "ipython3",
   "version": "3.10.8"
  }
 },
 "nbformat": 4,
 "nbformat_minor": 4
}
