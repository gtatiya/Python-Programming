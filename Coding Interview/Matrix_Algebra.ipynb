{
 "cells": [
  {
   "cell_type": "code",
   "execution_count": 1,
   "id": "9d3ef97d",
   "metadata": {},
   "outputs": [],
   "source": [
    "import numpy as np"
   ]
  },
  {
   "cell_type": "code",
   "execution_count": 2,
   "id": "179d767c",
   "metadata": {},
   "outputs": [
    {
     "name": "stdout",
     "output_type": "stream",
     "text": [
      "a:  (5, 1) [[1]\n",
      " [2]\n",
      " [3]\n",
      " [4]\n",
      " [5]]\n",
      "w:  (5, 1) [[0.2]\n",
      " [0.2]\n",
      " [0.2]\n",
      " [0.2]\n",
      " [0.2]] [1.]\n"
     ]
    }
   ],
   "source": [
    "# a = np.random.randn(100, 1)\n",
    "# w = np.linspace(start=1, stop=100, num=100).reshape(-1, 1)\n",
    "# w = w / sum(w)\n",
    "\n",
    "a = np.array([[1],\n",
    "              [2],\n",
    "              [3],\n",
    "              [4],\n",
    "              [5]])\n",
    "w = np.array([[0.2],\n",
    "              [0.2],\n",
    "              [0.2],\n",
    "              [0.2],\n",
    "              [0.2]])\n",
    "\n",
    "print('a: ', a.shape, a[:5])\n",
    "print('w: ', w.shape, w[:5], sum(w))"
   ]
  },
  {
   "cell_type": "markdown",
   "id": "df71cb38",
   "metadata": {},
   "source": [
    "# Element-wise Multiplication"
   ]
  },
  {
   "cell_type": "code",
   "execution_count": 3,
   "id": "aa29f531",
   "metadata": {},
   "outputs": [
    {
     "name": "stdout",
     "output_type": "stream",
     "text": [
      "ans:  (5, 1) [[0.2]\n",
      " [0.4]\n",
      " [0.6]\n",
      " [0.8]\n",
      " [1. ]] [3.]\n",
      "ans:  (5, 1) [[0.2]\n",
      " [0.4]\n",
      " [0.6]\n",
      " [0.8]\n",
      " [1. ]] [3.]\n"
     ]
    }
   ],
   "source": [
    "ans = a * w\n",
    "print('ans: ', ans.shape, ans[:5], sum(ans))\n",
    "\n",
    "ans = np.multiply(a, w)\n",
    "print('ans: ', ans.shape, ans[:5], sum(ans))"
   ]
  },
  {
   "cell_type": "markdown",
   "id": "f00b8662",
   "metadata": {},
   "source": [
    "# Matrix Multiplication (dot product/scalar product of rows and columns)"
   ]
  },
  {
   "cell_type": "code",
   "execution_count": 5,
   "id": "d0b83abe",
   "metadata": {},
   "outputs": [
    {
     "name": "stdout",
     "output_type": "stream",
     "text": [
      "ans:  (1, 1) [[3.]]\n",
      "ans:  (1, 1) [[3.]]\n",
      "ans:  (1, 1) [[3.]]\n"
     ]
    }
   ],
   "source": [
    "ans = a.T @ w\n",
    "print('ans: ', ans.shape, ans[:5])\n",
    "\n",
    "ans = np.matmul(a.T, w)\n",
    "print('ans: ', ans.shape, ans[:5])\n",
    "\n",
    "ans = np.dot(a.T, w)\n",
    "print('ans: ', ans.shape, ans[:5])"
   ]
  },
  {
   "cell_type": "code",
   "execution_count": null,
   "id": "db008ec6",
   "metadata": {},
   "outputs": [],
   "source": []
  }
 ],
 "metadata": {
  "kernelspec": {
   "display_name": "Python 3 (ipykernel)",
   "language": "python",
   "name": "python3"
  },
  "language_info": {
   "codemirror_mode": {
    "name": "ipython",
    "version": 3
   },
   "file_extension": ".py",
   "mimetype": "text/x-python",
   "name": "python",
   "nbconvert_exporter": "python",
   "pygments_lexer": "ipython3",
   "version": "3.10.8"
  }
 },
 "nbformat": 4,
 "nbformat_minor": 5
}
