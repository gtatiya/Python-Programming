{
 "cells": [
  {
   "cell_type": "code",
   "execution_count": 1,
   "id": "9d3ef97d",
   "metadata": {},
   "outputs": [],
   "source": [
    "import numpy as np"
   ]
  },
  {
   "cell_type": "code",
   "execution_count": 2,
   "id": "179d767c",
   "metadata": {},
   "outputs": [
    {
     "name": "stdout",
     "output_type": "stream",
     "text": [
      "a:  (5, 1) [[1]\n",
      " [2]\n",
      " [3]\n",
      " [4]\n",
      " [5]]\n",
      "w:  (5, 1) [[0.2]\n",
      " [0.2]\n",
      " [0.2]\n",
      " [0.2]\n",
      " [0.2]] [1.]\n"
     ]
    }
   ],
   "source": [
    "# a = np.random.randn(100, 1)\n",
    "# w = np.linspace(start=1, stop=100, num=100).reshape(-1, 1)\n",
    "# w = w / sum(w)\n",
    "\n",
    "a = np.array([[1],\n",
    "              [2],\n",
    "              [3],\n",
    "              [4],\n",
    "              [5]])\n",
    "w = np.array([[0.2],\n",
    "              [0.2],\n",
    "              [0.2],\n",
    "              [0.2],\n",
    "              [0.2]])\n",
    "\n",
    "print('a: ', a.shape, a[:5])\n",
    "print('w: ', w.shape, w[:5], sum(w))"
   ]
  },
  {
   "cell_type": "markdown",
   "id": "df71cb38",
   "metadata": {},
   "source": [
    "# Element-wise Multiplication"
   ]
  },
  {
   "cell_type": "code",
   "execution_count": 3,
   "id": "aa29f531",
   "metadata": {},
   "outputs": [
    {
     "name": "stdout",
     "output_type": "stream",
     "text": [
      "ans:  (5, 1) [[0.2]\n",
      " [0.4]\n",
      " [0.6]\n",
      " [0.8]\n",
      " [1. ]] [3.]\n",
      "ans:  (5, 1) [[0.2]\n",
      " [0.4]\n",
      " [0.6]\n",
      " [0.8]\n",
      " [1. ]] [3.]\n"
     ]
    }
   ],
   "source": [
    "ans = a * w\n",
    "print('ans: ', ans.shape, ans[:5], sum(ans))\n",
    "\n",
    "ans = np.multiply(a, w)\n",
    "print('ans: ', ans.shape, ans[:5], sum(ans))"
   ]
  },
  {
   "cell_type": "markdown",
   "id": "f00b8662",
   "metadata": {},
   "source": [
    "# Matrix Multiplication (dot product/scalar product of rows and columns)"
   ]
  },
  {
   "cell_type": "code",
   "execution_count": 4,
   "id": "d0b83abe",
   "metadata": {},
   "outputs": [
    {
     "name": "stdout",
     "output_type": "stream",
     "text": [
      "ans:  (1, 1) [[3.]]\n",
      "ans:  (1, 1) [[3.]]\n",
      "ans:  (1, 1) [[3.]]\n"
     ]
    }
   ],
   "source": [
    "ans = a.T @ w\n",
    "print('ans: ', ans.shape, ans[:5])\n",
    "\n",
    "ans = np.matmul(a.T, w)\n",
    "print('ans: ', ans.shape, ans[:5])\n",
    "\n",
    "ans = np.dot(a.T, w)\n",
    "print('ans: ', ans.shape, ans[:5])"
   ]
  },
  {
   "cell_type": "markdown",
   "id": "ab48e510",
   "metadata": {},
   "source": [
    "# Kernel Functions"
   ]
  },
  {
   "cell_type": "code",
   "execution_count": 5,
   "id": "bbcd102c",
   "metadata": {},
   "outputs": [],
   "source": [
    "import numpy as np\n",
    "from sklearn.metrics.pairwise import linear_kernel, cosine_similarity, polynomial_kernel, rbf_kernel, sigmoid_kernel\n",
    "\n",
    "# https://scikit-learn.org/stable/modules/metrics.html"
   ]
  },
  {
   "cell_type": "code",
   "execution_count": 6,
   "id": "cf571157",
   "metadata": {},
   "outputs": [
    {
     "name": "stdout",
     "output_type": "stream",
     "text": [
      "Cosine Similarity Value: [[0.90453403]]\n",
      "Linear Kernel Value: [[3.]]\n",
      "Polynomial Kernel Value: [[2.56]]\n",
      "RBF Kernel Value: [[0.00729913]]\n",
      "Sigmoid Kernel Value: [[0.92166855]]\n"
     ]
    }
   ],
   "source": [
    "# Example input vectors\n",
    "# x1 = np.array([1, 2, 3])\n",
    "# x2 = np.array([4, 5, 6])\n",
    "x1 = a\n",
    "x2 = w\n",
    "\n",
    "# Cosine Similarity\n",
    "cosine_similarity_value = cosine_similarity(x1.reshape(1, -1), x2.reshape(1, -1))\n",
    "print(f\"Cosine Similarity Value: {cosine_similarity_value}\")\n",
    "\n",
    "# Linear kernel\n",
    "lin_kernel_value = linear_kernel(x1.reshape(1, -1), x2.reshape(1, -1))\n",
    "print(f\"Linear Kernel Value: {lin_kernel_value}\")\n",
    "\n",
    "# Polynomial Kernel\n",
    "degree = 2\n",
    "coef0 = 1\n",
    "poly_kernel_value = polynomial_kernel(x1.reshape(1, -1), x2.reshape(1, -1), degree=degree, coef0=coef0)\n",
    "print(f\"Polynomial Kernel Value: {poly_kernel_value}\")\n",
    "\n",
    "# Radial Basis Function (RBF) Kernel (Gaussian Kernel)\n",
    "gamma = 0.1\n",
    "rbf_kernel_value = rbf_kernel(x1.reshape(1, -1), x2.reshape(1, -1), gamma=gamma)\n",
    "print(f\"RBF Kernel Value: {rbf_kernel_value}\")\n",
    "\n",
    "# Sigmoid Kernel\n",
    "sigmoid_kernel_value = sigmoid_kernel(x1.reshape(1, -1), x2.reshape(1, -1))\n",
    "print(f\"Sigmoid Kernel Value: {sigmoid_kernel_value}\")\n"
   ]
  },
  {
   "cell_type": "markdown",
   "id": "ac8c80e2",
   "metadata": {},
   "source": [
    "# Determinant and Rank"
   ]
  },
  {
   "cell_type": "code",
   "execution_count": 7,
   "id": "bf19fbd3",
   "metadata": {},
   "outputs": [
    {
     "name": "stdout",
     "output_type": "stream",
     "text": [
      "a:\n",
      " [[4 2 0 3]\n",
      " [0 4 2 2]\n",
      " [1 4 0 1]\n",
      " [1 2 4 0]]\n",
      "Determinant:  119.99999999999997\n",
      "Rank:  4\n",
      "a:\n",
      " [[0 4 2 2]\n",
      " [0 4 2 2]\n",
      " [1 4 0 1]\n",
      " [1 2 4 0]]\n",
      "Determinant:  0.0\n",
      "Rank:  3\n",
      "a:\n",
      " [[3 3 4 3]\n",
      " [1 1 1 2]\n",
      " [2 2 4 4]\n",
      " [0 0 4 4]]\n",
      "Determinant:  0.0\n",
      "Rank:  3\n"
     ]
    }
   ],
   "source": [
    "# Invertible Matrix (Non-Singular Matrix)\n",
    "a = np.random.randint(5, size=(4, 4))\n",
    "print('a:\\n', a)\n",
    "det = np.linalg.det(a)\n",
    "print('Determinant: ', det)\n",
    "matrix_rank = np.linalg.matrix_rank(a)\n",
    "print('Rank: ', matrix_rank)\n",
    "\n",
    "# Singular Matrix (Non-Invertible Matrix)\n",
    "a[0] = a[1]\n",
    "print('a:\\n', a)\n",
    "det = np.linalg.det(a)\n",
    "print('Determinant: ', det)\n",
    "matrix_rank = np.linalg.matrix_rank(a)\n",
    "print('Rank: ', matrix_rank)\n",
    "\n",
    "a = np.random.randint(5, size=(4, 4))\n",
    "a[:,0] = a[:,1]\n",
    "print('a:\\n', a)\n",
    "det = np.linalg.det(a)\n",
    "print('Determinant: ', det)\n",
    "matrix_rank = np.linalg.matrix_rank(a)\n",
    "print('Rank: ', matrix_rank)"
   ]
  },
  {
   "cell_type": "code",
   "execution_count": null,
   "id": "dfa3638f",
   "metadata": {},
   "outputs": [],
   "source": []
  }
 ],
 "metadata": {
  "kernelspec": {
   "display_name": "Python 3 (ipykernel)",
   "language": "python",
   "name": "python3"
  },
  "language_info": {
   "codemirror_mode": {
    "name": "ipython",
    "version": 3
   },
   "file_extension": ".py",
   "mimetype": "text/x-python",
   "name": "python",
   "nbconvert_exporter": "python",
   "pygments_lexer": "ipython3",
   "version": "3.10.8"
  }
 },
 "nbformat": 4,
 "nbformat_minor": 5
}
