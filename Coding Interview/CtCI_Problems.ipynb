{
 "cells": [
  {
   "cell_type": "code",
   "execution_count": 1,
   "metadata": {},
   "outputs": [],
   "source": [
    "import copy\n",
    "import time\n",
    "\n",
    "import numpy as np\n",
    "import matplotlib.pyplot as plt\n",
    "import matplotlib.image as mpimg"
   ]
  },
  {
   "cell_type": "code",
   "execution_count": 2,
   "metadata": {},
   "outputs": [],
   "source": [
    "\n",
    "\"\"\"\n",
    "https://www.w3resource.com/python-exercises/python-basic-exercise-65.php\n",
    "\"\"\"\n",
    "\n",
    "def time_taken(start, end):\n",
    "    \"\"\"Human readable time between `start` and `end`\n",
    "\n",
    "    :param start: time.time()\n",
    "    :param end: time.time()\n",
    "    :returns: day:hour:minute:second.millisecond\n",
    "    \"\"\"\n",
    "    my_time = end-start\n",
    "    day = my_time // (24 * 3600)\n",
    "    my_time = my_time % (24 * 3600)\n",
    "    hour = my_time // 3600\n",
    "    my_time %= 3600\n",
    "    minutes = my_time // 60\n",
    "    my_time %= 60\n",
    "    seconds = my_time\n",
    "    milliseconds = ((end - start)-int(end - start))\n",
    "    day_hour_min_sec = str('%02d' % int(day))+\":\"+str('%02d' % int(hour))+\":\"+str('%02d' % int(minutes))+\":\"+str('%02d' % int(seconds)+\".\"+str('%.3f' % milliseconds)[2:])\n",
    "    \n",
    "    return day_hour_min_sec"
   ]
  },
  {
   "cell_type": "markdown",
   "metadata": {},
   "source": [
    "# VIII Technical Questions\n",
    "## Page 68\n",
    "\n",
    "Print all possible interger solutions to a^3 + b^3 = c^3 + d^3, where a, b, c, d are integer between 1 and 1000"
   ]
  },
  {
   "cell_type": "code",
   "execution_count": 3,
   "metadata": {},
   "outputs": [
    {
     "name": "stdout",
     "output_type": "stream",
     "text": [
      "No of solutions:  5046\n",
      "day, hour, minute, second.millisecond-> 00:00:00:13.641\n"
     ]
    }
   ],
   "source": [
    "start_time = time.time()\n",
    "\n",
    "n = 50\n",
    "count = 0\n",
    "for a in range(n):\n",
    "    for b in range(n):\n",
    "        for c in range(n):\n",
    "            for d in range(n):\n",
    "                if a**3+b**3 == c**3+d**3:\n",
    "                    #print(a, b, c, d)\n",
    "                    count += 1\n",
    "\n",
    "print(\"No of solutions: \", count)\n",
    "print(\"day, hour, minute, second.millisecond->\", time_taken(start_time, time.time()))"
   ]
  },
  {
   "cell_type": "code",
   "execution_count": 4,
   "metadata": {},
   "outputs": [
    {
     "name": "stdout",
     "output_type": "stream",
     "text": [
      "No of solutions:  5046\n",
      "day, hour, minute, second.millisecond-> 00:00:00:12.859\n"
     ]
    }
   ],
   "source": [
    "start_time = time.time()\n",
    "\n",
    "n = 50\n",
    "count = 0\n",
    "for a in range(n):\n",
    "    for b in range(n):\n",
    "        for c in range(n):\n",
    "            for d in range(n):\n",
    "                if a**3+b**3 == c**3+d**3:\n",
    "                    #print(a, b, c, d)\n",
    "                    count += 1\n",
    "                    break\n",
    "\n",
    "print(\"No of solutions: \", count)\n",
    "print(\"day, hour, minute, second.millisecond->\", time_taken(start_time, time.time()))"
   ]
  },
  {
   "cell_type": "code",
   "execution_count": 5,
   "metadata": {},
   "outputs": [
    {
     "name": "stdout",
     "output_type": "stream",
     "text": [
      "No of solutions:  209\n",
      "day, hour, minute, second.millisecond-> 00:00:00:00.579\n"
     ]
    }
   ],
   "source": [
    "start_time = time.time()\n",
    "\n",
    "n = 50\n",
    "count = 0\n",
    "for a in range(n):\n",
    "    for b in range(n):\n",
    "        for c in range(n):\n",
    "            d = ((a**3+b**3)-c**3) ** 1/3\n",
    "            d = int(d)\n",
    "            if a**3+b**3 == c**3+d**3:\n",
    "                #print(a, b, c, d)\n",
    "                count += 1\n",
    "\n",
    "print(\"No of solutions: \", count)\n",
    "print(\"day, hour, minute, second.millisecond->\", time_taken(start_time, time.time()))"
   ]
  },
  {
   "cell_type": "code",
   "execution_count": 6,
   "metadata": {},
   "outputs": [
    {
     "name": "stdout",
     "output_type": "stream",
     "text": [
      "No of solutions:  5046\n",
      "day, hour, minute, second.millisecond-> 00:00:00:00.009\n"
     ]
    }
   ],
   "source": [
    "start_time = time.time()\n",
    "\n",
    "n = 50\n",
    "count = 0\n",
    "result_dict = {}\n",
    "\n",
    "for c in range(n):\n",
    "    for d in range(n):\n",
    "        result = c**3+d**3\n",
    "        if result in result_dict:\n",
    "            result_dict[result].append((c, d))\n",
    "        else:\n",
    "            result_dict[result] = []\n",
    "            result_dict[result].append((c, d))\n",
    "\n",
    "for a in range(n):\n",
    "    for b in range(n):\n",
    "        result = a**3+b**3\n",
    "        pair_list = result_dict[result]\n",
    "        for a_pair in pair_list:\n",
    "#             print(a, b, a_pair)\n",
    "            count += 1\n",
    "\n",
    "print(\"No of solutions: \", count)\n",
    "print(\"day, hour, minute, second.millisecond->\", time_taken(start_time, time.time()))"
   ]
  },
  {
   "cell_type": "code",
   "execution_count": 7,
   "metadata": {
    "scrolled": true
   },
   "outputs": [
    {
     "name": "stdout",
     "output_type": "stream",
     "text": [
      "No of solutions:  5046\n",
      "day, hour, minute, second.millisecond-> 00:00:00:00.009\n"
     ]
    }
   ],
   "source": [
    "start_time = time.time()\n",
    "\n",
    "n = 50\n",
    "count = 0\n",
    "result_dict = {}\n",
    "\n",
    "for c in range(n):\n",
    "    for d in range(n):\n",
    "        result = c**3+d**3\n",
    "        if result in result_dict:\n",
    "            result_dict[result].append((c, d))\n",
    "        else:\n",
    "            result_dict[result] = []\n",
    "            result_dict[result].append((c, d))\n",
    "\n",
    "for a_result in result_dict.values():\n",
    "    for pair1 in a_result:\n",
    "        for pair2 in a_result:\n",
    "#             print(a_result, pair1, pair2)\n",
    "            count += 1\n",
    "\n",
    "print(\"No of solutions: \", count)\n",
    "print(\"day, hour, minute, second.millisecond->\", time_taken(start_time, time.time()))"
   ]
  },
  {
   "cell_type": "raw",
   "metadata": {},
   "source": [
    "('No of solutions: ', 5046)\n",
    "('day, hour, minute, second.millisecond->', '00:00:00:02.811')\n",
    "\n",
    "with break\n",
    "('No of solutions: ', 5046)\n",
    "('day, hour, minute, second.millisecond->', '00:00:00:02.723')\n",
    "\n",
    "d = ((a**3+b**3)-c**3) ** 1/3\n",
    "('No of solutions: ', 207)\n",
    "('day, hour, minute, second.millisecond->', '00:00:00:00.283')\n",
    "\n",
    "hash table\n",
    "('No of solutions: ', 5046)\n",
    "('day, hour, minute, second.millisecond->', '00:00:00:00.552')\n",
    "\n",
    "hash table2\n",
    "('No of solutions: ', 5046)\n",
    "('day, hour, minute, second.millisecond->', '00:00:00:00.566')\n",
    "\n",
    "=====\n",
    "\n",
    "('No of solutions: ', 5046)\n",
    "('day, hour, minute, second.millisecond->', '00:00:00:01.483')\n",
    "\n",
    "with break\n",
    "('No of solutions: ', 5046)\n",
    "('day, hour, minute, second.millisecond->', '00:00:00:01.863')\n",
    "\n",
    "d = ((a**3+b**3)-c**3) ** 1/3\n",
    "('No of solutions: ', 207)\n",
    "('day, hour, minute, second.millisecond->', '00:00:00:00.274')\n",
    "\n",
    "hash table\n",
    "('No of solutions: ', 5046)\n",
    "('day, hour, minute, second.millisecond->', '00:00:00:00.012')\n",
    "\n",
    "hash table2\n",
    "('No of solutions: ', 5046)\n",
    "('day, hour, minute, second.millisecond->', '00:00:00:00.005')"
   ]
  },
  {
   "cell_type": "markdown",
   "metadata": {},
   "source": [
    "## Page 70\n",
    "\n",
    "Example: Given a smaller string s and a bigger string b, design an algorithm to find all permutations of the shorter string within the longer one. Print the location of each permutation."
   ]
  },
  {
   "cell_type": "code",
   "execution_count": 8,
   "metadata": {},
   "outputs": [],
   "source": [
    "s = \"abca\"\n",
    "b = \"ssabcahbknjabcabcacbaakjnkjabcalkmlkmnabcajkabcan\""
   ]
  },
  {
   "cell_type": "code",
   "execution_count": 9,
   "metadata": {},
   "outputs": [],
   "source": [
    "s = \"abbc\"\n",
    "b = \"cbabadcbbabbcbabaabccbabc\""
   ]
  },
  {
   "cell_type": "code",
   "execution_count": 10,
   "metadata": {},
   "outputs": [
    {
     "name": "stdout",
     "output_type": "stream",
     "text": [
      "['abbc', 'abcb', 'abbc', 'abcb', 'acbb', 'acbb', 'babc', 'bacb', 'bbac', 'bbca', 'bcab', 'bcba', 'babc', 'bacb', 'bbac', 'bbca', 'bcab', 'bcba', 'cabb', 'cabb', 'cbab', 'cbba', 'cbab', 'cbba']\n"
     ]
    }
   ],
   "source": [
    "from itertools import permutations\n",
    "perms = [''.join(p) for p in permutations(s)]\n",
    "print(perms)"
   ]
  },
  {
   "cell_type": "code",
   "execution_count": 11,
   "metadata": {},
   "outputs": [
    {
     "name": "stdout",
     "output_type": "stream",
     "text": [
      "Location:  0 cbab\n",
      "Location:  6 cbba\n",
      "Location:  9 abbc\n",
      "Location:  11 bcba\n",
      "Location:  12 cbab\n",
      "Location:  20 cbab\n",
      "Location:  21 babc\n"
     ]
    }
   ],
   "source": [
    "\n",
    "for i in range(len(b)):\n",
    "    if b[i] in s:\n",
    "        if b[i:i+len(s)] in perms:\n",
    "            print(\"Location: \", i, b[i:i+len(s)])"
   ]
  },
  {
   "cell_type": "markdown",
   "metadata": {},
   "source": [
    "# 16 Moderate\n",
    "## Page: 181"
   ]
  },
  {
   "cell_type": "code",
   "execution_count": 31,
   "metadata": {},
   "outputs": [
    {
     "name": "stdout",
     "output_type": "stream",
     "text": [
      "Count:  19\n"
     ]
    }
   ],
   "source": [
    "\"\"\"\n",
    "Q 16.5\n",
    "Factorial Zeros: Write an algorithm which computes the number of trailing zeros in n factorial.\n",
    "\n",
    "Examples: https://www.mymathtables.com/numbers/100-factorial-tables-chart.html\n",
    "\"\"\"\n",
    "\n",
    "n = 81\n",
    "\n",
    "count = 0\n",
    "for i in range(0, n+1, 5):\n",
    "    while i % 5 == 0 and i != 0:\n",
    "        count += 1\n",
    "        i = i // 5\n",
    "\n",
    "print(\"Count: \", count)"
   ]
  },
  {
   "cell_type": "code",
   "execution_count": 32,
   "metadata": {},
   "outputs": [
    {
     "name": "stdout",
     "output_type": "stream",
     "text": [
      "max_sum:  5\n"
     ]
    }
   ],
   "source": [
    "\"\"\"\n",
    "Q 16.17\n",
    "Contiguous Sequence: You are given an array of integers (both positive and negative).\n",
    "Find the contiguous sequence with the largest sum. Return the sum.\n",
    "\n",
    "EXAMPLE\n",
    "Input: 2, -8, 3, -2, 4, -10\n",
    "Output: 5 (i.e., {3, -2, 4})\n",
    "\"\"\"\n",
    "\n",
    "a_list = [2, -8, 3, -2, 4, -10]\n",
    "\n",
    "max_sum = 0\n",
    "my_sum = 0\n",
    "for i in range(len(a_list)):\n",
    "    my_sum += a_list[i]\n",
    "    if my_sum > max_sum:\n",
    "        max_sum = my_sum\n",
    "    elif my_sum < 0:\n",
    "        my_sum = 0\n",
    "\n",
    "print(\"max_sum: \", max_sum)"
   ]
  },
  {
   "cell_type": "code",
   "execution_count": null,
   "metadata": {},
   "outputs": [],
   "source": []
  },
  {
   "cell_type": "code",
   "execution_count": null,
   "metadata": {},
   "outputs": [],
   "source": []
  },
  {
   "cell_type": "markdown",
   "metadata": {},
   "source": [
    "# XI Advanced Topics\n",
    "## Sum of lntegers 1 through N"
   ]
  },
  {
   "cell_type": "code",
   "execution_count": 5,
   "metadata": {},
   "outputs": [
    {
     "name": "stdout",
     "output_type": "stream",
     "text": [
      "Result:  15.0\n",
      "my_sum:  15\n"
     ]
    }
   ],
   "source": [
    "n = 5\n",
    "\n",
    "print(\"Result: \", n*((n+1)/2))\n",
    "\n",
    "my_sum = 0\n",
    "for i in range(n+1):\n",
    "    my_sum += i\n",
    "print(\"my_sum: \", my_sum)"
   ]
  },
  {
   "cell_type": "code",
   "execution_count": null,
   "metadata": {},
   "outputs": [],
   "source": []
  }
 ],
 "metadata": {
  "anaconda-cloud": {},
  "kernelspec": {
   "display_name": "Python 3",
   "language": "python",
   "name": "python3"
  },
  "language_info": {
   "codemirror_mode": {
    "name": "ipython",
    "version": 3
   },
   "file_extension": ".py",
   "mimetype": "text/x-python",
   "name": "python",
   "nbconvert_exporter": "python",
   "pygments_lexer": "ipython3",
   "version": "3.7.6"
  }
 },
 "nbformat": 4,
 "nbformat_minor": 1
}
