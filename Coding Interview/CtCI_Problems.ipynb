{
 "cells": [
  {
   "cell_type": "code",
   "execution_count": 1,
   "metadata": {},
   "outputs": [],
   "source": [
    "import copy\n",
    "import time\n",
    "\n",
    "import numpy as np\n",
    "import matplotlib.pyplot as plt\n",
    "import matplotlib.image as mpimg"
   ]
  },
  {
   "cell_type": "code",
   "execution_count": 2,
   "metadata": {},
   "outputs": [],
   "source": [
    "\n",
    "\"\"\"\n",
    "https://www.w3resource.com/python-exercises/python-basic-exercise-65.php\n",
    "\"\"\"\n",
    "\n",
    "def time_taken(start, end):\n",
    "    \"\"\"Human readable time between `start` and `end`\n",
    "\n",
    "    :param start: time.time()\n",
    "    :param end: time.time()\n",
    "    :returns: day:hour:minute:second.millisecond\n",
    "    \"\"\"\n",
    "    my_time = end-start\n",
    "    day = my_time // (24 * 3600)\n",
    "    my_time = my_time % (24 * 3600)\n",
    "    hour = my_time // 3600\n",
    "    my_time %= 3600\n",
    "    minutes = my_time // 60\n",
    "    my_time %= 60\n",
    "    seconds = my_time\n",
    "    milliseconds = ((end - start)-int(end - start))\n",
    "    day_hour_min_sec = str('%02d' % int(day))+\":\"+str('%02d' % int(hour))+\":\"+str('%02d' % int(minutes))+\":\"+str('%02d' % int(seconds)+\".\"+str('%.3f' % milliseconds)[2:])\n",
    "    \n",
    "    return day_hour_min_sec"
   ]
  },
  {
   "cell_type": "markdown",
   "metadata": {},
   "source": [
    "# VIII Technical Questions"
   ]
  },
  {
   "cell_type": "raw",
   "metadata": {},
   "source": [
    "CCI: Page 68\n",
    "\n",
    "Print all possible integer solutions to a^3 + b^3 = c^3 + d^3, where a, b, c, d are integer between 1 and 1000."
   ]
  },
  {
   "cell_type": "code",
   "execution_count": 21,
   "metadata": {},
   "outputs": [
    {
     "name": "stdout",
     "output_type": "stream",
     "text": [
      "ans:  5046\n",
      "ans:  5046\n",
      "ans:  209\n",
      "ans:  5046\n",
      "ans:  5046\n",
      "10.9 s ± 190 ms per loop (mean ± std. dev. of 2 runs, 1 loop each)\n",
      "10.6 s ± 94.2 ms per loop (mean ± std. dev. of 2 runs, 1 loop each)\n",
      "459 ms ± 13.8 ms per loop (mean ± std. dev. of 2 runs, 1 loop each)\n",
      "5.58 ms ± 111 µs per loop (mean ± std. dev. of 2 runs, 1 loop each)\n",
      "3.24 ms ± 31.3 µs per loop (mean ± std. dev. of 2 runs, 1 loop each)\n"
     ]
    }
   ],
   "source": [
    "def solution1(n: int) -> int:\n",
    "    # Time: O(n^4)\n",
    "    count = 0\n",
    "    for a in range(n):\n",
    "        for b in range(n):\n",
    "            for c in range(n):\n",
    "                for d in range(n):\n",
    "                    if a**3+b**3 == c**3+d**3:\n",
    "                        count += 1\n",
    "    return count\n",
    "\n",
    "def solution2(n: int) -> int:\n",
    "    # Time: O(n^4)\n",
    "    count = 0\n",
    "    for a in range(n):\n",
    "        for b in range(n):\n",
    "            for c in range(n):\n",
    "                for d in range(n):\n",
    "                    if a**3+b**3 == c**3+d**3:\n",
    "                        count += 1\n",
    "                        break\n",
    "    return count\n",
    "\n",
    "def solution3(n: int) -> int:\n",
    "    # Time: O(n^3)\n",
    "    count = 0\n",
    "    for a in range(n):\n",
    "        for b in range(n):\n",
    "            for c in range(n):\n",
    "                d = ((a**3+b**3)-c**3) ** 1/3\n",
    "                d = int(d)\n",
    "                if a**3+b**3 == c**3+d**3:\n",
    "                    # print(a, b, c, d)\n",
    "                    count += 1\n",
    "    return count\n",
    "\n",
    "def solution4(n: int) -> int:\n",
    "    # Time: O(n^2)\n",
    "    count = 0\n",
    "    result_dict = {}\n",
    "    for c in range(n):\n",
    "        for d in range(n):\n",
    "            result = c**3+d**3\n",
    "            result_dict.setdefault(result, []).append((c, d))\n",
    "    \n",
    "    for a in range(n):\n",
    "        for b in range(n):\n",
    "            result = a**3+b**3\n",
    "            count += len(result_dict[result])\n",
    "    return count\n",
    "\n",
    "def solution5(n: int) -> int:\n",
    "    # Time: O(n^2)\n",
    "    count = 0\n",
    "    result_dict = {}\n",
    "    for c in range(n):\n",
    "        for d in range(n):\n",
    "            result = c**3+d**3\n",
    "            result_dict.setdefault(result, []).append((c, d))\n",
    "\n",
    "    for result_list in result_dict.values():\n",
    "        count += len(result_list) * len(result_list)\n",
    "    return count\n",
    "\n",
    "n = 50\n",
    "ans = solution1(n)\n",
    "print('ans: ', ans)\n",
    "\n",
    "ans = solution2(n)\n",
    "print('ans: ', ans)\n",
    "\n",
    "ans = solution3(n)\n",
    "print('ans: ', ans)\n",
    "\n",
    "ans = solution4(n)\n",
    "print('ans: ', ans)\n",
    "\n",
    "ans = solution5(n)\n",
    "print('ans: ', ans)\n",
    "\n",
    "%timeit -r 2 -n 1 solution1(n)\n",
    "%timeit -r 2 -n 1 solution2(n)\n",
    "%timeit -r 2 -n 1 solution3(n)\n",
    "%timeit -r 2 -n 1 solution4(n)\n",
    "%timeit -r 2 -n 1 solution5(n)"
   ]
  },
  {
   "cell_type": "markdown",
   "metadata": {},
   "source": [
    "# 16 Moderate\n",
    "## Page: 181"
   ]
  },
  {
   "cell_type": "code",
   "execution_count": 31,
   "metadata": {},
   "outputs": [
    {
     "name": "stdout",
     "output_type": "stream",
     "text": [
      "Count:  19\n"
     ]
    }
   ],
   "source": [
    "\"\"\"\n",
    "Q 16.5\n",
    "Factorial Zeros: Write an algorithm which computes the number of trailing zeros in n factorial.\n",
    "\n",
    "Examples: https://www.mymathtables.com/numbers/100-factorial-tables-chart.html\n",
    "\"\"\"\n",
    "\n",
    "n = 81\n",
    "\n",
    "count = 0\n",
    "for i in range(0, n+1, 5):\n",
    "    while i % 5 == 0 and i != 0:\n",
    "        count += 1\n",
    "        i = i // 5\n",
    "\n",
    "print(\"Count: \", count)"
   ]
  },
  {
   "cell_type": "code",
   "execution_count": 32,
   "metadata": {},
   "outputs": [
    {
     "name": "stdout",
     "output_type": "stream",
     "text": [
      "max_sum:  5\n"
     ]
    }
   ],
   "source": [
    "\"\"\"\n",
    "Q 16.17\n",
    "Contiguous Sequence: You are given an array of integers (both positive and negative).\n",
    "Find the contiguous sequence with the largest sum. Return the sum.\n",
    "\n",
    "EXAMPLE\n",
    "Input: 2, -8, 3, -2, 4, -10\n",
    "Output: 5 (i.e., {3, -2, 4})\n",
    "\"\"\"\n",
    "\n",
    "a_list = [2, -8, 3, -2, 4, -10]\n",
    "\n",
    "max_sum = 0\n",
    "my_sum = 0\n",
    "for i in range(len(a_list)):\n",
    "    my_sum += a_list[i]\n",
    "    if my_sum > max_sum:\n",
    "        max_sum = my_sum\n",
    "    elif my_sum < 0:\n",
    "        my_sum = 0\n",
    "\n",
    "print(\"max_sum: \", max_sum)"
   ]
  },
  {
   "cell_type": "code",
   "execution_count": null,
   "metadata": {},
   "outputs": [],
   "source": []
  },
  {
   "cell_type": "code",
   "execution_count": null,
   "metadata": {},
   "outputs": [],
   "source": []
  },
  {
   "cell_type": "markdown",
   "metadata": {},
   "source": [
    "# XI Advanced Topics\n",
    "## Sum of lntegers 1 through N"
   ]
  },
  {
   "cell_type": "code",
   "execution_count": 5,
   "metadata": {},
   "outputs": [
    {
     "name": "stdout",
     "output_type": "stream",
     "text": [
      "Result:  15.0\n",
      "my_sum:  15\n"
     ]
    }
   ],
   "source": [
    "n = 5\n",
    "\n",
    "print(\"Result: \", n*((n+1)/2))\n",
    "\n",
    "my_sum = 0\n",
    "for i in range(n+1):\n",
    "    my_sum += i\n",
    "print(\"my_sum: \", my_sum)"
   ]
  },
  {
   "cell_type": "code",
   "execution_count": null,
   "metadata": {},
   "outputs": [],
   "source": []
  }
 ],
 "metadata": {
  "anaconda-cloud": {},
  "kernelspec": {
   "display_name": "Python 3 (ipykernel)",
   "language": "python",
   "name": "python3"
  },
  "language_info": {
   "codemirror_mode": {
    "name": "ipython",
    "version": 3
   },
   "file_extension": ".py",
   "mimetype": "text/x-python",
   "name": "python",
   "nbconvert_exporter": "python",
   "pygments_lexer": "ipython3",
   "version": "3.10.8"
  }
 },
 "nbformat": 4,
 "nbformat_minor": 1
}
