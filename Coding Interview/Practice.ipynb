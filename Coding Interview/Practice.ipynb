{
 "cells": [
  {
   "cell_type": "code",
   "execution_count": 1,
   "metadata": {},
   "outputs": [],
   "source": [
    "import os\n",
    "import time\n",
    "import datetime\n",
    "import codecs\n",
    "import json\n",
    "import numpy as np\n",
    "import matplotlib.pyplot as plt"
   ]
  },
  {
   "cell_type": "code",
   "execution_count": 2,
   "metadata": {},
   "outputs": [],
   "source": [
    "def start_stopwatch():\n",
    "    start_time = time.time()\n",
    "    while True:\n",
    "        elapsed_time = time.time() - start_time\n",
    "        time_passed = str(datetime.timedelta(seconds=int(elapsed_time)))\n",
    "        print(f'Time passed: {time_passed}', end='\\r')\n",
    "        time.sleep(1)"
   ]
  },
  {
   "cell_type": "raw",
   "metadata": {},
   "source": [
    "path = r'C:\\Users\\GyanT\\Documents\\GitHub\\My_Private_Notebooks\\coding-interview\\patterns'\n",
    "\n",
    "patterns = [pattern for pattern in os.listdir(path) if not pattern.startswith('.')]\n",
    "pattern = np.random.choice(patterns)\n",
    "print('pattern: ', pattern)\n",
    "\n",
    "notebooks = [notebook for notebook in os.listdir(path + os.sep + pattern) if not notebook.startswith('.')]\n",
    "notebook = np.random.choice(notebooks)\n",
    "print('notebook: ', notebook)\n",
    "\n",
    "f = codecs.open(path + os.sep + pattern + os.sep + notebook, 'r', encoding='utf8')\n",
    "source = f.read()\n",
    "y = json.loads(source)\n",
    "\n",
    "code_cells_idx = [i for i, cell in enumerate(y['cells']) if cell['cell_type'] == 'code' and cell['source']]\n",
    "print('code_cells_idx: ', code_cells_idx)\n",
    "\n",
    "code_cell_idx = np.random.choice(code_cells_idx)\n",
    "print('code_cell_idx: ', code_cell_idx)\n",
    "\n",
    "question = ''.join(y['cells'][code_cell_idx-1]['source'])\n",
    "print('\\nQuestion:\\n', question)"
   ]
  },
  {
   "cell_type": "code",
   "execution_count": 10,
   "metadata": {
    "scrolled": false
   },
   "outputs": [
    {
     "name": "stdout",
     "output_type": "stream",
     "text": [
      "\n",
      "Question:\n",
      " # 4 Trees and Graphs\n",
      "## Interview Questions, Page: 110\n"
     ]
    }
   ],
   "source": [
    "def find_files_by_extension(path, extension, skip_folders=None):\n",
    "    \n",
    "    if skip_folders is None:\n",
    "        skip_folders = []\n",
    "    \n",
    "    file_list = []\n",
    "    for root, dirs, files in os.walk(path):\n",
    "        dirs[:] = [d for d in dirs if d not in skip_folders]\n",
    "        \n",
    "        for file in files:\n",
    "            if file.endswith(extension):\n",
    "                file_list.append(os.path.join(root, file))\n",
    "    \n",
    "    return file_list\n",
    "\n",
    "extension = \".ipynb\"\n",
    "skip_folders = ['.ipynb_checkpoints']\n",
    "\n",
    "path = r\"C:\\Users\\GyanT\\Documents\\GitHub\\My_Private_Notebooks\\coding-interview\"\n",
    "# path = r'C:\\Users\\GyanT\\Documents\\GitHub\\My_Private_Notebooks\\coding-interview\\patterns'\n",
    "notebooks = find_files_by_extension(path, extension, skip_folders)\n",
    "\n",
    "path = r\"C:\\Users\\GyanT\\Documents\\GitHub\\Python-Programming\\Coding Interview\"\n",
    "notebooks.extend(find_files_by_extension(path, extension, skip_folders))\n",
    "\n",
    "# print(\"Files with extension '{}' in path '{}':\".format(extension, path))\n",
    "# for file_path in result:\n",
    "#     print(file_path)\n",
    "\n",
    "notebook = np.random.choice(notebooks)\n",
    "# print('notebook: ', notebook)\n",
    "\n",
    "# full_path = os.path.join(path, pattern, notebook)\n",
    "try:\n",
    "    with codecs.open(notebook, 'r', encoding='utf-8') as f:\n",
    "        source = f.read()\n",
    "        # Process the file content as needed\n",
    "except OSError as e:\n",
    "    print(\"Error opening file:\", e)\n",
    "    \n",
    "y = json.loads(source)\n",
    "\n",
    "code_cells_idx = [i for i, cell in enumerate(y['cells']) if cell['cell_type'] == 'code' and cell['source']]\n",
    "# print('code_cells_idx: ', code_cells_idx)\n",
    "\n",
    "code_cell_idx = np.random.choice(code_cells_idx)\n",
    "# print('code_cell_idx: ', code_cell_idx)\n",
    "\n",
    "question = ''.join(y['cells'][code_cell_idx-1]['source'])\n",
    "print('\\nQuestion:\\n', question)"
   ]
  },
  {
   "cell_type": "code",
   "execution_count": 4,
   "metadata": {},
   "outputs": [
    {
     "name": "stdout",
     "output_type": "stream",
     "text": [
      "Time passed: 0:03:04\r"
     ]
    },
    {
     "ename": "KeyboardInterrupt",
     "evalue": "",
     "output_type": "error",
     "traceback": [
      "\u001b[1;31m---------------------------------------------------------------------------\u001b[0m",
      "\u001b[1;31mKeyboardInterrupt\u001b[0m                         Traceback (most recent call last)",
      "Cell \u001b[1;32mIn[4], line 1\u001b[0m\n\u001b[1;32m----> 1\u001b[0m \u001b[43mstart_stopwatch\u001b[49m\u001b[43m(\u001b[49m\u001b[43m)\u001b[49m\n",
      "Cell \u001b[1;32mIn[2], line 7\u001b[0m, in \u001b[0;36mstart_stopwatch\u001b[1;34m()\u001b[0m\n\u001b[0;32m      5\u001b[0m time_passed \u001b[38;5;241m=\u001b[39m \u001b[38;5;28mstr\u001b[39m(datetime\u001b[38;5;241m.\u001b[39mtimedelta(seconds\u001b[38;5;241m=\u001b[39m\u001b[38;5;28mint\u001b[39m(elapsed_time)))\n\u001b[0;32m      6\u001b[0m \u001b[38;5;28mprint\u001b[39m(\u001b[38;5;124mf\u001b[39m\u001b[38;5;124m'\u001b[39m\u001b[38;5;124mTime passed: \u001b[39m\u001b[38;5;132;01m{\u001b[39;00mtime_passed\u001b[38;5;132;01m}\u001b[39;00m\u001b[38;5;124m'\u001b[39m, end\u001b[38;5;241m=\u001b[39m\u001b[38;5;124m'\u001b[39m\u001b[38;5;130;01m\\r\u001b[39;00m\u001b[38;5;124m'\u001b[39m)\n\u001b[1;32m----> 7\u001b[0m \u001b[43mtime\u001b[49m\u001b[38;5;241;43m.\u001b[39;49m\u001b[43msleep\u001b[49m\u001b[43m(\u001b[49m\u001b[38;5;241;43m1\u001b[39;49m\u001b[43m)\u001b[49m\n",
      "\u001b[1;31mKeyboardInterrupt\u001b[0m: "
     ]
    }
   ],
   "source": [
    "start_stopwatch()"
   ]
  },
  {
   "cell_type": "raw",
   "metadata": {},
   "source": [
    "\n",
    "S:\n",
    "\n",
    "A:\n"
   ]
  },
  {
   "cell_type": "code",
   "execution_count": 6,
   "metadata": {},
   "outputs": [
    {
     "name": "stdout",
     "output_type": "stream",
     "text": [
      "ans:  ['TT', 'UT', 'VT', 'TU', 'UU', 'VU', 'TV', 'UV', 'VV']\n",
      "ans:  ['A G', 'B G', 'C G', 'A H', 'B H', 'C H', 'A I', 'B I', 'C I']\n"
     ]
    }
   ],
   "source": [
    "from typing import List\n",
    "\n",
    "def get_combinations(num: str) -> List[str]:\n",
    "    \n",
    "    if not num:\n",
    "        return []\n",
    "    elif len(num) == 1:\n",
    "        return num_char[num[0]]\n",
    "    else:\n",
    "        first_chars = num_char[num[0]]\n",
    "    \n",
    "    results = []\n",
    "    for l_char in get_combinations(num[1:]):\n",
    "        for f_char in first_chars:\n",
    "            results.append(f_char+l_char)\n",
    "    \n",
    "    return results\n",
    "\n",
    "num_char = {\"1\": [\"\"], \"2\": [\"A\", \"B\", \"C\"], \"3\": [\"D\", \"E\", \"F\"], \"4\": [\"G\", \"H\", \"I\"], \"5\": [\"J\", \"K\", \"L\"],\n",
    "        \"6\": [\"M\", \"N\", \"O\"], \"7\": [\"P\", \"Q\", \"R\", \"S\"], \"8\": [\"T\", \"U\", \"V\"], \"9\": [\"W\", \"X\", \"Y\", \"Z\"], \"0\": [\" \"]}\n",
    "\n",
    "'''\n",
    "Time: O(4^N), where N is number of characters\n",
    "Space: O(4^N)\n",
    "'''\n",
    "\n",
    "num_list = ['88', '204']\n",
    "for num in num_list:\n",
    "    ans = get_combinations(num)\n",
    "    print('ans: ', ans)"
   ]
  },
  {
   "cell_type": "code",
   "execution_count": 11,
   "metadata": {
    "scrolled": false
   },
   "outputs": [
    {
     "name": "stdout",
     "output_type": "stream",
     "text": [
      "notebook:  C:\\Users\\GyanT\\Documents\\GitHub\\Python-Programming\\Coding Interview\\1_Data_Structures\\4_Trees_and_Graphs_CtCI.ipynb\n",
      "\n",
      "Solution:\n",
      " \"\"\"\n",
      "Q 4.7\n",
      "Build Order: You are given a list of projects and a list of dependencies (which is a list of pairs of\n",
      "projects, where the second project is dependent on the first project). All of a project's dependencies\n",
      "must be built before the project is. Find a build order that will allow the projects to be built.\n",
      "X If therecis no valid build order, return an error.\n",
      "Solution always exits.\n",
      "EXAMPLE\n",
      "Input:\n",
      "projects: a, b, c, d, e, f\n",
      "dependencies: (a, d), (f, b), (b, d), (f, a), (d, c)\n",
      "Output: f, e, a, b, d, c\n",
      "\"\"\"\n",
      "\n",
      "projects = ['a', 'b', 'c', 'd', 'e', 'f']\n",
      "dependencies = [('a', 'd'), ('f', 'b'), ('b', 'd'), ('f', 'a'), ('d', 'c')]\n",
      "\n",
      "while True:\n",
      "    swap = False\n",
      "    for a_dep in dependencies:\n",
      "#         print(a_dep)\n",
      "        \n",
      "        dep = projects.index(a_dep[0])\n",
      "        pro = projects.index(a_dep[1])\n",
      "        \n",
      "        if dep > pro:\n",
      "#             projects.insert(pro, a_dep[0])\n",
      "#             projects.pop(pro+1)\n",
      "#             projects.insert(dep, a_dep[1])\n",
      "#             projects.pop(dep+1)\n",
      "            projects[dep], projects[pro] = projects[pro], projects[dep]\n",
      "#             print(\"projects:\", projects)\n",
      "            swap = True\n",
      "    if swap == False:\n",
      "        break\n",
      "\n",
      "print(projects)\n",
      "\n",
      "\n",
      "output:\n",
      " {'name': 'stdout', 'output_type': 'stream', 'text': [\"['f', 'a', 'b', 'd', 'e', 'c']\\n\"]}\n",
      "\n"
     ]
    }
   ],
   "source": [
    "print('notebook: ', notebook)\n",
    "solution = ''.join(y['cells'][code_cell_idx]['source'])\n",
    "print('\\nSolution:\\n', solution, end='\\n\\n')\n",
    "for output in y['cells'][code_cell_idx]['outputs']:\n",
    "    print('\\noutput:\\n', output, end='\\n\\n')"
   ]
  },
  {
   "cell_type": "raw",
   "metadata": {},
   "source": [
    "Practice on 17/Mar/24:\n",
    "- Isyana is given the number of visitors at her local theme park on N consecutive days. The number of visitors on the i-th day is Vi. -> 19min\n",
    "- GCIP: Longest Subarray with Ones after Replacement (hard) -> 12min\n",
    "- You have an empty sequence, and you will be given N queries. Each query is one of these three types: -> 4min\n",
    "- GCIP: Conflicting Appointments (medium) -> 10min\n",
    "- moving average Input 10, 20, 30, 10, … Output: 10, 15, 20, 17.5, … -> 2min\n",
    "- def shortestWordEditPath(source, target, wordset): -> 10min\n",
    "\n",
    "Practice on 18/Mar/24:\n",
    "- Question: Find the Optimal Path for an Autonomous Vehicle -> 13min\n",
    "- Magic Carpet -> 10min\n",
    "\n",
    "Practice on 19/Mar/24:\n",
    "- GCIP: Triplets with Smaller Sum (medium) -> 13min\n",
    "\n",
    "Practice on 20/Mar/24:\n",
    "- Magic Index: -> 20min\n",
    "- GCIP: Find the Smallest Missing Positive Number (medium) -> 9min\n",
    "\n",
    "Practice on 21/Mar/24:\n",
    "- LC: 1044. Longest Duplicate Substring (Hard) -> 6min\n",
    "- GCIP: Dutch National Flag Problem (medium) -> 3min\n",
    "- GCIP: Reverse Level Order Traversal (easy) -> 10min\n",
    "- HR: Stock Maximize (Medium) -> 10min\n",
    "\n",
    "Practice on 22/Mar/24:\n",
    "- You are given a list of delivery stops represented as (x, y) coordinates in a 2D plane. -> 10min\n",
    "- LC: 922. Sort Array By Parity II (Easy) -> 10min\n",
    "- LC: 19. Remove Nth Node From End of List (Medium) -> 8min\n",
    "- GCIP: Intervals Intersection (medium) -> 12min\n",
    "- GCIP: Find all Missing Numbers (easy) -> 6min\n",
    "\n",
    "Practice on 23/Mar/24:\n",
    "- GCIP: Reverse a LinkedList (easy) -> 2min\n",
    "- GCIP: Minimum Meeting Rooms (hard) -> 10min\n",
    "- GCIP: Happy Number (medium) -> 8min\n",
    "- LC: 1161. Maximum Level Sum of a Binary Tree (Medium) -> 10min\n",
    "- GCIP: Merge Intervals (medium) -> 8min\n",
    "\n",
    "Practice on 23/Mar/24:\n",
    "- LC: 257. Binary Tree Paths (Easy) -> 7min\n",
    "- GCIP: Middle of the LinkedList (easy) -> 3min\n",
    "- GCIP: Minimum Depth of a Binary Tree (easy) -> 8min\n",
    "- GCIP: Level Averages in a Binary Tree (easy) -> 3min\n",
    "- Given a string of characters, compress the string to reduce subsequent duplicate occurrences of characters. -> 5min\n",
    "\n",
    "Practice on 8/Apr/24:\n",
    "- GFG: Print all possible words from phone digits\n",
    "\n",
    "Practice on 9/Apr/24:\n",
    "- Aladdin's Carpet\n",
    "\n",
    "Practice on 10/Apr/24:\n",
    "- CCI: Page 110 (4.7 Build Order)\n"
   ]
  },
  {
   "cell_type": "code",
   "execution_count": null,
   "metadata": {},
   "outputs": [],
   "source": []
  },
  {
   "cell_type": "code",
   "execution_count": null,
   "metadata": {},
   "outputs": [],
   "source": []
  }
 ],
 "metadata": {
  "kernelspec": {
   "display_name": "Python 3 (ipykernel)",
   "language": "python",
   "name": "python3"
  },
  "language_info": {
   "codemirror_mode": {
    "name": "ipython",
    "version": 3
   },
   "file_extension": ".py",
   "mimetype": "text/x-python",
   "name": "python",
   "nbconvert_exporter": "python",
   "pygments_lexer": "ipython3",
   "version": "3.10.8"
  }
 },
 "nbformat": 4,
 "nbformat_minor": 4
}
