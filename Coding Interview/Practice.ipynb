{
 "cells": [
  {
   "cell_type": "code",
   "execution_count": 1,
   "metadata": {},
   "outputs": [],
   "source": [
    "import os\n",
    "import time\n",
    "import datetime\n",
    "import codecs\n",
    "import json\n",
    "import numpy as np\n",
    "import matplotlib.pyplot as plt"
   ]
  },
  {
   "cell_type": "code",
   "execution_count": 2,
   "metadata": {},
   "outputs": [],
   "source": [
    "def start_stopwatch():\n",
    "    start_time = time.time()\n",
    "    while True:\n",
    "        elapsed_time = time.time() - start_time\n",
    "        time_passed = str(datetime.timedelta(seconds=int(elapsed_time)))\n",
    "        print(f'Time passed: {time_passed}', end='\\r')\n",
    "        time.sleep(1)"
   ]
  },
  {
   "cell_type": "code",
   "execution_count": 3,
   "metadata": {},
   "outputs": [
    {
     "name": "stdout",
     "output_type": "stream",
     "text": [
      "pattern:  fast-and-slow-pointers\n",
      "notebook:  1.ipynb\n",
      "code_cells_idx:  [2, 4, 6, 8, 10, 13]\n",
      "code_cell_idx:  13\n",
      "\n",
      "Question:\n",
      " GCIP: Rearrange a LinkedList (medium)\n",
      "\n",
      "Given the head of a Singly LinkedList, write a method to modify the LinkedList such that the nodes from the second half of the LinkedList are inserted alternately to the nodes from the first half in reverse order.\n",
      "So if the LinkedList has nodes 1 -> 2 -> 3 -> 4 -> 5 -> 6 -> null, your method should return 1 -> 6 -> 2 -> 5 -> 3 -> 4 -> null.\n",
      "Your algorithm should not use any extra space and the input LinkedList should be modified in-place.\n",
      "\n",
      "Example 1:\n",
      "Input: 2 -> 4 -> 6 -> 8 -> 10 -> 12 -> null\n",
      "Output: 2 -> 12 -> 4 -> 10 -> 6 -> 8 -> null \n",
      "\n",
      "Example 2:\n",
      "Input: 2 -> 4 -> 6 -> 8 -> 10 -> null\n",
      "Output: 2 -> 10 -> 4 -> 8 -> 6 -> null\n",
      "\n",
      "Time passed: 0:00:07\r"
     ]
    },
    {
     "ename": "KeyboardInterrupt",
     "evalue": "",
     "output_type": "error",
     "traceback": [
      "\u001b[1;31m---------------------------------------------------------------------------\u001b[0m",
      "\u001b[1;31mKeyboardInterrupt\u001b[0m                         Traceback (most recent call last)",
      "Cell \u001b[1;32mIn[3], line 24\u001b[0m\n\u001b[0;32m     21\u001b[0m question \u001b[38;5;241m=\u001b[39m \u001b[38;5;124m'\u001b[39m\u001b[38;5;124m'\u001b[39m\u001b[38;5;241m.\u001b[39mjoin(y[\u001b[38;5;124m'\u001b[39m\u001b[38;5;124mcells\u001b[39m\u001b[38;5;124m'\u001b[39m][code_cell_idx\u001b[38;5;241m-\u001b[39m\u001b[38;5;241m1\u001b[39m][\u001b[38;5;124m'\u001b[39m\u001b[38;5;124msource\u001b[39m\u001b[38;5;124m'\u001b[39m])\n\u001b[0;32m     22\u001b[0m \u001b[38;5;28mprint\u001b[39m(\u001b[38;5;124m'\u001b[39m\u001b[38;5;130;01m\\n\u001b[39;00m\u001b[38;5;124mQuestion:\u001b[39m\u001b[38;5;130;01m\\n\u001b[39;00m\u001b[38;5;124m'\u001b[39m, question, end\u001b[38;5;241m=\u001b[39m\u001b[38;5;124m'\u001b[39m\u001b[38;5;130;01m\\n\u001b[39;00m\u001b[38;5;130;01m\\n\u001b[39;00m\u001b[38;5;124m'\u001b[39m)\n\u001b[1;32m---> 24\u001b[0m \u001b[43mstart_stopwatch\u001b[49m\u001b[43m(\u001b[49m\u001b[43m)\u001b[49m\n",
      "Cell \u001b[1;32mIn[2], line 7\u001b[0m, in \u001b[0;36mstart_stopwatch\u001b[1;34m()\u001b[0m\n\u001b[0;32m      5\u001b[0m time_passed \u001b[38;5;241m=\u001b[39m \u001b[38;5;28mstr\u001b[39m(datetime\u001b[38;5;241m.\u001b[39mtimedelta(seconds\u001b[38;5;241m=\u001b[39m\u001b[38;5;28mint\u001b[39m(elapsed_time)))\n\u001b[0;32m      6\u001b[0m \u001b[38;5;28mprint\u001b[39m(\u001b[38;5;124mf\u001b[39m\u001b[38;5;124m'\u001b[39m\u001b[38;5;124mTime passed: \u001b[39m\u001b[38;5;132;01m{\u001b[39;00mtime_passed\u001b[38;5;132;01m}\u001b[39;00m\u001b[38;5;124m'\u001b[39m, end\u001b[38;5;241m=\u001b[39m\u001b[38;5;124m'\u001b[39m\u001b[38;5;130;01m\\r\u001b[39;00m\u001b[38;5;124m'\u001b[39m)\n\u001b[1;32m----> 7\u001b[0m \u001b[43mtime\u001b[49m\u001b[38;5;241;43m.\u001b[39;49m\u001b[43msleep\u001b[49m\u001b[43m(\u001b[49m\u001b[38;5;241;43m1\u001b[39;49m\u001b[43m)\u001b[49m\n",
      "\u001b[1;31mKeyboardInterrupt\u001b[0m: "
     ]
    }
   ],
   "source": [
    "path = r'C:\\Users\\GyanT\\Documents\\GitHub\\My_Private_Notebooks\\coding-interview\\patterns'\n",
    "\n",
    "patterns = [pattern for pattern in os.listdir(path) if not pattern.startswith('.')]\n",
    "pattern = np.random.choice(patterns)\n",
    "print('pattern: ', pattern)\n",
    "\n",
    "notebooks = [notebook for notebook in os.listdir(path + os.sep + pattern) if not notebook.startswith('.')]\n",
    "notebook = np.random.choice(notebooks)\n",
    "print('notebook: ', notebook)\n",
    "\n",
    "f = codecs.open(path + os.sep + pattern + os.sep + notebook, 'r', encoding='utf8')\n",
    "source = f.read()\n",
    "y = json.loads(source)\n",
    "\n",
    "code_cells_idx = [i for i, cell in enumerate(y['cells']) if cell['cell_type'] == 'code' and cell['source']]\n",
    "print('code_cells_idx: ', code_cells_idx)\n",
    "\n",
    "code_cell_idx = np.random.choice(code_cells_idx)\n",
    "print('code_cell_idx: ', code_cell_idx)\n",
    "\n",
    "question = ''.join(y['cells'][code_cell_idx-1]['source'])\n",
    "print('\\nQuestion:\\n', question, end='\\n\\n')\n",
    "\n",
    "start_stopwatch()"
   ]
  },
  {
   "cell_type": "code",
   "execution_count": null,
   "metadata": {},
   "outputs": [],
   "source": []
  },
  {
   "cell_type": "code",
   "execution_count": null,
   "metadata": {},
   "outputs": [],
   "source": [
    "solution = ''.join(y['cells'][code_cell_idx]['source'])\n",
    "print('\\nSolution:\\n', solution, end='\\n\\n')"
   ]
  },
  {
   "cell_type": "code",
   "execution_count": null,
   "metadata": {},
   "outputs": [],
   "source": []
  }
 ],
 "metadata": {
  "kernelspec": {
   "display_name": "Python 3 (ipykernel)",
   "language": "python",
   "name": "python3"
  },
  "language_info": {
   "codemirror_mode": {
    "name": "ipython",
    "version": 3
   },
   "file_extension": ".py",
   "mimetype": "text/x-python",
   "name": "python",
   "nbconvert_exporter": "python",
   "pygments_lexer": "ipython3",
   "version": "3.10.8"
  }
 },
 "nbformat": 4,
 "nbformat_minor": 4
}
