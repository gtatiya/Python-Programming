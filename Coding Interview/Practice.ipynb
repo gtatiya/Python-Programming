{
 "cells": [
  {
   "cell_type": "code",
   "execution_count": 1,
   "metadata": {},
   "outputs": [],
   "source": [
    "import os\n",
    "import time\n",
    "import datetime\n",
    "import codecs\n",
    "import json\n",
    "import numpy as np\n",
    "import matplotlib.pyplot as plt"
   ]
  },
  {
   "cell_type": "code",
   "execution_count": 2,
   "metadata": {},
   "outputs": [],
   "source": [
    "def start_stopwatch():\n",
    "    start_time = time.time()\n",
    "    while True:\n",
    "        elapsed_time = time.time() - start_time\n",
    "        time_passed = str(datetime.timedelta(seconds=int(elapsed_time)))\n",
    "        print(f'Time passed: {time_passed}', end='\\r')\n",
    "        time.sleep(1)"
   ]
  },
  {
   "cell_type": "raw",
   "metadata": {},
   "source": [
    "path = r'C:\\Users\\GyanT\\Documents\\GitHub\\My_Private_Notebooks\\coding-interview\\patterns'\n",
    "\n",
    "patterns = [pattern for pattern in os.listdir(path) if not pattern.startswith('.')]\n",
    "pattern = np.random.choice(patterns)\n",
    "print('pattern: ', pattern)\n",
    "\n",
    "notebooks = [notebook for notebook in os.listdir(path + os.sep + pattern) if not notebook.startswith('.')]\n",
    "notebook = np.random.choice(notebooks)\n",
    "print('notebook: ', notebook)\n",
    "\n",
    "f = codecs.open(path + os.sep + pattern + os.sep + notebook, 'r', encoding='utf8')\n",
    "source = f.read()\n",
    "y = json.loads(source)\n",
    "\n",
    "code_cells_idx = [i for i, cell in enumerate(y['cells']) if cell['cell_type'] == 'code' and cell['source']]\n",
    "print('code_cells_idx: ', code_cells_idx)\n",
    "\n",
    "code_cell_idx = np.random.choice(code_cells_idx)\n",
    "print('code_cell_idx: ', code_cell_idx)\n",
    "\n",
    "question = ''.join(y['cells'][code_cell_idx-1]['source'])\n",
    "print('\\nQuestion:\\n', question)"
   ]
  },
  {
   "cell_type": "code",
   "execution_count": 39,
   "metadata": {
    "scrolled": false
   },
   "outputs": [
    {
     "name": "stdout",
     "output_type": "stream",
     "text": [
      "\n",
      "Question:\n",
      " GCIP: Find all Missing Numbers (easy)\n",
      "\n",
      "LC: 448. Find All Numbers Disappeared in an Array (Easy)\n",
      "https://leetcode.com/problems/find-all-numbers-disappeared-in-an-array/description/\n",
      "\n",
      "We are given an unsorted array containing numbers taken from the range 1 to ‘n’. \n",
      "The array can have duplicates, which means some numbers will be missing. Find all those missing numbers.\n",
      "\n",
      "Example 1:\n",
      "Input: [2, 3, 1, 8, 2, 3, 5, 1]\n",
      "Output: 4, 6, 7\n",
      "Explanation: The array should have all numbers from 1 to 8, due to duplicates 4, 6, and 7 are missing.\n",
      "\n",
      "Example 2:\n",
      "Input: [2, 4, 1, 2]\n",
      "Output: 3\n",
      "\n",
      "Example 3:\n",
      "Input: [2, 3, 2, 1]\n",
      "Output: 4\n"
     ]
    }
   ],
   "source": [
    "def find_files_by_extension(path, extension, skip_folders=None):\n",
    "    \n",
    "    if skip_folders is None:\n",
    "        skip_folders = []\n",
    "    \n",
    "    file_list = []\n",
    "    for root, dirs, files in os.walk(path):\n",
    "        dirs[:] = [d for d in dirs if d not in skip_folders]\n",
    "        \n",
    "        for file in files:\n",
    "            if file.endswith(extension):\n",
    "                file_list.append(os.path.join(root, file))\n",
    "    \n",
    "    return file_list\n",
    "\n",
    "extension = \".ipynb\"\n",
    "skip_folders = ['.ipynb_checkpoints']\n",
    "\n",
    "path = r\"C:\\Users\\GyanT\\Documents\\GitHub\\My_Private_Notebooks\\coding-interview\"\n",
    "# path = r'C:\\Users\\GyanT\\Documents\\GitHub\\My_Private_Notebooks\\coding-interview\\patterns'\n",
    "notebooks = find_files_by_extension(path, extension, skip_folders)\n",
    "\n",
    "path = r\"C:\\Users\\GyanT\\Documents\\GitHub\\Python-Programming\\Coding Interview\"\n",
    "notebooks.extend(find_files_by_extension(path, extension, skip_folders))\n",
    "\n",
    "# print(\"Files with extension '{}' in path '{}':\".format(extension, path))\n",
    "# for file_path in result:\n",
    "#     print(file_path)\n",
    "\n",
    "notebook = np.random.choice(notebooks)\n",
    "# print('notebook: ', notebook)\n",
    "\n",
    "# full_path = os.path.join(path, pattern, notebook)\n",
    "try:\n",
    "    with codecs.open(notebook, 'r', encoding='utf-8') as f:\n",
    "        source = f.read()\n",
    "        # Process the file content as needed\n",
    "except OSError as e:\n",
    "    print(\"Error opening file:\", e)\n",
    "    \n",
    "y = json.loads(source)\n",
    "\n",
    "code_cells_idx = [i for i, cell in enumerate(y['cells']) if cell['cell_type'] == 'code' and cell['source']]\n",
    "# print('code_cells_idx: ', code_cells_idx)\n",
    "\n",
    "code_cell_idx = np.random.choice(code_cells_idx)\n",
    "# print('code_cell_idx: ', code_cell_idx)\n",
    "\n",
    "question = ''.join(y['cells'][code_cell_idx-1]['source'])\n",
    "print('\\nQuestion:\\n', question)"
   ]
  },
  {
   "cell_type": "code",
   "execution_count": 40,
   "metadata": {},
   "outputs": [
    {
     "name": "stdout",
     "output_type": "stream",
     "text": [
      "Time passed: 0:05:24\r"
     ]
    },
    {
     "ename": "KeyboardInterrupt",
     "evalue": "",
     "output_type": "error",
     "traceback": [
      "\u001b[1;31m---------------------------------------------------------------------------\u001b[0m",
      "\u001b[1;31mKeyboardInterrupt\u001b[0m                         Traceback (most recent call last)",
      "Cell \u001b[1;32mIn[40], line 1\u001b[0m\n\u001b[1;32m----> 1\u001b[0m \u001b[43mstart_stopwatch\u001b[49m\u001b[43m(\u001b[49m\u001b[43m)\u001b[49m\n",
      "Cell \u001b[1;32mIn[2], line 7\u001b[0m, in \u001b[0;36mstart_stopwatch\u001b[1;34m()\u001b[0m\n\u001b[0;32m      5\u001b[0m time_passed \u001b[38;5;241m=\u001b[39m \u001b[38;5;28mstr\u001b[39m(datetime\u001b[38;5;241m.\u001b[39mtimedelta(seconds\u001b[38;5;241m=\u001b[39m\u001b[38;5;28mint\u001b[39m(elapsed_time)))\n\u001b[0;32m      6\u001b[0m \u001b[38;5;28mprint\u001b[39m(\u001b[38;5;124mf\u001b[39m\u001b[38;5;124m'\u001b[39m\u001b[38;5;124mTime passed: \u001b[39m\u001b[38;5;132;01m{\u001b[39;00mtime_passed\u001b[38;5;132;01m}\u001b[39;00m\u001b[38;5;124m'\u001b[39m, end\u001b[38;5;241m=\u001b[39m\u001b[38;5;124m'\u001b[39m\u001b[38;5;130;01m\\r\u001b[39;00m\u001b[38;5;124m'\u001b[39m)\n\u001b[1;32m----> 7\u001b[0m \u001b[43mtime\u001b[49m\u001b[38;5;241;43m.\u001b[39;49m\u001b[43msleep\u001b[49m\u001b[43m(\u001b[49m\u001b[38;5;241;43m1\u001b[39;49m\u001b[43m)\u001b[49m\n",
      "\u001b[1;31mKeyboardInterrupt\u001b[0m: "
     ]
    }
   ],
   "source": [
    "start_stopwatch()"
   ]
  },
  {
   "cell_type": "raw",
   "metadata": {},
   "source": []
  },
  {
   "cell_type": "code",
   "execution_count": null,
   "metadata": {},
   "outputs": [],
   "source": []
  },
  {
   "cell_type": "code",
   "execution_count": 41,
   "metadata": {
    "scrolled": true
   },
   "outputs": [
    {
     "name": "stdout",
     "output_type": "stream",
     "text": [
      "notebook:  C:\\Users\\GyanT\\Documents\\GitHub\\My_Private_Notebooks\\coding-interview\\patterns\\cyclic-sort\\1.ipynb\n",
      "\n",
      "Solution:\n",
      " from typing import List\n",
      "\n",
      "# Method 1\n",
      "def find_missing_numbers(nums: List[int]) -> List[int]:\n",
      "    \n",
      "    n = len(nums)\n",
      "    nums = set(nums)\n",
      "    missing_nums = []\n",
      "    for i in range(1, n+1):\n",
      "        if i not in nums:\n",
      "            missing_nums.append(i)\n",
      "    \n",
      "    return missing_nums\n",
      "\n",
      "'''\n",
      "Time: O(N)\n",
      "Space: O(1)\n",
      "\n",
      "To efficiently solve this problem, we can use the fact that the input array contains numbers in the range of 1 to ‘n’.\n",
      "For example, to efficiently sort the array, we can try placing each number in its correct place, i.e., placing ‘1’ at index ‘0’,\n",
      "placing ‘2’ at index ‘1’, and so on. Once we are done with the sorting, we can iterate the array to find all indices that are \n",
      "missing the correct numbers. These will be our required numbers.\n",
      "'''\n",
      "\n",
      "# Method 2\n",
      "def find_missing_numbers(nums: List[int]) -> List[int]:\n",
      "    \n",
      "    for num in nums:\n",
      "        # print('num: ', num, num - 1, nums[num - 1])\n",
      "        while nums[num - 1] != num:\n",
      "            temp = nums[num - 1]\n",
      "            nums[num - 1] = num # correct index of num is num - 1\n",
      "            num = temp\n",
      "        # print('nums: ', nums)\n",
      "    \n",
      "    missing_numbers = []\n",
      "    for i, num in enumerate(nums, start=1):\n",
      "        if num != i:\n",
      "            missing_numbers.append(i)\n",
      "    \n",
      "    return missing_numbers\n",
      "\n",
      "'''\n",
      "Time complexity: O(N)\n",
      "Space complexity: O(1)\n",
      "\n",
      "This problem follows the Cyclic Sort pattern and shares similarities with Find the Missing Number with one difference.\n",
      "In this problem, there can be many duplicates whereas in Find the Missing Number there were no duplicates and the range was \n",
      "greater than the length of the array.\n",
      "However, we will follow a similar approach though as discussed in Find the Missing Number to place the numbers on their \n",
      "correct indices. Once we are done with the cyclic sort we will iterate the array to find all indices that are missing the \n",
      "correct numbers.\n",
      "'''\n",
      "\n",
      "# Method 3\n",
      "def find_missing_numbers(nums: List[int]) -> List[int]:\n",
      "    \n",
      "    i = 0\n",
      "    while i < len(nums):\n",
      "        j = nums[i] - 1\n",
      "        if nums[i] != nums[j]:\n",
      "            nums[i], nums[j] = nums[j], nums[i]  # swap\n",
      "        else:\n",
      "            i += 1\n",
      "\n",
      "    missingNumbers = []\n",
      "    for i in range(len(nums)):\n",
      "        if nums[i] != i + 1:\n",
      "            missingNumbers.append(i + 1)\n",
      "\n",
      "    return missingNumbers\n",
      "\n",
      "'''\n",
      "Time complexity: O(N)\n",
      "Space complexity: O(1)\n",
      "'''\n",
      "\n",
      "nums_lists = [[2,3,1,8,2,3,5,1], [2,4,1,2], [2,3,2,1], [4,3,2,7,8,2,3,1], [1,1]]\n",
      "for nums in nums_lists:\n",
      "    ans = find_missing_numbers(nums)\n",
      "    print('ans: ', ans)\n",
      "\n"
     ]
    }
   ],
   "source": [
    "print('notebook: ', notebook)\n",
    "solution = ''.join(y['cells'][code_cell_idx]['source'])\n",
    "print('\\nSolution:\\n', solution, end='\\n\\n')"
   ]
  },
  {
   "cell_type": "code",
   "execution_count": null,
   "metadata": {},
   "outputs": [],
   "source": []
  },
  {
   "cell_type": "raw",
   "metadata": {},
   "source": [
    "Practice on 16/Mar/24:\n",
    "\n",
    "- GCIP: Insert Interval (medium) -> 17min\n",
    "- GCIP: Longest Substring with K Distinct Characters (medium) -> 17min\n",
    "- A child is running up a staircase with n steps and can hop either 1 step, 2 steps, or 3 steps at a time. Implement a method to count how many possible ways the child can run up the stairs. -> 7min\n",
    "-  A path from Honda’s factory to a car dealership, which is a path from the root to a leaf in the tree, is called a Sales Path. The cost of a Sales Path is the sum of the costs for every node in the path. For example, in the tree above one Sales Path is 0→3→0→10, and its cost is 13 (0+3+0+10). -> 12min\n",
    "- PRAMP: Sentence Reverse -> 10min\n",
    "- Build Order: You are given a list of projects and a list of dependencies (which is a list of pairs of projects, where the second project is dependent on the first project). -> 5min\n",
    "- Given a signed 32-bit integer x, return x with its digits reversed. -> 7min\n",
    "- LC: 20. Valid Parentheses -> 10min\n",
    "\n",
    "Practice on 17/Mar/24:\n",
    "- Isyana is given the number of visitors at her local theme park on N consecutive days. The number of visitors on the i-th day is Vi. -> 19min\n",
    "- GCIP: Longest Subarray with Ones after Replacement (hard) -> 12min\n",
    "- You have an empty sequence, and you will be given N queries. Each query is one of these three types: -> 4min\n",
    "- GCIP: Conflicting Appointments (medium) -> 10min\n",
    "- moving average Input 10, 20, 30, 10, … Output: 10, 15, 20, 17.5, … -> 2min\n",
    "- def shortestWordEditPath(source, target, wordset): -> 10min\n",
    "\n",
    "Practice on 18/Mar/24:\n",
    "- Question: Find the Optimal Path for an Autonomous Vehicle -> 13min\n",
    "- Magic Carpet -> 10min\n",
    "\n",
    "Practice on 19/Mar/24:\n",
    "- GCIP: Triplets with Smaller Sum (medium) -> 13min\n",
    "\n",
    "Practice on 20/Mar/24:\n",
    "- Magic Index: -> 20min\n",
    "- GCIP: Find the Smallest Missing Positive Number (medium) -> 9min\n",
    "\n",
    "Practice on 21/Mar/24:\n",
    "- LC: 1044. Longest Duplicate Substring (Hard) -> 6min\n",
    "- GCIP: Dutch National Flag Problem (medium) -> 3min\n",
    "- GCIP: Reverse Level Order Traversal (easy) -> 10min\n",
    "- HR: Stock Maximize (Medium) -> 10min\n",
    "\n",
    "Practice on 22/Mar/24:\n",
    "- You are given a list of delivery stops represented as (x, y) coordinates in a 2D plane. -> 10min\n",
    "- LC: 922. Sort Array By Parity II (Easy) -> 10min\n",
    "- LC: 19. Remove Nth Node From End of List (Medium) -> 8min\n",
    "- GCIP: Intervals Intersection (medium) -> 12min\n",
    "- GCIP: Find all Missing Numbers (easy) -> 6min\n"
   ]
  },
  {
   "cell_type": "code",
   "execution_count": null,
   "metadata": {},
   "outputs": [],
   "source": []
  },
  {
   "cell_type": "code",
   "execution_count": null,
   "metadata": {},
   "outputs": [],
   "source": []
  }
 ],
 "metadata": {
  "kernelspec": {
   "display_name": "Python 3 (ipykernel)",
   "language": "python",
   "name": "python3"
  },
  "language_info": {
   "codemirror_mode": {
    "name": "ipython",
    "version": 3
   },
   "file_extension": ".py",
   "mimetype": "text/x-python",
   "name": "python",
   "nbconvert_exporter": "python",
   "pygments_lexer": "ipython3",
   "version": "3.10.8"
  }
 },
 "nbformat": 4,
 "nbformat_minor": 4
}
