{
 "cells": [
  {
   "cell_type": "code",
   "execution_count": 1,
   "metadata": {},
   "outputs": [],
   "source": [
    "import os\n",
    "import time\n",
    "import datetime\n",
    "import codecs\n",
    "import json\n",
    "import numpy as np\n",
    "import matplotlib.pyplot as plt"
   ]
  },
  {
   "cell_type": "code",
   "execution_count": 2,
   "metadata": {},
   "outputs": [],
   "source": [
    "def start_stopwatch():\n",
    "    start_time = time.time()\n",
    "    while True:\n",
    "        elapsed_time = time.time() - start_time\n",
    "        time_passed = str(datetime.timedelta(seconds=int(elapsed_time)))\n",
    "        print(f'Time passed: {time_passed}', end='\\r')\n",
    "        time.sleep(1)"
   ]
  },
  {
   "cell_type": "raw",
   "metadata": {},
   "source": [
    "Practice on 23/Mar/24:\n",
    "- GCIP: Reverse a LinkedList (easy) -> 2min\n",
    "- GCIP: Minimum Meeting Rooms (hard) -> 10min\n",
    "- GCIP: Happy Number (medium) -> 8min\n",
    "- LC: 1161. Maximum Level Sum of a Binary Tree (Medium) -> 10min\n",
    "- GCIP: Merge Intervals (medium) -> 8min\n",
    "\n",
    "Practice on 23/Mar/24:\n",
    "- LC: 257. Binary Tree Paths (Easy) -> 7min\n",
    "- GCIP: Middle of the LinkedList (easy) -> 3min\n",
    "- GCIP: Minimum Depth of a Binary Tree (easy) -> 8min\n",
    "- GCIP: Level Averages in a Binary Tree (easy) -> 3min\n",
    "- Given a string of characters, compress the string to reduce subsequent duplicate occurrences of characters. -> 5min\n",
    "\n",
    "Practice on 8/Apr/24:\n",
    "- GFG: Print all possible words from phone digits\n",
    "\n",
    "Practice on 9/Apr/24:\n",
    "- Aladdin's Carpet\n",
    "\n",
    "Practice on 10/Apr/24:\n",
    "- CCI: Page 110 (4.7 Build Order)\n",
    "\n",
    "Practice on 13/Apr/24:\n",
    "- GCIP: Longest Substring with Same Letters after Replacement (hard) (I forgot :()\n",
    "- GCIP: Cyclic Sort (easy) -> 10min\n",
    "- CCI: Page 68\n",
    "\n",
    "Practice on 14/Apr/24:\n",
    "- Building Houses -> 10min\n",
    "- GCIP: Triplet Sum Close to Target (medium) -> 12min\n",
    "\n",
    "Practice on 20/Apr/24:\n",
    "- GCIP: Level Order Successor (easy)\n",
    "- GCIP: Words Concatenation (hard)\n",
    "- Given an infinite number line, you would like to build few blocks and obstacles on it.\n",
    "- GCIP: Subsets (easy)\n",
    "- GCIP: Sliding Window Median (hard)\n",
    "- GCIP: Zigzag Traversal (medium)\n",
    "- GCIP: Find the Median of a Number Stream (medium)\n",
    "- CCI: Page 149 (10.1 Sorted Merge)\n",
    "- EPI: Page 40\n",
    "- LC: 25. Reverse Nodes in k-Group (Hard)\n",
    "\n",
    "Practice on 21/Apr/24:\n",
    "- Microsoft: We have a shopping product that allows users to search products for sell.\n",
    "- Suppose we have N polygons, for every polygon, we have 4 vertex, and every point is represented by x, y ([N, 4, 2]\n",
    "- CCI: Page 135\n",
    "- GFG: Print all possible words from phone digits\n",
    "- GCIP: Balanced Parentheses (hard)\n",
    "- CCI: Page 90 (1.1 Is Unique)\n",
    "- GCIP: Find the Duplicate Number (easy)\n",
    "- GCIP: Connect All Level Order Siblings (medium)\n",
    "\n",
    "Practice on 22/Apr/24:\n",
    "- GCIP: Start of LinkedList Cycle (medium)\n",
    "- Given a string message and an integer n, replace every nth consonant with the next consonant from the alphabet while keeping.\n",
    "- GCIP: Minimum Window Sort (medium)\n",
    "\n",
    "Practice on 21/May/24:\n",
    "- Sum Odd and Even -> 4min\n",
    "- Question: Find the Optimal Path for an Autonomous Vehicle -> 12min\n",
    "- GCIP: Reverse every K-element Sub-list (medium) -> 4min\n",
    "- LC: 1044. Longest Duplicate Substring (Hard) -> 8min\n",
    "- GCIP: Find the Corrupt Pair (easy) - 4min\n",
    "- CCI: Page 91 (1.5 One Away) - 8min\n",
    "- GCIP: Find all Duplicate Numbers (easy) - 7min\n",
    "- HR: Stock Maximize (Medium) -> 4min\n"
   ]
  },
  {
   "cell_type": "code",
   "execution_count": 133,
   "metadata": {
    "scrolled": false
   },
   "outputs": [
    {
     "name": "stdout",
     "output_type": "stream",
     "text": [
      "\n",
      "Question:\n",
      " HR: Stock Maximize (Medium)\n",
      "https://www.hackerrank.com/challenges/stockmax/problem\n",
      "\n",
      "Your algorithms have become so good at predicting the market that you now know what the share price of Wooden Orange Toothpicks Inc. (WOT) will be for the next number of days.\n",
      "Each day, you can either buy one share of WOT, sell any number of shares of WOT that you own, or not make any transaction at all.\n",
      "What is the maximum profit you can obtain with an optimum trading strategy?\n",
      "\n",
      "Examples:\n",
      "Input: prices = [5,3,2]\n",
      "Output: 0\n",
      "For the first case, there is no profit because the share price never rises.\n",
      "\n",
      "Input: prices = [1,2,100]\n",
      "Output: 197\n",
      "For the second case, buy one share on the first two days and sell both of them on the third day for a profit of $197.\n",
      "\n",
      "Input: prices = [1,3,1,2]\n",
      "Output: 3\n",
      "For the third case, buy one share on day 1, sell one on day 2, buy one share on day 3, and sell one share on day 4. The overall profit is $3.\n"
     ]
    }
   ],
   "source": [
    "def find_files_by_extension(path, extension, skip_folders=None):\n",
    "    \n",
    "    if skip_folders is None:\n",
    "        skip_folders = []\n",
    "    \n",
    "    file_list = []\n",
    "    for root, dirs, files in os.walk(path):\n",
    "        dirs[:] = [d for d in dirs if d not in skip_folders]\n",
    "        \n",
    "        for file in files:\n",
    "            if file.endswith(extension):\n",
    "                file_list.append(os.path.join(root, file))\n",
    "    \n",
    "    return file_list\n",
    "\n",
    "extension = \".ipynb\"\n",
    "skip_folders = ['.ipynb_checkpoints']\n",
    "\n",
    "path = r\"C:\\Users\\GyanT\\Documents\\GitHub\\My_Private_Notebooks\\coding-interview\"\n",
    "# path = r'C:\\Users\\GyanT\\Documents\\GitHub\\My_Private_Notebooks\\coding-interview\\patterns'\n",
    "notebooks = find_files_by_extension(path, extension, skip_folders)\n",
    "\n",
    "path = r\"C:\\Users\\GyanT\\Documents\\GitHub\\Python-Programming\\Coding Interview\"\n",
    "notebooks.extend(find_files_by_extension(path, extension, skip_folders))\n",
    "\n",
    "# print(\"Files with extension '{}' in path '{}':\".format(extension, path))\n",
    "# for file_path in result:\n",
    "#     print(file_path)\n",
    "\n",
    "notebook = np.random.choice(notebooks)\n",
    "# print('notebook: ', notebook)\n",
    "\n",
    "# full_path = os.path.join(path, pattern, notebook)\n",
    "try:\n",
    "    with codecs.open(notebook, 'r', encoding='utf-8') as f:\n",
    "        source = f.read()\n",
    "        # Process the file content as needed\n",
    "except OSError as e:\n",
    "    print(\"Error opening file:\", e)\n",
    "    \n",
    "y = json.loads(source)\n",
    "\n",
    "code_cells_idx = [i for i, cell in enumerate(y['cells']) if cell['cell_type'] == 'code' and cell['source']]\n",
    "# print('code_cells_idx: ', code_cells_idx)\n",
    "\n",
    "code_cell_idx = np.random.choice(code_cells_idx)\n",
    "# print('code_cell_idx: ', code_cell_idx)\n",
    "\n",
    "question = ''.join(y['cells'][code_cell_idx-1]['source'])\n",
    "print('\\nQuestion:\\n', question)"
   ]
  },
  {
   "cell_type": "code",
   "execution_count": 134,
   "metadata": {},
   "outputs": [
    {
     "name": "stdout",
     "output_type": "stream",
     "text": [
      "Time passed: 0:04:00\r"
     ]
    },
    {
     "ename": "KeyboardInterrupt",
     "evalue": "",
     "output_type": "error",
     "traceback": [
      "\u001b[1;31m---------------------------------------------------------------------------\u001b[0m",
      "\u001b[1;31mKeyboardInterrupt\u001b[0m                         Traceback (most recent call last)",
      "Cell \u001b[1;32mIn[134], line 1\u001b[0m\n\u001b[1;32m----> 1\u001b[0m \u001b[43mstart_stopwatch\u001b[49m\u001b[43m(\u001b[49m\u001b[43m)\u001b[49m\n",
      "Cell \u001b[1;32mIn[2], line 7\u001b[0m, in \u001b[0;36mstart_stopwatch\u001b[1;34m()\u001b[0m\n\u001b[0;32m      5\u001b[0m time_passed \u001b[38;5;241m=\u001b[39m \u001b[38;5;28mstr\u001b[39m(datetime\u001b[38;5;241m.\u001b[39mtimedelta(seconds\u001b[38;5;241m=\u001b[39m\u001b[38;5;28mint\u001b[39m(elapsed_time)))\n\u001b[0;32m      6\u001b[0m \u001b[38;5;28mprint\u001b[39m(\u001b[38;5;124mf\u001b[39m\u001b[38;5;124m'\u001b[39m\u001b[38;5;124mTime passed: \u001b[39m\u001b[38;5;132;01m{\u001b[39;00mtime_passed\u001b[38;5;132;01m}\u001b[39;00m\u001b[38;5;124m'\u001b[39m, end\u001b[38;5;241m=\u001b[39m\u001b[38;5;124m'\u001b[39m\u001b[38;5;130;01m\\r\u001b[39;00m\u001b[38;5;124m'\u001b[39m)\n\u001b[1;32m----> 7\u001b[0m \u001b[43mtime\u001b[49m\u001b[38;5;241;43m.\u001b[39;49m\u001b[43msleep\u001b[49m\u001b[43m(\u001b[49m\u001b[38;5;241;43m1\u001b[39;49m\u001b[43m)\u001b[49m\n",
      "\u001b[1;31mKeyboardInterrupt\u001b[0m: "
     ]
    }
   ],
   "source": [
    "start_stopwatch()"
   ]
  },
  {
   "cell_type": "raw",
   "metadata": {},
   "source": [
    "\n",
    "S:\n",
    "\n",
    "A:\n"
   ]
  },
  {
   "cell_type": "code",
   "execution_count": 136,
   "metadata": {},
   "outputs": [
    {
     "name": "stdout",
     "output_type": "stream",
     "text": [
      "ans:  0\n",
      "ans:  197\n",
      "ans:  3\n",
      "ans:  6\n",
      "ans:  4\n"
     ]
    }
   ],
   "source": [
    "from typing import List\n",
    "import numpy as np\n",
    "from collections import deque\n",
    "\n",
    "def stockmax(nums: List[int]) -> int:\n",
    "    \n",
    "    nums.reverse()\n",
    "    max_price = nums[0]\n",
    "    max_total = 0\n",
    "    total = 0\n",
    "    for p in nums[1:]:\n",
    "        max_price = max(p, max_price)\n",
    "        max_total += max_price\n",
    "        total += p\n",
    "    \n",
    "    return max_total - total\n",
    "\n",
    "# Time: O(NLogN)\n",
    "# Space: O(1)\n",
    "nums_list = [[5,3,2], [1,2,100], [1,3,1,2], [1,2,3,4], [5,4,3,4,5]] # 0,197,3,6,4\n",
    "for nums in nums_list:\n",
    "    ans = stockmax(nums)\n",
    "    print('ans: ', ans)"
   ]
  },
  {
   "cell_type": "code",
   "execution_count": 135,
   "metadata": {
    "scrolled": false
   },
   "outputs": [
    {
     "name": "stdout",
     "output_type": "stream",
     "text": [
      "notebook:  C:\\Users\\GyanT\\Documents\\GitHub\\Python-Programming\\Coding Interview\\2_Algorithms\\1_Recursion_and_Dynamic_Programming_Problems.ipynb\n",
      "\n",
      "Solution:\n",
      " from typing import List\n",
      "\n",
      "def stockmax(prices: List[int]) -> int:\n",
      "    \n",
      "    max_price = prices.pop()  # IMPORTANT!\n",
      "    max_price_sum = 0  \n",
      "    price_sum = 0\n",
      "    \n",
      "    # Iterating reversed because we have to buy before selling\n",
      "    for current_price in reversed(prices):\n",
      "        max_price = max(max_price, current_price)\n",
      "        max_price_sum += max_price # Sell for better price\n",
      "        price_sum += current_price # Buy on each day, max_price_sum will be more than price_sum for better price and same for no transaction\n",
      "        \n",
      "    return max_price_sum - price_sum\n",
      "\n",
      "'''\n",
      "Time: O(N)\n",
      "Space: O(1)\n",
      "'''\n",
      "    \n",
      "nums_list = [[5,3,2], [1,2,100], [1,3,1,2], [1,2,3,4], [5,4,3,4,5]] # 0,197,3,6,4\n",
      "for nums in nums_list:\n",
      "    ans = stockmax(nums)\n",
      "    print('ans: ', ans)\n",
      "\n",
      "\n",
      "output:\n",
      " ans:  0\n",
      "ans:  197\n",
      "ans:  3\n",
      "ans:  6\n",
      "ans:  4\n",
      "\n",
      "\n"
     ]
    }
   ],
   "source": [
    "print('notebook: ', notebook)\n",
    "solution = ''.join(y['cells'][code_cell_idx]['source'])\n",
    "print('\\nSolution:\\n', solution, end='\\n\\n')\n",
    "for output in y['cells'][code_cell_idx]['outputs']:\n",
    "    output = ''.join(output['text'])\n",
    "    print('\\noutput:\\n', output, end='\\n\\n')"
   ]
  },
  {
   "cell_type": "raw",
   "metadata": {},
   "source": [
    "path = r'C:\\Users\\GyanT\\Documents\\GitHub\\My_Private_Notebooks\\coding-interview\\patterns'\n",
    "\n",
    "patterns = [pattern for pattern in os.listdir(path) if not pattern.startswith('.')]\n",
    "pattern = np.random.choice(patterns)\n",
    "print('pattern: ', pattern)\n",
    "\n",
    "notebooks = [notebook for notebook in os.listdir(path + os.sep + pattern) if not notebook.startswith('.')]\n",
    "notebook = np.random.choice(notebooks)\n",
    "print('notebook: ', notebook)\n",
    "\n",
    "f = codecs.open(path + os.sep + pattern + os.sep + notebook, 'r', encoding='utf8')\n",
    "source = f.read()\n",
    "y = json.loads(source)\n",
    "\n",
    "code_cells_idx = [i for i, cell in enumerate(y['cells']) if cell['cell_type'] == 'code' and cell['source']]\n",
    "print('code_cells_idx: ', code_cells_idx)\n",
    "\n",
    "code_cell_idx = np.random.choice(code_cells_idx)\n",
    "print('code_cell_idx: ', code_cell_idx)\n",
    "\n",
    "question = ''.join(y['cells'][code_cell_idx-1]['source'])\n",
    "print('\\nQuestion:\\n', question)"
   ]
  },
  {
   "cell_type": "code",
   "execution_count": null,
   "metadata": {},
   "outputs": [],
   "source": []
  },
  {
   "cell_type": "code",
   "execution_count": null,
   "metadata": {},
   "outputs": [],
   "source": []
  }
 ],
 "metadata": {
  "kernelspec": {
   "display_name": "Python 3 (ipykernel)",
   "language": "python",
   "name": "python3"
  },
  "language_info": {
   "codemirror_mode": {
    "name": "ipython",
    "version": 3
   },
   "file_extension": ".py",
   "mimetype": "text/x-python",
   "name": "python",
   "nbconvert_exporter": "python",
   "pygments_lexer": "ipython3",
   "version": "3.10.8"
  }
 },
 "nbformat": 4,
 "nbformat_minor": 4
}
