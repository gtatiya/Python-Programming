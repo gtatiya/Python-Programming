{
 "cells": [
  {
   "cell_type": "code",
   "execution_count": null,
   "id": "aed6c7df",
   "metadata": {},
   "outputs": [],
   "source": []
  },
  {
   "cell_type": "raw",
   "id": "7221c8e9",
   "metadata": {},
   "source": [
    "Question:\n",
    "You are given a list of delivery stops represented as (x, y) coordinates in a 2D plane.\n",
    "The goal is to find the order in which a delivery vehicle should visit these stops to minimize the total distance traveled.\n",
    "The vehicle starts at a specified starting point (not necessarily at the origin).\n",
    "Write a function that returns the optimal order of stops.\n",
    "\n",
    "You can assume that the distance between two points is the Euclidean distance (straight-line distance) between them.\n",
    "\n",
    "Function Signature:\n",
    "def find_optimal_delivery_order(stops: List[Tuple[int, int]], start: Tuple[int, int]) -> List[Tuple[int, int]]:\n",
    "\n",
    "Input:\n",
    "stops: A list of (x, y) coordinates representing delivery stops. (1 <= len(stops) <= 20)\n",
    "start: The starting point as (x, y) coordinates. (0, 0 <= start[0] <= 1000, 0 <= start[1] <= 1000)\n",
    "\n",
    "Output:\n",
    "A list of (x, y) coordinates representing the stops in the optimal order.\n",
    "\n",
    "Example:\n",
    "stops = [(2, 2), (4, 4), (1, 1), (5, 5)]\n",
    "start = (0, 0)\n",
    "\n",
    "Output:\n",
    "[(1, 1), (2, 2), (4, 4), (5, 5)]\n",
    "\n",
    "Note:\n",
    "In the example above, starting at (0, 0) and following the optimal path (1, 1) -> (2, 2) -> (4, 4) -> (5, 5) results in the minimum total distance traveled."
   ]
  },
  {
   "cell_type": "code",
   "execution_count": 3,
   "id": "40a839f1",
   "metadata": {},
   "outputs": [
    {
     "name": "stdout",
     "output_type": "stream",
     "text": [
      "[(1, 1), (2, 2), (4, 4), (5, 5)]\n"
     ]
    }
   ],
   "source": [
    "# From the start location, find the nearest stop, and go there.\n",
    "# From that stop, find the next nearest stop, and go there.\n",
    "# Repead until all stops are visited\n",
    "\n",
    "from typing import List, Tuple\n",
    "import math\n",
    "\n",
    "def distance(s, d):\n",
    "    \n",
    "    x = d[1] - s[1]\n",
    "    y = d[0] - s[0]\n",
    "    \n",
    "    return math.sqrt(x**2 + y**2)\n",
    "\n",
    "def find_nearest_stop(loc, stops):\n",
    "    \n",
    "    min_dist = math.inf\n",
    "    nearest_stop = None\n",
    "    for stop in stops:\n",
    "        dist = distance(loc, stop)\n",
    "        if dist < min_dist:\n",
    "            min_dist = dist\n",
    "            nearest_stop = stop\n",
    "    \n",
    "    return nearest_stop\n",
    "    \n",
    "def find_optimal_delivery_order(stops: List[Tuple[int, int]], start: Tuple[int, int]) -> List[Tuple[int, int]]:\n",
    "    \n",
    "    \n",
    "    curr_loc = start\n",
    "    optimal_path = []\n",
    "    \n",
    "    while stops:\n",
    "        nearest_stop = find_nearest_stop(curr_loc, stops)\n",
    "        optimal_path.append(nearest_stop)\n",
    "        stops.remove(nearest_stop)\n",
    "        curr_loc = nearest_stop\n",
    "    \n",
    "    return optimal_path\n",
    "        \n",
    "'''\n",
    "Time: O(n^2)\n",
    "Space: O(n)\n",
    "n is number of stops\n",
    "'''\n",
    "\n",
    "stops = [(2, 2), (4, 4), (1, 1), (5, 5)]\n",
    "start = (0, 0)\n",
    "optimal_order = find_optimal_delivery_order(stops, start)\n",
    "print(optimal_order)\n"
   ]
  },
  {
   "cell_type": "raw",
   "id": "b3a02967",
   "metadata": {},
   "source": [
    "Your solution to the \"find_optimal_delivery_order\" problem looks good and produces the correct result.\n",
    "You've used a straightforward approach to iteratively find the nearest stop from the current location and then update the current location to the nearest stop.\n",
    "\n",
    "Here are some points to consider:\n",
    "Time Complexity: You've correctly analyzed the time complexity as O(n^2), where n is the number of stops.\n",
    "This is because for each stop, you iterate through all remaining stops to find the nearest one.\n",
    "This is acceptable for small values of n, but there are more efficient algorithms to solve this problem in O(n log n) time using techniques like the Traveling Salesman Problem (TSP) solver.\n",
    "\n",
    "Data Structure: You used a list to store the remaining stops and repeatedly removed the nearest one.\n",
    "While this approach works, it has a time complexity of O(n) for each stop's removal since all elements to the right need to be shifted.\n",
    "A more efficient approach is to use a data structure like a priority queue (heap) to store the stops based on their distance from the current location.\n",
    "This would reduce the time complexity of finding the nearest stop to O(log n).\n",
    "\n",
    "Clarity: Your code is clear and well-organized.\n",
    "It's easy to understand your approach and how you've implemented it.\n",
    "\n",
    "In practice, for a small number of delivery stops, your approach is perfectly reasonable.\n",
    "However, if you're dealing with a large number of stops, you might want to explore more efficient algorithms for solving the Traveling Salesman Problem, which is a well-studied problem in optimization.\n",
    "\n",
    "Your solution provides a correct result and demonstrates a good understanding of the problem. Good job!"
   ]
  },
  {
   "cell_type": "raw",
   "id": "102ea9e7",
   "metadata": {},
   "source": [
    "Question:\n",
    "Merge Intervals\n",
    "Given a collection of intervals, merge any overlapping intervals.\n",
    "Each interval is represented as a list [start, end], where start and end are integers.\n",
    "Write a Python function to merge the overlapping intervals and return the resulting list.\n",
    "\n",
    "For example:\n",
    "merge_intervals([[1,3],[2,6],[8,10],[15,18]])  # Output should be [[1,6],[8,10],[15,18]]\n",
    "merge_intervals([[1,4],[4,5]])                   # Output should be [[1,5]]"
   ]
  },
  {
   "cell_type": "code",
   "execution_count": 4,
   "id": "58889023",
   "metadata": {},
   "outputs": [
    {
     "name": "stdout",
     "output_type": "stream",
     "text": [
      "[[1, 6], [8, 10], [15, 18]]\n",
      "[[1, 5]]\n"
     ]
    }
   ],
   "source": [
    "from typing import List\n",
    "\n",
    "def merge_intervals(intervals: List[List[int]]) -> List[List[int]]:\n",
    "    \n",
    "    mergeed_intervals = []\n",
    "    i = 0\n",
    "    while i < len(intervals):\n",
    "        interval1 = intervals[i]\n",
    "        \n",
    "        merged = False\n",
    "        j = i + 1\n",
    "        while j < len(intervals):\n",
    "            if intervals[j][0] <= interval1[1]:\n",
    "                mergeed_intervals.append([interval1[0], intervals[j][1]])\n",
    "                merged = True\n",
    "                intervals.remove(intervals[j])\n",
    "            j += 1\n",
    "        \n",
    "        if not merged:\n",
    "            mergeed_intervals.append(interval1)\n",
    "        \n",
    "        i += 1\n",
    "    \n",
    "    return mergeed_intervals\n",
    "\n",
    "# Time: O(n^2)\n",
    "# Space: O(n)\n",
    "\n",
    "print(merge_intervals([[1,3],[2,6],[8,10],[15,18]]))  # Output should be [[1,6],[8,10],[15,18]]\n",
    "print(merge_intervals([[1,4],[4,5]]))                   # Output should be [[1,5]]"
   ]
  },
  {
   "cell_type": "raw",
   "id": "85633bf7",
   "metadata": {},
   "source": [
    "Your implementation looks good, and it correctly merges overlapping intervals.\n",
    "However, there's a small issue with the removal of intervals while iterating through the list, which may lead to unexpected behavior.\n",
    "It's generally not recommended to modify a list while iterating over it."
   ]
  },
  {
   "cell_type": "code",
   "execution_count": 5,
   "id": "be2d86ff",
   "metadata": {},
   "outputs": [
    {
     "name": "stdout",
     "output_type": "stream",
     "text": [
      "[[1, 6], [8, 10], [15, 18]]\n",
      "[[1, 5]]\n"
     ]
    }
   ],
   "source": [
    "from typing import List\n",
    "\n",
    "def merge_intervals(intervals: List[List[int]]) -> List[List[int]]:\n",
    "    if not intervals:\n",
    "        return []\n",
    "\n",
    "    intervals.sort(key=lambda x: x[0])\n",
    "    merged_intervals = [intervals[0]]\n",
    "\n",
    "    for interval in intervals[1:]:\n",
    "        if merged_intervals[-1][1] >= interval[0]:\n",
    "            merged_intervals[-1][1] = max(merged_intervals[-1][1], interval[1])\n",
    "        else:\n",
    "            merged_intervals.append(interval)\n",
    "\n",
    "    return merged_intervals\n",
    "\n",
    "# Time: O(n log n) due to sorting\n",
    "# Space: O(n) for the merged_intervals list\n",
    "\n",
    "print(merge_intervals([[1,3],[2,6],[8,10],[15,18]]))  # Output should be [[1,6],[8,10],[15,18]]\n",
    "print(merge_intervals([[1,4],[4,5]]))                   # Output should be [[1,5]]\n"
   ]
  },
  {
   "cell_type": "raw",
   "id": "18b5a8a4",
   "metadata": {},
   "source": [
    "Question:\n",
    "Coin Change\n",
    "You are given an integer array coins representing coins of different denominations and an integer amount representing a total amount of money.\n",
    "Write a Python function to compute the fewest number of coins needed to make up that amount.\n",
    "If that amount cannot be made up by any combination of the coins, return -1.\n",
    "\n",
    "For example:\n",
    "coin_change([1, 2, 5], 11)  # Output should be 3 (11 = 5 + 5 + 1)\n",
    "coin_change([2], 3)        # Output should be -1 (cannot make 3 with only denomination 2)\n",
    "coin_change([1], 0)        # Output should be 0 (no coins needed for amount 0)"
   ]
  },
  {
   "cell_type": "code",
   "execution_count": 6,
   "id": "92ec000f",
   "metadata": {},
   "outputs": [
    {
     "name": "stdout",
     "output_type": "stream",
     "text": [
      "3.0\n",
      "-1\n",
      "0.0\n"
     ]
    }
   ],
   "source": [
    "from typing import List\n",
    "\n",
    "def coin_change(coins: List[int], amount) -> int:\n",
    "    \n",
    "    coins.sort(reverse=True)\n",
    "    total_coins = 0\n",
    "    \n",
    "    for c in coins:\n",
    "        remaining_amount = amount % c\n",
    "        if remaining_amount == 0:\n",
    "            total_coins += amount / c\n",
    "            return total_coins\n",
    "        else:\n",
    "            total_coins += amount // c\n",
    "            amount = remaining_amount\n",
    "    \n",
    "    if remaining_amount:\n",
    "        return -1\n",
    "    \n",
    "    return total_coins\n",
    "\n",
    "# Time: O(n log n) due to sorting\n",
    "# Space: O(1)\n",
    "\n",
    "print(coin_change([1, 2, 5], 11))  # Output should be 3 (11 = 5 + 5 + 1)\n",
    "print(coin_change([2], 3))        # Output should be -1 (cannot make 3 with only denomination 2)\n",
    "print(coin_change([1], 0))        # Output should be 0 (no coins needed for amount 0)"
   ]
  },
  {
   "cell_type": "raw",
   "id": "fe35ec80",
   "metadata": {},
   "source": [
    "Your implementation is on the right track, but there are a couple of issues to address:\n",
    "Floating-point Division: When you're checking for a valid coin combination, you should use integer division (//) instead of floating-point division (/). This ensures that the result is an integer, which is appropriate for counting coins.\n",
    "\n",
    "Handling the Remaining Amount: It seems like you are attempting to handle the remaining amount after using the available denominations, but the approach needs adjustment. You should also check if the remaining amount is zero at the end of the loop and return -1 if it's not."
   ]
  },
  {
   "cell_type": "code",
   "execution_count": 7,
   "id": "e2dae555",
   "metadata": {},
   "outputs": [
    {
     "name": "stdout",
     "output_type": "stream",
     "text": [
      "3\n",
      "-1\n",
      "0\n"
     ]
    }
   ],
   "source": [
    "from typing import List\n",
    "\n",
    "def coin_change(coins: List[int], amount: int) -> int:\n",
    "    coins.sort(reverse=True)\n",
    "    total_coins = 0\n",
    "    \n",
    "    for c in coins:\n",
    "        total_coins += amount // c\n",
    "        amount %= c\n",
    "    \n",
    "    if amount != 0:\n",
    "        return -1\n",
    "    \n",
    "    return total_coins\n",
    "\n",
    "# Time: O(n log n) due to sorting\n",
    "# Space: O(1)\n",
    "\n",
    "print(coin_change([1, 2, 5], 11))  # Output should be 3 (11 = 5 + 5 + 1)\n",
    "print(coin_change([2], 3))        # Output should be -1 (cannot make 3 with only denomination 2)\n",
    "print(coin_change([1], 0))        # Output should be 0 (no coins needed for amount 0)"
   ]
  },
  {
   "cell_type": "raw",
   "id": "d6a1e335",
   "metadata": {},
   "source": [
    "Question:\n",
    "moving average Input 10, 20, 30, 10, … Output: 10, 15, 20, 17.5, …"
   ]
  },
  {
   "cell_type": "code",
   "execution_count": 1,
   "id": "40cedaad",
   "metadata": {},
   "outputs": [
    {
     "name": "stdout",
     "output_type": "stream",
     "text": [
      "result:  [10.0, 15.0, 20.0, 17.5]\n"
     ]
    }
   ],
   "source": [
    "from typing import List\n",
    "\n",
    "def solution(nums: List[int]) -> List[float]:\n",
    "    \n",
    "    running_sum = 0  # IMPORTANT!\n",
    "    ans = []\n",
    "    for i, n in enumerate(nums):\n",
    "        running_sum += n  # IMPORTANT!\n",
    "        ans.append(running_sum / (i + 1))\n",
    "\n",
    "    return ans\n",
    "\n",
    "# Time: O(n)\n",
    "# Space: O(n)\n",
    "\n",
    "nums = [10, 20, 30, 10]\n",
    "result = solution(nums)\n",
    "print('result: ', result)"
   ]
  },
  {
   "cell_type": "code",
   "execution_count": null,
   "id": "b06c7624",
   "metadata": {},
   "outputs": [],
   "source": []
  }
 ],
 "metadata": {
  "kernelspec": {
   "display_name": "Python 3 (ipykernel)",
   "language": "python",
   "name": "python3"
  },
  "language_info": {
   "codemirror_mode": {
    "name": "ipython",
    "version": 3
   },
   "file_extension": ".py",
   "mimetype": "text/x-python",
   "name": "python",
   "nbconvert_exporter": "python",
   "pygments_lexer": "ipython3",
   "version": "3.10.8"
  }
 },
 "nbformat": 4,
 "nbformat_minor": 5
}
