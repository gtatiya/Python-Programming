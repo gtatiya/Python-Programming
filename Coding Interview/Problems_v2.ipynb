{
 "cells": [
  {
   "cell_type": "code",
   "execution_count": null,
   "id": "aed6c7df",
   "metadata": {},
   "outputs": [],
   "source": []
  },
  {
   "cell_type": "raw",
   "id": "d2cd8961",
   "metadata": {},
   "source": [
    "Question:\n",
    "You are given an array of integers, `nums`, and an integer target.\n",
    "Your goal is to find the two indices (i and j) such that the sum of the elements at these indices is equal to the target.\n",
    "\n",
    "Write a Python function, two_sum(nums, target), that returns a list containing i and j.\n",
    "You may assume that there is exactly one solution, and you cannot use the same element twice.\n",
    "\n",
    "Function Signature: def two_sum(nums: List[int], target: int) -> List[int]\n",
    "\n",
    "Example:\n",
    "result = two_sum([2, 7, 11, 15], 9)\n",
    "# The sum of elements at indices 0 (2) and 1 (7) is 2 + 7 = 9.\n",
    "# The function should return [0, 1].\n",
    "\n",
    "Please try to implement the two_sum function, and I'll be happy to review your solution and provide feedback once you're ready."
   ]
  },
  {
   "cell_type": "code",
   "execution_count": 1,
   "id": "d6ab0498",
   "metadata": {},
   "outputs": [
    {
     "name": "stdout",
     "output_type": "stream",
     "text": [
      "result:  [0, 1]\n",
      "result:  [3, 4]\n",
      "result:  [1, 2]\n"
     ]
    }
   ],
   "source": [
    "from typing import List\n",
    "\n",
    "def two_sum(nums: List[int], target: int) -> List[int]:\n",
    "    \n",
    "    idx_i = 0\n",
    "    remaining = target - nums[idx_i]\n",
    "    \n",
    "    while True:\n",
    "        if idx_i >= len(nums):\n",
    "            break\n",
    "        \n",
    "        for idx_j in range(idx_i+1, len(nums)):\n",
    "            remaining = remaining - nums[idx_j]\n",
    "\n",
    "            if remaining == 0:\n",
    "                return [idx_i, idx_j]\n",
    "            else:\n",
    "                idx_i += 1\n",
    "                remaining = target - nums[idx_i]\n",
    "    \n",
    "    return False\n",
    "\n",
    "'''\n",
    "Time: O(n^2)\n",
    "Space: O(1)\n",
    "'''\n",
    "\n",
    "result = two_sum([2, 7, 11, 15], 9)\n",
    "print('result: ', result)\n",
    "\n",
    "result = two_sum([2, 7, 11, 15, 1], 16)\n",
    "print('result: ', result)\n",
    "\n",
    "result = two_sum([2, 77, 3, 5, 1], 80)\n",
    "print('result: ', result)"
   ]
  },
  {
   "cell_type": "raw",
   "id": "3c49976b",
   "metadata": {},
   "source": [
    "There are some improvements you can make:\n",
    "- You can use a dictionary (or Python's set) to store previously seen numbers. This way, you can significantly reduce the time complexity from O(n^2) to O(n).\n",
    "- Instead of using a while loop, you can use a for loop to iterate over the array."
   ]
  },
  {
   "cell_type": "code",
   "execution_count": 3,
   "id": "61817eb4",
   "metadata": {},
   "outputs": [
    {
     "name": "stdout",
     "output_type": "stream",
     "text": [
      "result:  [0, 1]\n",
      "result:  [3, 4]\n",
      "result:  [1, 2]\n"
     ]
    }
   ],
   "source": [
    "from typing import List\n",
    "\n",
    "def two_sum(nums: List[int], target: int) -> List[int]:\n",
    "    num_dict = {}  # Use a dictionary to store numbers and their indices\n",
    "    \n",
    "    for idx, num in enumerate(nums):\n",
    "        complement = target - num\n",
    "        \n",
    "        if complement in num_dict:\n",
    "            return [num_dict[complement], idx]\n",
    "        \n",
    "        num_dict[num] = idx\n",
    "    \n",
    "    return []  # If no solution is found, return an empty list\n",
    "\n",
    "result = two_sum([2, 7, 11, 15], 9)\n",
    "print('result: ', result)\n",
    "\n",
    "result = two_sum([2, 7, 11, 15, 1], 16)\n",
    "print('result: ', result)\n",
    "\n",
    "result = two_sum([2, 77, 3, 5, 1], 80)\n",
    "print('result: ', result)\n"
   ]
  },
  {
   "cell_type": "code",
   "execution_count": null,
   "id": "da45064c",
   "metadata": {},
   "outputs": [],
   "source": []
  },
  {
   "cell_type": "code",
   "execution_count": null,
   "id": "40a839f1",
   "metadata": {},
   "outputs": [],
   "source": []
  },
  {
   "cell_type": "code",
   "execution_count": null,
   "id": "b839075a",
   "metadata": {},
   "outputs": [],
   "source": []
  }
 ],
 "metadata": {
  "kernelspec": {
   "display_name": "Python 3 (ipykernel)",
   "language": "python",
   "name": "python3"
  },
  "language_info": {
   "codemirror_mode": {
    "name": "ipython",
    "version": 3
   },
   "file_extension": ".py",
   "mimetype": "text/x-python",
   "name": "python",
   "nbconvert_exporter": "python",
   "pygments_lexer": "ipython3",
   "version": "3.10.8"
  }
 },
 "nbformat": 4,
 "nbformat_minor": 5
}
