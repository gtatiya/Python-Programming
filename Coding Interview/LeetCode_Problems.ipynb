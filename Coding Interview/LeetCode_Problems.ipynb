{
 "cells": [
  {
   "cell_type": "markdown",
   "id": "8d708981",
   "metadata": {},
   "source": [
    "# 7. Reverse Integer\n",
    "\n",
    "https://leetcode.com/problems/reverse-integer/description/"
   ]
  },
  {
   "cell_type": "raw",
   "id": "2b561bdd",
   "metadata": {},
   "source": [
    "Given a signed 32-bit integer x, return x with its digits reversed.\n",
    "If reversing x causes the value to go outside the signed 32-bit integer range [-2^31, 2^31 - 1], then return 0.\n",
    "Assume the environment does not allow you to store 64-bit integers (signed or unsigned).\n",
    "\n",
    "Example 1:\n",
    "Input: x = 123\n",
    "Output: 321\n",
    "\n",
    "Example 2:\n",
    "Input: x = -123\n",
    "Output: -321\n",
    "\n",
    "Example 3:\n",
    "Input: x = 120\n",
    "Output: 21\n",
    "\n",
    "Constraints:\n",
    "    -2^31 <= x <= 2^31 - 1"
   ]
  },
  {
   "cell_type": "code",
   "execution_count": 2,
   "id": "2e442058",
   "metadata": {},
   "outputs": [
    {
     "name": "stdout",
     "output_type": "stream",
     "text": [
      "output:  21\n"
     ]
    }
   ],
   "source": [
    "# Method 1\n",
    "def reverse(x: int) -> int:\n",
    "    if x == 0:\n",
    "        return 0\n",
    "\n",
    "    negative = True if x < 0 else False\n",
    "    if negative:\n",
    "        x = -x  # IMPORTANT\n",
    "\n",
    "    reverse_num = []\n",
    "    while x:\n",
    "        n = str(x % 10)\n",
    "        reverse_num.append(n)\n",
    "        x //= 10\n",
    "\n",
    "    ans = int(''.join(reverse_num))\n",
    "\n",
    "    if negative:\n",
    "        ans = -ans\n",
    "\n",
    "    if ans < -2**31 or ans > 2**31 - 1:\n",
    "        return 0\n",
    "    return ans\n",
    "\n",
    "# Time: O(n)\n",
    "# Space: O(n)\n",
    "\n",
    "# Method 2\n",
    "def reverse(x: int) -> int:\n",
    "    if x >= 0:\n",
    "        res = int(str(x)[::-1])\n",
    "    else:\n",
    "        res=int(\"-\"+str(abs(x))[::-1])\n",
    "    return res if -2**31 <= res <= 2**31 - 1 else 0\n",
    "\n",
    "# Time: O(log(x))\n",
    "\n",
    "x = 120 # 123, -123, 120\n",
    "print('output: ', reverse(x))"
   ]
  },
  {
   "cell_type": "markdown",
   "id": "9b7e9dd5",
   "metadata": {},
   "source": [
    "# 9. Palindrome Number\n",
    "\n",
    "https://leetcode.com/problems/palindrome-number/description/"
   ]
  },
  {
   "cell_type": "raw",
   "id": "3c4444af",
   "metadata": {},
   "source": [
    "Given an integer x, return true if x is a palindrome, and false otherwise.\n",
    "\n",
    "Example 1:\n",
    "Input: x = 121\n",
    "Output: true\n",
    "Explanation: 121 reads as 121 from left to right and from right to left.\n",
    "\n",
    "Example 2:\n",
    "Input: x = -121\n",
    "Output: false\n",
    "Explanation: From left to right, it reads -121. From right to left, it becomes 121-. Therefore it is not a palindrome.\n",
    "\n",
    "Example 3:\n",
    "Input: x = 10\n",
    "Output: false\n",
    "Explanation: Reads 01 from right to left. Therefore it is not a palindrome.\n",
    "\n",
    "Constraints:\n",
    "    -231 <= x <= 231 - 1\n",
    "\n",
    "Follow up: Could you solve it without converting the integer to a string?"
   ]
  },
  {
   "cell_type": "code",
   "execution_count": 3,
   "id": "e6cefd1a",
   "metadata": {},
   "outputs": [
    {
     "name": "stdout",
     "output_type": "stream",
     "text": [
      "True\n"
     ]
    }
   ],
   "source": [
    "# Method 1\n",
    "def isPalindrome(x: int) -> bool:\n",
    "    return str(x) == str(x)[::-1]\n",
    "\n",
    "# Time: O(n)\n",
    "# Space: O(1)\n",
    "\n",
    "# Method 2\n",
    "def isPalindrome(x: int) -> bool:\n",
    "    \n",
    "    if x < 0:\n",
    "        return False\n",
    "\n",
    "    reversed_num = 0\n",
    "    temp = x\n",
    "    while temp:\n",
    "        digit = temp % 10\n",
    "        reversed_num = reversed_num * 10 + digit  # IMPORTANT\n",
    "        temp //= 10\n",
    "\n",
    "    return reversed_num == x\n",
    "\n",
    "x = 121\n",
    "print(isPalindrome(x))"
   ]
  },
  {
   "cell_type": "markdown",
   "id": "78172485",
   "metadata": {},
   "source": [
    "# 14. Longest Common Prefix\n",
    "\n",
    "https://leetcode.com/problems/longest-common-prefix/description/"
   ]
  },
  {
   "cell_type": "raw",
   "id": "3d94e76e",
   "metadata": {},
   "source": [
    "Write a function to find the longest common prefix string amongst an array of strings.\n",
    "If there is no common prefix, return an empty string \"\".\n",
    "\n",
    "Example 1:\n",
    "Input: strs = [\"flower\",\"flow\",\"flight\"]\n",
    "Output: \"fl\"\n",
    "\n",
    "Example 2:\n",
    "Input: strs = [\"dog\",\"racecar\",\"car\"]\n",
    "Output: \"\"\n",
    "Explanation: There is no common prefix among the input strings.\n",
    "\n",
    "Constraints:\n",
    "    1 <= strs.length <= 200\n",
    "    0 <= strs[i].length <= 200\n",
    "    strs[i] consists of only lowercase English letters."
   ]
  },
  {
   "cell_type": "code",
   "execution_count": 4,
   "id": "7f92e24b",
   "metadata": {},
   "outputs": [
    {
     "name": "stdout",
     "output_type": "stream",
     "text": [
      "fl\n"
     ]
    }
   ],
   "source": [
    "from typing import List\n",
    "\n",
    "def longestCommonPrefix(strs: List[str]) -> str:\n",
    "\n",
    "    ans = \"\"\n",
    "    strs = sorted(strs) # IMPORTANT\n",
    "    first = strs[0]\n",
    "    last = strs[-1]\n",
    "    for i in range(min(len(first), len(last))):\n",
    "        if(first[i] != last[i]):\n",
    "            return ans\n",
    "        ans += first[i]\n",
    "\n",
    "    return ans\n",
    "\n",
    "# Time: O(nlogn)\n",
    "# Space: O(1)\n",
    "\n",
    "strs = [\"flower\", \"flow\", \"flight\"]\n",
    "print(longestCommonPrefix(strs))"
   ]
  },
  {
   "cell_type": "markdown",
   "id": "94f820a5",
   "metadata": {},
   "source": [
    "# 29. Divide Two Integers\n",
    "\n",
    "https://leetcode.com/problems/divide-two-integers/description/"
   ]
  },
  {
   "cell_type": "raw",
   "id": "e79ed671",
   "metadata": {},
   "source": [
    "Given two integers dividend and divisor, divide two integers without using multiplication, division, and mod operator.\n",
    "\n",
    "The integer division should truncate toward zero, which means losing its fractional part. For example, 8.345 would be truncated to 8, and -2.7335 would be truncated to -2.\n",
    "\n",
    "Return the quotient after dividing dividend by divisor.\n",
    "\n",
    "Note: Assume we are dealing with an environment that could only store integers within the 32-bit signed integer range: [−231, 231 − 1]. For this problem, if the quotient is strictly greater than 231 - 1, then return 231 - 1, and if the quotient is strictly less than -231, then return -231.\n",
    "\n",
    "Example 1:\n",
    "Input: dividend = 10, divisor = 3\n",
    "Output: 3\n",
    "Explanation: 10/3 = 3.33333.. which is truncated to 3.\n",
    "\n",
    "Example 2:\n",
    "Input: dividend = 7, divisor = -3\n",
    "Output: -2\n",
    "Explanation: 7/-3 = -2.33333.. which is truncated to -2.\n",
    "\n",
    "Constraints:\n",
    "    -231 <= dividend, divisor <= 231 - 1\n",
    "    divisor != 0"
   ]
  },
  {
   "cell_type": "code",
   "execution_count": 6,
   "id": "ae4814e3",
   "metadata": {},
   "outputs": [
    {
     "name": "stdout",
     "output_type": "stream",
     "text": [
      "3\n"
     ]
    }
   ],
   "source": [
    "def divide(dividend: int, divisor: int) -> int:\n",
    "\n",
    "    sign = -1 if (dividend >= 0 and divisor < 0) or (dividend < 0 and divisor >= 0) else 1\n",
    "    dividend = abs(dividend)\n",
    "    divisor = abs(divisor)\n",
    "\n",
    "    # result = len(range(0, dividend-divisor+1, divisor))  # COOL!\n",
    "    result = 0\n",
    "    while dividend >= divisor:\n",
    "        dividend -= divisor\n",
    "        result += 1\n",
    "        \n",
    "    if sign == -1:\n",
    "        result = -result\n",
    "    \n",
    "    minus_limit = -(2**31)\n",
    "    plus_limit = (2**31 - 1)\n",
    "    result = min(max(result, minus_limit), plus_limit)\n",
    "\n",
    "    return result\n",
    "\n",
    "'''\n",
    "The time complexity of the provided code is O(log(dividend/divisor)), and the space complexity is O(1).\n",
    "Time Complexity:\n",
    "In each iteration of the loop, the code subtracts the divisor from the dividend.\n",
    "The number of iterations is determined by how many times dividend can be divided by divisor.\n",
    "Since in each iteration the value of dividend is approximately halved, the time complexity is\n",
    "logarithmic with respect to the ratio dividend/divisor.\n",
    "Space Complexity:\n",
    "The space complexity is O(1) because the code uses a constant amount of extra space regardless of the input size.\n",
    "'''\n",
    "\n",
    "dividend, divisor = 10, 3  # 10, 3 | 7, -3\n",
    "print(divide(dividend, divisor))"
   ]
  },
  {
   "cell_type": "markdown",
   "id": "6c72585f",
   "metadata": {},
   "source": [
    "# 33. Search in Rotated Sorted Array\n",
    "\n",
    "https://leetcode.com/problems/search-in-rotated-sorted-array/description/"
   ]
  },
  {
   "cell_type": "raw",
   "id": "aa2b1e54",
   "metadata": {},
   "source": [
    "There is an integer array nums sorted in ascending order (with distinct values).\n",
    "\n",
    "Prior to being passed to your function, nums is possibly rotated at an unknown pivot index k (1 <= k < nums.length) such that the resulting array is [nums[k], nums[k+1], ..., nums[n-1], nums[0], nums[1], ..., nums[k-1]] (0-indexed). For example, [0,1,2,4,5,6,7] might be rotated at pivot index 3 and become [4,5,6,7,0,1,2].\n",
    "\n",
    "Given the array nums after the possible rotation and an integer target, return the index of target if it is in nums, or -1 if it is not in nums.\n",
    "\n",
    "You must write an algorithm with O(log n) runtime complexity.\n",
    "\n",
    "Example 1:\n",
    "Input: nums = [4,5,6,7,0,1,2], target = 0\n",
    "Output: 4\n",
    "\n",
    "Example 2:\n",
    "Input: nums = [4,5,6,7,0,1,2], target = 3\n",
    "Output: -1\n",
    "\n",
    "Example 3:\n",
    "Input: nums = [1], target = 0\n",
    "Output: -1\n",
    "\n",
    "Constraints:\n",
    "    1 <= nums.length <= 5000\n",
    "    -10^4 <= nums[i] <= 10^4\n",
    "    All values of nums are unique.\n",
    "    nums is an ascending array that is possibly rotated.\n",
    "    -10^4 <= target <= 10^4"
   ]
  },
  {
   "cell_type": "code",
   "execution_count": 7,
   "id": "1e6cba5e",
   "metadata": {},
   "outputs": [
    {
     "name": "stdout",
     "output_type": "stream",
     "text": [
      "left, right, mid, nums[mid]:  0 6 3 7\n",
      "left, right, mid, nums[mid]:  4 6 5 1\n",
      "left, right, mid, nums[mid]:  4 4 4 0\n",
      "4\n"
     ]
    }
   ],
   "source": [
    "from typing import List\n",
    "\n",
    "def search(nums: List[int], target: int) -> int:\n",
    "\n",
    "    left, right = 0, len(nums) - 1\n",
    "\n",
    "    while left <= right:\n",
    "        mid = (left + right) // 2\n",
    "        print('left, right, mid, nums[mid]: ', left, right, mid, nums[mid])\n",
    "\n",
    "        if nums[mid] == target:\n",
    "            return mid\n",
    "\n",
    "        # Check if left half is sorted\n",
    "        if nums[left] <= nums[mid]:\n",
    "            if nums[left] <= target < nums[mid]:\n",
    "                right = mid - 1\n",
    "            else:\n",
    "                left = mid + 1\n",
    "        # Otherwise, right half is sorted\n",
    "        else:\n",
    "            if nums[mid] < target <= nums[right]:\n",
    "                left = mid + 1\n",
    "            else:\n",
    "                right = mid - 1\n",
    "\n",
    "    return -1\n",
    "\n",
    "# Time Complexity: The time complexity is O(log⁡n) since we're performing a binary search over the elements of the array.\n",
    "# Space Complexity: The space complexity is O(1) because we only use a constant amount of space to store our variables.\n",
    "\n",
    "nums = [4,5,6,7,0,1,2]\n",
    "target = 0\n",
    "print(search(nums, target))"
   ]
  },
  {
   "cell_type": "markdown",
   "id": "98be036b",
   "metadata": {},
   "source": [
    "# 37. Sudoku Solver\n",
    "https://leetcode.com/problems/sudoku-solver/description/"
   ]
  },
  {
   "cell_type": "raw",
   "id": "2bac92f9",
   "metadata": {},
   "source": [
    "Write a program to solve a Sudoku puzzle by filling the empty cells.\n",
    "\n",
    "A sudoku solution must satisfy all of the following rules:\n",
    "    Each of the digits 1-9 must occur exactly once in each row.\n",
    "    Each of the digits 1-9 must occur exactly once in each column.\n",
    "    Each of the digits 1-9 must occur exactly once in each of the 9 3x3 sub-boxes of the grid.\n",
    "\n",
    "The '.' character indicates empty cells.\n",
    "\n",
    "Example 1:\n",
    "Input: board = [\n",
    "[\"5\",\"3\",\".\",\".\",\"7\",\".\",\".\",\".\",\".\"],\n",
    "[\"6\",\".\",\".\",\"1\",\"9\",\"5\",\".\",\".\",\".\"],\n",
    "[\".\",\"9\",\"8\",\".\",\".\",\".\",\".\",\"6\",\".\"],\n",
    "[\"8\",\".\",\".\",\".\",\"6\",\".\",\".\",\".\",\"3\"],\n",
    "[\"4\",\".\",\".\",\"8\",\".\",\"3\",\".\",\".\",\"1\"],\n",
    "[\"7\",\".\",\".\",\".\",\"2\",\".\",\".\",\".\",\"6\"],\n",
    "[\".\",\"6\",\".\",\".\",\".\",\".\",\"2\",\"8\",\".\"],\n",
    "[\".\",\".\",\".\",\"4\",\"1\",\"9\",\".\",\".\",\"5\"],\n",
    "[\".\",\".\",\".\",\".\",\"8\",\".\",\".\",\"7\",\"9\"]]\n",
    "Output: [\n",
    "[\"5\",\"3\",\"4\",\"6\",\"7\",\"8\",\"9\",\"1\",\"2\"],\n",
    "[\"6\",\"7\",\"2\",\"1\",\"9\",\"5\",\"3\",\"4\",\"8\"],\n",
    "[\"1\",\"9\",\"8\",\"3\",\"4\",\"2\",\"5\",\"6\",\"7\"],\n",
    "[\"8\",\"5\",\"9\",\"7\",\"6\",\"1\",\"4\",\"2\",\"3\"],\n",
    "[\"4\",\"2\",\"6\",\"8\",\"5\",\"3\",\"7\",\"9\",\"1\"],\n",
    "[\"7\",\"1\",\"3\",\"9\",\"2\",\"4\",\"8\",\"5\",\"6\"],\n",
    "[\"9\",\"6\",\"1\",\"5\",\"3\",\"7\",\"2\",\"8\",\"4\"],\n",
    "[\"2\",\"8\",\"7\",\"4\",\"1\",\"9\",\"6\",\"3\",\"5\"],\n",
    "[\"3\",\"4\",\"5\",\"2\",\"8\",\"6\",\"1\",\"7\",\"9\"]]"
   ]
  },
  {
   "cell_type": "code",
   "execution_count": 8,
   "id": "b3148c60",
   "metadata": {},
   "outputs": [
    {
     "name": "stdout",
     "output_type": "stream",
     "text": [
      "[['5', '3', '4', '6', '7', '8', '9', '1', '2'], ['6', '7', '2', '1', '9', '5', '3', '4', '8'], ['1', '9', '8', '3', '4', '2', '5', '6', '7'], ['8', '5', '9', '7', '6', '1', '4', '2', '3'], ['4', '2', '6', '8', '5', '3', '7', '9', '1'], ['7', '1', '3', '9', '2', '4', '8', '5', '6'], ['9', '6', '1', '5', '3', '7', '2', '8', '4'], ['2', '8', '7', '4', '1', '9', '6', '3', '5'], ['3', '4', '5', '2', '8', '6', '1', '7', '9']]\n"
     ]
    }
   ],
   "source": [
    "from typing import List\n",
    "\n",
    "def solveSudoku(board: List[List[str]]) -> None:\n",
    "\n",
    "    n = 9\n",
    "\n",
    "    def isValid(row, col, num):\n",
    "        for i in range(n):\n",
    "            if board[i][col] == num or board[row][i] == num or board[3*(row//3)+i//3][3*(col//3)+i%3] == num: # COOL!\n",
    "                return False\n",
    "        return True\n",
    "\n",
    "    def solve(row, col):\n",
    "        if row == n:\n",
    "            return True\n",
    "        if col == n:\n",
    "            return solve(row + 1, 0)\n",
    "\n",
    "        if board[row][col] == \".\":\n",
    "            for num in map(str, range(1, 10)): # COOL!\n",
    "                if isValid(row, col, num):\n",
    "                    board[row][col] = num\n",
    "                    if solve(row, col + 1):\n",
    "                        return True\n",
    "                    else:\n",
    "                        board[row][col] = \".\"\n",
    "            return False\n",
    "        else:\n",
    "            return solve(row, col + 1)\n",
    "\n",
    "    solve(0, 0)\n",
    "\n",
    "board = [[\"5\",\"3\",\".\",\".\",\"7\",\".\",\".\",\".\",\".\"], [\"6\",\".\",\".\",\"1\",\"9\",\"5\",\".\",\".\",\".\"], [\".\",\"9\",\"8\",\".\",\".\",\".\",\".\",\"6\",\".\"],\n",
    "[\"8\",\".\",\".\",\".\",\"6\",\".\",\".\",\".\",\"3\"], [\"4\",\".\",\".\",\"8\",\".\",\"3\",\".\",\".\",\"1\"], [\"7\",\".\",\".\",\".\",\"2\",\".\",\".\",\".\",\"6\"],\n",
    "[\".\",\"6\",\".\",\".\",\".\",\".\",\"2\",\"8\",\".\"], [\".\",\".\",\".\",\"4\",\"1\",\"9\",\".\",\".\",\"5\"], [\".\",\".\",\".\",\".\",\"8\",\".\",\".\",\"7\",\"9\"]]\n",
    "solveSudoku(board)\n",
    "print(board)"
   ]
  },
  {
   "cell_type": "markdown",
   "id": "bf407250",
   "metadata": {},
   "source": [
    "# 39. Combination Sum\n",
    "https://leetcode.com/problems/combination-sum/description/"
   ]
  },
  {
   "cell_type": "raw",
   "id": "8c90c624",
   "metadata": {},
   "source": [
    "Given an array of distinct integers candidates and a target integer target, return a list of all unique combinations of candidates where the chosen numbers sum to target.\n",
    "You may return the combinations in any order.\n",
    "The same number may be chosen from candidates an unlimited number of times.\n",
    "Two combinations are unique if the frequency of at least one of the chosen numbers is different.\n",
    "\n",
    "The test cases are generated such that the number of unique combinations that sum up to target is less than 150 combinations for the given input.\n",
    " \n",
    "Example 1:\n",
    "Input: candidates = [2,3,6,7], target = 7\n",
    "Output: [[2,2,3],[7]]\n",
    "Explanation:\n",
    "2 and 3 are candidates, and 2 + 2 + 3 = 7. Note that 2 can be used multiple times.\n",
    "7 is a candidate, and 7 = 7.\n",
    "These are the only two combinations.\n",
    "\n",
    "Example 2:\n",
    "Input: candidates = [2,3,5], target = 8\n",
    "Output: [[2,2,2,2],[2,3,3],[3,5]]\n",
    "\n",
    "Example 3:\n",
    "Input: candidates = [2], target = 1\n",
    "Output: []\n",
    "\n",
    "Constraints:\n",
    "    1 <= candidates.length <= 30\n",
    "    2 <= candidates[i] <= 40\n",
    "    All elements of candidates are distinct.\n",
    "    1 <= target <= 40"
   ]
  },
  {
   "attachments": {
    "8643339f-f6fa-43ec-91c4-47f8007c230d_1676377995.5688634.jpeg": {
     "image/jpeg": "[encoded data removed]"
    }
   },
   "cell_type": "markdown",
   "id": "0724c8e5",
   "metadata": {},
   "source": [
    "![8643339f-f6fa-43ec-91c4-47f8007c230d_1676377995.5688634.jpeg](attachment:8643339f-f6fa-43ec-91c4-47f8007c230d_1676377995.5688634.jpeg)"
   ]
  },
  {
   "cell_type": "code",
   "execution_count": 9,
   "id": "2793af6d",
   "metadata": {},
   "outputs": [
    {
     "name": "stdout",
     "output_type": "stream",
     "text": [
      "[[2, 2, 3], [7]]\n"
     ]
    }
   ],
   "source": [
    "from typing import List\n",
    "\n",
    "def combinationSum(candidates: List[int], target: int) -> List[List[int]]:\n",
    "\n",
    "    ret = []\n",
    "    backtrack(candidates, target, [], ret)\n",
    "    return ret\n",
    "    \n",
    "def backtrack(nums, target, path, ret):\n",
    "    if target < 0:\n",
    "        return # backtracking\n",
    "    if target == 0:\n",
    "        ret.append(path)\n",
    "        return # backtracking\n",
    "    for i in range(len(nums)):\n",
    "        backtrack(nums[i:], target-nums[i], path+[nums[i]], ret)\n",
    "\n",
    "'''\n",
    "Time complexity:\n",
    "The time complexity of the backtracking function is O(2^n), where n is the length of the input list can.\n",
    "This is because there are 2^n possible combinations of elements from the input list.\n",
    "Therefore, the time complexity of the entire function is O(2^n) as well.\n",
    "\n",
    "Space complexity:\n",
    "The space complexity of the backtracking function is O(n) as the maximum number of elements that can be stored in the current combination at any point is n.\n",
    "The space complexity of the entire function is also O(2^n) as there can be at most 2^n valid combinations.\n",
    "'''\n",
    "\n",
    "nums = [2,3,6,7]\n",
    "target = 7\n",
    "print(combinationSum(nums, target))"
   ]
  },
  {
   "cell_type": "markdown",
   "id": "66f1cd56",
   "metadata": {},
   "source": [
    "# 40. Combination Sum II\n",
    "https://leetcode.com/problems/combination-sum-ii/description/"
   ]
  },
  {
   "cell_type": "raw",
   "id": "a39106df",
   "metadata": {},
   "source": [
    "Given a collection of candidate numbers (candidates) and a target number (target), find all unique combinations in candidates where the candidate numbers sum to target.\n",
    "Each number in candidates may only be used once in the combination.\n",
    "Note: The solution set must not contain duplicate combinations.\n",
    "\n",
    "Example 1:\n",
    "Input: candidates = [10,1,2,7,6,1,5], target = 8\n",
    "Output: \n",
    "[\n",
    "[1,1,6],\n",
    "[1,2,5],\n",
    "[1,7],\n",
    "[2,6]\n",
    "]\n",
    "\n",
    "Example 2:\n",
    "Input: candidates = [2,5,2,1,2], target = 5\n",
    "Output: \n",
    "[\n",
    "[1,2,2],\n",
    "[5]\n",
    "]\n",
    "\n",
    "Constraints:\n",
    "    1 <= candidates.length <= 100\n",
    "    1 <= candidates[i] <= 50\n",
    "    1 <= target <= 30"
   ]
  },
  {
   "cell_type": "code",
   "execution_count": 10,
   "id": "54ddfc7d",
   "metadata": {},
   "outputs": [
    {
     "name": "stdout",
     "output_type": "stream",
     "text": [
      "[[1, 1, 6], [1, 2, 5], [1, 7], [2, 6]]\n"
     ]
    }
   ],
   "source": [
    "from typing import List\n",
    "\n",
    "def combinationSum2(candidates: List[int], target: int) -> List[List[int]]:\n",
    "        \n",
    "    candidates.sort()\n",
    "    res = []\n",
    "    backtrack(candidates, target, [], res, 0)\n",
    "    return res\n",
    "\n",
    "def backtrack(candidates, target, path, res, start):\n",
    "    if target == 0:\n",
    "        res.append(path)\n",
    "        return\n",
    "    for i in range(start, len(candidates)):\n",
    "        if start < i and candidates[i] == candidates[i - 1]:\n",
    "            continue\n",
    "        if target < candidates[i]:\n",
    "            break\n",
    "        backtrack(candidates, target - candidates[i], path + [candidates[i]], res, i + 1)\n",
    "\n",
    "nums = [10,1,2,7,6,1,5]\n",
    "target = 8\n",
    "print(combinationSum2(nums, target))"
   ]
  },
  {
   "cell_type": "markdown",
   "id": "f4a6a33f",
   "metadata": {},
   "source": [
    "# 41. First Missing Positive\n",
    "https://leetcode.com/problems/first-missing-positive/description/"
   ]
  },
  {
   "cell_type": "raw",
   "id": "b95d3462",
   "metadata": {},
   "source": [
    "Given an unsorted integer array nums, return the smallest missing positive integer.\n",
    "You must implement an algorithm that runs in O(n) time and uses O(1) auxiliary space.\n",
    "\n",
    "Example 1:\n",
    "Input: nums = [1,2,0]\n",
    "Output: 3\n",
    "Explanation: The numbers in the range [1,2] are all in the array.\n",
    "\n",
    "Example 2:\n",
    "Input: nums = [3,4,-1,1]\n",
    "Output: 2\n",
    "Explanation: 1 is in the array but 2 is missing.\n",
    "\n",
    "Example 3:\n",
    "Input: nums = [7,8,9,11,12]\n",
    "Output: 1\n",
    "Explanation: The smallest positive integer 1 is missing.\n",
    "\n",
    "Constraints:\n",
    "    1 <= nums.length <= 105\n",
    "    -231 <= nums[i] <= 231 - 1"
   ]
  },
  {
   "cell_type": "code",
   "execution_count": 11,
   "id": "c84fdcfb",
   "metadata": {},
   "outputs": [
    {
     "name": "stdout",
     "output_type": "stream",
     "text": [
      "3\n"
     ]
    }
   ],
   "source": [
    "from typing import List\n",
    "\n",
    "def firstMissingPositive(nums: List[int]) -> int:\n",
    "        \n",
    "    nums = set(nums)  # COOL!\n",
    "    i = 1\n",
    "    while True:\n",
    "        if i not in nums:\n",
    "            return i\n",
    "        i += 1\n",
    "\n",
    "nums = [1,2,0]\n",
    "print(firstMissingPositive(nums))"
   ]
  },
  {
   "cell_type": "markdown",
   "id": "2823b371",
   "metadata": {},
   "source": [
    "# 53. Maximum Subarray\n",
    "https://leetcode.com/problems/maximum-subarray/description/"
   ]
  },
  {
   "cell_type": "raw",
   "id": "f6fa1809",
   "metadata": {},
   "source": [
    "Given an integer array nums, find the subarray with the largest sum, and return its sum.\n",
    "\n",
    "Example 1:\n",
    "Input: nums = [-2,1,-3,4,-1,2,1,-5,4]\n",
    "Output: 6\n",
    "Explanation: The subarray [4,-1,2,1] has the largest sum 6.\n",
    "\n",
    "Example 2:\n",
    "Input: nums = [1]\n",
    "Output: 1\n",
    "Explanation: The subarray [1] has the largest sum 1.\n",
    "\n",
    "Example 3:\n",
    "Input: nums = [5,4,-1,7,8]\n",
    "Output: 23\n",
    "Explanation: The subarray [5,4,-1,7,8] has the largest sum 23.\n",
    "\n",
    "Constraints:\n",
    "    1 <= nums.length <= 105\n",
    "    -104 <= nums[i] <= 104"
   ]
  },
  {
   "cell_type": "code",
   "execution_count": 12,
   "id": "d7d95b66",
   "metadata": {},
   "outputs": [
    {
     "name": "stdout",
     "output_type": "stream",
     "text": [
      "result:  6\n"
     ]
    }
   ],
   "source": [
    "from typing import List\n",
    "\n",
    "# Kadane’s algorithm\n",
    "def maxSubArraySum(nums: List[int]) -> int:\n",
    "\n",
    "    max_sum = float('-inf')\n",
    "    curr_max_sum = 0\n",
    "\n",
    "    for i in range(len(nums)):\n",
    "        curr_max_sum += nums[i]\n",
    "        if max_sum < curr_max_sum:\n",
    "            max_sum = curr_max_sum\n",
    "\n",
    "        if curr_max_sum < 0:\n",
    "            curr_max_sum = 0\n",
    "\n",
    "    return max_sum\n",
    "\n",
    "# Time: O(n)\n",
    "# Space: O(1)\n",
    "\n",
    "nums = [-2,1,-3,4,-1,2,1,-5,4]\n",
    "result = maxSubArraySum(nums)\n",
    "print('result: ', result)"
   ]
  },
  {
   "attachments": {
    "binarysearchtree_improved.png": {
     "image/png": "[encoded data removed]"
    }
   },
   "cell_type": "markdown",
   "id": "c83a6c0f",
   "metadata": {},
   "source": [
    "# 235. Lowest Common Ancestor of a Binary Search Tree\n",
    "\n",
    "https://leetcode.com/problems/lowest-common-ancestor-of-a-binary-search-tree/description/\n",
    "\n",
    "![binarysearchtree_improved.png](attachment:binarysearchtree_improved.png)"
   ]
  },
  {
   "cell_type": "raw",
   "id": "287ee144",
   "metadata": {},
   "source": [
    "Given a binary search tree (BST), find the lowest common ancestor (LCA) node of two given nodes in the BST.\n",
    "\n",
    "According to the definition of LCA on Wikipedia: “The lowest common ancestor is defined between two nodes p and q as the lowest node in T that has both p and q as descendants (where we allow a node to be a descendant of itself).”\n",
    "\n",
    "Example 1:\n",
    "Input: root = [6,2,8,0,4,7,9,null,null,3,5], p = 2, q = 8\n",
    "Output: 6\n",
    "Explanation: The LCA of nodes 2 and 8 is 6.\n",
    "\n",
    "Example 2:\n",
    "Input: root = [6,2,8,0,4,7,9,null,null,3,5], p = 2, q = 4\n",
    "Output: 2\n",
    "Explanation: The LCA of nodes 2 and 4 is 2, since a node can be a descendant of itself according to the LCA definition.\n",
    "\n",
    "Example 3:\n",
    "Input: root = [2,1], p = 2, q = 1\n",
    "Output: 2\n",
    "\n",
    "Constraints:\n",
    "    The number of nodes in the tree is in the range [2, 105].\n",
    "    -109 <= Node.val <= 109\n",
    "    All Node.val are unique.\n",
    "    p != q\n",
    "    p and q will exist in the BST."
   ]
  },
  {
   "cell_type": "code",
   "execution_count": 13,
   "id": "61da4a32",
   "metadata": {},
   "outputs": [
    {
     "data": {
      "text/plain": [
       "'\\nTime complexity: O(h)\\nh is the height of the tree.\\nIn the worst case, when the tree is skewed (completely unbalanced), the time complexity is O(n),\\nwhere n is the number of nodes in the tree.\\nSpace complexity: O(1)\\n        The algorithm uses only a constant amount of extra space.\\n'"
      ]
     },
     "execution_count": 13,
     "metadata": {},
     "output_type": "execute_result"
    }
   ],
   "source": [
    "class TreeNode:\n",
    "    def __init__(self, x):\n",
    "        self.val = x\n",
    "        self.left = None\n",
    "        self.right = None\n",
    "\n",
    "def lowestCommonAncestor(root: 'TreeNode', p: 'TreeNode', q: 'TreeNode') -> 'TreeNode':\n",
    "\n",
    "        temp = root \n",
    "        while temp:\n",
    "            if p.val < temp.val and q.val < temp.val:\n",
    "                temp = temp.left\n",
    "            elif temp.val < p.val and temp.val < q.val:\n",
    "                temp = temp.right\n",
    "            else:\n",
    "                return temp\n",
    "\n",
    "'''\n",
    "Time complexity: O(h)\n",
    "h is the height of the tree.\n",
    "In the worst case, when the tree is skewed (completely unbalanced), the time complexity is O(n),\n",
    "where n is the number of nodes in the tree.\n",
    "Space complexity: O(1)\n",
    "        The algorithm uses only a constant amount of extra space.\n",
    "'''\n"
   ]
  },
  {
   "cell_type": "markdown",
   "id": "2a49a931",
   "metadata": {},
   "source": [
    "# 1044. Longest Duplicate Substring\n",
    "https://leetcode.com/problems/longest-duplicate-substring/description/"
   ]
  },
  {
   "cell_type": "raw",
   "id": "670be525",
   "metadata": {},
   "source": [
    "Given a string s, consider all duplicated substrings: (contiguous) substrings of s that occur 2 or more times.\n",
    "The occurrences may overlap.\n",
    "Return any duplicated substring that has the longest possible length.\n",
    "If s does not have a duplicated substring, the answer is \"\".\n",
    "\n",
    "Example 1:\n",
    "Input: s = \"banana\"\n",
    "Output: \"ana\"\n",
    "\n",
    "Example 2:\n",
    "Input: s = \"abcd\"\n",
    "Output: \"\"\n",
    "\n",
    "Constraints:\n",
    "    2 <= s.length <= 3 * 104\n",
    "    s consists of lowercase English letters."
   ]
  },
  {
   "cell_type": "code",
   "execution_count": 14,
   "id": "5c27a983",
   "metadata": {},
   "outputs": [
    {
     "name": "stdout",
     "output_type": "stream",
     "text": [
      "window, heystack:  b anana\n",
      "window, heystack:  a nana\n",
      "window 2: an\n",
      "window 2: ana\n",
      "window 2: anan\n",
      "window, heystack:  nana ana\n",
      "window, heystack:  ana na\n",
      "window, heystack:  na a\n",
      "window, heystack:  a \n",
      "result:  ana\n"
     ]
    }
   ],
   "source": [
    "def solution(s: str) -> str:\n",
    "    \"\"\"\n",
    "    This problem can be solved using Sliding Window Technique.\n",
    "    Logic:\n",
    "    1. Iterate over the string from 0th index\n",
    "    2. For each index, define a window of 1 initially.\n",
    "    3. Check for the existence of the window in the remaining string:\n",
    "        a. If found, increase the size of window by 1 and repeat.\n",
    "        b. Else Goto next index. For next index, the size window will not start by 1 again as we have already found for 1.\n",
    "            So for every next index, size of window will start from the size at previous index to avoid checking for repeating size.\n",
    "    \"\"\"\n",
    "    \n",
    "    ans = ''\n",
    "    j = 1\n",
    "    for i in range(len(s)):\n",
    "        window = s[i:i+j]\n",
    "        heystack = s[i+1:]\n",
    "        print('window, heystack: ', window, heystack)\n",
    "        while window in heystack:\n",
    "            ans = window\n",
    "            j += 1\n",
    "            window = s[i:i+j]\n",
    "            print('window 2:', window)\n",
    "            \n",
    "    return ans\n",
    "\n",
    "# Time: O(n^2)\n",
    "# Space: O(n)\n",
    "\n",
    "s = 'banana'\n",
    "result = solution(s)\n",
    "print('result: ', result)"
   ]
  },
  {
   "cell_type": "code",
   "execution_count": null,
   "id": "c4ef0b92",
   "metadata": {},
   "outputs": [],
   "source": []
  }
 ],
 "metadata": {
  "kernelspec": {
   "display_name": "Python 3 (ipykernel)",
   "language": "python",
   "name": "python3"
  },
  "language_info": {
   "codemirror_mode": {
    "name": "ipython",
    "version": 3
   },
   "file_extension": ".py",
   "mimetype": "text/x-python",
   "name": "python",
   "nbconvert_exporter": "python",
   "pygments_lexer": "ipython3",
   "version": "3.10.8"
  }
 },
 "nbformat": 4,
 "nbformat_minor": 5
}
