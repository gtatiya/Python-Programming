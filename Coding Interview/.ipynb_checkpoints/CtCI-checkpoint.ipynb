{
 "cells": [
  {
   "cell_type": "code",
   "execution_count": 1,
   "metadata": {},
   "outputs": [],
   "source": [
    "import copy\n",
    "import time\n",
    "\n",
    "import numpy as np\n",
    "import matplotlib.pyplot as plt\n",
    "import matplotlib.image as mpimg"
   ]
  },
  {
   "cell_type": "code",
   "execution_count": 2,
   "metadata": {},
   "outputs": [],
   "source": [
    "\n",
    "\"\"\"\n",
    "https://www.w3resource.com/python-exercises/python-basic-exercise-65.php\n",
    "\"\"\"\n",
    "\n",
    "def time_taken(start, end):\n",
    "    \"\"\"Human readable time between `start` and `end`\n",
    "\n",
    "    :param start: time.time()\n",
    "    :param end: time.time()\n",
    "    :returns: day:hour:minute:second.millisecond\n",
    "    \"\"\"\n",
    "    my_time = end-start\n",
    "    day = my_time // (24 * 3600)\n",
    "    my_time = my_time % (24 * 3600)\n",
    "    hour = my_time // 3600\n",
    "    my_time %= 3600\n",
    "    minutes = my_time // 60\n",
    "    my_time %= 60\n",
    "    seconds = my_time\n",
    "    milliseconds = ((end - start)-int(end - start))\n",
    "    day_hour_min_sec = str('%02d' % int(day))+\":\"+str('%02d' % int(hour))+\":\"+str('%02d' % int(minutes))+\":\"+str('%02d' % int(seconds)+\".\"+str('%.3f' % milliseconds)[2:])\n",
    "    \n",
    "    return day_hour_min_sec"
   ]
  },
  {
   "cell_type": "markdown",
   "metadata": {},
   "source": [
    "# VIII Technical Questions\n",
    "## Page 68\n",
    "\n",
    "Print all possible interger solutions to a^3 + b^3 = c^3 + d^3, where a, b, c, d are integer between 1 and 1000"
   ]
  },
  {
   "cell_type": "code",
   "execution_count": 3,
   "metadata": {},
   "outputs": [
    {
     "name": "stdout",
     "output_type": "stream",
     "text": [
      "No of solutions:  5046\n",
      "day, hour, minute, second.millisecond-> 00:00:00:11.719\n"
     ]
    }
   ],
   "source": [
    "start_time = time.time()\n",
    "\n",
    "n = 50\n",
    "count = 0\n",
    "for a in range(n):\n",
    "    for b in range(n):\n",
    "        for c in range(n):\n",
    "            for d in range(n):\n",
    "                if a**3+b**3 == c**3+d**3:\n",
    "                    #print(a, b, c, d)\n",
    "                    count += 1\n",
    "\n",
    "print(\"No of solutions: \", count)\n",
    "print(\"day, hour, minute, second.millisecond->\", time_taken(start_time, time.time()))"
   ]
  },
  {
   "cell_type": "code",
   "execution_count": 4,
   "metadata": {},
   "outputs": [
    {
     "name": "stdout",
     "output_type": "stream",
     "text": [
      "No of solutions:  5046\n",
      "day, hour, minute, second.millisecond-> 00:00:00:12.374\n"
     ]
    }
   ],
   "source": [
    "start_time = time.time()\n",
    "\n",
    "n = 50\n",
    "count = 0\n",
    "for a in range(n):\n",
    "    for b in range(n):\n",
    "        for c in range(n):\n",
    "            for d in range(n):\n",
    "                if a**3+b**3 == c**3+d**3:\n",
    "                    #print(a, b, c, d)\n",
    "                    count += 1\n",
    "                    break\n",
    "\n",
    "print(\"No of solutions: \", count)\n",
    "print(\"day, hour, minute, second.millisecond->\", time_taken(start_time, time.time()))"
   ]
  },
  {
   "cell_type": "code",
   "execution_count": 5,
   "metadata": {},
   "outputs": [
    {
     "name": "stdout",
     "output_type": "stream",
     "text": [
      "No of solutions:  209\n",
      "day, hour, minute, second.millisecond-> 00:00:00:00.539\n"
     ]
    }
   ],
   "source": [
    "start_time = time.time()\n",
    "\n",
    "n = 50\n",
    "count = 0\n",
    "for a in range(n):\n",
    "    for b in range(n):\n",
    "        for c in range(n):\n",
    "            d = ((a**3+b**3)-c**3) ** 1/3\n",
    "            d = int(d)\n",
    "            if a**3+b**3 == c**3+d**3:\n",
    "                #print(a, b, c, d)\n",
    "                count += 1\n",
    "\n",
    "print(\"No of solutions: \", count)\n",
    "print(\"day, hour, minute, second.millisecond->\", time_taken(start_time, time.time()))"
   ]
  },
  {
   "cell_type": "code",
   "execution_count": 6,
   "metadata": {},
   "outputs": [
    {
     "name": "stdout",
     "output_type": "stream",
     "text": [
      "No of solutions:  5046\n",
      "day, hour, minute, second.millisecond-> 00:00:00:00.010\n"
     ]
    }
   ],
   "source": [
    "start_time = time.time()\n",
    "\n",
    "n = 50\n",
    "count = 0\n",
    "result_dict = {}\n",
    "\n",
    "for c in range(n):\n",
    "    for d in range(n):\n",
    "        result = c**3+d**3\n",
    "        if result in result_dict:\n",
    "            result_dict[result].append((c, d))\n",
    "        else:\n",
    "            result_dict[result] = []\n",
    "            result_dict[result].append((c, d))\n",
    "\n",
    "for a in range(n):\n",
    "    for b in range(n):\n",
    "        result = a**3+b**3\n",
    "        pair_list = result_dict[result]\n",
    "        for a_pair in pair_list:\n",
    "#             print(a, b, a_pair)\n",
    "            count += 1\n",
    "\n",
    "print(\"No of solutions: \", count)\n",
    "print(\"day, hour, minute, second.millisecond->\", time_taken(start_time, time.time()))"
   ]
  },
  {
   "cell_type": "code",
   "execution_count": 7,
   "metadata": {
    "scrolled": true
   },
   "outputs": [
    {
     "name": "stdout",
     "output_type": "stream",
     "text": [
      "No of solutions:  5046\n",
      "day, hour, minute, second.millisecond-> 00:00:00:00.008\n"
     ]
    }
   ],
   "source": [
    "start_time = time.time()\n",
    "\n",
    "n = 50\n",
    "count = 0\n",
    "result_dict = {}\n",
    "\n",
    "for c in range(n):\n",
    "    for d in range(n):\n",
    "        result = c**3+d**3\n",
    "        if result in result_dict:\n",
    "            result_dict[result].append((c, d))\n",
    "        else:\n",
    "            result_dict[result] = []\n",
    "            result_dict[result].append((c, d))\n",
    "\n",
    "for a_result in result_dict.values():\n",
    "    for pair1 in a_result:\n",
    "        for pair2 in a_result:\n",
    "#             print(a_result, pair1, pair2)\n",
    "            count += 1\n",
    "\n",
    "print(\"No of solutions: \", count)\n",
    "print(\"day, hour, minute, second.millisecond->\", time_taken(start_time, time.time()))"
   ]
  },
  {
   "cell_type": "raw",
   "metadata": {},
   "source": [
    "('No of solutions: ', 5046)\n",
    "('day, hour, minute, second.millisecond->', '00:00:00:02.811')\n",
    "\n",
    "with break\n",
    "('No of solutions: ', 5046)\n",
    "('day, hour, minute, second.millisecond->', '00:00:00:02.723')\n",
    "\n",
    "d = ((a**3+b**3)-c**3) ** 1/3\n",
    "('No of solutions: ', 207)\n",
    "('day, hour, minute, second.millisecond->', '00:00:00:00.283')\n",
    "\n",
    "hash table\n",
    "('No of solutions: ', 5046)\n",
    "('day, hour, minute, second.millisecond->', '00:00:00:00.552')\n",
    "\n",
    "hash table2\n",
    "('No of solutions: ', 5046)\n",
    "('day, hour, minute, second.millisecond->', '00:00:00:00.566')\n",
    "\n",
    "=====\n",
    "\n",
    "('No of solutions: ', 5046)\n",
    "('day, hour, minute, second.millisecond->', '00:00:00:01.483')\n",
    "\n",
    "with break\n",
    "('No of solutions: ', 5046)\n",
    "('day, hour, minute, second.millisecond->', '00:00:00:01.863')\n",
    "\n",
    "d = ((a**3+b**3)-c**3) ** 1/3\n",
    "('No of solutions: ', 207)\n",
    "('day, hour, minute, second.millisecond->', '00:00:00:00.274')\n",
    "\n",
    "hash table\n",
    "('No of solutions: ', 5046)\n",
    "('day, hour, minute, second.millisecond->', '00:00:00:00.012')\n",
    "\n",
    "hash table2\n",
    "('No of solutions: ', 5046)\n",
    "('day, hour, minute, second.millisecond->', '00:00:00:00.005')"
   ]
  },
  {
   "cell_type": "markdown",
   "metadata": {},
   "source": [
    "## Page 70\n",
    "\n",
    "Example: Given a smaller string s and a bigger string b, design an algorithm to find all permutations of the shorter string within the longer one. Print the location of each permutation."
   ]
  },
  {
   "cell_type": "code",
   "execution_count": 8,
   "metadata": {},
   "outputs": [],
   "source": [
    "s = \"abca\"\n",
    "b = \"ssabcahbknjabcabcacbaakjnkjabcalkmlkmnabcajkabcan\""
   ]
  },
  {
   "cell_type": "code",
   "execution_count": 9,
   "metadata": {},
   "outputs": [],
   "source": [
    "s = \"abbc\"\n",
    "b = \"cbabadcbbabbcbabaabccbabc\""
   ]
  },
  {
   "cell_type": "code",
   "execution_count": 10,
   "metadata": {},
   "outputs": [
    {
     "name": "stdout",
     "output_type": "stream",
     "text": [
      "['abbc', 'abcb', 'abbc', 'abcb', 'acbb', 'acbb', 'babc', 'bacb', 'bbac', 'bbca', 'bcab', 'bcba', 'babc', 'bacb', 'bbac', 'bbca', 'bcab', 'bcba', 'cabb', 'cabb', 'cbab', 'cbba', 'cbab', 'cbba']\n"
     ]
    }
   ],
   "source": [
    "from itertools import permutations\n",
    "perms = [''.join(p) for p in permutations(s)]\n",
    "print(perms)"
   ]
  },
  {
   "cell_type": "code",
   "execution_count": 11,
   "metadata": {},
   "outputs": [
    {
     "name": "stdout",
     "output_type": "stream",
     "text": [
      "Location:  0 cbab\n",
      "Location:  6 cbba\n",
      "Location:  9 abbc\n",
      "Location:  11 bcba\n",
      "Location:  12 cbab\n",
      "Location:  20 cbab\n",
      "Location:  21 babc\n"
     ]
    }
   ],
   "source": [
    "\n",
    "for i in range(len(b)):\n",
    "    if b[i] in s:\n",
    "        if b[i:i+len(s)] in perms:\n",
    "            print(\"Location: \", i, b[i:i+len(s)])"
   ]
  },
  {
   "cell_type": "markdown",
   "metadata": {},
   "source": [
    "# 1 Arrays and Strings\n",
    "## Interview Questions, Page: 90"
   ]
  },
  {
   "cell_type": "code",
   "execution_count": 12,
   "metadata": {},
   "outputs": [
    {
     "name": "stdout",
     "output_type": "stream",
     "text": [
      "True\n",
      "False\n"
     ]
    }
   ],
   "source": [
    "\"\"\"\n",
    "Q1.1\n",
    "Is Unique: Implement an algorithm to determine if a string has all unique characters.\n",
    "What if you cannot use additional data structures?\n",
    "\"\"\"\n",
    "\n",
    "def isUniqueChar(my_str):\n",
    "    \n",
    "    if len(my_str) > 128:\n",
    "        return False\n",
    "    \n",
    "    char_set = [False for i in range(128)]\n",
    "    for i in range(len(my_str)):\n",
    "        a_char_index = ord(my_str[i]) # ** ord: https://docs.python.org/3/library/functions.html#ord\n",
    "        if char_set[a_char_index]:\n",
    "            return False\n",
    "        char_set[a_char_index] = True\n",
    "\n",
    "    return True\n",
    "\n",
    "my_str = \"abcdefg\"\n",
    "print(isUniqueChar(my_str))\n",
    "\n",
    "my_str = \"abcdefgzz\"\n",
    "print(isUniqueChar(my_str))"
   ]
  },
  {
   "cell_type": "code",
   "execution_count": 13,
   "metadata": {},
   "outputs": [
    {
     "name": "stdout",
     "output_type": "stream",
     "text": [
      "True\n",
      "False\n",
      "day, hour, minute, second.millisecond-> 00:00:00:00.001\n",
      "True\n",
      "False\n",
      "day, hour, minute, second.millisecond-> 00:00:00:00.000\n"
     ]
    }
   ],
   "source": [
    "\"\"\"\n",
    "Q1.2\n",
    "Check Permutation: Given two strings, write a method to decide if one is a permutation of the other.\n",
    "\"\"\"\n",
    "\n",
    "def permutation(str1, str2):\n",
    "    \n",
    "    if (len(str1) == len(str2)) and (sorted(str1) == sorted(str2)):\n",
    "        return True\n",
    "    else:\n",
    "        return False\n",
    "\n",
    "def permutation_v2(str1, str2):\n",
    "    \n",
    "    if (len(str1) != len(str2)):\n",
    "        return False\n",
    "    \n",
    "    letters = [0 for i in range(128)]\n",
    "    for i in range(len(str1)):\n",
    "        index = ord(str1[i]) # ** ord: https://docs.python.org/3/library/functions.html#ord\n",
    "        letters[index] += 1\n",
    "\n",
    "    for i in range(len(str2)):\n",
    "        index = ord(str2[i]) # ** ord: https://docs.python.org/3/library/functions.html#ord\n",
    "        letters[index] -= 1\n",
    "        if letters[index] < 0:\n",
    "            return False\n",
    "    return True\n",
    "\n",
    "start_time = time.time()\n",
    "str1 = \"abcd\"\n",
    "str2 = \"acdb\"\n",
    "print(permutation(str1, str2))\n",
    "str1 = \"abcd\"\n",
    "str2 = \"accb\"\n",
    "print(permutation(str1, str2))\n",
    "print(\"day, hour, minute, second.millisecond->\", time_taken(start_time, time.time()))\n",
    "\n",
    "start_time = time.time()\n",
    "str1 = \"abcd\"\n",
    "str2 = \"acdb\"\n",
    "print(permutation_v2(str1, str2))\n",
    "str1 = \"abcd\"\n",
    "str2 = \"accb\"\n",
    "print(permutation_v2(str1, str2))\n",
    "print(\"day, hour, minute, second.millisecond->\", time_taken(start_time, time.time()))"
   ]
  },
  {
   "cell_type": "code",
   "execution_count": 14,
   "metadata": {},
   "outputs": [
    {
     "name": "stdout",
     "output_type": "stream",
     "text": [
      "{'0': 2, '2': 2, '9': 3, '1': 1}\n",
      "Not Palin.\n"
     ]
    }
   ],
   "source": [
    "\"\"\"\n",
    "Q 1.4\n",
    "Palindrome Permutation: Given a string, write a function to check if it is a permutation of a palindrome.\n",
    "A palindrome is a word or phrase that is the same forwards and backwards.\n",
    "A permutation is a rearrangement of letters. The palindrome does not need to be limited to just dictionary words.\n",
    "EXAMPLE\n",
    "Input: Tact Coa\n",
    "Output: True (permutations:\"taco cat'; \"atco cta'; etc.)\n",
    "\"\"\"\n",
    "\n",
    "\"\"\"\n",
    "We need to have an even number of almost all characters, so that half can be on one side and half can be on the other side.\n",
    "At most one character (the middle character) can have an odd count.\n",
    "\n",
    "To be a permutation of a palindrome, a string can have no more than one character that is odd.\n",
    "\"\"\"\n",
    "\n",
    "my_str = \"tact coa\"\n",
    "# my_str = \"tactcoapapa\"\n",
    "my_str = \"02091992\"\n",
    "\n",
    "char_count_dict = {}\n",
    "for a_char in my_str.lower():\n",
    "    char_count_dict.setdefault(a_char, 0)\n",
    "    char_count_dict[a_char] += 1\n",
    "\n",
    "print(char_count_dict)\n",
    "\n",
    "odd_counter = 0\n",
    "for a_char in char_count_dict:\n",
    "    if a_char == ' ':\n",
    "        continue\n",
    "    if (char_count_dict[a_char] % 2) == 1:\n",
    "        odd_counter += 1\n",
    "    if odd_counter == 2:\n",
    "        print(\"Not Palin.\")\n",
    "        break\n",
    "\n",
    "if odd_counter < 2:\n",
    "    print(\"Palin\")"
   ]
  },
  {
   "cell_type": "code",
   "execution_count": 15,
   "metadata": {},
   "outputs": [
    {
     "name": "stdout",
     "output_type": "stream",
     "text": [
      "{'p': 1, 'a': 1, 'l': 1, 'e': 1} {'p': 1, 'l': 1, 'e': 1}\n",
      "True\n",
      "{'p': 1, 'a': 1, 'l': 1, 'e': 1, 's': 1} {'p': 1, 'a': 1, 'l': 1, 'e': 1}\n",
      "True\n",
      "{'p': 1, 'a': 1, 'l': 1, 'e': 1} {'b': 1, 'a': 1, 'l': 1, 'e': 1}\n",
      "True\n",
      "{'p': 1, 'a': 1, 'l': 1, 'e': 1} {'b': 1, 'a': 1, 'k': 1, 'e': 1}\n",
      "False\n",
      "{'p': 1, 'a': 1, 'l': 1, 'e': 1} {'b': 1, 'a': 1, 'e': 1}\n",
      "False\n",
      "{'a': 1, 'p': 2, 'l': 1, 'e': 1} {'a': 1, 'p': 1, 'l': 1, 'e': 1}\n",
      "True\n"
     ]
    }
   ],
   "source": [
    "\"\"\"\n",
    "Q 1.5\n",
    "One Away: There are three types of edits that can be performed on strings:\n",
    "insert a character, remove a character, or replace a character.\n",
    "Given two strings, write a function to check if they are one edit (or zero edits) away.\n",
    "EXAMPLE\n",
    "pale, pIe -> true\n",
    "pales. pale -> true\n",
    "pale. bale -> true\n",
    "pale. bake -> false\n",
    "\"\"\"\n",
    "\n",
    "def count_char_in_str(my_str):\n",
    "    char_count_dict = {}\n",
    "    for a_char in my_str.lower():\n",
    "        char_count_dict.setdefault(a_char, 0)\n",
    "        char_count_dict[a_char] += 1\n",
    "    return char_count_dict\n",
    "\n",
    "\n",
    "def check_edit(char_count_dict1, char_count_dict2):\n",
    "    \n",
    "    diff = abs(len(char_count_dict1) - len(char_count_dict2))\n",
    "    if diff > 1:\n",
    "        return False\n",
    "    \n",
    "    a_toggle = False\n",
    "    for a_char in char_count_dict1:\n",
    "        if a_char in char_count_dict2:\n",
    "            diff = abs(char_count_dict1[a_char] - char_count_dict2[a_char])\n",
    "            if diff > 1:\n",
    "                return False\n",
    "        else:\n",
    "            if char_count_dict1[a_char] > 0:   \n",
    "                if a_toggle:\n",
    "                    return False\n",
    "                a_toggle = True\n",
    "    return True\n",
    "\n",
    "\n",
    "str1_list = [\"pale\", \"pales\", \"pale\", \"pale\", \"pale\", \"apple\"]\n",
    "str2_list = [\"ple\", \"pale\", \"bale\", \"bake\", \"bae\", \"aple\"]\n",
    "\n",
    "for i in range(len(str1_list)):\n",
    "    char_count_dict1 = count_char_in_str(str1_list[i])\n",
    "    char_count_dict2 = count_char_in_str(str2_list[i])\n",
    "\n",
    "    print(char_count_dict1, char_count_dict2)\n",
    "\n",
    "    print(check_edit(char_count_dict1, char_count_dict2))"
   ]
  },
  {
   "cell_type": "code",
   "execution_count": 16,
   "metadata": {},
   "outputs": [
    {
     "name": "stdout",
     "output_type": "stream",
     "text": [
      "com_str: a2b1c5a3\n",
      "a2b1c5a3\n"
     ]
    }
   ],
   "source": [
    "\"\"\"\n",
    "Q 1.6\n",
    "String Compression: Implement a method to perform basic string compression using the counts of repeated characters.\n",
    "For example, the string aabcccccaaa would become a2blc5a3.\n",
    "If the \"compressed\"string would not become smaller than the original string, your method should return the original string.\n",
    "You can assume the string has only uppercase and lowercase letters (a - z).\n",
    "\"\"\"\n",
    "\n",
    "my_str = \"aabcccccaaa\"\n",
    "com_str = \"\"\n",
    "\n",
    "for i in range(len(my_str)):\n",
    "#     print(i, my_str[i])\n",
    "    if i == 0:\n",
    "        com_str += my_str[i]\n",
    "        count = 1\n",
    "    else:\n",
    "        if com_str[-1] == my_str[i]:\n",
    "            count += 1\n",
    "            if i == len(my_str)-1:\n",
    "                com_str += str(count)\n",
    "        else:\n",
    "            com_str += str(count)\n",
    "            com_str += my_str[i]\n",
    "            count = 1\n",
    "\n",
    "print(\"com_str:\", com_str) # a2b1c5a3\n",
    "\n",
    "if len(com_str) < len(my_str):\n",
    "    print(com_str) # a2b1c5a3\n",
    "else:\n",
    "    print(my_str)"
   ]
  },
  {
   "cell_type": "code",
   "execution_count": 17,
   "metadata": {},
   "outputs": [
    {
     "name": "stdout",
     "output_type": "stream",
     "text": [
      "[[4 6 4 4 6 0]\n",
      " [2 8 7 1 0 3]\n",
      " [7 0 6 5 0 2]\n",
      " [3 5 0 9 3 4]\n",
      " [8 0 2 7 1 5]]\n",
      "[0, 1, 2, 3] [5, 4, 1, 2]\n",
      "[[0 0 0 0 0 0]\n",
      " [0 0 0 0 0 0]\n",
      " [0 0 0 0 0 0]\n",
      " [0 0 0 0 0 0]\n",
      " [8 0 0 7 0 0]]\n"
     ]
    }
   ],
   "source": [
    "\"\"\"\n",
    "Q 1.8\n",
    "Zero Matrix: Write an algorithm such that if an element in an MxN matrix is 0, its entire row and column are set to 0\n",
    "\"\"\"\n",
    "\n",
    "N, M = 5, 6\n",
    "matrix = np.random.randint(low=0, high=10, size=(N, M))\n",
    "print(matrix)\n",
    "\n",
    "zero_row = []\n",
    "zero_column = []\n",
    "for i in range(N):\n",
    "    if i in zero_row:\n",
    "        continue\n",
    "    for j in range(M):\n",
    "        if j in zero_column:\n",
    "            continue\n",
    "        if matrix[i][j] == 0:\n",
    "            zero_row.append(i)\n",
    "            zero_column.append(j)\n",
    "\n",
    "print(zero_row, zero_column)\n",
    "\n",
    "for i in zero_row:\n",
    "    for j in range(M):\n",
    "        matrix[i][j] = 0\n",
    "for j in zero_column:\n",
    "    for i in range(N):\n",
    "        matrix[i][j] = 0\n",
    "print(matrix)"
   ]
  },
  {
   "cell_type": "markdown",
   "metadata": {},
   "source": [
    "# 4 Trees and Graphs\n",
    "## Interview Questions, Page: 110"
   ]
  },
  {
   "cell_type": "code",
   "execution_count": 18,
   "metadata": {},
   "outputs": [
    {
     "name": "stdout",
     "output_type": "stream",
     "text": [
      "['f', 'a', 'b', 'd', 'e', 'c']\n"
     ]
    }
   ],
   "source": [
    "\"\"\"\n",
    "Q 4.7\n",
    "Build Order: You are given a list of projects and a list of dependencies (which is a list of pairs of\n",
    "projects, where the second project is dependent on the first project). All of a project's dependencies\n",
    "must be built before the project is. Find a build order that will allow the projects to be built. If there\n",
    "is no valid build order, return an error.\n",
    "EXAMPLE\n",
    "Input:\n",
    "projects: a, b, c, d, e, f\n",
    "dependencies: (a, d), (f, b), (b, d), (f, a), (d, c)\n",
    "Output: f, e, a, b, d, c\n",
    "\"\"\"\n",
    "\n",
    "projects = ['a', 'b', 'c', 'd', 'e', 'f']\n",
    "dependencies = [('a', 'd'), ('f', 'b'), ('b', 'd'), ('f', 'a'), ('d', 'c')]\n",
    "\n",
    "while True:\n",
    "    swap = False\n",
    "    for a_dep in dependencies:\n",
    "#         print(a_dep)\n",
    "        \n",
    "        dep = projects.index(a_dep[0])\n",
    "        pro = projects.index(a_dep[1])\n",
    "        \n",
    "        if dep > pro:\n",
    "            projects.insert(pro, a_dep[0])\n",
    "            projects.pop(pro+1)\n",
    "            projects.insert(dep, a_dep[1])\n",
    "            projects.pop(dep+1)\n",
    "#             print(\"projects:\", projects)\n",
    "            swap = True\n",
    "    if swap == False:\n",
    "        break\n",
    "\n",
    "print(projects)"
   ]
  },
  {
   "cell_type": "markdown",
   "metadata": {},
   "source": [
    "# 8 Recursion and Dynamic Programming\n",
    "## Interview Questions, Page: 134"
   ]
  },
  {
   "cell_type": "code",
   "execution_count": 19,
   "metadata": {},
   "outputs": [
    {
     "name": "stdout",
     "output_type": "stream",
     "text": [
      "4700770\n",
      "day, hour, minute, second.millisecond-> 00:00:00:03.584\n"
     ]
    }
   ],
   "source": [
    "\"\"\"\n",
    "Q 8.1\n",
    "Triple Step: A child is running up a staircase with n steps and can hop either 1 step, 2 steps, or 3 steps at a time.\n",
    "Implement a method to count how many possible ways the child can run up the stairs.\n",
    "\"\"\"\n",
    "\n",
    "# Brute Force Solution\n",
    "def count_steps(n):\n",
    "    if n < 0:\n",
    "        # Handeling invalid moves\n",
    "        return 0\n",
    "    elif n == 0:\n",
    "        # 0 stair left\n",
    "        return 1\n",
    "    else:\n",
    "        return count_steps(n-1) + count_steps(n-2) + count_steps(n-3)\n",
    "\n",
    "start_time = time.time()\n",
    "print(count_steps(26))\n",
    "print(\"day, hour, minute, second.millisecond->\", time_taken(start_time, time.time()))"
   ]
  },
  {
   "cell_type": "code",
   "execution_count": 20,
   "metadata": {},
   "outputs": [
    {
     "name": "stdout",
     "output_type": "stream",
     "text": [
      "4700770\n",
      "day, hour, minute, second.millisecond-> 00:00:00:00.001\n"
     ]
    }
   ],
   "source": [
    "# Memoization Solution\n",
    "def count_steps(n, memo):\n",
    "    if n < 0:\n",
    "        # Handeling invalid moves\n",
    "        return 0\n",
    "    elif n == 0:\n",
    "        # 0 stair left\n",
    "        return 1\n",
    "    elif n in memo:\n",
    "        return memo[n]\n",
    "    else:\n",
    "        memo[n] = count_steps(n-1, memo) + count_steps(n-2, memo) + count_steps(n-3, memo)\n",
    "        return memo[n]\n",
    "\n",
    "start_time = time.time()\n",
    "print(count_steps(26, {}))\n",
    "print(\"day, hour, minute, second.millisecond->\", time_taken(start_time, time.time()))"
   ]
  },
  {
   "cell_type": "code",
   "execution_count": 21,
   "metadata": {},
   "outputs": [
    {
     "name": "stdout",
     "output_type": "stream",
     "text": [
      "2\n"
     ]
    }
   ],
   "source": [
    "\"\"\"\n",
    "8.2\n",
    "Magic Index: A magic index in an array A[1 ... n-1] is defined to be an index such that A[i] = i.\n",
    "Given a sorted array of distinct integers, write a method to find a magic index, if one exists, in array A.\n",
    "FOLLOW UP\n",
    "What if the values are not distinct?\n",
    "\"\"\"\n",
    "\n",
    "def magic_slow(array):\n",
    "    for i, item in enumerate(array):\n",
    "        if i == item:\n",
    "            return i\n",
    "    return -1\n",
    "\n",
    "\n",
    "# Distinct numbers\n",
    "# array = [0, 1, 2, 3, 50]\n",
    "# array = [-40, -20, -1, 1, 2, 3, 5, 7, 9, 12, 13]\n",
    "\n",
    "# Not distinct numbers\n",
    "# array = [1, 2, 1, 3, 50] \n",
    "array = [-10, -5, 2, 2, 2, 3, 4, 7, 9, 12, 13] # 2\n",
    "inx = magic_slow(array)\n",
    "print(inx)"
   ]
  },
  {
   "cell_type": "code",
   "execution_count": 22,
   "metadata": {},
   "outputs": [
    {
     "name": "stdout",
     "output_type": "stream",
     "text": [
      "mid_idx:  5\n",
      "mid_idx:  8\n",
      "mid_idx:  6\n",
      "mid_idx:  7\n",
      "7\n"
     ]
    }
   ],
   "source": [
    "\n",
    "# Binary Search Approach for sorted and distinct numbers\n",
    "def magic_fast(array, start, end):\n",
    "    if end < start:\n",
    "        return -1\n",
    "    \n",
    "    mid_idx = (start + end) // 2\n",
    "    print(\"mid_idx: \", mid_idx)\n",
    "    \n",
    "    if array[mid_idx] == mid_idx:\n",
    "        return mid_idx\n",
    "    elif array[mid_idx] > mid_idx:\n",
    "        # Search Left\n",
    "        return magic_fast(array, start, mid_idx - 1)\n",
    "    else:\n",
    "        # Search Right\n",
    "        return magic_fast(array, mid_idx + 1, end)\n",
    "\n",
    "# Distinct numbers\n",
    "# array = [0, 1, 2, 3, 50]\n",
    "# array = [-40, -20, -1, 1, 2, 3, 5, 7, 9, 12, 13]\n",
    "\n",
    "inx = magic_fast(array, 0, len(array)-1)\n",
    "print(inx)"
   ]
  },
  {
   "cell_type": "code",
   "execution_count": 23,
   "metadata": {},
   "outputs": [
    {
     "name": "stdout",
     "output_type": "stream",
     "text": [
      "mid:  5 3\n",
      "mid:  1 -5\n",
      "mid:  2 0\n",
      "mid:  3 2\n",
      "mid:  8 9\n",
      "mid:  6 4\n",
      "mid:  7 7\n",
      "7\n"
     ]
    }
   ],
   "source": [
    "\n",
    "# Binary Search Approach for sorted and not distinct numbers\n",
    "def magic_fast(array, start, end):\n",
    "#     print(\"start, end: \", start, end)    \n",
    "    if end < start:\n",
    "        return -1\n",
    "    \n",
    "    mid_idx = (start + end) // 2\n",
    "    mid_val = array[mid_idx]\n",
    "    print(\"mid: \", mid_idx, mid_val)\n",
    "    \n",
    "    if array[mid_idx] == mid_idx:\n",
    "        return mid_idx\n",
    "\n",
    "#     print(\"Search Left\")\n",
    "    # Search left completely\n",
    "    left_idx = min(mid_idx - 1, mid_val)\n",
    "    left = magic_fast(array, start, left_idx)\n",
    "    if left >= 0:\n",
    "        return left\n",
    "    \n",
    "#     print(\"Search Right\")\n",
    "    # Search right completely\n",
    "    right_idx = max(mid_idx + 1, mid_val)\n",
    "    right = magic_fast(array, right_idx, end)\n",
    "    return right\n",
    "\n",
    "# Not distinct numbers\n",
    "# array = [1, 2, 1, 3, 50]\n",
    "#array = [-10, -5, 2, 2, 2, 3, 4, 7, 9, 12, 13] # 2\n",
    "array = [-10, -5, 0, 2, 2, 3, 4, 7, 9, 12, 13] # 7\n",
    "\n",
    "inx = magic_fast(array, 0, len(array)-1)\n",
    "print(inx)"
   ]
  },
  {
   "cell_type": "code",
   "execution_count": 24,
   "metadata": {},
   "outputs": [
    {
     "name": "stdout",
     "output_type": "stream",
     "text": [
      "subsets [[1], []]\n",
      "subsets [[1, 2], [2], [1], []]\n",
      "subsets [[1, 2, 3], [2, 3], [1, 3], [3], [1, 2], [2], [1], []]\n",
      "[[1, 2, 3], [2, 3], [1, 3], [3], [1, 2], [2], [1], []]\n",
      "8\n"
     ]
    }
   ],
   "source": [
    "\"\"\"\n",
    "Q 8.4\n",
    "Power Set: Write a method to return all subsets of a set.\n",
    "\"\"\"\n",
    "\n",
    "nums = [1, 2, 3]\n",
    "\n",
    "subsets = [[]]\n",
    "\n",
    "for n in nums:\n",
    "    prev = copy.deepcopy(subsets)    \n",
    "    for k in subsets:\n",
    "        k.append(n) # Appending a new number\n",
    "    subsets.extend(prev) # Copying the old subset\n",
    "    print(\"subsets\", subsets) \n",
    "\n",
    "print(subsets) \n",
    "print(len(subsets))"
   ]
  },
  {
   "cell_type": "code",
   "execution_count": 25,
   "metadata": {},
   "outputs": [
    {
     "name": "stdout",
     "output_type": "stream",
     "text": [
      "b: 5\n",
      "b: 4\n",
      "b: 3\n",
      "b: 2\n",
      "b: 1\n",
      "b: 0\n",
      "Result: 50\n"
     ]
    }
   ],
   "source": [
    "\"\"\"\n",
    "Q 8.5\n",
    "Recursive Multiply: Write a recursive function to multiply two positive integers without using the * operator (or / operator).\n",
    "You can use addition, subtraction, and bit shifting, but you should minimize the number of those operations.\n",
    "\"\"\"\n",
    "\n",
    "def multiplay(a, b, s):\n",
    "    print(\"b:\", b)\n",
    "    if b == 0:\n",
    "        return s\n",
    "    \n",
    "    return multiplay(a, b-1, s+a)  # GT: Always return the recursive result\n",
    "\n",
    "a, b = 5, 10\n",
    "\n",
    "print(\"Result:\", multiplay(max(a, b), min(a, b), 0)) # O(s), where s is the smaller of the two numbers"
   ]
  },
  {
   "cell_type": "code",
   "execution_count": 26,
   "metadata": {
    "scrolled": false
   },
   "outputs": [
    {
     "name": "stdout",
     "output_type": "stream",
     "text": [
      "abc\n",
      "acb\n",
      "bac\n",
      "bca\n",
      "cba\n",
      "cab\n"
     ]
    }
   ],
   "source": [
    "\"\"\"\n",
    "Q 8.7\n",
    "Permutations without Dups: Write a method to compute all permutations of a string of unique characters.\n",
    "\"\"\"\n",
    "\n",
    "# https://stackoverflow.com/questions/8306654/finding-all-possible-permutations-of-a-given-string-in-python\n",
    "\n",
    "def permutations(string, step = 0):\n",
    "    #print(\"string: \", string, \", step: \", step)\n",
    "\n",
    "    # if we've gotten to the end, print the permutation\n",
    "    if step == len(string):\n",
    "        print(\"\".join(string))\n",
    "\n",
    "    # everything to the right of step has not been swapped yet\n",
    "    for i in range(step, len(string)):\n",
    "\n",
    "        # copy the string (store as array)\n",
    "        string_copy = [character for character in string]\n",
    "\n",
    "        # swap the current index with the step\n",
    "        #print(\"1 string_copy: \", string_copy)\n",
    "        #print(\"Swap: \", i, step, string_copy[i], string_copy[step])\n",
    "        string_copy[step], string_copy[i] = string_copy[i], string_copy[step]\n",
    "        #print(\"2 string_copy: \", string_copy)\n",
    "\n",
    "        # recurse on the portion of the string that has not been swapped yet (now it's index will begin with step + 1)\n",
    "        permutations(string_copy, step + 1)\n",
    "    \n",
    "permutations(\"abc\")"
   ]
  },
  {
   "cell_type": "code",
   "execution_count": 27,
   "metadata": {},
   "outputs": [
    {
     "data": {
      "image/png": "[encoded data removed]",
      "text/plain": [
       "<Figure size 432x288 with 1 Axes>"
      ]
     },
     "metadata": {
      "needs_background": "light"
     },
     "output_type": "display_data"
    },
    {
     "name": "stdout",
     "output_type": "stream",
     "text": [
      "(100, 100, 3)\n"
     ]
    },
    {
     "data": {
      "image/png": "[encoded data removed]",
      "text/plain": [
       "<Figure size 432x288 with 1 Axes>"
      ]
     },
     "metadata": {
      "needs_background": "light"
     },
     "output_type": "display_data"
    }
   ],
   "source": [
    "\"\"\"\n",
    "8.10\n",
    "Paint Fill: Implement the \"paint fill\" function that one might see on many image editing programs.\n",
    "That is, given a screen (represented by a two-dimensional array of colors), a point, and a new color,\n",
    "fill in the surrounding area until the color changes from the original color.\n",
    "\"\"\"\n",
    "\n",
    "image = mpimg.imread(\"CtCI_8-10.png\")\n",
    "#image[5][5] = [0.5, 1, 1]\n",
    "plt.imshow(image, cmap=plt.cm.gray)\n",
    "plt.show()\n",
    "print(image.shape)\n",
    "\n",
    "# print(image[40][23])\n",
    "# print(image[5][5])\n",
    "\n",
    "def paint_fill(img, r, c, color, mem={}):\n",
    "    if (r, c) not in mem:\n",
    "        ori_color = img[r][c][0]\n",
    "        img[r][c][0] = color\n",
    "        mem[(r, c)] = color\n",
    "\n",
    "        max_r, max_c, _ = img.shape\n",
    "\n",
    "        if max_r > r+1 and img[r+1][c][0] == ori_color:\n",
    "            img = paint_fill(img, r+1, c, color, mem)\n",
    "        if 0 < r-1 and img[r-1][c][0] == ori_color:\n",
    "            img = paint_fill(img, r-1, c, color, mem)\n",
    "        if max_c > c+1 and img[r][c+1][0] == ori_color:\n",
    "            img = paint_fill(img, r, c+1, color, mem)\n",
    "        if 0 < c-1 and img[r][c-1][0] == ori_color:\n",
    "            img = paint_fill(img, r, c-1, color, mem)\n",
    "    \n",
    "    return img\n",
    "\n",
    "image = paint_fill(image, 40, 40, 0.5) # Inside rectangle\n",
    "#image = paint_fill(image, 40, 20, 0.5) # On rectangle\n",
    "#image = paint_fill(image, 5, 5, 0.5) # Outside rectangle - not optimal\n",
    "plt.imshow(image, cmap=plt.cm.gray)\n",
    "plt.show()"
   ]
  },
  {
   "cell_type": "code",
   "execution_count": 28,
   "metadata": {},
   "outputs": [
    {
     "name": "stdout",
     "output_type": "stream",
     "text": [
      "18\n"
     ]
    }
   ],
   "source": [
    "\"\"\"\n",
    "Q 8.11\n",
    "Coins: Given an infinite number of quarters (25 cents), dimes (10 cents), nickels (5 cents), and pennies (1 cent),\n",
    "write code to calculate the number of ways of representing n cents.\n",
    "\"\"\"\n",
    "\n",
    "def makeChange(amount, denoms, index=0, mem={}):\n",
    "    if (amount, index) in mem and mem[(amount, index)] > 0:\n",
    "        return mem[(amount, index)]\n",
    "    if index >= len(denoms)-1:\n",
    "        return 1 # one denom remaining\n",
    "    \n",
    "    demo_amount = denoms[index]\n",
    "    #print(\"demo_amount: \", demo_amount)\n",
    "    \n",
    "    ways = 0\n",
    "    i = 0\n",
    "    \n",
    "    while i * demo_amount <= amount:\n",
    "        # go to next denom, assuming i coins of denomAmount\n",
    "        amount_remaining = amount - i * demo_amount\n",
    "        ways += makeChange(amount_remaining, denoms, index + 1, mem) # Basically, try a new demo_amount and i\n",
    "        \n",
    "        i += 1\n",
    "    \n",
    "    mem[(amount, index)] = ways\n",
    "    \n",
    "    #print(mem)\n",
    "    \n",
    "    return ways\n",
    "\n",
    "amount = 30\n",
    "denoms = [25, 10, 5, 1]\n",
    "print(makeChange(amount, denoms))"
   ]
  },
  {
   "cell_type": "markdown",
   "metadata": {},
   "source": [
    "# 10 Sorting and Searching\n",
    "## Interview Questions, Page: 149"
   ]
  },
  {
   "cell_type": "code",
   "execution_count": 19,
   "metadata": {},
   "outputs": [
    {
     "name": "stdout",
     "output_type": "stream",
     "text": [
      "[-41, -34, -21, -18, -14, -12, -5, 8, 9, 10, 14, 28, 30, 31, 43, 0.0, 0.0, 0.0, 0.0, 0.0]\n",
      "[-25, -8, 0, 20, 42]\n",
      "[-41, -34, -25, -21, -18, -14, -12, -8, -5, 0, 8, 9, 10, 14, 20, 28, 30, 31, 42]\n"
     ]
    }
   ],
   "source": [
    "\"\"\"\n",
    "Q 10.1\n",
    "Sorted Merge: You are given two sorted arrays, A and B, where A has a large enough buffer at the end to hold B.\n",
    "Write a method to merge Binto A in sorted order.\n",
    "\"\"\"\n",
    "\n",
    "# Merge part of merge sort\n",
    "def merge(A, B):\n",
    "    merged_list = []\n",
    "    \n",
    "    A_idx = 0\n",
    "    B_idx = 0\n",
    "    \n",
    "    while True:\n",
    "        if A_idx >= len(A) or B_idx >= len(B):\n",
    "            return merged_list\n",
    "            break\n",
    "        if A[A_idx] <= B[B_idx]:\n",
    "            merged_list.append(A[A_idx])\n",
    "            A_idx += 1\n",
    "        else:\n",
    "            merged_list.append(B[B_idx])\n",
    "            B_idx += 1\n",
    "\n",
    "extra_items = 5\n",
    "A = sorted(np.random.randint(low=-50, high=50, size=15)) + list(np.zeros((extra_items)))\n",
    "print(A)\n",
    "B = sorted(np.random.randint(low=-50, high=50, size=extra_items))\n",
    "print(B)\n",
    "\n",
    "merged_list = merge(A, B)\n",
    "print(merged_list)"
   ]
  },
  {
   "cell_type": "code",
   "execution_count": null,
   "metadata": {},
   "outputs": [],
   "source": []
  },
  {
   "cell_type": "code",
   "execution_count": null,
   "metadata": {},
   "outputs": [],
   "source": []
  },
  {
   "cell_type": "code",
   "execution_count": null,
   "metadata": {},
   "outputs": [],
   "source": []
  },
  {
   "cell_type": "markdown",
   "metadata": {},
   "source": [
    "# XI Advanced Topics\n",
    "## Sum of lntegers 1 through N"
   ]
  },
  {
   "cell_type": "code",
   "execution_count": 29,
   "metadata": {},
   "outputs": [
    {
     "name": "stdout",
     "output_type": "stream",
     "text": [
      "1\n",
      "2\n",
      "3\n",
      "4\n",
      "\n",
      "3\n",
      "4\n",
      "5\n",
      "\n",
      "5\n",
      "6\n",
      "\n",
      "7\n",
      "\n",
      "\n"
     ]
    }
   ],
   "source": [
    "n = 5\n",
    "\n",
    "for i in range(n):\n",
    "    #print(\"i=\", i)\n",
    "    for j in range(i+1, n):\n",
    "        #print(\"j=\", j)\n",
    "        print(i+j)\n",
    "    print(\"\")"
   ]
  },
  {
   "cell_type": "code",
   "execution_count": null,
   "metadata": {},
   "outputs": [],
   "source": []
  }
 ],
 "metadata": {
  "anaconda-cloud": {},
  "kernelspec": {
   "display_name": "Python 3",
   "language": "python",
   "name": "python3"
  },
  "language_info": {
   "codemirror_mode": {
    "name": "ipython",
    "version": 3
   },
   "file_extension": ".py",
   "mimetype": "text/x-python",
   "name": "python",
   "nbconvert_exporter": "python",
   "pygments_lexer": "ipython3",
   "version": "3.7.6"
  }
 },
 "nbformat": 4,
 "nbformat_minor": 1
}
