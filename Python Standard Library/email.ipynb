{
 "cells": [
  {
   "cell_type": "markdown",
   "metadata": {},
   "source": [
    "# email\n",
    "https://docs.python.org/3.4/library/email.html"
   ]
  },
  {
   "cell_type": "code",
   "execution_count": 1,
   "metadata": {},
   "outputs": [],
   "source": [
    "import email"
   ]
  },
  {
   "cell_type": "markdown",
   "metadata": {},
   "source": [
    "## How to send emails using Python\n",
    "\n",
    "https://medium.freecodecamp.org/send-emails-using-code-4fcea9df63f"
   ]
  },
  {
   "cell_type": "code",
   "execution_count": 1,
   "metadata": {},
   "outputs": [
    {
     "name": "stdout",
     "output_type": "stream",
     "text": [
      "['gyan', 'Gyan_Guru'] ['gyan@brainspecmed.com', 'tatiya96@gmail.com']\n"
     ]
    }
   ],
   "source": [
    "# Function to read the contacts from a given contact file and return a\n",
    "# list of names and email addresses\n",
    "def get_contacts(filename):\n",
    "    names = []\n",
    "    emails = []\n",
    "    with open(filename, mode='r', encoding='utf-8') as contacts_file:\n",
    "        for a_contact in contacts_file:\n",
    "            names.append(a_contact.split()[0])\n",
    "            emails.append(a_contact.split()[1])\n",
    "    return names, emails\n",
    "\n",
    "names, emails = get_contacts(\"mycontacts.txt\")\n",
    "print(names, emails)"
   ]
  },
  {
   "cell_type": "code",
   "execution_count": 2,
   "metadata": {},
   "outputs": [
    {
     "name": "stdout",
     "output_type": "stream",
     "text": [
      "<string.Template object at 0x0000018DAB5520F0>\n"
     ]
    }
   ],
   "source": [
    "from string import Template\n",
    "\n",
    "\"\"\"\n",
    "Notice the word “${PERSON_NAME}”? in \"message.txt\"\n",
    "That is a template string in Python.\n",
    "Template strings can easily be replaced with other strings;\n",
    "in this example, ${PERSON_NAME} is going to be replaced with the actual name of the person, as you’ll see shortly.\n",
    "\"\"\"\n",
    "def read_template(filename):\n",
    "    with open(filename, 'r', encoding='utf-8') as template_file:\n",
    "        template_file_content = template_file.read()\n",
    "    return Template(template_file_content)\n",
    "\n",
    "message_template = read_template(\"message.txt\")\n",
    "print(message_template)"
   ]
  },
  {
   "cell_type": "code",
   "execution_count": 3,
   "metadata": {},
   "outputs": [
    {
     "data": {
      "text/plain": [
       "(235, b'2.7.0 Accepted')"
      ]
     },
     "execution_count": 3,
     "metadata": {},
     "output_type": "execute_result"
    }
   ],
   "source": [
    "\"\"\"\n",
    "For Gmail, Allow less secure apps: ON: https://myaccount.google.com/lesssecureapps\n",
    "\"\"\"\n",
    "\n",
    "# import the smtplib module. It should be included in Python by default\n",
    "import smtplib\n",
    "\n",
    "# set up the SMTP server\n",
    "#s = smtplib.SMTP(host='your_host_address_here', port=your_port_here)\n",
    "#s = smtplib.SMTP(host='smtp.gmail.com', port=465) # Port for SSL: 465\n",
    "s = smtplib.SMTP(host='smtp.gmail.com', port=587) # Port for TLS/STARTTLS: 587\n",
    "\n",
    "s.starttls()\n",
    "\n",
    "MY_ADDRESS = \"\"\n",
    "PASSWORD = \"\"\n",
    "s.login(MY_ADDRESS, PASSWORD)"
   ]
  },
  {
   "cell_type": "code",
   "execution_count": 4,
   "metadata": {},
   "outputs": [],
   "source": [
    "# import necessary packages\n",
    "from email.mime.multipart import MIMEMultipart\n",
    "from email.mime.text import MIMEText\n",
    "\n",
    "# For each contact, send the email:\n",
    "for name, email in zip(names, emails):\n",
    "    msg = MIMEMultipart()       # create a message\n",
    "\n",
    "    # add in the actual person name to the message template\n",
    "    message = message_template.substitute(PERSON_NAME=name.title())\n",
    "\n",
    "    # setup the parameters of the message\n",
    "    msg['From'] = MY_ADDRESS\n",
    "    msg['To'] = email\n",
    "    msg['Subject'] = \"This is TEST\"\n",
    "\n",
    "    # add in the message body\n",
    "    msg.attach(MIMEText(message, 'plain'))\n",
    "\n",
    "    # send the message via the server set up earlier.\n",
    "    s.send_message(msg)\n",
    "    \n",
    "    del msg"
   ]
  },
  {
   "cell_type": "code",
   "execution_count": null,
   "metadata": {},
   "outputs": [],
   "source": []
  }
 ],
 "metadata": {
  "anaconda-cloud": {},
  "kernelspec": {
   "display_name": "Python 3",
   "language": "python",
   "name": "python3"
  },
  "language_info": {
   "codemirror_mode": {
    "name": "ipython",
    "version": 3
   },
   "file_extension": ".py",
   "mimetype": "text/x-python",
   "name": "python",
   "nbconvert_exporter": "python",
   "pygments_lexer": "ipython3",
   "version": "3.6.5"
  }
 },
 "nbformat": 4,
 "nbformat_minor": 1
}
