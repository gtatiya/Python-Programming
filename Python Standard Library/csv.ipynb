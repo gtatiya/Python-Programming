{
 "cells": [
  {
   "cell_type": "markdown",
   "metadata": {},
   "source": [
    "# csv\n",
    "https://docs.python.org/2/library/csv.html"
   ]
  },
  {
   "cell_type": "code",
   "execution_count": 1,
   "metadata": {},
   "outputs": [],
   "source": [
    "import csv"
   ]
  },
  {
   "cell_type": "code",
   "execution_count": 2,
   "metadata": {},
   "outputs": [],
   "source": [
    "frame_list = [12, 24, 36, 48]\n",
    "\n",
    "with open('csv_write.csv','w') as f:\n",
    "    writer = csv.writer(f)\n",
    "    writer.writerow(frame_list)"
   ]
  },
  {
   "cell_type": "code",
   "execution_count": 3,
   "metadata": {},
   "outputs": [
    {
     "name": "stdout",
     "output_type": "stream",
     "text": [
      "['Epoch', 'Cost_12', 'Cost_24', 'Cost_36', 'Cost_48', 'Accuracy_12', 'Accuracy_24', 'Accuracy_36', 'Accuracy_48']\n"
     ]
    }
   ],
   "source": [
    "a_list = []\n",
    "a_list.append(\"Epoch\")\n",
    "\n",
    "for a_frame in frame_list:\n",
    "    a_list.append(\"Cost_\"+ str(a_frame))\n",
    "for a_frame in frame_list:\n",
    "    a_list.append(\"Accuracy_\"+ str(a_frame))\n",
    "\n",
    "print(a_list)\n",
    "\n",
    "with open('csv_write2.csv','w') as f:\n",
    "    writer = csv.writer(f, lineterminator=\"\\n\")\n",
    "    writer.writerow(a_list)"
   ]
  },
  {
   "cell_type": "code",
   "execution_count": 4,
   "metadata": {},
   "outputs": [],
   "source": [
    "\n",
    "with open('csv_write2.csv', 'a') as f: # append to the file created\n",
    "    writer = csv.writer(f, lineterminator=\"\\n\")\n",
    "    writer.writerow(a_list)"
   ]
  },
  {
   "cell_type": "code",
   "execution_count": 5,
   "metadata": {},
   "outputs": [],
   "source": [
    "myData = [[\"first_name\", \"second_name\", \"Grade\"],\n",
    "          ['Alex', 'Brian', 'A'],\n",
    "          ['Tom', 'Smith', 'B']]\n",
    "\n",
    "myFile = open('csv_write3.csv', 'w')\n",
    "with myFile:\n",
    "    writer = csv.writer(myFile, lineterminator=\"\\n\")\n",
    "    writer.writerows(myData)"
   ]
  },
  {
   "cell_type": "code",
   "execution_count": 6,
   "metadata": {},
   "outputs": [
    {
     "name": "stdout",
     "output_type": "stream",
     "text": [
      "['first_name', 'second_name', 'Grade']\n",
      "['Alex', 'Brian', 'A']\n",
      "['Tom', 'Smith', 'B']\n"
     ]
    }
   ],
   "source": [
    "\n",
    "with open(\"csv_write3.csv\", mode='r') as infile:\n",
    "    reader = csv.reader(infile)\n",
    "    for line in reader:\n",
    "        print(line)"
   ]
  },
  {
   "cell_type": "markdown",
   "metadata": {},
   "source": [
    "# How to read csv into record array in numpy?"
   ]
  },
  {
   "cell_type": "code",
   "execution_count": 7,
   "metadata": {},
   "outputs": [
    {
     "name": "stdout",
     "output_type": "stream",
     "text": [
      "12.0\n",
      "24.0\n",
      "36.0\n",
      "48.0\n"
     ]
    }
   ],
   "source": [
    "from numpy import genfromtxt\n",
    "\n",
    "my_data = genfromtxt(\"csv_write.csv\", delimiter=',')\n",
    "\n",
    "for row in my_data:\n",
    "    print(row)"
   ]
  },
  {
   "cell_type": "code",
   "execution_count": null,
   "metadata": {},
   "outputs": [],
   "source": []
  }
 ],
 "metadata": {
  "anaconda-cloud": {},
  "kernelspec": {
   "display_name": "Python 3",
   "language": "python",
   "name": "python3"
  },
  "language_info": {
   "codemirror_mode": {
    "name": "ipython",
    "version": 3
   },
   "file_extension": ".py",
   "mimetype": "text/x-python",
   "name": "python",
   "nbconvert_exporter": "python",
   "pygments_lexer": "ipython3",
   "version": "3.5.4"
  }
 },
 "nbformat": 4,
 "nbformat_minor": 1
}
