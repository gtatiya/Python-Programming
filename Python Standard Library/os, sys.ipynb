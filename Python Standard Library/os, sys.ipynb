{
 "cells": [
  {
   "cell_type": "markdown",
   "metadata": {},
   "source": [
    "# os\n",
    "\n",
    "https://docs.python.org/3/library/os.html"
   ]
  },
  {
   "cell_type": "code",
   "execution_count": 1,
   "metadata": {},
   "outputs": [],
   "source": [
    "import os"
   ]
  },
  {
   "cell_type": "code",
   "execution_count": 2,
   "metadata": {},
   "outputs": [
    {
     "name": "stdout",
     "output_type": "stream",
     "text": [
      "environ({'ALLUSERSPROFILE': 'C:\\\\ProgramData', 'APPDATA': 'C:\\\\Users\\\\GyanT\\\\AppData\\\\Roaming', 'COMMONPROGRAMFILES': 'C:\\\\Program Files\\\\Common Files', 'COMMONPROGRAMFILES(X86)': 'C:\\\\Program Files (x86)\\\\Common Files', 'COMMONPROGRAMW6432': 'C:\\\\Program Files\\\\Common Files', 'COMPUTERNAME': 'DESKTOP-JTS4RB2', 'COMSPEC': 'C:\\\\WINDOWS\\\\system32\\\\cmd.exe', 'CONDA_DEFAULT_ENV': 'base', 'CONDA_EXE': 'C:\\\\miniconda3\\\\Scripts\\\\conda.exe', 'CONDA_PREFIX': 'C:\\\\miniconda3', 'CONDA_PROMPT_MODIFIER': '(base) ', 'CONDA_PYTHON_EXE': 'C:\\\\miniconda3\\\\python.exe', 'CONDA_SHLVL': '1', 'CUDA_PATH': 'C:\\\\Program Files\\\\NVIDIA GPU Computing Toolkit\\\\CUDA\\\\v10.0\\\\bin', 'CUDA_PATH_V10_0': 'C:\\\\Program Files\\\\NVIDIA GPU Computing Toolkit\\\\CUDA\\\\v10.0\\\\bin', 'DRIVERDATA': 'C:\\\\Windows\\\\System32\\\\Drivers\\\\DriverData', 'FPS_BROWSER_APP_PROFILE_STRING': 'Internet Explorer', 'FPS_BROWSER_USER_PROFILE_STRING': 'Default', 'HOMEDRIVE': 'C:', 'HOMEPATH': '\\\\Users\\\\GyanT', 'LOCALAPPDATA': 'C:\\\\Users\\\\GyanT\\\\AppData\\\\Local', 'LOGONSERVER': '\\\\\\\\DESKTOP-JTS4RB2', 'MOZ_PLUGIN_PATH': 'C:\\\\Program Files (x86)\\\\Foxit Software\\\\Foxit Reader\\\\plugins\\\\', 'NUMBER_OF_PROCESSORS': '8', 'NVCUDASAMPLES10_0_ROOT': 'C:\\\\ProgramData\\\\NVIDIA Corporation\\\\CUDA Samples\\\\v10.0', 'NVCUDASAMPLES_ROOT': 'C:\\\\ProgramData\\\\NVIDIA Corporation\\\\CUDA Samples\\\\v10.0', 'NVTOOLSEXT_PATH': 'C:\\\\Program Files\\\\NVIDIA Corporation\\\\NvToolsExt\\\\', 'ONEDRIVE': 'C:\\\\Users\\\\GyanT\\\\OneDrive', 'ONEDRIVECONSUMER': 'C:\\\\Users\\\\GyanT\\\\OneDrive', 'OS': 'Windows_NT', 'PATH': 'C:\\\\miniconda3;C:\\\\miniconda3\\\\Library\\\\mingw-w64\\\\bin;C:\\\\miniconda3\\\\Library\\\\usr\\\\bin;C:\\\\miniconda3\\\\Library\\\\bin;C:\\\\miniconda3\\\\Scripts;C:\\\\miniconda3\\\\bin;C:\\\\miniconda3\\\\condabin;C:\\\\Program Files (x86)\\\\Common Files\\\\Oracle\\\\Java\\\\javapath;C:\\\\Program Files\\\\NVIDIA GPU Computing Toolkit\\\\CUDA\\\\v10.0\\\\bin;C:\\\\Program Files\\\\NVIDIA GPU Computing Toolkit\\\\CUDA\\\\v10.0\\\\libnvvp;C:\\\\WINDOWS\\\\system32;C:\\\\WINDOWS;C:\\\\WINDOWS\\\\System32\\\\Wbem;C:\\\\WINDOWS\\\\System32\\\\WindowsPowerShell\\\\v1.0;C:\\\\WINDOWS\\\\System32\\\\OpenSSH;C:\\\\Program Files (x86)\\\\NVIDIA Corporation\\\\PhysX\\\\Common;C:\\\\Program Files\\\\Git\\\\cmd;C:\\\\Users\\\\GyanT\\\\AppData\\\\Local\\\\Microsoft\\\\WindowsApps;C:\\\\Program Files (x86)\\\\FreeArc\\\\bin;C:\\\\Users\\\\GyanT\\\\AppData\\\\Local\\\\GitHubDesktop\\\\bin', 'PATHEXT': '.COM;.EXE;.BAT;.CMD;.VBS;.VBE;.JS;.JSE;.WSF;.WSH;.MSC', 'PROCESSOR_ARCHITECTURE': 'AMD64', 'PROCESSOR_IDENTIFIER': 'Intel64 Family 6 Model 60 Stepping 3, GenuineIntel', 'PROCESSOR_LEVEL': '6', 'PROCESSOR_REVISION': '3c03', 'PROGRAMDATA': 'C:\\\\ProgramData', 'PROGRAMFILES': 'C:\\\\Program Files', 'PROGRAMFILES(X86)': 'C:\\\\Program Files (x86)', 'PROGRAMW6432': 'C:\\\\Program Files', 'PROMPT': '(base) $P$G', 'PSMODULEPATH': 'C:\\\\Program Files\\\\WindowsPowerShell\\\\Modules;C:\\\\WINDOWS\\\\system32\\\\WindowsPowerShell\\\\v1.0\\\\Modules', 'PUBLIC': 'C:\\\\Users\\\\Public', 'SESSIONNAME': 'Console', 'SYSTEMDRIVE': 'C:', 'SYSTEMROOT': 'C:\\\\WINDOWS', 'TEMP': 'C:\\\\Users\\\\GyanT\\\\AppData\\\\Local\\\\Temp', 'TMP': 'C:\\\\Users\\\\GyanT\\\\AppData\\\\Local\\\\Temp', 'USERDOMAIN': 'DESKTOP-JTS4RB2', 'USERDOMAIN_ROAMINGPROFILE': 'DESKTOP-JTS4RB2', 'USERNAME': 'GyanT', 'USERPROFILE': 'C:\\\\Users\\\\GyanT', 'WINDIR': 'C:\\\\WINDOWS', 'JPY_INTERRUPT_EVENT': '1396', 'IPY_INTERRUPT_EVENT': '1396', 'JPY_PARENT_PID': '2464', 'TERM': 'xterm-color', 'CLICOLOR': '1', 'PAGER': 'cat', 'GIT_PAGER': 'cat', 'MPLBACKEND': 'module://ipykernel.pylab.backend_inline'})\n",
      "CONDA_PYTHON_EXE:  C:\\miniconda3\\python.exe\n",
      "BATCH_SIZE:  32\n"
     ]
    }
   ],
   "source": [
    "# All environment variables\n",
    "print(os.environ)\n",
    "\n",
    "# print values of a environment variables\n",
    "print(\"CONDA_PYTHON_EXE: \", os.environ[\"CONDA_PYTHON_EXE\"])\n",
    "\n",
    "# get an environment variables with some value\n",
    "BATCH_SIZE = int(os.environ.get('BATCH_SIZE', 32))\n",
    "print(\"BATCH_SIZE: \", BATCH_SIZE)"
   ]
  },
  {
   "cell_type": "code",
   "execution_count": 3,
   "metadata": {},
   "outputs": [],
   "source": [
    "# current working directory\n",
    "cwd = os.getcwd()\n",
    "print(\"current working directory: \", cwd)\n",
    "\n",
    "os.chdir(r\"C:\\Users\")\n",
    "print(\"current working directory: \", os.getcwd())\n",
    "\n",
    "os.chdir(cwd)\n",
    "print(\"current working directory: \", os.getcwd())"
   ]
  },
  {
   "cell_type": "code",
   "execution_count": 4,
   "metadata": {},
   "outputs": [
    {
     "data": {
      "text/plain": [
       "0"
      ]
     },
     "execution_count": 4,
     "metadata": {},
     "output_type": "execute_result"
    }
   ],
   "source": [
    "# Execute the command (a string) in a subshell.\n",
    "\n",
    "command = \"dir\"\n",
    "os.system(command)"
   ]
  },
  {
   "cell_type": "code",
   "execution_count": 4,
   "metadata": {},
   "outputs": [
    {
     "name": "stdout",
     "output_type": "stream",
     "text": [
      "E:\\Photoshoot Backups0.08.01\\GT_01022 .ARW\n"
     ]
    }
   ],
   "source": [
    "path, ext = os.path.splitext('E:\\Photoshoot Backups\\2020.08.01\\GT_01022.ARW')\n",
    "print(path, ext)"
   ]
  },
  {
   "cell_type": "markdown",
   "metadata": {},
   "source": [
    "# sys\n",
    "\n",
    "https://docs.python.org/3/library/sys.html"
   ]
  },
  {
   "cell_type": "code",
   "execution_count": 5,
   "metadata": {},
   "outputs": [],
   "source": [
    "import sys"
   ]
  },
  {
   "cell_type": "code",
   "execution_count": 6,
   "metadata": {},
   "outputs": [
    {
     "name": "stdout",
     "output_type": "stream",
     "text": [
      "Python default installation on:  c:\\anaconda2\\envs\\py3\n",
      "sys.path:  ['', 'c:\\\\anaconda2\\\\envs\\\\py3\\\\python35.zip', 'c:\\\\anaconda2\\\\envs\\\\py3\\\\DLLs', 'c:\\\\anaconda2\\\\envs\\\\py3\\\\lib', 'c:\\\\anaconda2\\\\envs\\\\py3', 'C:\\\\Users\\\\GyanT\\\\AppData\\\\Roaming\\\\Python\\\\Python35\\\\site-packages', 'c:\\\\anaconda2\\\\envs\\\\py3\\\\lib\\\\site-packages', 'c:\\\\anaconda2\\\\envs\\\\py3\\\\lib\\\\site-packages\\\\IPython\\\\extensions', 'C:\\\\Users\\\\GyanT\\\\.ipython']\n",
      "sys.path:  ['', 'c:\\\\anaconda2\\\\envs\\\\py3\\\\python35.zip', 'c:\\\\anaconda2\\\\envs\\\\py3\\\\DLLs', 'c:\\\\anaconda2\\\\envs\\\\py3\\\\lib', 'c:\\\\anaconda2\\\\envs\\\\py3', 'C:\\\\Users\\\\GyanT\\\\AppData\\\\Roaming\\\\Python\\\\Python35\\\\site-packages', 'c:\\\\anaconda2\\\\envs\\\\py3\\\\lib\\\\site-packages', 'c:\\\\anaconda2\\\\envs\\\\py3\\\\lib\\\\site-packages\\\\IPython\\\\extensions', 'C:\\\\Users\\\\GyanT\\\\.ipython', '/home/freesurfer/data-GT/FSL-Atlas/3D/']\n"
     ]
    }
   ],
   "source": [
    "# Python default installation\n",
    "print(\"Python default installation on: \", sys.prefix)\n",
    "\n",
    "#A list of strings that specifies the search path for modules.\n",
    "print(\"sys.path: \", sys.path)\n",
    "sys.path.append('/home/freesurfer/data-GT/FSL-Atlas/3D/')\n",
    "print(\"sys.path: \", sys.path)"
   ]
  },
  {
   "cell_type": "code",
   "execution_count": null,
   "metadata": {},
   "outputs": [],
   "source": []
  }
 ],
 "metadata": {
  "kernelspec": {
   "display_name": "Python 3",
   "language": "python",
   "name": "python3"
  },
  "language_info": {
   "codemirror_mode": {
    "name": "ipython",
    "version": 3
   },
   "file_extension": ".py",
   "mimetype": "text/x-python",
   "name": "python",
   "nbconvert_exporter": "python",
   "pygments_lexer": "ipython3",
   "version": "3.7.9"
  }
 },
 "nbformat": 4,
 "nbformat_minor": 2
}
