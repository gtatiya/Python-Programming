{
 "cells": [
  {
   "cell_type": "markdown",
   "metadata": {},
   "source": [
    "# os\n",
    "\n",
    "https://docs.python.org/3/library/os.html"
   ]
  },
  {
   "cell_type": "code",
   "execution_count": 2,
   "metadata": {},
   "outputs": [],
   "source": [
    "import os"
   ]
  },
  {
   "cell_type": "code",
   "execution_count": 2,
   "metadata": {},
   "outputs": [],
   "source": [
    "# All environment variables\n",
    "#print(os.environ)\n",
    "\n",
    "# print values of a environment variables\n",
    "print(\"CONDA_PYTHON_EXE: \", os.environ[\"CONDA_PYTHON_EXE\"])\n",
    "\n",
    "# get an environment variables with some value\n",
    "BATCH_SIZE = int(os.environ.get('BATCH_SIZE', 32))\n",
    "print(\"BATCH_SIZE: \", BATCH_SIZE)"
   ]
  },
  {
   "cell_type": "code",
   "execution_count": 3,
   "metadata": {},
   "outputs": [],
   "source": [
    "# current working directory\n",
    "cwd = os.getcwd()\n",
    "print(\"current working directory: \", cwd)\n",
    "\n",
    "os.chdir(r\"C:\\Users\")\n",
    "print(\"current working directory: \", os.getcwd())\n",
    "\n",
    "os.chdir(cwd)\n",
    "print(\"current working directory: \", os.getcwd())"
   ]
  },
  {
   "cell_type": "code",
   "execution_count": 4,
   "metadata": {},
   "outputs": [
    {
     "data": {
      "text/plain": [
       "0"
      ]
     },
     "execution_count": 4,
     "metadata": {},
     "output_type": "execute_result"
    }
   ],
   "source": [
    "# Execute the command (a string) in a subshell.\n",
    "\n",
    "command = \"dir\"\n",
    "os.system(command)"
   ]
  },
  {
   "cell_type": "code",
   "execution_count": 4,
   "metadata": {},
   "outputs": [
    {
     "name": "stdout",
     "output_type": "stream",
     "text": [
      "E:\\Photoshoot Backups0.08.01\\GT_01022 .ARW\n"
     ]
    }
   ],
   "source": [
    "path, ext = os.path.splitext('E:\\Photoshoot Backups\\2020.08.01\\GT_01022.ARW')\n",
    "print(path, ext)"
   ]
  },
  {
   "cell_type": "markdown",
   "metadata": {},
   "source": [
    "# sys\n",
    "\n",
    "https://docs.python.org/3/library/sys.html"
   ]
  },
  {
   "cell_type": "code",
   "execution_count": 5,
   "metadata": {},
   "outputs": [],
   "source": [
    "import sys"
   ]
  },
  {
   "cell_type": "code",
   "execution_count": 6,
   "metadata": {},
   "outputs": [
    {
     "name": "stdout",
     "output_type": "stream",
     "text": [
      "Python default installation on:  c:\\anaconda2\\envs\\py3\n",
      "sys.path:  ['', 'c:\\\\anaconda2\\\\envs\\\\py3\\\\python35.zip', 'c:\\\\anaconda2\\\\envs\\\\py3\\\\DLLs', 'c:\\\\anaconda2\\\\envs\\\\py3\\\\lib', 'c:\\\\anaconda2\\\\envs\\\\py3', 'C:\\\\Users\\\\GyanT\\\\AppData\\\\Roaming\\\\Python\\\\Python35\\\\site-packages', 'c:\\\\anaconda2\\\\envs\\\\py3\\\\lib\\\\site-packages', 'c:\\\\anaconda2\\\\envs\\\\py3\\\\lib\\\\site-packages\\\\IPython\\\\extensions', 'C:\\\\Users\\\\GyanT\\\\.ipython']\n",
      "sys.path:  ['', 'c:\\\\anaconda2\\\\envs\\\\py3\\\\python35.zip', 'c:\\\\anaconda2\\\\envs\\\\py3\\\\DLLs', 'c:\\\\anaconda2\\\\envs\\\\py3\\\\lib', 'c:\\\\anaconda2\\\\envs\\\\py3', 'C:\\\\Users\\\\GyanT\\\\AppData\\\\Roaming\\\\Python\\\\Python35\\\\site-packages', 'c:\\\\anaconda2\\\\envs\\\\py3\\\\lib\\\\site-packages', 'c:\\\\anaconda2\\\\envs\\\\py3\\\\lib\\\\site-packages\\\\IPython\\\\extensions', 'C:\\\\Users\\\\GyanT\\\\.ipython', '/home/freesurfer/data-GT/FSL-Atlas/3D/']\n"
     ]
    }
   ],
   "source": [
    "# Python default installation\n",
    "print(\"Python default installation on: \", sys.prefix)\n",
    "\n",
    "#A list of strings that specifies the search path for modules.\n",
    "print(\"sys.path: \", sys.path)\n",
    "sys.path.append('/home/freesurfer/data-GT/FSL-Atlas/3D/')\n",
    "print(\"sys.path: \", sys.path)"
   ]
  },
  {
   "cell_type": "code",
   "execution_count": null,
   "metadata": {},
   "outputs": [],
   "source": []
  }
 ],
 "metadata": {
  "kernelspec": {
   "display_name": "Python 3",
   "language": "python",
   "name": "python3"
  },
  "language_info": {
   "codemirror_mode": {
    "name": "ipython",
    "version": 3
   },
   "file_extension": ".py",
   "mimetype": "text/x-python",
   "name": "python",
   "nbconvert_exporter": "python",
   "pygments_lexer": "ipython3",
   "version": "3.7.4"
  }
 },
 "nbformat": 4,
 "nbformat_minor": 2
}
