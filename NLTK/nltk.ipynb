{
 "cells": [
  {
   "cell_type": "markdown",
   "metadata": {},
   "source": [
    "# Natural Language Toolkit (NLTK)\n",
    "NLTK -- the Natural Language Toolkit -- is a suite of open source Python modules, data sets and tutorials supporting research and development in Natural Language Processing.\n",
    "\n",
    "http://www.nltk.org/ <br>\n",
    "https://github.com/nltk/nltk"
   ]
  },
  {
   "cell_type": "code",
   "execution_count": 2,
   "metadata": {
    "collapsed": true
   },
   "outputs": [],
   "source": [
    "import nltk\n",
    "from nltk.corpus import brown"
   ]
  },
  {
   "cell_type": "markdown",
   "metadata": {},
   "source": [
    "# Corpus Readers"
   ]
  },
  {
   "cell_type": "raw",
   "metadata": {},
   "source": [
    "http://www.nltk.org/api/nltk.corpus.reader.html\n",
    "http://www.nltk.org/howto/corpus.html\n",
    "\n",
    "words(): list of str\n",
    "sents(): list of (list of str)\n",
    "paras(): list of (list of (list of str))\n",
    "tagged_words(): list of (str,str) tuple\n",
    "tagged_sents(): list of (list of (str,str))\n",
    "tagged_paras(): list of (list of (list of (str,str)))"
   ]
  },
  {
   "cell_type": "code",
   "execution_count": 6,
   "metadata": {
    "collapsed": false
   },
   "outputs": [
    {
     "name": "stdout",
     "output_type": "stream",
     "text": [
      "[u'The', u'Fulton', u'County', u'Grand', u'Jury', u'said', u'Friday', u'an', u'investigation', u'of', u\"Atlanta's\", u'recent', u'primary', u'election', u'produced', u'``', u'no', u'evidence', u\"''\", u'that', u'any', u'irregularities', u'took', u'place', u'.']\n",
      "The Fulton County Grand Jury said Friday an investigation of Atlanta's recent primary election produced `` no evidence '' that any irregularities took place .\n"
     ]
    }
   ],
   "source": [
    "print brown.sents()[0]\n",
    "print \" \".join(brown.sents()[0])"
   ]
  },
  {
   "cell_type": "code",
   "execution_count": 8,
   "metadata": {
    "collapsed": false
   },
   "outputs": [
    {
     "name": "stdout",
     "output_type": "stream",
     "text": [
      "['Good', 'muffins', 'cost', '$', '3.88', 'in', 'New', 'York', '.', 'Please', 'buy', 'me', 'two', 'of', 'them', '.', 'Thanks', '.']\n"
     ]
    }
   ],
   "source": [
    "\"\"\"\n",
    "word_tokenize(s)\n",
    "Tokenize a string\n",
    "http://www.nltk.org/api/nltk.tokenize.html\n",
    "\"\"\"\n",
    "\n",
    "sentence = '''Good muffins cost $3.88\\nin New York.  Please buy me two of them.\\n\\nThanks.'''\n",
    "tokens = nltk.word_tokenize(sentence)\n",
    "print tokens"
   ]
  },
  {
   "cell_type": "markdown",
   "metadata": {},
   "source": [
    "# nltk.tag.util"
   ]
  },
  {
   "cell_type": "code",
   "execution_count": 2,
   "metadata": {
    "collapsed": true
   },
   "outputs": [],
   "source": [
    "# http://www.nltk.org/_modules/nltk/tag/util.html\n",
    "from nltk.tag.util import untag  # Untags a tagged sentence"
   ]
  },
  {
   "cell_type": "code",
   "execution_count": 5,
   "metadata": {
    "collapsed": false
   },
   "outputs": [
    {
     "name": "stdout",
     "output_type": "stream",
     "text": [
      "The Fulton County Grand Jury said Friday an investigation of Atlanta's recent primary election produced `` no evidence '' that any irregularities took place .\n"
     ]
    }
   ],
   "source": [
    "\"\"\"\n",
    "untag()\n",
    "Given a tagged sentence, return an untagged version of that sentence.  I.e., return a list containing the first element\n",
    "of each tuple in *tagged_sentence*.\n",
    "\"\"\"\n",
    "\n",
    "print \" \".join(untag(brown.tagged_sents()[0]))"
   ]
  },
  {
   "cell_type": "markdown",
   "metadata": {
    "collapsed": true
   },
   "source": [
    "# nltk.tree"
   ]
  },
  {
   "cell_type": "code",
   "execution_count": 3,
   "metadata": {
    "collapsed": true
   },
   "outputs": [],
   "source": [
    "# http://www.nltk.org/_modules/nltk/tree.html\n",
    "from nltk.tree import Tree"
   ]
  },
  {
   "cell_type": "code",
   "execution_count": 5,
   "metadata": {
    "collapsed": false
   },
   "outputs": [
    {
     "name": "stdout",
     "output_type": "stream",
     "text": [
      "tree: (VP (VB Book) (NP (DT that) (NN flight)))\n",
      "child: (VB Book)\n",
      "child: (NP (DT that) (NN flight))\n",
      "tree.height(), tree[0].height(), tree[1].height(): 4 2 3\n",
      "tree.label(), tree[0].label(), tree[1].label(): VP VB NP\n",
      "tree.leaves(): ['Book', 'that', 'flight']\n",
      "subtree: (VP (VB Book) (NP (DT that) (NN flight)))\n",
      "subtree: (VB Book)\n",
      "subtree: (NP (DT that) (NN flight))\n",
      "subtree: (DT that)\n",
      "subtree: (NN flight)\n",
      "production: VP -> VB NP\n",
      "production: VB -> 'Book'\n",
      "production: NP -> DT NN\n",
      "production: DT -> 'that'\n",
      "production: NN -> 'flight'\n"
     ]
    }
   ],
   "source": [
    "'''\n",
    "        VP\n",
    "      /   \\\n",
    "    VP    NP\n",
    "    /    /  \\\n",
    " Book   DT   NN\n",
    "        |     |\n",
    "      that  flight\n",
    "'''\n",
    "\n",
    "\"\"\"\n",
    "Tree(label, children)\n",
    "constructs a new tree with the specified label and list of children\n",
    "\"\"\"\n",
    "tree = Tree(\"VP\", [Tree(\"VB\", [\"Book\"]), Tree(\"NP\", [Tree(\"DT\", [\"that\"]), Tree(\"NN\", [\"flight\"])])])\n",
    "print \"tree:\", tree\n",
    "\n",
    "for child in tree: print \"child:\", child\n",
    "\n",
    "\"\"\"\n",
    "height()\n",
    "Return the height of the tree.\n",
    "\"\"\"\n",
    "print \"tree.height(), tree[0].height(), tree[1].height():\", tree.height(), tree[0].height(), tree[1].height()\n",
    "\n",
    "\"\"\"\n",
    "label()\n",
    "Return the node label of the tree\n",
    "\"\"\"\n",
    "print \"tree.label(), tree[0].label(), tree[1].label():\", tree.label(), tree[0].label(), tree[1].label()\n",
    "\n",
    "\"\"\"\n",
    "leaves()\n",
    "Return the leaves of the tree\n",
    "\"\"\"\n",
    "print \"tree.leaves():\", tree.leaves()\n",
    "\n",
    "\"\"\"\n",
    "subtrees(self, filter=None)\n",
    "Generate all the subtrees of this tree, optionally restricted to trees matching the filter function\n",
    "\"\"\"\n",
    "for subtree in tree.subtrees(): print \"subtree:\", subtree\n",
    "\n",
    "\"\"\"\n",
    "productions()\n",
    "Generate the productions that correspond to the non-terminal nodes of the tree.\n",
    "For each subtree of the form (P: C1 C2 ... Cn) this produces a production of the\n",
    "form P -> C1 C2 ... Cn.\n",
    "\"\"\"\n",
    "for production in tree.productions(): print \"production:\", production"
   ]
  }
 ],
 "metadata": {
  "anaconda-cloud": {},
  "kernelspec": {
   "display_name": "Python [default]",
   "language": "python",
   "name": "python2"
  },
  "language_info": {
   "codemirror_mode": {
    "name": "ipython",
    "version": 2
   },
   "file_extension": ".py",
   "mimetype": "text/x-python",
   "name": "python",
   "nbconvert_exporter": "python",
   "pygments_lexer": "ipython2",
   "version": "2.7.12"
  }
 },
 "nbformat": 4,
 "nbformat_minor": 1
}
