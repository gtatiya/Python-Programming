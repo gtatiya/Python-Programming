{
 "cells": [
  {
   "cell_type": "code",
   "execution_count": 1,
   "metadata": {},
   "outputs": [],
   "source": [
    "import time\n",
    "\n",
    "\"\"\"\n",
    "https://www.w3resource.com/python-exercises/python-basic-exercise-65.php\n",
    "\"\"\"\n",
    "\n",
    "def time_taken(start, end):\n",
    "    \"\"\"Human readable time between `start` and `end`\n",
    "\n",
    "    :param start: time.time()\n",
    "    :param end: time.time()\n",
    "    :returns: day:hour:minute:second.millisecond\n",
    "    \"\"\"\n",
    "    my_time = end-start\n",
    "    day = my_time // (24 * 3600)\n",
    "    my_time = my_time % (24 * 3600)\n",
    "    hour = my_time // 3600\n",
    "    my_time %= 3600\n",
    "    minutes = my_time // 60\n",
    "    my_time %= 60\n",
    "    seconds = my_time\n",
    "    milliseconds = ((end - start)-int(end - start))\n",
    "    day_hour_min_sec = str('%02d' % int(day))+\":\"+str('%02d' % int(hour))+\":\"+str('%02d' % int(minutes))+\":\"+str('%02d' % int(seconds)+\".\"+str('%.3f' % milliseconds)[2:])\n",
    "    \n",
    "    return day_hour_min_sec"
   ]
  },
  {
   "cell_type": "markdown",
   "metadata": {},
   "source": [
    "# VIII Technical Questions\n",
    "## Page 68\n",
    "\n",
    "Print all possible interger solutions to a^3 + b^3 = c^3 + d^3, where a, b, c, d are integer between 1 and 1000"
   ]
  },
  {
   "cell_type": "code",
   "execution_count": 2,
   "metadata": {},
   "outputs": [
    {
     "name": "stdout",
     "output_type": "stream",
     "text": [
      "No of solutions:  5046\n",
      "day, hour, minute, second.millisecond-> 00:00:00:09.206\n"
     ]
    }
   ],
   "source": [
    "start_time = time.time()\n",
    "\n",
    "n = 50\n",
    "count = 0\n",
    "for a in range(n):\n",
    "    for b in range(n):\n",
    "        for c in range(n):\n",
    "            for d in range(n):\n",
    "                if a**3+b**3 == c**3+d**3:\n",
    "                    #print(a, b, c, d)\n",
    "                    count += 1\n",
    "\n",
    "print(\"No of solutions: \", count)\n",
    "print(\"day, hour, minute, second.millisecond->\", time_taken(start_time, time.time()))"
   ]
  },
  {
   "cell_type": "code",
   "execution_count": 3,
   "metadata": {},
   "outputs": [
    {
     "name": "stdout",
     "output_type": "stream",
     "text": [
      "No of solutions:  5046\n",
      "day, hour, minute, second.millisecond-> 00:00:00:11.750\n"
     ]
    }
   ],
   "source": [
    "start_time = time.time()\n",
    "\n",
    "n = 50\n",
    "count = 0\n",
    "for a in range(n):\n",
    "    for b in range(n):\n",
    "        for c in range(n):\n",
    "            for d in range(n):\n",
    "                if a**3+b**3 == c**3+d**3:\n",
    "                    #print(a, b, c, d)\n",
    "                    count += 1\n",
    "                    break\n",
    "\n",
    "print(\"No of solutions: \", count)\n",
    "print(\"day, hour, minute, second.millisecond->\", time_taken(start_time, time.time()))"
   ]
  },
  {
   "cell_type": "code",
   "execution_count": 4,
   "metadata": {},
   "outputs": [
    {
     "name": "stdout",
     "output_type": "stream",
     "text": [
      "No of solutions:  209\n",
      "day, hour, minute, second.millisecond-> 00:00:00:00.547\n"
     ]
    }
   ],
   "source": [
    "start_time = time.time()\n",
    "\n",
    "n = 50\n",
    "count = 0\n",
    "for a in range(n):\n",
    "    for b in range(n):\n",
    "        for c in range(n):\n",
    "            d = ((a**3+b**3)-c**3) ** 1/3\n",
    "            d = int(d)\n",
    "            if a**3+b**3 == c**3+d**3:\n",
    "                #print(a, b, c, d)\n",
    "                count += 1\n",
    "\n",
    "print(\"No of solutions: \", count)\n",
    "print(\"day, hour, minute, second.millisecond->\", time_taken(start_time, time.time()))"
   ]
  },
  {
   "cell_type": "code",
   "execution_count": 5,
   "metadata": {},
   "outputs": [
    {
     "name": "stdout",
     "output_type": "stream",
     "text": [
      "No of solutions:  5046\n",
      "day, hour, minute, second.millisecond-> 00:00:00:00.009\n"
     ]
    }
   ],
   "source": [
    "start_time = time.time()\n",
    "\n",
    "n = 50\n",
    "count = 0\n",
    "result_dict = {}\n",
    "\n",
    "for c in range(n):\n",
    "    for d in range(n):\n",
    "        result = c**3+d**3\n",
    "        if result in result_dict:\n",
    "            result_dict[result].append((c, d))\n",
    "        else:\n",
    "            result_dict[result] = []\n",
    "            result_dict[result].append((c, d))\n",
    "\n",
    "for a in range(n):\n",
    "    for b in range(n):\n",
    "        result = a**3+b**3\n",
    "        pair_list = result_dict[result]\n",
    "        for a_pair in pair_list:\n",
    "#             print(a, b, a_pair)\n",
    "            count += 1\n",
    "\n",
    "print(\"No of solutions: \", count)\n",
    "print(\"day, hour, minute, second.millisecond->\", time_taken(start_time, time.time()))"
   ]
  },
  {
   "cell_type": "code",
   "execution_count": 6,
   "metadata": {
    "scrolled": true
   },
   "outputs": [
    {
     "name": "stdout",
     "output_type": "stream",
     "text": [
      "No of solutions:  5046\n",
      "day, hour, minute, second.millisecond-> 00:00:00:00.005\n"
     ]
    }
   ],
   "source": [
    "start_time = time.time()\n",
    "\n",
    "n = 50\n",
    "count = 0\n",
    "result_dict = {}\n",
    "\n",
    "for c in range(n):\n",
    "    for d in range(n):\n",
    "        result = c**3+d**3\n",
    "        if result in result_dict:\n",
    "            result_dict[result].append((c, d))\n",
    "        else:\n",
    "            result_dict[result] = []\n",
    "            result_dict[result].append((c, d))\n",
    "\n",
    "for a_result in result_dict.values():\n",
    "    for pair1 in a_result:\n",
    "        for pair2 in a_result:\n",
    "#             print(a_result, pair1, pair2)\n",
    "            count += 1\n",
    "\n",
    "print(\"No of solutions: \", count)\n",
    "print(\"day, hour, minute, second.millisecond->\", time_taken(start_time, time.time()))"
   ]
  },
  {
   "cell_type": "raw",
   "metadata": {},
   "source": [
    "('No of solutions: ', 5046)\n",
    "('day, hour, minute, second.millisecond->', '00:00:00:02.811')\n",
    "\n",
    "with break\n",
    "('No of solutions: ', 5046)\n",
    "('day, hour, minute, second.millisecond->', '00:00:00:02.723')\n",
    "\n",
    "d = ((a**3+b**3)-c**3) ** 1/3\n",
    "('No of solutions: ', 207)\n",
    "('day, hour, minute, second.millisecond->', '00:00:00:00.283')\n",
    "\n",
    "hash table\n",
    "('No of solutions: ', 5046)\n",
    "('day, hour, minute, second.millisecond->', '00:00:00:00.552')\n",
    "\n",
    "hash table2\n",
    "('No of solutions: ', 5046)\n",
    "('day, hour, minute, second.millisecond->', '00:00:00:00.566')\n",
    "\n",
    "=====\n",
    "\n",
    "('No of solutions: ', 5046)\n",
    "('day, hour, minute, second.millisecond->', '00:00:00:01.483')\n",
    "\n",
    "with break\n",
    "('No of solutions: ', 5046)\n",
    "('day, hour, minute, second.millisecond->', '00:00:00:01.863')\n",
    "\n",
    "d = ((a**3+b**3)-c**3) ** 1/3\n",
    "('No of solutions: ', 207)\n",
    "('day, hour, minute, second.millisecond->', '00:00:00:00.274')\n",
    "\n",
    "hash table\n",
    "('No of solutions: ', 5046)\n",
    "('day, hour, minute, second.millisecond->', '00:00:00:00.012')\n",
    "\n",
    "hash table2\n",
    "('No of solutions: ', 5046)\n",
    "('day, hour, minute, second.millisecond->', '00:00:00:00.005')"
   ]
  },
  {
   "cell_type": "markdown",
   "metadata": {},
   "source": [
    "## Page 70\n",
    "\n",
    "Example: Given a smaller string s and a bigger string b, design an algorithm to find all permutations of the shorter string within the longer one. Print the location of each permutation."
   ]
  },
  {
   "cell_type": "code",
   "execution_count": 7,
   "metadata": {},
   "outputs": [],
   "source": [
    "s = \"abca\"\n",
    "b = \"ssabcahbknjabcabcacbaakjnkjabcalkmlkmnabcajkabcan\""
   ]
  },
  {
   "cell_type": "code",
   "execution_count": 8,
   "metadata": {},
   "outputs": [],
   "source": [
    "s = \"abbc\"\n",
    "b = \"cbabadcbbabbcbabaabccbabc\""
   ]
  },
  {
   "cell_type": "code",
   "execution_count": 9,
   "metadata": {},
   "outputs": [
    {
     "name": "stdout",
     "output_type": "stream",
     "text": [
      "['abbc', 'abcb', 'abbc', 'abcb', 'acbb', 'acbb', 'babc', 'bacb', 'bbac', 'bbca', 'bcab', 'bcba', 'babc', 'bacb', 'bbac', 'bbca', 'bcab', 'bcba', 'cabb', 'cabb', 'cbab', 'cbba', 'cbab', 'cbba']\n"
     ]
    }
   ],
   "source": [
    "from itertools import permutations\n",
    "perms = [''.join(p) for p in permutations(s)]\n",
    "print(perms)"
   ]
  },
  {
   "cell_type": "code",
   "execution_count": 10,
   "metadata": {},
   "outputs": [
    {
     "name": "stdout",
     "output_type": "stream",
     "text": [
      "Location:  0 cbab\n",
      "Location:  6 cbba\n",
      "Location:  9 abbc\n",
      "Location:  11 bcba\n",
      "Location:  12 cbab\n",
      "Location:  20 cbab\n",
      "Location:  21 babc\n"
     ]
    }
   ],
   "source": [
    "\n",
    "for i in range(len(b)):\n",
    "    if b[i] in s:\n",
    "        if b[i:i+len(s)] in perms:\n",
    "            print(\"Location: \", i, b[i:i+len(s)])"
   ]
  },
  {
   "cell_type": "markdown",
   "metadata": {},
   "source": [
    "# 1 Arrays and Strings\n",
    "## Interview Questions, Page: 90"
   ]
  },
  {
   "cell_type": "code",
   "execution_count": 11,
   "metadata": {},
   "outputs": [
    {
     "name": "stdout",
     "output_type": "stream",
     "text": [
      "True\n",
      "False\n"
     ]
    }
   ],
   "source": [
    "\"\"\"\n",
    "Q1.1\n",
    "Is Unique: Implement an algorithm to determine if a string has all unique characters.\n",
    "What if you cannot use additional data structures?\n",
    "\"\"\"\n",
    "\n",
    "def isUniqueChar(my_str):\n",
    "    \n",
    "    if len(my_str) > 128:\n",
    "        return False\n",
    "    \n",
    "    char_set = [False for i in range(128)]\n",
    "    for i in range(len(my_str)):\n",
    "        a_char_index = ord(my_str[i]) # ** ord: https://docs.python.org/3/library/functions.html#ord\n",
    "        if char_set[a_char_index]:\n",
    "            return False\n",
    "        char_set[a_char_index] = True\n",
    "\n",
    "    return True\n",
    "\n",
    "my_str = \"abcdefg\"\n",
    "print(isUniqueChar(my_str))\n",
    "\n",
    "my_str = \"abcdefgzz\"\n",
    "print(isUniqueChar(my_str))"
   ]
  },
  {
   "cell_type": "code",
   "execution_count": 16,
   "metadata": {},
   "outputs": [
    {
     "name": "stdout",
     "output_type": "stream",
     "text": [
      "True\n",
      "False\n",
      "day, hour, minute, second.millisecond-> 00:00:00:00.000\n",
      "True\n",
      "False\n",
      "day, hour, minute, second.millisecond-> 00:00:00:00.001\n"
     ]
    }
   ],
   "source": [
    "\"\"\"\n",
    "Q1.2\n",
    "Check Permutation: Given two strings, write a method to decide if one is a permutation of the other.\n",
    "\"\"\"\n",
    "\n",
    "def permutation(str1, str2):\n",
    "    \n",
    "    if (len(str1) == len(str2)) and (sorted(str1) == sorted(str2)):\n",
    "        return True\n",
    "    else:\n",
    "        return False\n",
    "\n",
    "def permutation_v2(str1, str2):\n",
    "    \n",
    "    if (len(str1) != len(str2)):\n",
    "        return False\n",
    "    \n",
    "    letters = [0 for i in range(128)]\n",
    "    for i in range(len(str1)):\n",
    "        index = ord(str1[i]) # ** ord: https://docs.python.org/3/library/functions.html#ord\n",
    "        letters[index] += 1\n",
    "\n",
    "    for i in range(len(str2)):\n",
    "        index = ord(str2[i]) # ** ord: https://docs.python.org/3/library/functions.html#ord\n",
    "        letters[index] -= 1\n",
    "        if letters[index] < 0:\n",
    "            return False\n",
    "    return True\n",
    "\n",
    "start_time = time.time()\n",
    "str1 = \"abcd\"\n",
    "str2 = \"acdb\"\n",
    "print(permutation(str1, str2))\n",
    "str1 = \"abcd\"\n",
    "str2 = \"accb\"\n",
    "print(permutation(str1, str2))\n",
    "print(\"day, hour, minute, second.millisecond->\", time_taken(start_time, time.time()))\n",
    "\n",
    "start_time = time.time()\n",
    "str1 = \"abcd\"\n",
    "str2 = \"acdb\"\n",
    "print(permutation_v2(str1, str2))\n",
    "str1 = \"abcd\"\n",
    "str2 = \"accb\"\n",
    "print(permutation_v2(str1, str2))\n",
    "print(\"day, hour, minute, second.millisecond->\", time_taken(start_time, time.time()))"
   ]
  },
  {
   "cell_type": "code",
   "execution_count": 38,
   "metadata": {},
   "outputs": [
    {
     "ename": "ValueError",
     "evalue": "substring not found",
     "output_type": "error",
     "traceback": [
      "\u001b[1;31m---------------------------------------------------------------------------\u001b[0m",
      "\u001b[1;31mValueError\u001b[0m                                Traceback (most recent call last)",
      "\u001b[1;32m<ipython-input-38-bd35af1c1a67>\u001b[0m in \u001b[0;36m<module>\u001b[1;34m\u001b[0m\n\u001b[0;32m      1\u001b[0m \u001b[1;31m# \"lglg\".index(\"l\", 1)\u001b[0m\u001b[1;33m\u001b[0m\u001b[1;33m\u001b[0m\u001b[1;33m\u001b[0m\u001b[0m\n\u001b[0;32m      2\u001b[0m \u001b[1;33m\u001b[0m\u001b[0m\n\u001b[1;32m----> 3\u001b[1;33m \u001b[1;34m\"lllg\"\u001b[0m\u001b[1;33m.\u001b[0m\u001b[0mindex\u001b[0m\u001b[1;33m(\u001b[0m\u001b[1;34m\"z\"\u001b[0m\u001b[1;33m)\u001b[0m\u001b[1;33m\u001b[0m\u001b[1;33m\u001b[0m\u001b[0m\n\u001b[0m\u001b[0;32m      4\u001b[0m \u001b[1;33m\u001b[0m\u001b[0m\n\u001b[0;32m      5\u001b[0m \u001b[1;31m# my_str = \"lglg\"\u001b[0m\u001b[1;33m\u001b[0m\u001b[1;33m\u001b[0m\u001b[1;33m\u001b[0m\u001b[0m\n",
      "\u001b[1;31mValueError\u001b[0m: substring not found"
     ]
    }
   ],
   "source": [
    "# \"lglg\".index(\"l\", 1)\n",
    "\n",
    "\"lllg\".index(\"z\")\n",
    "\n",
    "# my_str = \"lglg\"\n",
    "# my_str = list(my_str)\n",
    "# print(my_str)\n",
    "\n",
    "# my_str.pop(1)\n",
    "\n",
    "# Index = 1\n",
    "# my_str = my_str[:Index] + my_str[Index + 1:]\n",
    "\n",
    "# print(my_str)"
   ]
  },
  {
   "cell_type": "code",
   "execution_count": 42,
   "metadata": {},
   "outputs": [
    {
     "name": "stdout",
     "output_type": "stream",
     "text": [
      "['t', 0, 0, 0, 0, 0, 0, 't'] ['a', 'c', ' ', 'c', 'o', 'a']\n",
      "['t', 'a', 0, 0, 0, 0, 'a', 't'] ['c', ' ', 'c', 'o']\n",
      "['t', 'a', 'c', 0, 0, 'c', 'a', 't'] [' ', 'o']\n",
      "['t', 'a', 'c', 'o', 0, 'c', 'a', 't'] [' ']\n"
     ]
    }
   ],
   "source": [
    "\n",
    "my_str = \"tact coa\"\n",
    "\n",
    "for j in range(len(my_str)):\n",
    "    my_str = list(my_str)\n",
    "    temp = my_str\n",
    "    my_pal = [0 for _ in range(len(my_str))]\n",
    "    for i in range(int(len(my_str)/2)):\n",
    "        if i == 3:\n",
    "            my_pal[i] = temp[-1]\n",
    "            temp = temp[:-1] # pop in string\n",
    "        elif i == 4:\n",
    "            my_pal[i] = \" \"\n",
    "            temp = temp[:-1] # pop in string\n",
    "        else:\n",
    "            my_pal[i] = temp[0]\n",
    "            temp = temp[:0] + temp[0 + 1:] # pop in string\n",
    "\n",
    "            try:\n",
    "                index = temp.index(my_pal[i])\n",
    "                my_pal[len(my_pal)-i-1] = temp[index]\n",
    "                temp = temp[:index] + temp[index + 1:] # pop in string\n",
    "            except:\n",
    "                pass\n",
    "        print(my_pal, temp)\n",
    "    \n",
    "    "
   ]
  },
  {
   "cell_type": "markdown",
   "metadata": {},
   "source": [
    "# XI Advanced Topics\n",
    "## Sum of lntegers 1 through N"
   ]
  },
  {
   "cell_type": "code",
   "execution_count": 12,
   "metadata": {},
   "outputs": [
    {
     "name": "stdout",
     "output_type": "stream",
     "text": [
      "1\n",
      "2\n",
      "3\n",
      "4\n",
      "\n",
      "3\n",
      "4\n",
      "5\n",
      "\n",
      "5\n",
      "6\n",
      "\n",
      "7\n",
      "\n",
      "\n"
     ]
    }
   ],
   "source": [
    "n = 5\n",
    "\n",
    "for i in range(n):\n",
    "    #print(\"i=\", i)\n",
    "    for j in range(i+1, n):\n",
    "        #print(\"j=\", j)\n",
    "        print(i+j)\n",
    "    print(\"\")"
   ]
  },
  {
   "cell_type": "code",
   "execution_count": null,
   "metadata": {},
   "outputs": [],
   "source": []
  }
 ],
 "metadata": {
  "anaconda-cloud": {},
  "kernelspec": {
   "display_name": "Python 3",
   "language": "python",
   "name": "python3"
  },
  "language_info": {
   "codemirror_mode": {
    "name": "ipython",
    "version": 3
   },
   "file_extension": ".py",
   "mimetype": "text/x-python",
   "name": "python",
   "nbconvert_exporter": "python",
   "pygments_lexer": "ipython3",
   "version": "3.7.6"
  }
 },
 "nbformat": 4,
 "nbformat_minor": 1
}
