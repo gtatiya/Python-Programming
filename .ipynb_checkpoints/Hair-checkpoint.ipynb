{
 "cells": [
  {
   "cell_type": "code",
   "execution_count": 2,
   "metadata": {},
   "outputs": [],
   "source": [
    "#http://www.xappsoftware.com/wordpress/2013/04/25/how-to-add-a-text-to-a-picture-using-python/\n",
    "# Works on Python 3\n",
    "\n",
    "import PIL\n",
    "from PIL import ImageFont\n",
    "from PIL import Image\n",
    "from PIL import ImageDraw\n",
    "import os\n",
    "\n",
    "# Loading Fonts….\n",
    "# Note the following line works on Ubuntu 12.04\n",
    "# On other operating systems you should set the correct path\n",
    "# To the font you want to use.\n",
    "font = ImageFont.truetype(\"files\"+os.sep+\"Tahoma.ttf\", 20)\n",
    " \n",
    "# Opening the file gg.png\n",
    "imageFile = \"files\"+os.sep+\"image.jpg\"\n",
    "im1=Image.open(imageFile)\n",
    " \n",
    "# Drawing the text on the picture\n",
    "draw = ImageDraw.Draw(im1)\n",
    "draw.text((0, 0),\"Gyan is the best\",fill=(0, 0, 0),font=font)\n",
    "draw = ImageDraw.Draw(im1)\n",
    " \n",
    "# Save the image with a new name\n",
    "im1.save(\"files\"+os.sep+\"marked_image.png\")"
   ]
  },
  {
   "cell_type": "code",
   "execution_count": null,
   "metadata": {
    "collapsed": true
   },
   "outputs": [],
   "source": []
  }
 ],
 "metadata": {
  "anaconda-cloud": {},
  "kernelspec": {
   "display_name": "Python 3",
   "language": "python",
   "name": "python3"
  },
  "language_info": {
   "codemirror_mode": {
    "name": "ipython",
    "version": 3
   },
   "file_extension": ".py",
   "mimetype": "text/x-python",
   "name": "python",
   "nbconvert_exporter": "python",
   "pygments_lexer": "ipython3",
   "version": "3.5.4"
  }
 },
 "nbformat": 4,
 "nbformat_minor": 1
}
