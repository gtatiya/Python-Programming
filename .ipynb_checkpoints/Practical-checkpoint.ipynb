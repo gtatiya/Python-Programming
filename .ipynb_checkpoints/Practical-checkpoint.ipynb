{
 "cells": [
  {
   "cell_type": "markdown",
   "metadata": {},
   "source": [
    "# Q2 [Circular Array Rotation](https://www.hackerrank.com/challenges/circular-array-rotation)\n",
    "Sample Input: <br>3 2 3 <br>\n",
    "1 2 3<br>\n",
    "0<br>\n",
    "1<br>\n",
    "2 <br>\n",
    "Sample Output:<br> 2<br>\n",
    "3<br>\n",
    "1"
   ]
  },
  {
   "cell_type": "code",
   "execution_count": null,
   "metadata": {
    "collapsed": false
   },
   "outputs": [],
   "source": [
    "n,k,q = raw_input().strip().split(' ')\n",
    "n,k,q = [int(n),int(k),int(q)]\n",
    "a = map(int,raw_input().strip().split(' '))\n",
    "\n",
    "for i in range(q):\n",
    "    m   =   int(input())    \n",
    "    print(a[(m-k)%n]) # Instead of creating a new array after rotation, I used 'a' to retrive value stored in new array.\n",
    "    #The new array stores each element 'k' times right to 'a'.\n",
    "    #So, in order to retrive element stored in 'mth' location in new array, I used a[m-k], because 'a' will store it 'k' times back.\n",
    "    #I took %n of it to make sure the value of index is always smaller than 'n', the length of array."
   ]
  },
  {
   "cell_type": "markdown",
   "metadata": {},
   "source": [
    "# Q1 [Time Conversion](https://www.hackerrank.com/challenges/time-conversion)\n",
    "Sample Input: 07:05:45PM <br>\n",
    "Sample Output: 19:05:45"
   ]
  },
  {
   "cell_type": "code",
   "execution_count": null,
   "metadata": {
    "collapsed": false
   },
   "outputs": [],
   "source": [
    "time = raw_input().strip().split(':')\n",
    "\n",
    "time[0] = int(time[0])\n",
    "\n",
    "if (time[0] < 12) and (time[2][2] == 'P'):\n",
    "    time[0] += 12\n",
    "\n",
    "if (time[0] == 12) and (time[2][2] == 'A'):\n",
    "    time[0] = 0\n",
    "\n",
    "if time[0] < 10:\n",
    "    time[0] = str(time[0])\n",
    "    print \"0\" + time[0] + \":\" + time[1] + \":\" + time[2][0]+time[2][1]\n",
    "else:\n",
    "    time[0] = str(time[0])\n",
    "    print time[0] + \":\" + time[1] + \":\" + time[2][0]+time[2][1]"
   ]
  }
 ],
 "metadata": {
  "anaconda-cloud": {},
  "kernelspec": {
   "display_name": "Python [default]",
   "language": "python",
   "name": "python2"
  },
  "language_info": {
   "codemirror_mode": {
    "name": "ipython",
    "version": 2
   },
   "file_extension": ".py",
   "mimetype": "text/x-python",
   "name": "python",
   "nbconvert_exporter": "python",
   "pygments_lexer": "ipython2",
   "version": "2.7.12"
  }
 },
 "nbformat": 4,
 "nbformat_minor": 1
}
