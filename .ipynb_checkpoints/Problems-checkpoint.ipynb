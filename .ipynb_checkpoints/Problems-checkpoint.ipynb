{
 "cells": [
  {
   "cell_type": "markdown",
   "metadata": {},
   "source": [
    "# Q) [Beautiful Days at the Movies](https://www.hackerrank.com/challenges/beautiful-days-at-the-movies)\n",
    "Sample Input: 20 23 6 <br>\n",
    "Sample Output: 2"
   ]
  },
  {
   "cell_type": "code",
   "execution_count": 4,
   "metadata": {
    "collapsed": false
   },
   "outputs": [
    {
     "name": "stdout",
     "output_type": "stream",
     "text": [
      "20 23 6\n",
      "2\n",
      "ello123\n",
      "llo123\n",
      "hello123\n",
      "hlo2\n",
      "3\n",
      "23\n",
      "321olleh\n",
      "31le\n"
     ]
    }
   ],
   "source": [
    "i,j,k = [int(x) for x in raw_input().strip().split(' ')]\n",
    "count = 0\n",
    "for x in range(i,j+1):\n",
    "    if (x - int(str(x)[::-1])) % k == 0:\n",
    "        count += 1\n",
    "print(count)\n",
    "\n",
    "\"\"\"Reversing a string\"\"\"\n",
    "a = 'hello123'\n",
    "print a[1::]\n",
    "print a[2::]\n",
    "print a[::1]\n",
    "print a[::2]\n",
    "print a[-1::]\n",
    "print a[-2::]\n",
    "print a[::-1] // Reversing\n",
    "print a[::-2]"
   ]
  },
  {
   "cell_type": "markdown",
   "metadata": {},
   "source": [
    "# Q) [Cut the sticks](https://www.hackerrank.com/challenges/cut-the-sticks)\n",
    "Sample Input: <br>6 <br>\n",
    "5 4 4 2 2 8<br>\n",
    "Sample Output:<br> 6<br>\n",
    "4<br>\n",
    "2<br>\n",
    "1<br>"
   ]
  },
  {
   "cell_type": "code",
   "execution_count": null,
   "metadata": {
    "collapsed": false
   },
   "outputs": [
    {
     "name": "stdout",
     "output_type": "stream",
     "text": [
      "8\n",
      "1 2 3 4 3 3 2 1\n",
      "8\n",
      "6\n",
      "4\n",
      "1\n"
     ]
    }
   ],
   "source": [
    "n = int(raw_input().strip())\n",
    "arr = map(int,raw_input().strip().split(' '))\n",
    "\n",
    "currSize = n\n",
    "\n",
    "while currSize > 0:\n",
    "    if len(arr) > 0:\n",
    "        currMin = min(arr) #https://docs.python.org/2/library/functions.html#min\n",
    "        # min(arg1, arg2, *args[, key]) - Return the smallest item in an iterable or the smallest of two or more arguments.\n",
    "        print(len(arr))\n",
    "    \n",
    "    for i in range(len(arr)):\n",
    "        arr[i] = arr[i] - currMin\n",
    "        if arr[i] <= 0:\n",
    "            arr[i]=0\n",
    "        \n",
    "    for i in range(arr.count(0)):\n",
    "        arr.remove(0) #https://docs.python.org/2/tutorial/datastructures.html#more-on-lists\n",
    "        # list.remove(x) - Remove the first item from the list whose value is x. It is an error if there is no such item."
   ]
  },
  {
   "cell_type": "markdown",
   "metadata": {},
   "source": [
    "# Q) [Kangaroo](https://www.hackerrank.com/challenges/kangaroo)\n",
    "Sample Input: <br>0 3 4 2 <br>\n",
    "Sample Output:<br> YES<br>\n",
    "Sample Input: <br>0 2 5 3 <br>\n",
    "Sample Output:<br> NO<br>"
   ]
  },
  {
   "cell_type": "code",
   "execution_count": null,
   "metadata": {
    "collapsed": false
   },
   "outputs": [],
   "source": [
    "x1,v1,x2,v2 = raw_input().strip().split(' ')\n",
    "x1,v1,x2,v2 = [int(x1),int(v1),int(x2),int(v2)]\n",
    "\n",
    "dist = x1 - x2 # x2 is always greater than x1 # \"dist = x2 - x1\" also works\n",
    "movement = v1 - v2 # for \"YES\" v1 always have to be greater than v2\n",
    "if movement > 0 and dist % movement == 0:\n",
    "    print \"YES\"\n",
    "else:\n",
    "    print \"NO\""
   ]
  },
  {
   "cell_type": "markdown",
   "metadata": {},
   "source": [
    "# Q) [Circular Array Rotation](https://www.hackerrank.com/challenges/circular-array-rotation)\n",
    "Sample Input: <br>3 2 3 <br>\n",
    "1 2 3<br>\n",
    "0<br>\n",
    "1<br>\n",
    "2 <br>\n",
    "Sample Output:<br> 2<br>\n",
    "3<br>\n",
    "1"
   ]
  },
  {
   "cell_type": "code",
   "execution_count": null,
   "metadata": {
    "collapsed": false
   },
   "outputs": [],
   "source": [
    "n,k,q = raw_input().strip().split(' ')\n",
    "n,k,q = [int(n),int(k),int(q)]\n",
    "a = map(int,raw_input().strip().split(' '))\n",
    "\n",
    "for i in range(q):\n",
    "    m   =   int(input())    \n",
    "    print(a[(m-k)%n]) # Instead of creating a new array after rotation, I used 'a' to retrive value stored in new array.\n",
    "    #The new array stores each element 'k' times right to 'a'.\n",
    "    #So, in order to retrive element stored in 'mth' location in new array, I used a[m-k], because 'a' will store it 'k' times back.\n",
    "    #I took %n of it to make sure the value of index is always smaller than 'n', the length of array."
   ]
  },
  {
   "cell_type": "markdown",
   "metadata": {},
   "source": [
    "# Q) [Time Conversion](https://www.hackerrank.com/challenges/time-conversion)\n",
    "Sample Input: 07:05:45PM <br>\n",
    "Sample Output: 19:05:45"
   ]
  },
  {
   "cell_type": "code",
   "execution_count": null,
   "metadata": {
    "collapsed": false
   },
   "outputs": [],
   "source": [
    "time = raw_input().strip().split(':')\n",
    "\n",
    "time[0] = int(time[0])\n",
    "\n",
    "if (time[0] < 12) and (time[2][2] == 'P'):\n",
    "    time[0] += 12\n",
    "\n",
    "if (time[0] == 12) and (time[2][2] == 'A'):\n",
    "    time[0] = 0\n",
    "\n",
    "if time[0] < 10:\n",
    "    time[0] = str(time[0])\n",
    "    print \"0\" + time[0] + \":\" + time[1] + \":\" + time[2][0]+time[2][1]\n",
    "else:\n",
    "    time[0] = str(time[0])\n",
    "    print time[0] + \":\" + time[1] + \":\" + time[2][0]+time[2][1]"
   ]
  },
  {
   "cell_type": "code",
   "execution_count": null,
   "metadata": {
    "collapsed": true
   },
   "outputs": [],
   "source": []
  }
 ],
 "metadata": {
  "anaconda-cloud": {},
  "kernelspec": {
   "display_name": "Python [default]",
   "language": "python",
   "name": "python2"
  },
  "language_info": {
   "codemirror_mode": {
    "name": "ipython",
    "version": 2
   },
   "file_extension": ".py",
   "mimetype": "text/x-python",
   "name": "python",
   "nbconvert_exporter": "python",
   "pygments_lexer": "ipython2",
   "version": "2.7.12"
  }
 },
 "nbformat": 4,
 "nbformat_minor": 1
}
