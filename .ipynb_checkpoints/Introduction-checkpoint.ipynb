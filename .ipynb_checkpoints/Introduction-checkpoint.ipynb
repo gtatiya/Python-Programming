{
 "cells": [
  {
   "cell_type": "markdown",
   "metadata": {},
   "source": [
    "# [The Python 2 Tutorial](https://docs.python.org/2/tutorial/index.html \"The Python Tutorial\")\n",
    "# [The Python 2 Library](https://docs.python.org/2/library/index.html \"The Python Standard Library\")\n",
    "========================================\n",
    "# <a href=\"#Control_Flow_Tools\">● Control Flow Tools</a>\n",
    "# <a href=\"#Data_Structures\">● Data Structures</a>\n",
    "## <a href=\"#Lists\">Lists</a>\n",
    "# <a href=\"#Built-in Functions\">● Built-in Functions</a>\n",
    "# <a href=\"#Input_and_Output\">● Input and Output</a>\n",
    "# <a href=\"#String\">● String</a>\n",
    "========================================"
   ]
  },
  {
   "cell_type": "markdown",
   "metadata": {},
   "source": [
    "# <a id=\"Control_Flow_Tools\">● Control Flow Tools</a>"
   ]
  },
  {
   "cell_type": "markdown",
   "metadata": {},
   "source": [
    "# <a id=\"Data_Structures\">● Data Structures</a>"
   ]
  },
  {
   "cell_type": "markdown",
   "metadata": {},
   "source": [
    "## <a id=\"Lists\">[Lists](https://docs.python.org/2/tutorial/introduction.html#lists)</a>"
   ]
  },
  {
   "cell_type": "code",
   "execution_count": 10,
   "metadata": {
    "collapsed": false
   },
   "outputs": [
    {
     "name": "stdout",
     "output_type": "stream",
     "text": [
      "colors.index('blue'): 2\n",
      "M.index(3): 2\n",
      "M.index(3, 4, 8): 5\n"
     ]
    }
   ],
   "source": [
    "'''\n",
    "list.index(x[, start[, end]])\n",
    "Return the index in the list of the first item whose value is x. It is an error if there is no such item.\n",
    "https://docs.python.org/2/tutorial/datastructures.html\n",
    "https://infohost.nmt.edu/tcc/help/pubs/python/web/list-methods.html\n",
    "'''\n",
    "colors = ['red', 'green', 'blue', 'indigo', 'violet', 'pale puce']\n",
    "print \"colors.index('blue'):\", colors.index('blue')\n",
    "\n",
    "M=[0, 0, 3, 0, 0, 3, 3, 0, 0, 3]\n",
    "print \"M.index(3):\", M.index(3)\n",
    "print \"M.index(3, 4, 8):\", M.index(3, 4, 8)"
   ]
  },
  {
   "cell_type": "code",
   "execution_count": null,
   "metadata": {
    "collapsed": false
   },
   "outputs": [],
   "source": [
    "# Code for right Circular Array Rotation\n",
    "\n",
    "a = map(int,raw_input().strip().split(' ')) # Enter lsit to rotate right\n",
    "\n",
    "k = input(int) # Number of times to rotate\n",
    "\n",
    "for i in xrange(k):\n",
    "    n = len(a) - k\n",
    "    b = a[n:]+a[:n]\n",
    "\n",
    "print b"
   ]
  },
  {
   "cell_type": "markdown",
   "metadata": {},
   "source": [
    "# <a id=\"Built-in Functions\">● Built-in Functions</a>"
   ]
  },
  {
   "cell_type": "code",
   "execution_count": 9,
   "metadata": {
    "collapsed": false
   },
   "outputs": [
    {
     "name": "stdout",
     "output_type": "stream",
     "text": [
      "min(list): 1\n",
      "max(list): 107\n"
     ]
    }
   ],
   "source": [
    "list = [3,4,1,20,102,3,5,67,39,28,10,1,4,34,1,6,107,99]\n",
    "\n",
    "print \"min(list):\", min(list) # https://docs.python.org/2/library/functions.html#max\n",
    "print \"max(list):\", max(list) # https://docs.python.org/2/library/functions.html#min"
   ]
  },
  {
   "cell_type": "code",
   "execution_count": null,
   "metadata": {
    "collapsed": false
   },
   "outputs": [],
   "source": [
    "# sort()\n",
    "# https://docs.python.org/2/library/functions.html#sorted\n",
    "# https://docs.python.org/2/howto/sorting.html\n",
    "\n",
    "c = [5, 9, 6, 56, 100]\n",
    "c.sort(key=lambda x: x, reverse=True) # \"key=lambda x: x\" is called for each element in \"c\"\n",
    "print c"
   ]
  },
  {
   "cell_type": "markdown",
   "metadata": {},
   "source": [
    "# <a id=\"Input_and_Output\">● Input and Output</a>"
   ]
  },
  {
   "cell_type": "markdown",
   "metadata": {},
   "source": [
    "### Q [Staircase](https://www.hackerrank.com/challenges/staircase)"
   ]
  },
  {
   "cell_type": "code",
   "execution_count": null,
   "metadata": {
    "collapsed": false
   },
   "outputs": [],
   "source": [
    "n = int(raw_input().strip())\n",
    "\n",
    "for i in range(1,n+1):\n",
    "    print \" \"*(n-i) + \"#\"*i"
   ]
  },
  {
   "cell_type": "code",
   "execution_count": null,
   "metadata": {
    "collapsed": false
   },
   "outputs": [],
   "source": [
    "a = [1, 2]\n",
    "print str(a[0]) + \"\\n\" # Including new line\n",
    "print str(a[1]) + \"\\n\""
   ]
  },
  {
   "cell_type": "markdown",
   "metadata": {},
   "source": [
    "# <a id=\"String\">[● String](https://docs.python.org/2/library/string.html)</a>"
   ]
  },
  {
   "cell_type": "code",
   "execution_count": null,
   "metadata": {
    "collapsed": false
   },
   "outputs": [],
   "source": [
    "# str.startswith(str, beg=0,end=len(string))\n",
    "\n",
    "str = \"this is string example....wow!!!\";\n",
    "print str.startswith( 'this' ) # https://docs.python.org/2/library/stdtypes.html#str.startswith\n",
    "print str.startswith( 'is', 2, 4 )\n",
    "print str.startswith( 'this', 2, 4 )"
   ]
  },
  {
   "cell_type": "code",
   "execution_count": null,
   "metadata": {
    "collapsed": false
   },
   "outputs": [],
   "source": [
    "# Q) https://www.hackerrank.com/challenges/repeated-string/\n",
    "# I: aba\n",
    "# 10\n",
    "# O: 7\n",
    "\n",
    "s = raw_input().strip()\n",
    "n = long(raw_input().strip())\n",
    "a = s.count('a') # https://docs.python.org/2/library/string.html#string.count\n",
    "x = n/len(s)\n",
    "print x*a + s[:n%len(s)].count('a')"
   ]
  },
  {
   "cell_type": "code",
   "execution_count": 2,
   "metadata": {
    "collapsed": false
   },
   "outputs": [
    {
     "name": "stdout",
     "output_type": "stream",
     "text": [
      "0,1,2,3,4,5,6,7,8,9\n",
      "['0', '1', '2', '3', '4', '5', '6', '7', '8', '9']\n",
      "10\n",
      "['0', '1', '2', '3', '4', '5', '6', '7', '8', '9']\n",
      "['0,1,2', '3,4,5', '6,7,8,9']\n"
     ]
    }
   ],
   "source": [
    "a = '{0,1,2,3,4,5,6,7,8,9}\\n' # I have to remove \"{, }, \\n\" form this string\n",
    "b = \"\\n{}\" # I have to remove this characters\n",
    "for char in b:\n",
    "    a = a.replace(char,\"\") # https://docs.python.org/2/library/stdtypes.html#str.replace\n",
    "    # Return a copy of the string with all occurrences of substring old replaced by new.\n",
    "print a\n",
    "a = a.split(',')\n",
    "print a\n",
    "print len(a)\n",
    "\n",
    "a = '0,1,2,3,4,5,6,7,8,9\\n' #If I have to remove only last characters\n",
    "a = a[:-1].split(\",\")\n",
    "print a\n",
    "\n",
    "a= '0,1,2\\n3,4,5\\n6,7,8,9\\n' #If I want to store each line seprately\n",
    "# https://docs.python.org/2/library/stdtypes.html#str.splitlines\n",
    "print a.splitlines()"
   ]
  },
  {
   "cell_type": "code",
   "execution_count": null,
   "metadata": {
    "collapsed": true
   },
   "outputs": [],
   "source": []
  }
 ],
 "metadata": {
  "anaconda-cloud": {},
  "kernelspec": {
   "display_name": "Python [default]",
   "language": "python",
   "name": "python2"
  },
  "language_info": {
   "codemirror_mode": {
    "name": "ipython",
    "version": 2
   },
   "file_extension": ".py",
   "mimetype": "text/x-python",
   "name": "python",
   "nbconvert_exporter": "python",
   "pygments_lexer": "ipython2",
   "version": "2.7.12"
  }
 },
 "nbformat": 4,
 "nbformat_minor": 1
}
