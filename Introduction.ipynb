{
 "cells": [
  {
   "cell_type": "markdown",
   "metadata": {},
   "source": [
    "# [The Python 2 Tutorial](https://docs.python.org/2/tutorial/index.html \"The Python Tutorial\")\n",
    "# [The Python 2 Library](https://docs.python.org/2/library/index.html \"The Python Standard Library\")\n",
    "========================================\n",
    "# <a href=\"#Control_Flow_Tools\">● Control Flow Tools</a>\n",
    "# <a href=\"#Data_Structures\">● Data Structures</a>\n",
    "## <a href=\"#Lists\">Lists</a>\n",
    "## <a href=\"#More_on_Lists\">More on Lists</a>\n",
    "# <a href=\"#Built-in Functions\">● Built-in Functions</a>\n",
    "# <a href=\"#Input_and_Output\">● Input and Output</a>\n",
    "# <a href=\"#String\">● String</a>\n",
    "========================================"
   ]
  },
  {
   "cell_type": "markdown",
   "metadata": {},
   "source": [
    "# <a id=\"Control_Flow_Tools\">● Control Flow Tools</a>"
   ]
  },
  {
   "cell_type": "markdown",
   "metadata": {},
   "source": [
    "# <a id=\"Data_Structures\">● Data Structures</a>"
   ]
  },
  {
   "cell_type": "markdown",
   "metadata": {},
   "source": [
    "## <a id=\"Lists\">[Lists](https://docs.python.org/2/tutorial/introduction.html#lists)</a>\n",
    "## <a id=\"More_on_Lists\">[More on Lists](https://docs.python.org/2/tutorial/datastructures.html#more-on-lists)</a>"
   ]
  },
  {
   "cell_type": "code",
   "execution_count": 1,
   "metadata": {
    "collapsed": false
   },
   "outputs": [
    {
     "name": "stdout",
     "output_type": "stream",
     "text": [
      "3\n",
      "<type 'int'>3\n",
      "[3]\n"
     ]
    }
   ],
   "source": [
    "# Code for right Circular Array Rotation\n",
    "\n",
    "a = map(int,raw_input().strip().split(' ')) # Enter lsit to rotate right\n",
    "\n",
    "k = input(int) # Number of times to rotate\n",
    "\n",
    "for i in xrange(k):\n",
    "    n = len(a) - k\n",
    "    b = a[n:]+a[:n]\n",
    "\n",
    "print b"
   ]
  },
  {
   "cell_type": "markdown",
   "metadata": {},
   "source": [
    "# <a id=\"Built-in Functions\">● Built-in Functions</a>"
   ]
  },
  {
   "cell_type": "code",
   "execution_count": null,
   "metadata": {
    "collapsed": true
   },
   "outputs": [],
   "source": []
  },
  {
   "cell_type": "markdown",
   "metadata": {},
   "source": [
    "# <a id=\"Input_and_Output\">● Input and Output</a>"
   ]
  },
  {
   "cell_type": "markdown",
   "metadata": {},
   "source": [
    "### Q [Staircase](https://www.hackerrank.com/challenges/staircase)"
   ]
  },
  {
   "cell_type": "code",
   "execution_count": 2,
   "metadata": {
    "collapsed": false
   },
   "outputs": [
    {
     "name": "stdout",
     "output_type": "stream",
     "text": [
      "3\n",
      "  #\n",
      " ##\n",
      "###\n"
     ]
    }
   ],
   "source": [
    "n = int(raw_input().strip())\n",
    "\n",
    "for i in range(1,n+1):\n",
    "    print \" \"*(n-i) + \"#\"*i"
   ]
  },
  {
   "cell_type": "markdown",
   "metadata": {},
   "source": [
    "# <a id=\"String\">[● String](https://docs.python.org/2/library/string.html)</a>"
   ]
  },
  {
   "cell_type": "code",
   "execution_count": null,
   "metadata": {
    "collapsed": false
   },
   "outputs": [],
   "source": [
    "# Q) https://www.hackerrank.com/challenges/repeated-string/\n",
    "# I: aba\n",
    "# 10\n",
    "# O: 7\n",
    "\n",
    "s = raw_input().strip()\n",
    "n = long(raw_input().strip())\n",
    "a = s.count('a') # https://docs.python.org/2/library/string.html#string.count\n",
    "x = n/len(s)\n",
    "print x*a + s[:n%len(s)].count('a')"
   ]
  },
  {
   "cell_type": "code",
   "execution_count": null,
   "metadata": {
    "collapsed": false
   },
   "outputs": [],
   "source": []
  },
  {
   "cell_type": "code",
   "execution_count": null,
   "metadata": {
    "collapsed": true
   },
   "outputs": [],
   "source": []
  }
 ],
 "metadata": {
  "anaconda-cloud": {},
  "kernelspec": {
   "display_name": "Python [default]",
   "language": "python",
   "name": "python2"
  },
  "language_info": {
   "codemirror_mode": {
    "name": "ipython",
    "version": 2
   },
   "file_extension": ".py",
   "mimetype": "text/x-python",
   "name": "python",
   "nbconvert_exporter": "python",
   "pygments_lexer": "ipython2",
   "version": "2.7.12"
  }
 },
 "nbformat": 4,
 "nbformat_minor": 1
}
