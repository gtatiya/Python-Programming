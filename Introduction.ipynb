{
 "cells": [
  {
   "cell_type": "markdown",
   "metadata": {},
   "source": [
    "# [The Python 2 Tutorial](https://docs.python.org/2/tutorial/index.html \"The Python Tutorial\")\n",
    "# [The Python 2 Library](https://docs.python.org/2/library/index.html \"The Python Standard Library\")\n",
    "========================================\n",
    "# <a href=\"#Control_Flow_Tools\">● Control Flow Tools</a>\n",
    "# <a href=\"#Loop\">● Loop</a>\n",
    "# <a href=\"#Data_Structures\">● Data Structures</a>\n",
    "## <a href=\"#Lists\">Lists</a>\n",
    "# <a href=\"#Built-in Functions\">● Built-in Functions</a>\n",
    "# <a href=\"#Input_and_Output\">● Input and Output</a>\n",
    "# <a href=\"#String\">● String</a>\n",
    "========================================"
   ]
  },
  {
   "cell_type": "markdown",
   "metadata": {},
   "source": [
    "# <a id=\"Control_Flow_Tools\">● Control Flow Tools</a>"
   ]
  },
  {
   "cell_type": "markdown",
   "metadata": {},
   "source": [
    "# <a id=\"Loop\">● Loop</a>"
   ]
  },
  {
   "cell_type": "code",
   "execution_count": 1,
   "metadata": {},
   "outputs": [
    {
     "name": "stdout",
     "output_type": "stream",
     "text": [
      "Mortimer\n",
      "foul\n",
      "Heights\n"
     ]
    }
   ],
   "source": [
    "'''\n",
    "keys()\n",
    "Return a copy of the dictionary’s list of keys\n",
    "https://docs.python.org/2/library/stdtypes.html#dict.keys\n",
    "'''\n",
    "a = {u'Mortimer': 1, u'foul': 2, u'Heights': 5}\n",
    "for key in a.keys():\n",
    "    print key"
   ]
  },
  {
   "cell_type": "code",
   "execution_count": 2,
   "metadata": {},
   "outputs": [
    {
     "name": "stdout",
     "output_type": "stream",
     "text": [
      "1\n",
      "2\n",
      "5\n"
     ]
    }
   ],
   "source": [
    "'''\n",
    "values()\n",
    "Return a copy of the dictionary’s list of values\n",
    "https://docs.python.org/2/library/stdtypes.html#dict.values\n",
    "'''\n",
    "a = {u'Mortimer': 1, u'foul': 2, u'Heights': 5}\n",
    "for value in a.values():\n",
    "    print value"
   ]
  },
  {
   "cell_type": "code",
   "execution_count": 3,
   "metadata": {},
   "outputs": [
    {
     "name": "stdout",
     "output_type": "stream",
     "text": [
      "gallahad the pure\n",
      "robin the brave\n"
     ]
    }
   ],
   "source": [
    "'''\n",
    "iteritems()\n",
    "Return an iterator over the dictionary’s (key, value) pairs. See the note for dict.items().\n",
    "https://docs.python.org/2/tutorial/datastructures.html#looping-techniques\n",
    "https://docs.python.org/2/library/stdtypes.html#dict.iteritems\n",
    "'''\n",
    "\n",
    "knights = {'gallahad': 'the pure', 'robin': 'the brave'}\n",
    "for k, v in knights.iteritems():\n",
    "    print k, v"
   ]
  },
  {
   "cell_type": "markdown",
   "metadata": {},
   "source": [
    "# <a id=\"Data_Structures\">● Data Structures</a>"
   ]
  },
  {
   "cell_type": "markdown",
   "metadata": {},
   "source": [
    "## <a id=\"Lists\">[Lists](https://docs.python.org/2/tutorial/introduction.html#lists)</a>"
   ]
  },
  {
   "cell_type": "code",
   "execution_count": 4,
   "metadata": {},
   "outputs": [
    {
     "name": "stdout",
     "output_type": "stream",
     "text": [
      "[1, 0.611, -0.838, 0.762, -0.701, -0.132]\n",
      "[1, 0.611, -0.838, 0.762, -0.701, -0.132, 1]\n"
     ]
    }
   ],
   "source": [
    "'''\n",
    "list.insert(i, x)\n",
    "Insert an item at a given position.\n",
    "The first argument is the index of the element before which to insert, so a.insert(0, x) inserts at the front of the list,\n",
    "and a.insert(len(a), x) is equivalent to a.append(x).\n",
    "'''\n",
    "\n",
    "a = [0.611, -0.838, 0.762, -0.701, -0.132]\n",
    "a.insert(0, 1)\n",
    "print a\n",
    "\n",
    "a = a + [1] # Way to insert items at the begining & at the end of the list\n",
    "print a"
   ]
  },
  {
   "cell_type": "code",
   "execution_count": 5,
   "metadata": {},
   "outputs": [
    {
     "name": "stdout",
     "output_type": "stream",
     "text": [
      "colors.index('blue'): 2\n",
      "M.index(3): 2\n",
      "M.index(3, 4, 8): 5\n"
     ]
    }
   ],
   "source": [
    "'''\n",
    "list.index(x[, start[, end]])\n",
    "Return the index in the list of the first item whose value is x. It is an error if there is no such item.\n",
    "https://docs.python.org/2/tutorial/datastructures.html\n",
    "https://infohost.nmt.edu/tcc/help/pubs/python/web/list-methods.html\n",
    "'''\n",
    "colors = ['red', 'green', 'blue', 'indigo', 'violet', 'pale puce']\n",
    "print \"colors.index('blue'):\", colors.index('blue')\n",
    "\n",
    "M=[0, 0, 3, 0, 0, 3, 3, 0, 0, 3]\n",
    "print \"M.index(3):\", M.index(3)\n",
    "print \"M.index(3, 4, 8):\", M.index(3, 4, 8)"
   ]
  },
  {
   "cell_type": "code",
   "execution_count": 20,
   "metadata": {},
   "outputs": [
    {
     "name": "stdout",
     "output_type": "stream",
     "text": [
      "[2, 5]\n"
     ]
    }
   ],
   "source": [
    "\"\"\"\n",
    "list.remove(x)\n",
    "Remove the first item from the list whose value is x. It is an error if there is no such item.\n",
    "https://docs.python.org/2/tutorial/datastructures.html\n",
    "\"\"\"\n",
    "c = [2, 3, 5]\n",
    "c.remove(3)\n",
    "print c"
   ]
  },
  {
   "cell_type": "code",
   "execution_count": 6,
   "metadata": {},
   "outputs": [
    {
     "name": "stdout",
     "output_type": "stream",
     "text": [
      "5\n",
      "<type 'int'>5\n",
      "[5]\n"
     ]
    }
   ],
   "source": [
    "# Code for right Circular Array Rotation\n",
    "\n",
    "a = map(int,raw_input().strip().split(' ')) # Enter lsit to rotate right\n",
    "\n",
    "k = input(int) # Number of times to rotate\n",
    "\n",
    "for i in xrange(k):\n",
    "    n = len(a) - k\n",
    "    b = a[n:]+a[:n]\n",
    "\n",
    "print b"
   ]
  },
  {
   "cell_type": "markdown",
   "metadata": {},
   "source": [
    "# <a id=\"Built-in Functions\">● Built-in Functions</a>"
   ]
  },
  {
   "cell_type": "code",
   "execution_count": 7,
   "metadata": {},
   "outputs": [
    {
     "name": "stdout",
     "output_type": "stream",
     "text": [
      "min(list): 1\n",
      "max(list): 107\n"
     ]
    }
   ],
   "source": [
    "list = [3,4,1,20,102,3,5,67,39,28,10,1,4,34,1,6,107,99]\n",
    "\n",
    "print \"min(list):\", min(list) # https://docs.python.org/2/library/functions.html#max\n",
    "print \"max(list):\", max(list) # https://docs.python.org/2/library/functions.html#min"
   ]
  },
  {
   "cell_type": "code",
   "execution_count": 8,
   "metadata": {},
   "outputs": [
    {
     "name": "stdout",
     "output_type": "stream",
     "text": [
      "--> Enter a string: fff\n",
      "fff\n",
      "Enter an integer: 5\n",
      "Enter 2 integers: 2 3\n",
      "Enter any no. of integers: 5 6 6\n",
      "[5, 6, 6]\n"
     ]
    }
   ],
   "source": [
    "\"\"\"\n",
    "raw_input([prompt])\n",
    "If the prompt argument is present, it is written to standard output without a trailing newline.\n",
    "The function then reads a line from input, converts it to a string (stripping a trailing newline), and returns that.\n",
    "https://docs.python.org/2/library/functions.html#raw_input\n",
    "\"\"\"\n",
    "s = raw_input('--> Enter a string: ')\n",
    "print s\n",
    "c = int(raw_input('Enter an integer: ').strip()) # taking 1 int input\n",
    "n,k = raw_input('Enter 2 integers: ').strip().split(' ') # taking 2 inputs\n",
    "n,k = [int(n),int(k)] # converting to int\n",
    "c = map(int,raw_input('Enter any no. of integers: ').strip().split(' ')) # taking any no. of inputs\n",
    "print c"
   ]
  },
  {
   "cell_type": "code",
   "execution_count": 9,
   "metadata": {},
   "outputs": [
    {
     "name": "stdout",
     "output_type": "stream",
     "text": [
      "4 3 2 1\n"
     ]
    }
   ],
   "source": [
    "\"\"\"\n",
    "reversed(seq)\n",
    "Return a reverse iterator.\n",
    "https://docs.python.org/2/library/functions.html#reversed\n",
    "\n",
    "Q) https://www.hackerrank.com/challenges/arrays-ds\n",
    "\"\"\"\n",
    "arr = [1,2,3,4]\n",
    "print \" \".join(str(x) for x in reversed(arr))"
   ]
  },
  {
   "cell_type": "code",
   "execution_count": 10,
   "metadata": {},
   "outputs": [
    {
     "name": "stdout",
     "output_type": "stream",
     "text": [
      "5.0\n",
      "5.3\n",
      "5.25\n"
     ]
    }
   ],
   "source": [
    "\"\"\"\n",
    "round(number[, ndigits])\n",
    "Return the floating point value number rounded to ndigits digits after the decimal point\n",
    "https://docs.python.org/2/library/functions.html#round\n",
    "\"\"\"\n",
    "\n",
    "print round(5.11)\n",
    "print round(5.29, 1)\n",
    "print round(5.254, 2)"
   ]
  },
  {
   "cell_type": "code",
   "execution_count": 11,
   "metadata": {},
   "outputs": [
    {
     "name": "stdout",
     "output_type": "stream",
     "text": [
      "[100, 56, 9, 6, 5]\n"
     ]
    }
   ],
   "source": [
    "# sort()\n",
    "# https://docs.python.org/2/library/functions.html#sorted\n",
    "# https://docs.python.org/2/howto/sorting.html\n",
    "\n",
    "c = [5, 9, 6, 56, 100]\n",
    "c.sort(key=lambda x: x, reverse=True) # \"key=lambda x: x\" is called for each element in \"c\"\n",
    "print c"
   ]
  },
  {
   "cell_type": "markdown",
   "metadata": {},
   "source": [
    "# <a id=\"Input_and_Output\">● Input and Output</a>"
   ]
  },
  {
   "cell_type": "markdown",
   "metadata": {},
   "source": [
    "### Q [Staircase](https://www.hackerrank.com/challenges/staircase)"
   ]
  },
  {
   "cell_type": "code",
   "execution_count": 12,
   "metadata": {},
   "outputs": [
    {
     "name": "stdout",
     "output_type": "stream",
     "text": [
      "5\n",
      "    #\n",
      "   ##\n",
      "  ###\n",
      " ####\n",
      "#####\n"
     ]
    }
   ],
   "source": [
    "n = int(raw_input().strip())\n",
    "\n",
    "for i in range(1,n+1):\n",
    "    print \" \"*(n-i) + \"#\"*i"
   ]
  },
  {
   "cell_type": "code",
   "execution_count": 13,
   "metadata": {},
   "outputs": [
    {
     "name": "stdout",
     "output_type": "stream",
     "text": [
      "1\n",
      "\n",
      "2\n",
      "\n"
     ]
    }
   ],
   "source": [
    "a = [1, 2]\n",
    "print str(a[0]) + \"\\n\" # Including new line\n",
    "print str(a[1]) + \"\\n\""
   ]
  },
  {
   "cell_type": "markdown",
   "metadata": {},
   "source": [
    "# <a id=\"String\">[● String](https://docs.python.org/2/library/string.html)</a>"
   ]
  },
  {
   "cell_type": "code",
   "execution_count": 14,
   "metadata": {},
   "outputs": [
    {
     "name": "stdout",
     "output_type": "stream",
     "text": [
      "a-b-c-d\n"
     ]
    }
   ],
   "source": [
    "\"\"\"\n",
    "str.join(iterable)\n",
    "Return a string which is the concatenation of the strings in the iterable iterable.\n",
    "The separator between elements is the string providing this method.\n",
    "https://docs.python.org/2/library/stdtypes.html#str.join\n",
    "\"\"\"\n",
    "\n",
    "a = \"abcd\"\n",
    "print \"-\".join(a)"
   ]
  },
  {
   "cell_type": "code",
   "execution_count": 15,
   "metadata": {},
   "outputs": [
    {
     "name": "stdout",
     "output_type": "stream",
     "text": [
      "['1', '2', '3']\n",
      "['1', '2   3  ']\n"
     ]
    }
   ],
   "source": [
    "\"\"\"\n",
    "str.split([sep[, maxsplit]])\n",
    "Return a list of the words in the string, using sep as the delimiter string.\n",
    "If maxsplit is given, at most maxsplit splits are done (thus, the list will have at most maxsplit+1 elements).\n",
    "If maxsplit is not specified or -1, then there is no limit on the number of splits (all possible splits are made).\n",
    "https://docs.python.org/2/library/stdtypes.html#str.split\n",
    "\"\"\"\n",
    "\n",
    "print ' 1  2   3  '.split()\n",
    "print '  1  2   3  '.split(None, 1)"
   ]
  },
  {
   "cell_type": "code",
   "execution_count": 16,
   "metadata": {},
   "outputs": [
    {
     "name": "stdout",
     "output_type": "stream",
     "text": [
      "spacious  k\n",
      "example\n"
     ]
    }
   ],
   "source": [
    "\"\"\"\n",
    "str.strip([chars])\n",
    "Return a copy of the string with the leading and trailing characters removed.\n",
    "The chars argument is a string specifying the set of characters to be removed.\n",
    "If omitted or None, the chars argument defaults to removing whitespace.\n",
    "https://docs.python.org/2/library/stdtypes.html#str.strip\n",
    "\"\"\"\n",
    "\n",
    "print '   spacious  k '.strip()\n",
    "print 'www.example.com'.strip('cmowz.')"
   ]
  },
  {
   "cell_type": "code",
   "execution_count": 17,
   "metadata": {},
   "outputs": [
    {
     "name": "stdout",
     "output_type": "stream",
     "text": [
      "True\n",
      "True\n",
      "False\n"
     ]
    }
   ],
   "source": [
    "# str.startswith(str, beg=0,end=len(string))\n",
    "\n",
    "str = \"this is string example....wow!!!\";\n",
    "print str.startswith( 'this' ) # https://docs.python.org/2/library/stdtypes.html#str.startswith\n",
    "print str.startswith( 'is', 2, 4 )\n",
    "print str.startswith( 'this', 2, 4 )"
   ]
  },
  {
   "cell_type": "code",
   "execution_count": 18,
   "metadata": {},
   "outputs": [
    {
     "name": "stdout",
     "output_type": "stream",
     "text": [
      "aba\n",
      "10\n",
      "7\n"
     ]
    }
   ],
   "source": [
    "# Q) https://www.hackerrank.com/challenges/repeated-string/\n",
    "# I: aba\n",
    "# 10\n",
    "# O: 7\n",
    "\n",
    "s = raw_input().strip()\n",
    "n = long(raw_input().strip())\n",
    "a = s.count('a') # https://docs.python.org/2/library/string.html#string.count\n",
    "x = n/len(s)\n",
    "print x*a + s[:n%len(s)].count('a')"
   ]
  },
  {
   "cell_type": "code",
   "execution_count": 19,
   "metadata": {},
   "outputs": [
    {
     "name": "stdout",
     "output_type": "stream",
     "text": [
      "0,1,2,3,4,5,6,7,8,9\n",
      "['0', '1', '2', '3', '4', '5', '6', '7', '8', '9']\n",
      "10\n",
      "['0', '1', '2', '3', '4', '5', '6', '7', '8', '9']\n",
      "['0,1,2', '3,4,5', '6,7,8,9']\n"
     ]
    }
   ],
   "source": [
    "a = '{0,1,2,3,4,5,6,7,8,9}\\n' # I have to remove \"{, }, \\n\" form this string\n",
    "b = \"\\n{}\" # I have to remove this characters\n",
    "for char in b:\n",
    "    a = a.replace(char,\"\") # https://docs.python.org/2/library/stdtypes.html#str.replace\n",
    "    # Return a copy of the string with all occurrences of substring old replaced by new.\n",
    "print a\n",
    "a = a.split(',')\n",
    "print a\n",
    "print len(a)\n",
    "\n",
    "a = '0,1,2,3,4,5,6,7,8,9\\n' #If I have to remove only last characters\n",
    "a = a[:-1].split(\",\")\n",
    "print a\n",
    "\n",
    "a= '0,1,2\\n3,4,5\\n6,7,8,9\\n' #If I want to store each line seprately\n",
    "print a.splitlines() # https://docs.python.org/2/library/stdtypes.html#str.splitlines"
   ]
  },
  {
   "cell_type": "code",
   "execution_count": null,
   "metadata": {
    "collapsed": true
   },
   "outputs": [],
   "source": []
  }
 ],
 "metadata": {
  "anaconda-cloud": {},
  "kernelspec": {
   "display_name": "Python 2",
   "language": "python",
   "name": "python2"
  },
  "language_info": {
   "codemirror_mode": {
    "name": "ipython",
    "version": 2
   },
   "file_extension": ".py",
   "mimetype": "text/x-python",
   "name": "python",
   "nbconvert_exporter": "python",
   "pygments_lexer": "ipython2",
   "version": "2.7.13"
  }
 },
 "nbformat": 4,
 "nbformat_minor": 1
}
