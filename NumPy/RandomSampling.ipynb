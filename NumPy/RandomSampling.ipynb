{
 "cells": [
  {
   "cell_type": "markdown",
   "metadata": {},
   "source": [
    "# Random sampling\n",
    "\n",
    "https://docs.scipy.org/doc/numpy-1.14.0/reference/routines.random.html"
   ]
  },
  {
   "cell_type": "code",
   "execution_count": 1,
   "metadata": {},
   "outputs": [],
   "source": [
    "import numpy as np\n",
    "import matplotlib.pyplot as plt"
   ]
  },
  {
   "cell_type": "markdown",
   "metadata": {},
   "source": [
    "## Distributions\n",
    "\n",
    "https://docs.scipy.org/doc/numpy-1.14.0/reference/routines.random.html#distributions"
   ]
  },
  {
   "cell_type": "code",
   "execution_count": 2,
   "metadata": {},
   "outputs": [
    {
     "name": "stdout",
     "output_type": "stream",
     "text": [
      "(10000,)\n",
      "[7 5 3 ... 5 4 7]\n",
      "Sum of freq:  999.3\n"
     ]
    },
    {
     "data": {
      "image/png": "[encoded data removed]",
      "text/plain": [
       "<Figure size 432x288 with 1 Axes>"
      ]
     },
     "metadata": {
      "needs_background": "light"
     },
     "output_type": "display_data"
    }
   ],
   "source": [
    "# Draw samples from a binomial distribution.\n",
    "\n",
    "\"\"\"\n",
    "https://docs.scipy.org/doc/numpy/reference/generated/numpy.random.RandomState.binomial.html#numpy.random.RandomState.binomial\n",
    "\"\"\"\n",
    "\n",
    "# number of trials, probability of success for each trial, size\n",
    "trials, probability, test = 10, .5, 10000\n",
    "outcomes = np.random.binomial(trials, probability, test)\n",
    "print(outcomes.shape)\n",
    "print(outcomes)\n",
    "\n",
    "all_outcome = range(trials)\n",
    "freq = np.zeros(trials)\n",
    "for outcome in all_outcome:\n",
    "    for a_outcome in outcomes:\n",
    "        if outcome == a_outcome:\n",
    "            freq[outcome] += 1\n",
    "\n",
    "print(\"Sum of freq: \", np.mean(freq))\n",
    "\n",
    "plt.plot(all_outcome, freq, 'r')\n",
    "plt.title(\"Binomial Distribution\")\n",
    "plt.xlabel('All Outcomes')\n",
    "plt.ylabel('Freq')\n",
    "plt.xlim([0, trials-1])\n",
    "plt.show()"
   ]
  },
  {
   "cell_type": "code",
   "execution_count": 3,
   "metadata": {},
   "outputs": [
    {
     "name": "stdout",
     "output_type": "stream",
     "text": [
      "Fail :(\n"
     ]
    }
   ],
   "source": [
    "# Decide between 2 outcomes randomly\n",
    "\n",
    "if np.random.binomial(1, 0.5) == 1:\n",
    "    print(\"Success :)\")\n",
    "else:\n",
    "    print(\"Fail :(\")"
   ]
  },
  {
   "cell_type": "code",
   "execution_count": 4,
   "metadata": {},
   "outputs": [
    {
     "name": "stdout",
     "output_type": "stream",
     "text": [
      "Choose 2 values from 0 to 4:  [3 2]\n",
      "Choose 2 values from the list:  ['the' 'great']\n",
      "Choose 2 values from 0 to 1 with replacement:  [1 0]\n"
     ]
    }
   ],
   "source": [
    "print(\"Choose 2 values from 0 to 4: \", np.random.choice(5, size=2))\n",
    "print(\"Choose 2 values from the list: \", np.random.choice([\"Gyan\", \"is\", \"the\", \"great\"], size=2))\n",
    "print(\"Choose 2 values from 0 to 1 with replacement: \", np.random.choice(2, size=2, replace=False))"
   ]
  },
  {
   "cell_type": "code",
   "execution_count": null,
   "metadata": {},
   "outputs": [],
   "source": []
  },
  {
   "cell_type": "markdown",
   "metadata": {},
   "source": [
    "# Discrete Uniform Distribution"
   ]
  },
  {
   "cell_type": "code",
   "execution_count": 6,
   "metadata": {},
   "outputs": [
    {
     "name": "stdout",
     "output_type": "stream",
     "text": [
      "[2 0 1 2 0 2 0 1 1 2 4 4 3 1 0 1 2 0 2 0]\n"
     ]
    }
   ],
   "source": [
    "# Return random integers from low (inclusive) to high (exclusive)\n",
    "\n",
    "random_objects = np.random.randint(low=0, high=5, size=20)\n",
    "print(random_objects)"
   ]
  },
  {
   "cell_type": "code",
   "execution_count": null,
   "metadata": {},
   "outputs": [],
   "source": [
    "\n"
   ]
  },
  {
   "cell_type": "code",
   "execution_count": null,
   "metadata": {},
   "outputs": [],
   "source": []
  }
 ],
 "metadata": {
  "kernelspec": {
   "display_name": "Python 3",
   "language": "python",
   "name": "python3"
  },
  "language_info": {
   "codemirror_mode": {
    "name": "ipython",
    "version": 3
   },
   "file_extension": ".py",
   "mimetype": "text/x-python",
   "name": "python",
   "nbconvert_exporter": "python",
   "pygments_lexer": "ipython3",
   "version": "3.5.6"
  }
 },
 "nbformat": 4,
 "nbformat_minor": 2
}
