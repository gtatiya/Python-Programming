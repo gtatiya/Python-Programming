{
 "cells": [
  {
   "cell_type": "markdown",
   "metadata": {
    "collapsed": true
   },
   "source": [
    "# NumPy is the fundamental package for scientific computing with Python."
   ]
  },
  {
   "cell_type": "code",
   "execution_count": 2,
   "metadata": {
    "collapsed": true
   },
   "outputs": [],
   "source": [
    "import numpy as np"
   ]
  },
  {
   "cell_type": "code",
   "execution_count": 26,
   "metadata": {},
   "outputs": [
    {
     "name": "stdout",
     "output_type": "stream",
     "text": [
      "np.array([[1, 2], [3, 4]]): [[1 2]\n",
      " [3 4]]\n",
      "np.array([1, 2, 3.0]): [ 1.  2.  3.]\n"
     ]
    }
   ],
   "source": [
    "'''\n",
    "numpy.array(object, dtype=None, copy=True, order=None, subok=False, ndmin=0)\n",
    "Create an array.\n",
    "# https://docs.scipy.org/doc/numpy/reference/generated/numpy.array.html\n",
    "'''\n",
    "\n",
    "print \"np.array([[1, 2], [3, 4]]):\", np.array([[1, 2], [3, 4]])\n",
    "print \"np.array([1, 2, 3.0]):\", np.array([1, 2, 3.0])"
   ]
  },
  {
   "cell_type": "code",
   "execution_count": 27,
   "metadata": {},
   "outputs": [
    {
     "name": "stdout",
     "output_type": "stream",
     "text": [
      "np.dot(3, 4): 12\n",
      "np.dot(a, b): [[4 1]\n",
      " [2 2]]\n"
     ]
    }
   ],
   "source": [
    "'''\n",
    "numpy.dot(a, b, out=None)\n",
    "https://docs.scipy.org/doc/numpy/reference/generated/numpy.dot.html\n",
    "Dot product of two arrays.\n",
    "output : ndarray\n",
    "'''\n",
    "\n",
    "print \"np.dot(3, 4):\", np.dot(3, 4)\n",
    "a = [[1, 0], [0, 1]]\n",
    "b = [[4, 1], [2, 2]]\n",
    "print \"np.dot(a, b):\", np.dot(a, b)"
   ]
  },
  {
   "cell_type": "code",
   "execution_count": 28,
   "metadata": {},
   "outputs": [
    {
     "name": "stdout",
     "output_type": "stream",
     "text": [
      "a: [[1 2]\n",
      " [3 4]\n",
      " [5 6]]\n",
      "a: [[1 3 5]\n",
      " [2 4 6]]\n",
      "a: [[1 3 5]\n",
      " [2 4 6]]\n",
      "a: [[1 2]\n",
      " [3 4]\n",
      " [5 6]]\n"
     ]
    }
   ],
   "source": [
    "'''\n",
    "numpy.matrix.transpose(*axes)\n",
    "Returns a view of the array with axes transposed\n",
    "https://docs.scipy.org/doc/numpy/reference/generated/numpy.matrix.transpose.html\n",
    "'''\n",
    "\n",
    "a = np.array([[1, 2], [3, 4], [5,6]])\n",
    "print \"a:\", a\n",
    "print \"a:\", a.transpose()\n",
    "print \"a:\", a.transpose(1, 0)\n",
    "print \"a:\", a.transpose(0, 1)"
   ]
  },
  {
   "cell_type": "code",
   "execution_count": 8,
   "metadata": {},
   "outputs": [
    {
     "name": "stdout",
     "output_type": "stream",
     "text": [
      "5\n"
     ]
    }
   ],
   "source": [
    "'''\n",
    "numpy.random.randint(low, high=None, size=None, dtype='l')\n",
    "https://docs.scipy.org/doc/numpy/reference/generated/numpy.random.randint.html#numpy.random.randint\n",
    "'''\n",
    "a = np.random.randint(0, 10)\n",
    "print a"
   ]
  },
  {
   "cell_type": "code",
   "execution_count": 29,
   "metadata": {},
   "outputs": [
    {
     "name": "stdout",
     "output_type": "stream",
     "text": [
      "np.random.uniform(-0.1, 0.1, size=(2, 4)): [[-0.03128038 -0.07620684  0.00063305  0.01372364]\n",
      " [-0.03627393 -0.02972481 -0.02590277  0.0229189 ]]\n",
      "np.random.uniform(-1,0,5): [-0.46480956 -0.94290727 -0.68185868 -0.92900104 -0.32939253]\n"
     ]
    }
   ],
   "source": [
    "'''\n",
    "numpy.random.uniform(low=0.0, high=1.0, size=None)\n",
    "https://docs.scipy.org/doc/numpy/reference/generated/numpy.random.uniform.html\n",
    "'''\n",
    "\n",
    "a = np.random.uniform(-0.1, 0.1, size=(2, 4))\n",
    "print \"np.random.uniform(-0.1, 0.1, size=(2, 4)):\", a\n",
    "\n",
    "a = np.random.uniform(-1,0,5)\n",
    "print \"np.random.uniform(-1,0,5):\", a"
   ]
  },
  {
   "cell_type": "code",
   "execution_count": 30,
   "metadata": {},
   "outputs": [
    {
     "name": "stdout",
     "output_type": "stream",
     "text": [
      "np.zeros(2): [ 0.  0.]\n",
      "np.zeros((5,2), dtype=np.int): [[0 0]\n",
      " [0 0]\n",
      " [0 0]\n",
      " [0 0]\n",
      " [0 0]]\n",
      "np.zeros((2,4), dtype=[('x', 'i4'), ('y', 'i8')]): [[(0, 0L) (0, 0L) (0, 0L) (0, 0L)]\n",
      " [(0, 0L) (0, 0L) (0, 0L) (0, 0L)]]\n"
     ]
    }
   ],
   "source": [
    "'''\n",
    "numpy.zeros(shape, dtype=float, order='C')\n",
    "https://docs.scipy.org/doc/numpy/reference/generated/numpy.zeros.html\n",
    "'''\n",
    "\n",
    "a = np.zeros(2)\n",
    "print \"np.zeros(2):\", a\n",
    "a = np.zeros((5,2), dtype=np.int)\n",
    "print \"np.zeros((5,2), dtype=np.int):\", a\n",
    "a = np.zeros((2,4), dtype=[('x', 'i4'), ('y', 'i8')]) # custom dtype\n",
    "print \"np.zeros((2,4), dtype=[('x', 'i4'), ('y', 'i8')]):\",a"
   ]
  },
  {
   "cell_type": "code",
   "execution_count": 4,
   "metadata": {},
   "outputs": [
    {
     "name": "stdout",
     "output_type": "stream",
     "text": [
      "[[[0 0 0 0]\n",
      "  [1 1 1 1]\n",
      "  [2 2 2 2]\n",
      "  [3 3 3 3]]\n",
      "\n",
      " [[0 1 2 3]\n",
      "  [0 1 2 3]\n",
      "  [0 1 2 3]\n",
      "  [0 1 2 3]]]\n",
      "[-1.  -0.5  0.   0.5  1. ]\n"
     ]
    }
   ],
   "source": [
    "'''\n",
    "nd_grid instance which returns a dense multi-dimensional “meshgrid”\n",
    "https://docs.scipy.org/doc/numpy-1.13.0/reference/generated/numpy.mgrid.html\n",
    "'''\n",
    "\n",
    "print(np.mgrid[0:4,0:4])\n",
    "print(np.mgrid[-1:1:5j])"
   ]
  },
  {
   "cell_type": "code",
   "execution_count": 3,
   "metadata": {},
   "outputs": [
    {
     "name": "stdout",
     "output_type": "stream",
     "text": [
      "[0 1 2]\n",
      "[ 0.  1.  2.]\n",
      "[3 4 5 6]\n",
      "[3 5]\n"
     ]
    }
   ],
   "source": [
    "'''\n",
    "numpy.arange([start, ]stop, [step, ]dtype=None)\n",
    "Return evenly spaced values within a given interval.\n",
    "https://docs.scipy.org/doc/numpy-1.13.0/reference/generated/numpy.arange.html\n",
    "'''\n",
    "\n",
    "print(np.arange(3))\n",
    "print(np.arange(3.0))\n",
    "print(np.arange(3,7))\n",
    "print(np.arange(3,7,2))"
   ]
  },
  {
   "cell_type": "code",
   "execution_count": 5,
   "metadata": {},
   "outputs": [
    {
     "name": "stdout",
     "output_type": "stream",
     "text": [
      "8.0\n",
      "[[ 0.  1.  2.]\n",
      " [ 3.  4.  5.]\n",
      " [ 6.  7.  8.]]\n",
      "[ 0.  1.  2.]\n",
      "[[  0.   1.   4.]\n",
      " [  0.   4.  10.]\n",
      " [  0.   7.  16.]]\n"
     ]
    }
   ],
   "source": [
    "'''\n",
    "numpy.multiply(x1, x2, /, out=None, *, where=True, casting='same_kind', order='K', dtype=None, subok=True[, signature, extobj]) = <ufunc 'multiply'>\n",
    "Multiply arguments element-wise\n",
    "https://docs.scipy.org/doc/numpy-1.13.0/reference/generated/numpy.multiply.html\n",
    "'''\n",
    "\n",
    "print(np.multiply(2.0, 4.0))\n",
    "x1 = np.arange(9.0).reshape((3, 3))\n",
    "print(x1)\n",
    "x2 = np.arange(3.0)\n",
    "print(x2)\n",
    "print(np.multiply(x1, x2))"
   ]
  },
  {
   "cell_type": "code",
   "execution_count": null,
   "metadata": {
    "collapsed": true
   },
   "outputs": [],
   "source": []
  }
 ],
 "metadata": {
  "anaconda-cloud": {},
  "kernelspec": {
   "display_name": "Python 2",
   "language": "python",
   "name": "python2"
  },
  "language_info": {
   "codemirror_mode": {
    "name": "ipython",
    "version": 2
   },
   "file_extension": ".py",
   "mimetype": "text/x-python",
   "name": "python",
   "nbconvert_exporter": "python",
   "pygments_lexer": "ipython2",
   "version": "2.7.13"
  }
 },
 "nbformat": 4,
 "nbformat_minor": 1
}
