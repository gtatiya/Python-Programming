{
 "cells": [
  {
   "cell_type": "markdown",
   "metadata": {},
   "source": [
    "# Random sampling\n",
    "\n",
    "https://docs.scipy.org/doc/numpy-1.14.0/reference/routines.random.html"
   ]
  },
  {
   "cell_type": "code",
   "execution_count": 1,
   "metadata": {},
   "outputs": [],
   "source": [
    "import numpy as np\n",
    "import matplotlib.pyplot as plt"
   ]
  },
  {
   "cell_type": "markdown",
   "metadata": {},
   "source": [
    "## Distributions\n",
    "\n",
    "https://docs.scipy.org/doc/numpy-1.14.0/reference/routines.random.html#distributions"
   ]
  },
  {
   "cell_type": "code",
   "execution_count": 2,
   "metadata": {},
   "outputs": [
    {
     "name": "stdout",
     "output_type": "stream",
     "text": [
      "(10000,)\n",
      "[3 6 2 ... 4 7 4]\n",
      "Sum of freq:  999.1\n"
     ]
    },
    {
     "data": {
      "image/png": "[encoded data removed]",
      "text/plain": [
       "<Figure size 432x288 with 1 Axes>"
      ]
     },
     "metadata": {
      "needs_background": "light"
     },
     "output_type": "display_data"
    }
   ],
   "source": [
    "# Draw samples from a binomial distribution.\n",
    "\n",
    "\"\"\"\n",
    "https://docs.scipy.org/doc/numpy/reference/generated/numpy.random.RandomState.binomial.html#numpy.random.RandomState.binomial\n",
    "\"\"\"\n",
    "\n",
    "# number of trials, probability of success for each trial, size\n",
    "trials, probability, test = 10, .5, 10000\n",
    "outcomes = np.random.binomial(trials, probability, test)\n",
    "print(outcomes.shape)\n",
    "print(outcomes)\n",
    "\n",
    "all_outcome = range(trials)\n",
    "freq = np.zeros(trials)\n",
    "for outcome in all_outcome:\n",
    "    for a_outcome in outcomes:\n",
    "        if outcome == a_outcome:\n",
    "            freq[outcome] += 1\n",
    "\n",
    "print(\"Sum of freq: \", np.mean(freq))\n",
    "\n",
    "plt.plot(all_outcome, freq, 'r')\n",
    "plt.title(\"Binomial Distribution\")\n",
    "plt.xlabel('All Outcomes')\n",
    "plt.ylabel('Freq')\n",
    "plt.xlim([0, trials-1])\n",
    "plt.show()"
   ]
  },
  {
   "cell_type": "code",
   "execution_count": 3,
   "metadata": {},
   "outputs": [
    {
     "name": "stdout",
     "output_type": "stream",
     "text": [
      "Success :)\n"
     ]
    }
   ],
   "source": [
    "# Decide between 2 outcomes randomly\n",
    "\n",
    "if np.random.binomial(1, 0.5) == 1:\n",
    "    print(\"Success :)\")\n",
    "else:\n",
    "    print(\"Fail :(\")"
   ]
  },
  {
   "cell_type": "code",
   "execution_count": null,
   "metadata": {},
   "outputs": [],
   "source": []
  }
 ],
 "metadata": {
  "kernelspec": {
   "display_name": "Python 3",
   "language": "python",
   "name": "python3"
  },
  "language_info": {
   "codemirror_mode": {
    "name": "ipython",
    "version": 3
   },
   "file_extension": ".py",
   "mimetype": "text/x-python",
   "name": "python",
   "nbconvert_exporter": "python",
   "pygments_lexer": "ipython3",
   "version": "3.7.0"
  }
 },
 "nbformat": 4,
 "nbformat_minor": 2
}
